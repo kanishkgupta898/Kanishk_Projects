{
 "cells": [
  {
   "cell_type": "markdown",
   "metadata": {},
   "source": [
    "# Statistical & Machine Learning Techniques for Marketing\n",
    "# - Group Project - \n",
    "\n",
    "## Members:\n",
    " * Kurt Kusterer\n",
    " * Kanishk Gupta\n",
    " * Carlos Montenegro"
   ]
  },
  {
   "cell_type": "markdown",
   "metadata": {},
   "source": [
    "## 0. Libraries & Data"
   ]
  },
  {
   "cell_type": "code",
   "execution_count": 948,
   "metadata": {},
   "outputs": [],
   "source": [
    "library(knitr)\n",
    "library(ggplot2)\n",
    "library(plyr)\n",
    "library(dplyr)\n",
    "library(corrplot)\n",
    "library(caret)\n",
    "library(gridExtra)\n",
    "library(scales)\n",
    "library(randomForest)\n",
    "library(psych)\n",
    "library(xgboost)"
   ]
  },
  {
   "cell_type": "code",
   "execution_count": 949,
   "metadata": {},
   "outputs": [
    {
     "name": "stdout",
     "output_type": "stream",
     "text": [
      "[1] 1460   81\n",
      "[1] 1459   80\n"
     ]
    }
   ],
   "source": [
    "# Upload the data\n",
    "setwd(\"D:/User/Google Drive/Proyectos/Estudios/Maestría/Courses/15. Statistical & Machine Learning/Group Assignment/S&M Learning - Group files/R Script + Basetable/Files\")\n",
    "train <- read.csv('train.csv', stringsAsFactors = FALSE)\n",
    "test <- read.csv('test.csv', stringsAsFactors = FALSE)\n",
    "\n",
    "# Check the dimension of the train and test\n",
    "print(dim(train))\n",
    "print(dim(test))"
   ]
  },
  {
   "cell_type": "code",
   "execution_count": 950,
   "metadata": {},
   "outputs": [
    {
     "name": "stderr",
     "output_type": "stream",
     "text": [
      "Warning message in describe(train):\n",
      "\"NAs introduced by coercion\"Warning message in describe(train):\n",
      "\"NAs introduced by coercion\"Warning message in describe(train):\n",
      "\"NAs introduced by coercion\"Warning message in describe(train):\n",
      "\"NAs introduced by coercion\"Warning message in describe(train):\n",
      "\"NAs introduced by coercion\"Warning message in describe(train):\n",
      "\"NAs introduced by coercion\"Warning message in describe(train):\n",
      "\"NAs introduced by coercion\"Warning message in describe(train):\n",
      "\"NAs introduced by coercion\"Warning message in describe(train):\n",
      "\"NAs introduced by coercion\"Warning message in describe(train):\n",
      "\"NAs introduced by coercion\"Warning message in describe(train):\n",
      "\"NAs introduced by coercion\"Warning message in describe(train):\n",
      "\"NAs introduced by coercion\"Warning message in describe(train):\n",
      "\"NAs introduced by coercion\"Warning message in describe(train):\n",
      "\"NAs introduced by coercion\"Warning message in describe(train):\n",
      "\"NAs introduced by coercion\"Warning message in describe(train):\n",
      "\"NAs introduced by coercion\"Warning message in describe(train):\n",
      "\"NAs introduced by coercion\"Warning message in describe(train):\n",
      "\"NAs introduced by coercion\"Warning message in describe(train):\n",
      "\"NAs introduced by coercion\"Warning message in describe(train):\n",
      "\"NAs introduced by coercion\"Warning message in describe(train):\n",
      "\"NAs introduced by coercion\"Warning message in describe(train):\n",
      "\"NAs introduced by coercion\"Warning message in describe(train):\n",
      "\"NAs introduced by coercion\"Warning message in describe(train):\n",
      "\"NAs introduced by coercion\"Warning message in describe(train):\n",
      "\"NAs introduced by coercion\"Warning message in describe(train):\n",
      "\"NAs introduced by coercion\"Warning message in describe(train):\n",
      "\"NAs introduced by coercion\"Warning message in describe(train):\n",
      "\"NAs introduced by coercion\"Warning message in describe(train):\n",
      "\"NAs introduced by coercion\"Warning message in describe(train):\n",
      "\"NAs introduced by coercion\"Warning message in describe(train):\n",
      "\"NAs introduced by coercion\"Warning message in describe(train):\n",
      "\"NAs introduced by coercion\"Warning message in describe(train):\n",
      "\"NAs introduced by coercion\"Warning message in describe(train):\n",
      "\"NAs introduced by coercion\"Warning message in describe(train):\n",
      "\"NAs introduced by coercion\"Warning message in describe(train):\n",
      "\"NAs introduced by coercion\"Warning message in describe(train):\n",
      "\"NAs introduced by coercion\"Warning message in describe(train):\n",
      "\"NAs introduced by coercion\"Warning message in describe(train):\n",
      "\"NAs introduced by coercion\"Warning message in describe(train):\n",
      "\"NAs introduced by coercion\"Warning message in describe(train):\n",
      "\"NAs introduced by coercion\"Warning message in describe(train):\n",
      "\"NAs introduced by coercion\"Warning message in describe(train):\n",
      "\"NAs introduced by coercion\"Warning message in FUN(newX[, i], ...):\n",
      "\"no non-missing arguments to min; returning Inf\"Warning message in FUN(newX[, i], ...):\n",
      "\"no non-missing arguments to min; returning Inf\"Warning message in FUN(newX[, i], ...):\n",
      "\"no non-missing arguments to min; returning Inf\"Warning message in FUN(newX[, i], ...):\n",
      "\"no non-missing arguments to min; returning Inf\"Warning message in FUN(newX[, i], ...):\n",
      "\"no non-missing arguments to min; returning Inf\"Warning message in FUN(newX[, i], ...):\n",
      "\"no non-missing arguments to min; returning Inf\"Warning message in FUN(newX[, i], ...):\n",
      "\"no non-missing arguments to min; returning Inf\"Warning message in FUN(newX[, i], ...):\n",
      "\"no non-missing arguments to min; returning Inf\"Warning message in FUN(newX[, i], ...):\n",
      "\"no non-missing arguments to min; returning Inf\"Warning message in FUN(newX[, i], ...):\n",
      "\"no non-missing arguments to min; returning Inf\"Warning message in FUN(newX[, i], ...):\n",
      "\"no non-missing arguments to min; returning Inf\"Warning message in FUN(newX[, i], ...):\n",
      "\"no non-missing arguments to min; returning Inf\"Warning message in FUN(newX[, i], ...):\n",
      "\"no non-missing arguments to min; returning Inf\"Warning message in FUN(newX[, i], ...):\n",
      "\"no non-missing arguments to min; returning Inf\"Warning message in FUN(newX[, i], ...):\n",
      "\"no non-missing arguments to min; returning Inf\"Warning message in FUN(newX[, i], ...):\n",
      "\"no non-missing arguments to min; returning Inf\"Warning message in FUN(newX[, i], ...):\n",
      "\"no non-missing arguments to min; returning Inf\"Warning message in FUN(newX[, i], ...):\n",
      "\"no non-missing arguments to min; returning Inf\"Warning message in FUN(newX[, i], ...):\n",
      "\"no non-missing arguments to min; returning Inf\"Warning message in FUN(newX[, i], ...):\n",
      "\"no non-missing arguments to min; returning Inf\"Warning message in FUN(newX[, i], ...):\n",
      "\"no non-missing arguments to min; returning Inf\"Warning message in FUN(newX[, i], ...):\n",
      "\"no non-missing arguments to min; returning Inf\"Warning message in FUN(newX[, i], ...):\n",
      "\"no non-missing arguments to min; returning Inf\"Warning message in FUN(newX[, i], ...):\n",
      "\"no non-missing arguments to min; returning Inf\"Warning message in FUN(newX[, i], ...):\n",
      "\"no non-missing arguments to min; returning Inf\"Warning message in FUN(newX[, i], ...):\n",
      "\"no non-missing arguments to min; returning Inf\"Warning message in FUN(newX[, i], ...):\n",
      "\"no non-missing arguments to min; returning Inf\"Warning message in FUN(newX[, i], ...):\n",
      "\"no non-missing arguments to min; returning Inf\"Warning message in FUN(newX[, i], ...):\n",
      "\"no non-missing arguments to min; returning Inf\"Warning message in FUN(newX[, i], ...):\n",
      "\"no non-missing arguments to min; returning Inf\"Warning message in FUN(newX[, i], ...):\n",
      "\"no non-missing arguments to min; returning Inf\"Warning message in FUN(newX[, i], ...):\n",
      "\"no non-missing arguments to min; returning Inf\"Warning message in FUN(newX[, i], ...):\n",
      "\"no non-missing arguments to min; returning Inf\"Warning message in FUN(newX[, i], ...):\n",
      "\"no non-missing arguments to min; returning Inf\"Warning message in FUN(newX[, i], ...):\n",
      "\"no non-missing arguments to min; returning Inf\"Warning message in FUN(newX[, i], ...):\n",
      "\"no non-missing arguments to min; returning Inf\"Warning message in FUN(newX[, i], ...):\n",
      "\"no non-missing arguments to min; returning Inf\"Warning message in FUN(newX[, i], ...):\n",
      "\"no non-missing arguments to min; returning Inf\"Warning message in FUN(newX[, i], ...):\n",
      "\"no non-missing arguments to min; returning Inf\"Warning message in FUN(newX[, i], ...):\n",
      "\"no non-missing arguments to min; returning Inf\"Warning message in FUN(newX[, i], ...):\n",
      "\"no non-missing arguments to min; returning Inf\"Warning message in FUN(newX[, i], ...):\n",
      "\"no non-missing arguments to min; returning Inf\"Warning message in FUN(newX[, i], ...):\n",
      "\"no non-missing arguments to min; returning Inf\"Warning message in FUN(newX[, i], ...):\n",
      "\"no non-missing arguments to max; returning -Inf\"Warning message in FUN(newX[, i], ...):\n",
      "\"no non-missing arguments to max; returning -Inf\"Warning message in FUN(newX[, i], ...):\n",
      "\"no non-missing arguments to max; returning -Inf\"Warning message in FUN(newX[, i], ...):\n",
      "\"no non-missing arguments to max; returning -Inf\"Warning message in FUN(newX[, i], ...):\n",
      "\"no non-missing arguments to max; returning -Inf\"Warning message in FUN(newX[, i], ...):\n",
      "\"no non-missing arguments to max; returning -Inf\"Warning message in FUN(newX[, i], ...):\n",
      "\"no non-missing arguments to max; returning -Inf\"Warning message in FUN(newX[, i], ...):\n",
      "\"no non-missing arguments to max; returning -Inf\"Warning message in FUN(newX[, i], ...):\n",
      "\"no non-missing arguments to max; returning -Inf\"Warning message in FUN(newX[, i], ...):\n",
      "\"no non-missing arguments to max; returning -Inf\"Warning message in FUN(newX[, i], ...):\n",
      "\"no non-missing arguments to max; returning -Inf\"Warning message in FUN(newX[, i], ...):\n",
      "\"no non-missing arguments to max; returning -Inf\"Warning message in FUN(newX[, i], ...):\n",
      "\"no non-missing arguments to max; returning -Inf\"Warning message in FUN(newX[, i], ...):\n",
      "\"no non-missing arguments to max; returning -Inf\"Warning message in FUN(newX[, i], ...):\n",
      "\"no non-missing arguments to max; returning -Inf\"Warning message in FUN(newX[, i], ...):\n",
      "\"no non-missing arguments to max; returning -Inf\"Warning message in FUN(newX[, i], ...):\n",
      "\"no non-missing arguments to max; returning -Inf\"Warning message in FUN(newX[, i], ...):\n",
      "\"no non-missing arguments to max; returning -Inf\"Warning message in FUN(newX[, i], ...):\n"
     ]
    },
    {
     "name": "stderr",
     "output_type": "stream",
     "text": [
      "\"no non-missing arguments to max; returning -Inf\"Warning message in FUN(newX[, i], ...):\n",
      "\"no non-missing arguments to max; returning -Inf\"Warning message in FUN(newX[, i], ...):\n",
      "\"no non-missing arguments to max; returning -Inf\"Warning message in FUN(newX[, i], ...):\n",
      "\"no non-missing arguments to max; returning -Inf\"Warning message in FUN(newX[, i], ...):\n",
      "\"no non-missing arguments to max; returning -Inf\"Warning message in FUN(newX[, i], ...):\n",
      "\"no non-missing arguments to max; returning -Inf\"Warning message in FUN(newX[, i], ...):\n",
      "\"no non-missing arguments to max; returning -Inf\"Warning message in FUN(newX[, i], ...):\n",
      "\"no non-missing arguments to max; returning -Inf\"Warning message in FUN(newX[, i], ...):\n",
      "\"no non-missing arguments to max; returning -Inf\"Warning message in FUN(newX[, i], ...):\n",
      "\"no non-missing arguments to max; returning -Inf\"Warning message in FUN(newX[, i], ...):\n",
      "\"no non-missing arguments to max; returning -Inf\"Warning message in FUN(newX[, i], ...):\n",
      "\"no non-missing arguments to max; returning -Inf\"Warning message in FUN(newX[, i], ...):\n",
      "\"no non-missing arguments to max; returning -Inf\"Warning message in FUN(newX[, i], ...):\n",
      "\"no non-missing arguments to max; returning -Inf\"Warning message in FUN(newX[, i], ...):\n",
      "\"no non-missing arguments to max; returning -Inf\"Warning message in FUN(newX[, i], ...):\n",
      "\"no non-missing arguments to max; returning -Inf\"Warning message in FUN(newX[, i], ...):\n",
      "\"no non-missing arguments to max; returning -Inf\"Warning message in FUN(newX[, i], ...):\n",
      "\"no non-missing arguments to max; returning -Inf\"Warning message in FUN(newX[, i], ...):\n",
      "\"no non-missing arguments to max; returning -Inf\"Warning message in FUN(newX[, i], ...):\n",
      "\"no non-missing arguments to max; returning -Inf\"Warning message in FUN(newX[, i], ...):\n",
      "\"no non-missing arguments to max; returning -Inf\"Warning message in FUN(newX[, i], ...):\n",
      "\"no non-missing arguments to max; returning -Inf\"Warning message in FUN(newX[, i], ...):\n",
      "\"no non-missing arguments to max; returning -Inf\"Warning message in FUN(newX[, i], ...):\n",
      "\"no non-missing arguments to max; returning -Inf\"Warning message in FUN(newX[, i], ...):\n",
      "\"no non-missing arguments to max; returning -Inf\""
     ]
    },
    {
     "data": {
      "text/html": [
       "<table>\n",
       "<thead><tr><th></th><th scope=col>vars</th><th scope=col>n</th><th scope=col>mean</th><th scope=col>sd</th><th scope=col>median</th><th scope=col>trimmed</th><th scope=col>mad</th><th scope=col>min</th><th scope=col>max</th><th scope=col>range</th><th scope=col>skew</th><th scope=col>kurtosis</th><th scope=col>se</th></tr></thead>\n",
       "<tbody>\n",
       "\t<tr><th scope=row>Id</th><td> 1          </td><td>1460        </td><td>  730.500000</td><td> 421.610009 </td><td> 730.5      </td><td> 730.500000 </td><td> 541.1490   </td><td>   1        </td><td>  1460      </td><td>  1459      </td><td> 0.0000000  </td><td> -1.20246603</td><td> 11.03403825</td></tr>\n",
       "\t<tr><th scope=row>MSSubClass</th><td> 2          </td><td>1460        </td><td>   56.897260</td><td>  42.300571 </td><td>  50.0      </td><td>  49.152397 </td><td>  44.4780   </td><td>  20        </td><td>   190      </td><td>   170      </td><td> 1.4047656  </td><td>  1.56441572</td><td>  1.10705654</td></tr>\n",
       "\t<tr><th scope=row>MSZoning*</th><td> 3          </td><td>1460        </td><td>         NaN</td><td>         NA </td><td>    NA      </td><td>        NaN </td><td>       NA   </td><td> Inf        </td><td>  -Inf      </td><td>  -Inf      </td><td>        NA  </td><td>          NA</td><td>          NA</td></tr>\n",
       "\t<tr><th scope=row>LotFrontage</th><td> 4          </td><td>1201        </td><td>   70.049958</td><td>  24.284752 </td><td>  69.0      </td><td>  68.943809 </td><td>  16.3086   </td><td>  21        </td><td>   313      </td><td>   292      </td><td> 2.1581677  </td><td> 17.34138406</td><td>  0.70074848</td></tr>\n",
       "\t<tr><th scope=row>LotArea</th><td> 5          </td><td>1460        </td><td>10516.828082</td><td>9981.264932 </td><td>9478.5      </td><td>9563.284247 </td><td>2962.2348   </td><td>1300        </td><td>215245      </td><td>213945      </td><td>12.1826150  </td><td>202.26232234</td><td>261.22164217</td></tr>\n",
       "\t<tr><th scope=row>Street*</th><td> 6          </td><td>1460        </td><td>         NaN</td><td>         NA </td><td>    NA      </td><td>        NaN </td><td>       NA   </td><td> Inf        </td><td>  -Inf      </td><td>  -Inf      </td><td>        NA  </td><td>          NA</td><td>          NA</td></tr>\n",
       "\t<tr><th scope=row>Alley*</th><td> 7          </td><td>  91        </td><td>         NaN</td><td>         NA </td><td>    NA      </td><td>        NaN </td><td>       NA   </td><td> Inf        </td><td>  -Inf      </td><td>  -Inf      </td><td>        NA  </td><td>          NA</td><td>          NA</td></tr>\n",
       "\t<tr><th scope=row>LotShape*</th><td> 8          </td><td>1460        </td><td>         NaN</td><td>         NA </td><td>    NA      </td><td>        NaN </td><td>       NA   </td><td> Inf        </td><td>  -Inf      </td><td>  -Inf      </td><td>        NA  </td><td>          NA</td><td>          NA</td></tr>\n",
       "\t<tr><th scope=row>LandContour*</th><td> 9          </td><td>1460        </td><td>         NaN</td><td>         NA </td><td>    NA      </td><td>        NaN </td><td>       NA   </td><td> Inf        </td><td>  -Inf      </td><td>  -Inf      </td><td>        NA  </td><td>          NA</td><td>          NA</td></tr>\n",
       "\t<tr><th scope=row>Utilities*</th><td>10          </td><td>1460        </td><td>         NaN</td><td>         NA </td><td>    NA      </td><td>        NaN </td><td>       NA   </td><td> Inf        </td><td>  -Inf      </td><td>  -Inf      </td><td>        NA  </td><td>          NA</td><td>          NA</td></tr>\n",
       "\t<tr><th scope=row>LotConfig*</th><td>11          </td><td>1460        </td><td>         NaN</td><td>         NA </td><td>    NA      </td><td>        NaN </td><td>       NA   </td><td> Inf        </td><td>  -Inf      </td><td>  -Inf      </td><td>        NA  </td><td>          NA</td><td>          NA</td></tr>\n",
       "\t<tr><th scope=row>LandSlope*</th><td>12          </td><td>1460        </td><td>         NaN</td><td>         NA </td><td>    NA      </td><td>        NaN </td><td>       NA   </td><td> Inf        </td><td>  -Inf      </td><td>  -Inf      </td><td>        NA  </td><td>          NA</td><td>          NA</td></tr>\n",
       "\t<tr><th scope=row>Neighborhood*</th><td>13          </td><td>1460        </td><td>         NaN</td><td>         NA </td><td>    NA      </td><td>        NaN </td><td>       NA   </td><td> Inf        </td><td>  -Inf      </td><td>  -Inf      </td><td>        NA  </td><td>          NA</td><td>          NA</td></tr>\n",
       "\t<tr><th scope=row>Condition1*</th><td>14          </td><td>1460        </td><td>         NaN</td><td>         NA </td><td>    NA      </td><td>        NaN </td><td>       NA   </td><td> Inf        </td><td>  -Inf      </td><td>  -Inf      </td><td>        NA  </td><td>          NA</td><td>          NA</td></tr>\n",
       "\t<tr><th scope=row>Condition2*</th><td>15          </td><td>1460        </td><td>         NaN</td><td>         NA </td><td>    NA      </td><td>        NaN </td><td>       NA   </td><td> Inf        </td><td>  -Inf      </td><td>  -Inf      </td><td>        NA  </td><td>          NA</td><td>          NA</td></tr>\n",
       "\t<tr><th scope=row>BldgType*</th><td>16          </td><td>1460        </td><td>         NaN</td><td>         NA </td><td>    NA      </td><td>        NaN </td><td>       NA   </td><td> Inf        </td><td>  -Inf      </td><td>  -Inf      </td><td>        NA  </td><td>          NA</td><td>          NA</td></tr>\n",
       "\t<tr><th scope=row>HouseStyle*</th><td>17          </td><td>1460        </td><td>         NaN</td><td>         NA </td><td>    NA      </td><td>        NaN </td><td>       NA   </td><td> Inf        </td><td>  -Inf      </td><td>  -Inf      </td><td>        NA  </td><td>          NA</td><td>          NA</td></tr>\n",
       "\t<tr><th scope=row>OverallQual</th><td>18          </td><td>1460        </td><td>    6.099315</td><td>   1.382997 </td><td>   6.0      </td><td>   6.079623 </td><td>   1.4826   </td><td>   1        </td><td>    10      </td><td>     9      </td><td> 0.2164984  </td><td>  0.08762258</td><td>  0.03619467</td></tr>\n",
       "\t<tr><th scope=row>OverallCond</th><td>19          </td><td>1460        </td><td>    5.575342</td><td>   1.112799 </td><td>   5.0      </td><td>   5.477740 </td><td>   0.0000   </td><td>   1        </td><td>     9      </td><td>     8      </td><td> 0.6916440  </td><td>  1.09290874</td><td>  0.02912329</td></tr>\n",
       "\t<tr><th scope=row>YearBuilt</th><td>20          </td><td>1460        </td><td> 1971.267808</td><td>  30.202904 </td><td>1973.0      </td><td>1974.126712 </td><td>  37.0650   </td><td>1872        </td><td>  2010      </td><td>   138      </td><td>-0.6122012  </td><td> -0.44565754</td><td>  0.79044613</td></tr>\n",
       "\t<tr><th scope=row>YearRemodAdd</th><td>21          </td><td>1460        </td><td> 1984.865753</td><td>  20.645407 </td><td>1994.0      </td><td>1986.369007 </td><td>  19.2738   </td><td>1950        </td><td>  2010      </td><td>    60      </td><td>-0.5025278  </td><td> -1.27436545</td><td>  0.54031499</td></tr>\n",
       "\t<tr><th scope=row>RoofStyle*</th><td>22          </td><td>1460        </td><td>         NaN</td><td>         NA </td><td>    NA      </td><td>        NaN </td><td>       NA   </td><td> Inf        </td><td>  -Inf      </td><td>  -Inf      </td><td>        NA  </td><td>          NA</td><td>          NA</td></tr>\n",
       "\t<tr><th scope=row>RoofMatl*</th><td>23          </td><td>1460        </td><td>         NaN</td><td>         NA </td><td>    NA      </td><td>        NaN </td><td>       NA   </td><td> Inf        </td><td>  -Inf      </td><td>  -Inf      </td><td>        NA  </td><td>          NA</td><td>          NA</td></tr>\n",
       "\t<tr><th scope=row>Exterior1st*</th><td>24          </td><td>1460        </td><td>         NaN</td><td>         NA </td><td>    NA      </td><td>        NaN </td><td>       NA   </td><td> Inf        </td><td>  -Inf      </td><td>  -Inf      </td><td>        NA  </td><td>          NA</td><td>          NA</td></tr>\n",
       "\t<tr><th scope=row>Exterior2nd*</th><td>25          </td><td>1460        </td><td>         NaN</td><td>         NA </td><td>    NA      </td><td>        NaN </td><td>       NA   </td><td> Inf        </td><td>  -Inf      </td><td>  -Inf      </td><td>        NA  </td><td>          NA</td><td>          NA</td></tr>\n",
       "\t<tr><th scope=row>MasVnrType*</th><td>26          </td><td>1452        </td><td>         NaN</td><td>         NA </td><td>    NA      </td><td>        NaN </td><td>       NA   </td><td> Inf        </td><td>  -Inf      </td><td>  -Inf      </td><td>        NA  </td><td>          NA</td><td>          NA</td></tr>\n",
       "\t<tr><th scope=row>MasVnrArea</th><td>27          </td><td>1452        </td><td>  103.685262</td><td> 181.066207 </td><td>   0.0      </td><td>  63.152324 </td><td>   0.0000   </td><td>   0        </td><td>  1600      </td><td>  1600      </td><td> 2.6635721  </td><td> 10.02564211</td><td>  4.75175560</td></tr>\n",
       "\t<tr><th scope=row>ExterQual*</th><td>28          </td><td>1460        </td><td>         NaN</td><td>         NA </td><td>    NA      </td><td>        NaN </td><td>       NA   </td><td> Inf        </td><td>  -Inf      </td><td>  -Inf      </td><td>        NA  </td><td>          NA</td><td>          NA</td></tr>\n",
       "\t<tr><th scope=row>ExterCond*</th><td>29          </td><td>1460        </td><td>         NaN</td><td>         NA </td><td>    NA      </td><td>        NaN </td><td>       NA   </td><td> Inf        </td><td>  -Inf      </td><td>  -Inf      </td><td>        NA  </td><td>          NA</td><td>          NA</td></tr>\n",
       "\t<tr><th scope=row>Foundation*</th><td>30          </td><td>1460        </td><td>         NaN</td><td>         NA </td><td>    NA      </td><td>        NaN </td><td>       NA   </td><td> Inf        </td><td>  -Inf      </td><td>  -Inf      </td><td>        NA  </td><td>          NA</td><td>          NA</td></tr>\n",
       "\t<tr><th scope=row>...</th><td>...</td><td>...</td><td>...</td><td>...</td><td>...</td><td>...</td><td>...</td><td>...</td><td>...</td><td>...</td><td>...</td><td>...</td><td>...</td></tr>\n",
       "\t<tr><th scope=row>BedroomAbvGr</th><td>52          </td><td>1460        </td><td>2.866438e+00</td><td>8.157780e-01</td><td>     3      </td><td>2.852740e+00</td><td>    0.0000  </td><td>    0       </td><td>     8      </td><td>     8      </td><td> 0.21135511 </td><td>  2.2119881 </td><td>2.134989e-02</td></tr>\n",
       "\t<tr><th scope=row>KitchenAbvGr</th><td>53          </td><td>1460        </td><td>1.046575e+00</td><td>2.203382e-01</td><td>     1      </td><td>1.000000e+00</td><td>    0.0000  </td><td>    0       </td><td>     3      </td><td>     3      </td><td> 4.47917826 </td><td> 21.4211386 </td><td>5.766514e-03</td></tr>\n",
       "\t<tr><th scope=row>KitchenQual*</th><td>54          </td><td>1460        </td><td>         NaN</td><td>          NA</td><td>    NA      </td><td>         NaN</td><td>        NA  </td><td>  Inf       </td><td>  -Inf      </td><td>  -Inf      </td><td>         NA </td><td>         NA </td><td>          NA</td></tr>\n",
       "\t<tr><th scope=row>TotRmsAbvGrd</th><td>55          </td><td>1460        </td><td>6.517808e+00</td><td>1.625393e+00</td><td>     6      </td><td>6.408390e+00</td><td>    1.4826  </td><td>    2       </td><td>    14      </td><td>    12      </td><td> 0.67495173 </td><td>  0.8683368 </td><td>4.253849e-02</td></tr>\n",
       "\t<tr><th scope=row>Functional*</th><td>56          </td><td>1460        </td><td>         NaN</td><td>          NA</td><td>    NA      </td><td>         NaN</td><td>        NA  </td><td>  Inf       </td><td>  -Inf      </td><td>  -Inf      </td><td>         NA </td><td>         NA </td><td>          NA</td></tr>\n",
       "\t<tr><th scope=row>Fireplaces</th><td>57          </td><td>1460        </td><td>6.130137e-01</td><td>6.446664e-01</td><td>     1      </td><td>5.342466e-01</td><td>    1.4826  </td><td>    0       </td><td>     3      </td><td>     3      </td><td> 0.64823107 </td><td> -0.2244068 </td><td>1.687169e-02</td></tr>\n",
       "\t<tr><th scope=row>FireplaceQu*</th><td>58          </td><td> 770        </td><td>         NaN</td><td>          NA</td><td>    NA      </td><td>         NaN</td><td>        NA  </td><td>  Inf       </td><td>  -Inf      </td><td>  -Inf      </td><td>         NA </td><td>         NA </td><td>          NA</td></tr>\n",
       "\t<tr><th scope=row>GarageType*</th><td>59          </td><td>1379        </td><td>         NaN</td><td>          NA</td><td>    NA      </td><td>         NaN</td><td>        NA  </td><td>  Inf       </td><td>  -Inf      </td><td>  -Inf      </td><td>         NA </td><td>         NA </td><td>          NA</td></tr>\n",
       "\t<tr><th scope=row>GarageYrBlt</th><td>60          </td><td>1379        </td><td>1.978506e+03</td><td>2.468972e+01</td><td>  1980      </td><td>1.981065e+03</td><td>   31.1346  </td><td> 1900       </td><td>  2010      </td><td>   110      </td><td>-0.64800251 </td><td> -0.4249123 </td><td>6.648660e-01</td></tr>\n",
       "\t<tr><th scope=row>GarageFinish*</th><td>61          </td><td>1379        </td><td>         NaN</td><td>          NA</td><td>    NA      </td><td>         NaN</td><td>        NA  </td><td>  Inf       </td><td>  -Inf      </td><td>  -Inf      </td><td>         NA </td><td>         NA </td><td>          NA</td></tr>\n",
       "\t<tr><th scope=row>GarageCars</th><td>62          </td><td>1460        </td><td>1.767123e+00</td><td>7.473150e-01</td><td>     2      </td><td>1.773973e+00</td><td>    0.0000  </td><td>    0       </td><td>     4      </td><td>     4      </td><td>-0.34184538 </td><td>  0.2117307 </td><td>1.955813e-02</td></tr>\n",
       "\t<tr><th scope=row>GarageArea</th><td>63          </td><td>1460        </td><td>4.729801e+02</td><td>2.138048e+02</td><td>   480      </td><td>4.698082e+02</td><td>  177.9120  </td><td>    0       </td><td>  1418      </td><td>  1418      </td><td> 0.17961125 </td><td>  0.9044687 </td><td>5.595528e+00</td></tr>\n",
       "\t<tr><th scope=row>GarageQual*</th><td>64          </td><td>1379        </td><td>         NaN</td><td>          NA</td><td>    NA      </td><td>         NaN</td><td>        NA  </td><td>  Inf       </td><td>  -Inf      </td><td>  -Inf      </td><td>         NA </td><td>         NA </td><td>          NA</td></tr>\n",
       "\t<tr><th scope=row>GarageCond*</th><td>65          </td><td>1379        </td><td>         NaN</td><td>          NA</td><td>    NA      </td><td>         NaN</td><td>        NA  </td><td>  Inf       </td><td>  -Inf      </td><td>  -Inf      </td><td>         NA </td><td>         NA </td><td>          NA</td></tr>\n",
       "\t<tr><th scope=row>PavedDrive*</th><td>66          </td><td>1460        </td><td>         NaN</td><td>          NA</td><td>    NA      </td><td>         NaN</td><td>        NA  </td><td>  Inf       </td><td>  -Inf      </td><td>  -Inf      </td><td>         NA </td><td>         NA </td><td>          NA</td></tr>\n",
       "\t<tr><th scope=row>WoodDeckSF</th><td>67          </td><td>1460        </td><td>9.424452e+01</td><td>1.253388e+02</td><td>     0      </td><td>7.175771e+01</td><td>    0.0000  </td><td>    0       </td><td>   857      </td><td>   857      </td><td> 1.53820999 </td><td>  2.9704171 </td><td>3.280266e+00</td></tr>\n",
       "\t<tr><th scope=row>OpenPorchSF</th><td>68          </td><td>1460        </td><td>4.666027e+01</td><td>6.625603e+01</td><td>    25      </td><td>3.323288e+01</td><td>   37.0650  </td><td>    0       </td><td>   547      </td><td>   547      </td><td> 2.35948572 </td><td>  8.4414910 </td><td>1.733999e+00</td></tr>\n",
       "\t<tr><th scope=row>EnclosedPorch</th><td>69          </td><td>1460        </td><td>2.195411e+01</td><td>6.111915e+01</td><td>     0      </td><td>3.866438e+00</td><td>    0.0000  </td><td>    0       </td><td>   552      </td><td>   552      </td><td> 3.08352575 </td><td> 10.3726341 </td><td>1.599561e+00</td></tr>\n",
       "\t<tr><th scope=row>X3SsnPorch</th><td>70          </td><td>1460        </td><td>3.409589e+00</td><td>2.931733e+01</td><td>     0      </td><td>0.000000e+00</td><td>    0.0000  </td><td>    0       </td><td>   508      </td><td>   508      </td><td>10.28317840 </td><td>123.0623116 </td><td>7.672696e-01</td></tr>\n",
       "\t<tr><th scope=row>ScreenPorch</th><td>71          </td><td>1460        </td><td>1.506096e+01</td><td>5.575742e+01</td><td>     0      </td><td>0.000000e+00</td><td>    0.0000  </td><td>    0       </td><td>   480      </td><td>   480      </td><td> 4.11374731 </td><td> 18.3426076 </td><td>1.459238e+00</td></tr>\n",
       "\t<tr><th scope=row>PoolArea</th><td>72          </td><td>1460        </td><td>2.758904e+00</td><td>4.017731e+01</td><td>     0      </td><td>0.000000e+00</td><td>    0.0000  </td><td>    0       </td><td>   738      </td><td>   738      </td><td>14.79791829 </td><td>222.1917078 </td><td>1.051488e+00</td></tr>\n",
       "\t<tr><th scope=row>PoolQC*</th><td>73          </td><td>   7        </td><td>         NaN</td><td>          NA</td><td>    NA      </td><td>         NaN</td><td>        NA  </td><td>  Inf       </td><td>  -Inf      </td><td>  -Inf      </td><td>         NA </td><td>         NA </td><td>          NA</td></tr>\n",
       "\t<tr><th scope=row>Fence*</th><td>74          </td><td> 281        </td><td>         NaN</td><td>          NA</td><td>    NA      </td><td>         NaN</td><td>        NA  </td><td>  Inf       </td><td>  -Inf      </td><td>  -Inf      </td><td>         NA </td><td>         NA </td><td>          NA</td></tr>\n",
       "\t<tr><th scope=row>MiscFeature*</th><td>75          </td><td>  54        </td><td>         NaN</td><td>          NA</td><td>    NA      </td><td>         NaN</td><td>        NA  </td><td>  Inf       </td><td>  -Inf      </td><td>  -Inf      </td><td>         NA </td><td>         NA </td><td>          NA</td></tr>\n",
       "\t<tr><th scope=row>MiscVal</th><td>76          </td><td>1460        </td><td>4.348904e+01</td><td>4.961230e+02</td><td>     0      </td><td>0.000000e+00</td><td>    0.0000  </td><td>    0       </td><td> 15500      </td><td> 15500      </td><td>24.42652237 </td><td>697.6400721 </td><td>1.298413e+01</td></tr>\n",
       "\t<tr><th scope=row>MoSold</th><td>77          </td><td>1460        </td><td>6.321918e+00</td><td>2.703626e+00</td><td>     6      </td><td>6.252568e+00</td><td>    2.9652  </td><td>    1       </td><td>    12      </td><td>    11      </td><td> 0.21161746 </td><td> -0.4103846 </td><td>7.075713e-02</td></tr>\n",
       "\t<tr><th scope=row>YrSold</th><td>78          </td><td>1460        </td><td>2.007816e+03</td><td>1.328095e+00</td><td>  2008      </td><td>2.007770e+03</td><td>    1.4826  </td><td> 2006       </td><td>  2010      </td><td>     4      </td><td> 0.09607079 </td><td> -1.1931116 </td><td>3.475784e-02</td></tr>\n",
       "\t<tr><th scope=row>SaleType*</th><td>79          </td><td>1460        </td><td>         NaN</td><td>          NA</td><td>    NA      </td><td>         NaN</td><td>        NA  </td><td>  Inf       </td><td>  -Inf      </td><td>  -Inf      </td><td>         NA </td><td>         NA </td><td>          NA</td></tr>\n",
       "\t<tr><th scope=row>SaleCondition*</th><td>80          </td><td>1460        </td><td>         NaN</td><td>          NA</td><td>    NA      </td><td>         NaN</td><td>        NA  </td><td>  Inf       </td><td>  -Inf      </td><td>  -Inf      </td><td>         NA </td><td>         NA </td><td>          NA</td></tr>\n",
       "\t<tr><th scope=row>SalePrice</th><td>81          </td><td>1460        </td><td>1.809212e+05</td><td>7.944250e+04</td><td>163000      </td><td>1.707833e+05</td><td>56338.8000  </td><td>34900       </td><td>755000      </td><td>720100      </td><td> 1.87900860 </td><td>  6.4967893 </td><td>2.079105e+03</td></tr>\n",
       "</tbody>\n",
       "</table>\n"
      ],
      "text/latex": [
       "\\begin{tabular}{r|lllllllllllll}\n",
       "  & vars & n & mean & sd & median & trimmed & mad & min & max & range & skew & kurtosis & se\\\\\n",
       "\\hline\n",
       "\tId &  1           & 1460         &   730.500000 &  421.610009  &  730.5       &  730.500000  &  541.1490    &    1         &   1460       &   1459       &  0.0000000   &  -1.20246603 &  11.03403825\\\\\n",
       "\tMSSubClass &  2           & 1460         &    56.897260 &   42.300571  &   50.0       &   49.152397  &   44.4780    &   20         &    190       &    170       &  1.4047656   &   1.56441572 &   1.10705654\\\\\n",
       "\tMSZoning* &  3           & 1460         &          NaN &          NA  &     NA       &         NaN  &        NA    &  Inf         &   -Inf       &   -Inf       &         NA   &           NA &           NA\\\\\n",
       "\tLotFrontage &  4           & 1201         &    70.049958 &   24.284752  &   69.0       &   68.943809  &   16.3086    &   21         &    313       &    292       &  2.1581677   &  17.34138406 &   0.70074848\\\\\n",
       "\tLotArea &  5           & 1460         & 10516.828082 & 9981.264932  & 9478.5       & 9563.284247  & 2962.2348    & 1300         & 215245       & 213945       & 12.1826150   & 202.26232234 & 261.22164217\\\\\n",
       "\tStreet* &  6           & 1460         &          NaN &          NA  &     NA       &         NaN  &        NA    &  Inf         &   -Inf       &   -Inf       &         NA   &           NA &           NA\\\\\n",
       "\tAlley* &  7           &   91         &          NaN &          NA  &     NA       &         NaN  &        NA    &  Inf         &   -Inf       &   -Inf       &         NA   &           NA &           NA\\\\\n",
       "\tLotShape* &  8           & 1460         &          NaN &          NA  &     NA       &         NaN  &        NA    &  Inf         &   -Inf       &   -Inf       &         NA   &           NA &           NA\\\\\n",
       "\tLandContour* &  9           & 1460         &          NaN &          NA  &     NA       &         NaN  &        NA    &  Inf         &   -Inf       &   -Inf       &         NA   &           NA &           NA\\\\\n",
       "\tUtilities* & 10           & 1460         &          NaN &          NA  &     NA       &         NaN  &        NA    &  Inf         &   -Inf       &   -Inf       &         NA   &           NA &           NA\\\\\n",
       "\tLotConfig* & 11           & 1460         &          NaN &          NA  &     NA       &         NaN  &        NA    &  Inf         &   -Inf       &   -Inf       &         NA   &           NA &           NA\\\\\n",
       "\tLandSlope* & 12           & 1460         &          NaN &          NA  &     NA       &         NaN  &        NA    &  Inf         &   -Inf       &   -Inf       &         NA   &           NA &           NA\\\\\n",
       "\tNeighborhood* & 13           & 1460         &          NaN &          NA  &     NA       &         NaN  &        NA    &  Inf         &   -Inf       &   -Inf       &         NA   &           NA &           NA\\\\\n",
       "\tCondition1* & 14           & 1460         &          NaN &          NA  &     NA       &         NaN  &        NA    &  Inf         &   -Inf       &   -Inf       &         NA   &           NA &           NA\\\\\n",
       "\tCondition2* & 15           & 1460         &          NaN &          NA  &     NA       &         NaN  &        NA    &  Inf         &   -Inf       &   -Inf       &         NA   &           NA &           NA\\\\\n",
       "\tBldgType* & 16           & 1460         &          NaN &          NA  &     NA       &         NaN  &        NA    &  Inf         &   -Inf       &   -Inf       &         NA   &           NA &           NA\\\\\n",
       "\tHouseStyle* & 17           & 1460         &          NaN &          NA  &     NA       &         NaN  &        NA    &  Inf         &   -Inf       &   -Inf       &         NA   &           NA &           NA\\\\\n",
       "\tOverallQual & 18           & 1460         &     6.099315 &    1.382997  &    6.0       &    6.079623  &    1.4826    &    1         &     10       &      9       &  0.2164984   &   0.08762258 &   0.03619467\\\\\n",
       "\tOverallCond & 19           & 1460         &     5.575342 &    1.112799  &    5.0       &    5.477740  &    0.0000    &    1         &      9       &      8       &  0.6916440   &   1.09290874 &   0.02912329\\\\\n",
       "\tYearBuilt & 20           & 1460         &  1971.267808 &   30.202904  & 1973.0       & 1974.126712  &   37.0650    & 1872         &   2010       &    138       & -0.6122012   &  -0.44565754 &   0.79044613\\\\\n",
       "\tYearRemodAdd & 21           & 1460         &  1984.865753 &   20.645407  & 1994.0       & 1986.369007  &   19.2738    & 1950         &   2010       &     60       & -0.5025278   &  -1.27436545 &   0.54031499\\\\\n",
       "\tRoofStyle* & 22           & 1460         &          NaN &          NA  &     NA       &         NaN  &        NA    &  Inf         &   -Inf       &   -Inf       &         NA   &           NA &           NA\\\\\n",
       "\tRoofMatl* & 23           & 1460         &          NaN &          NA  &     NA       &         NaN  &        NA    &  Inf         &   -Inf       &   -Inf       &         NA   &           NA &           NA\\\\\n",
       "\tExterior1st* & 24           & 1460         &          NaN &          NA  &     NA       &         NaN  &        NA    &  Inf         &   -Inf       &   -Inf       &         NA   &           NA &           NA\\\\\n",
       "\tExterior2nd* & 25           & 1460         &          NaN &          NA  &     NA       &         NaN  &        NA    &  Inf         &   -Inf       &   -Inf       &         NA   &           NA &           NA\\\\\n",
       "\tMasVnrType* & 26           & 1452         &          NaN &          NA  &     NA       &         NaN  &        NA    &  Inf         &   -Inf       &   -Inf       &         NA   &           NA &           NA\\\\\n",
       "\tMasVnrArea & 27           & 1452         &   103.685262 &  181.066207  &    0.0       &   63.152324  &    0.0000    &    0         &   1600       &   1600       &  2.6635721   &  10.02564211 &   4.75175560\\\\\n",
       "\tExterQual* & 28           & 1460         &          NaN &          NA  &     NA       &         NaN  &        NA    &  Inf         &   -Inf       &   -Inf       &         NA   &           NA &           NA\\\\\n",
       "\tExterCond* & 29           & 1460         &          NaN &          NA  &     NA       &         NaN  &        NA    &  Inf         &   -Inf       &   -Inf       &         NA   &           NA &           NA\\\\\n",
       "\tFoundation* & 30           & 1460         &          NaN &          NA  &     NA       &         NaN  &        NA    &  Inf         &   -Inf       &   -Inf       &         NA   &           NA &           NA\\\\\n",
       "\t... & ... & ... & ... & ... & ... & ... & ... & ... & ... & ... & ... & ... & ...\\\\\n",
       "\tBedroomAbvGr & 52           & 1460         & 2.866438e+00 & 8.157780e-01 &      3       & 2.852740e+00 &     0.0000   &     0        &      8       &      8       &  0.21135511  &   2.2119881  & 2.134989e-02\\\\\n",
       "\tKitchenAbvGr & 53           & 1460         & 1.046575e+00 & 2.203382e-01 &      1       & 1.000000e+00 &     0.0000   &     0        &      3       &      3       &  4.47917826  &  21.4211386  & 5.766514e-03\\\\\n",
       "\tKitchenQual* & 54           & 1460         &          NaN &           NA &     NA       &          NaN &         NA   &   Inf        &   -Inf       &   -Inf       &          NA  &          NA  &           NA\\\\\n",
       "\tTotRmsAbvGrd & 55           & 1460         & 6.517808e+00 & 1.625393e+00 &      6       & 6.408390e+00 &     1.4826   &     2        &     14       &     12       &  0.67495173  &   0.8683368  & 4.253849e-02\\\\\n",
       "\tFunctional* & 56           & 1460         &          NaN &           NA &     NA       &          NaN &         NA   &   Inf        &   -Inf       &   -Inf       &          NA  &          NA  &           NA\\\\\n",
       "\tFireplaces & 57           & 1460         & 6.130137e-01 & 6.446664e-01 &      1       & 5.342466e-01 &     1.4826   &     0        &      3       &      3       &  0.64823107  &  -0.2244068  & 1.687169e-02\\\\\n",
       "\tFireplaceQu* & 58           &  770         &          NaN &           NA &     NA       &          NaN &         NA   &   Inf        &   -Inf       &   -Inf       &          NA  &          NA  &           NA\\\\\n",
       "\tGarageType* & 59           & 1379         &          NaN &           NA &     NA       &          NaN &         NA   &   Inf        &   -Inf       &   -Inf       &          NA  &          NA  &           NA\\\\\n",
       "\tGarageYrBlt & 60           & 1379         & 1.978506e+03 & 2.468972e+01 &   1980       & 1.981065e+03 &    31.1346   &  1900        &   2010       &    110       & -0.64800251  &  -0.4249123  & 6.648660e-01\\\\\n",
       "\tGarageFinish* & 61           & 1379         &          NaN &           NA &     NA       &          NaN &         NA   &   Inf        &   -Inf       &   -Inf       &          NA  &          NA  &           NA\\\\\n",
       "\tGarageCars & 62           & 1460         & 1.767123e+00 & 7.473150e-01 &      2       & 1.773973e+00 &     0.0000   &     0        &      4       &      4       & -0.34184538  &   0.2117307  & 1.955813e-02\\\\\n",
       "\tGarageArea & 63           & 1460         & 4.729801e+02 & 2.138048e+02 &    480       & 4.698082e+02 &   177.9120   &     0        &   1418       &   1418       &  0.17961125  &   0.9044687  & 5.595528e+00\\\\\n",
       "\tGarageQual* & 64           & 1379         &          NaN &           NA &     NA       &          NaN &         NA   &   Inf        &   -Inf       &   -Inf       &          NA  &          NA  &           NA\\\\\n",
       "\tGarageCond* & 65           & 1379         &          NaN &           NA &     NA       &          NaN &         NA   &   Inf        &   -Inf       &   -Inf       &          NA  &          NA  &           NA\\\\\n",
       "\tPavedDrive* & 66           & 1460         &          NaN &           NA &     NA       &          NaN &         NA   &   Inf        &   -Inf       &   -Inf       &          NA  &          NA  &           NA\\\\\n",
       "\tWoodDeckSF & 67           & 1460         & 9.424452e+01 & 1.253388e+02 &      0       & 7.175771e+01 &     0.0000   &     0        &    857       &    857       &  1.53820999  &   2.9704171  & 3.280266e+00\\\\\n",
       "\tOpenPorchSF & 68           & 1460         & 4.666027e+01 & 6.625603e+01 &     25       & 3.323288e+01 &    37.0650   &     0        &    547       &    547       &  2.35948572  &   8.4414910  & 1.733999e+00\\\\\n",
       "\tEnclosedPorch & 69           & 1460         & 2.195411e+01 & 6.111915e+01 &      0       & 3.866438e+00 &     0.0000   &     0        &    552       &    552       &  3.08352575  &  10.3726341  & 1.599561e+00\\\\\n",
       "\tX3SsnPorch & 70           & 1460         & 3.409589e+00 & 2.931733e+01 &      0       & 0.000000e+00 &     0.0000   &     0        &    508       &    508       & 10.28317840  & 123.0623116  & 7.672696e-01\\\\\n",
       "\tScreenPorch & 71           & 1460         & 1.506096e+01 & 5.575742e+01 &      0       & 0.000000e+00 &     0.0000   &     0        &    480       &    480       &  4.11374731  &  18.3426076  & 1.459238e+00\\\\\n",
       "\tPoolArea & 72           & 1460         & 2.758904e+00 & 4.017731e+01 &      0       & 0.000000e+00 &     0.0000   &     0        &    738       &    738       & 14.79791829  & 222.1917078  & 1.051488e+00\\\\\n",
       "\tPoolQC* & 73           &    7         &          NaN &           NA &     NA       &          NaN &         NA   &   Inf        &   -Inf       &   -Inf       &          NA  &          NA  &           NA\\\\\n",
       "\tFence* & 74           &  281         &          NaN &           NA &     NA       &          NaN &         NA   &   Inf        &   -Inf       &   -Inf       &          NA  &          NA  &           NA\\\\\n",
       "\tMiscFeature* & 75           &   54         &          NaN &           NA &     NA       &          NaN &         NA   &   Inf        &   -Inf       &   -Inf       &          NA  &          NA  &           NA\\\\\n",
       "\tMiscVal & 76           & 1460         & 4.348904e+01 & 4.961230e+02 &      0       & 0.000000e+00 &     0.0000   &     0        &  15500       &  15500       & 24.42652237  & 697.6400721  & 1.298413e+01\\\\\n",
       "\tMoSold & 77           & 1460         & 6.321918e+00 & 2.703626e+00 &      6       & 6.252568e+00 &     2.9652   &     1        &     12       &     11       &  0.21161746  &  -0.4103846  & 7.075713e-02\\\\\n",
       "\tYrSold & 78           & 1460         & 2.007816e+03 & 1.328095e+00 &   2008       & 2.007770e+03 &     1.4826   &  2006        &   2010       &      4       &  0.09607079  &  -1.1931116  & 3.475784e-02\\\\\n",
       "\tSaleType* & 79           & 1460         &          NaN &           NA &     NA       &          NaN &         NA   &   Inf        &   -Inf       &   -Inf       &          NA  &          NA  &           NA\\\\\n",
       "\tSaleCondition* & 80           & 1460         &          NaN &           NA &     NA       &          NaN &         NA   &   Inf        &   -Inf       &   -Inf       &          NA  &          NA  &           NA\\\\\n",
       "\tSalePrice & 81           & 1460         & 1.809212e+05 & 7.944250e+04 & 163000       & 1.707833e+05 & 56338.8000   & 34900        & 755000       & 720100       &  1.87900860  &   6.4967893  & 2.079105e+03\\\\\n",
       "\\end{tabular}\n"
      ],
      "text/markdown": [
       "\n",
       "| <!--/--> | vars | n | mean | sd | median | trimmed | mad | min | max | range | skew | kurtosis | se |\n",
       "|---|---|---|---|---|---|---|---|---|---|---|---|---|---|\n",
       "| Id |  1           | 1460         |   730.500000 |  421.610009  |  730.5       |  730.500000  |  541.1490    |    1         |   1460       |   1459       |  0.0000000   |  -1.20246603 |  11.03403825 |\n",
       "| MSSubClass |  2           | 1460         |    56.897260 |   42.300571  |   50.0       |   49.152397  |   44.4780    |   20         |    190       |    170       |  1.4047656   |   1.56441572 |   1.10705654 |\n",
       "| MSZoning* |  3           | 1460         |          NaN |          NA  |     NA       |         NaN  |        NA    |  Inf         |   -Inf       |   -Inf       |         NA   |           NA |           NA |\n",
       "| LotFrontage |  4           | 1201         |    70.049958 |   24.284752  |   69.0       |   68.943809  |   16.3086    |   21         |    313       |    292       |  2.1581677   |  17.34138406 |   0.70074848 |\n",
       "| LotArea |  5           | 1460         | 10516.828082 | 9981.264932  | 9478.5       | 9563.284247  | 2962.2348    | 1300         | 215245       | 213945       | 12.1826150   | 202.26232234 | 261.22164217 |\n",
       "| Street* |  6           | 1460         |          NaN |          NA  |     NA       |         NaN  |        NA    |  Inf         |   -Inf       |   -Inf       |         NA   |           NA |           NA |\n",
       "| Alley* |  7           |   91         |          NaN |          NA  |     NA       |         NaN  |        NA    |  Inf         |   -Inf       |   -Inf       |         NA   |           NA |           NA |\n",
       "| LotShape* |  8           | 1460         |          NaN |          NA  |     NA       |         NaN  |        NA    |  Inf         |   -Inf       |   -Inf       |         NA   |           NA |           NA |\n",
       "| LandContour* |  9           | 1460         |          NaN |          NA  |     NA       |         NaN  |        NA    |  Inf         |   -Inf       |   -Inf       |         NA   |           NA |           NA |\n",
       "| Utilities* | 10           | 1460         |          NaN |          NA  |     NA       |         NaN  |        NA    |  Inf         |   -Inf       |   -Inf       |         NA   |           NA |           NA |\n",
       "| LotConfig* | 11           | 1460         |          NaN |          NA  |     NA       |         NaN  |        NA    |  Inf         |   -Inf       |   -Inf       |         NA   |           NA |           NA |\n",
       "| LandSlope* | 12           | 1460         |          NaN |          NA  |     NA       |         NaN  |        NA    |  Inf         |   -Inf       |   -Inf       |         NA   |           NA |           NA |\n",
       "| Neighborhood* | 13           | 1460         |          NaN |          NA  |     NA       |         NaN  |        NA    |  Inf         |   -Inf       |   -Inf       |         NA   |           NA |           NA |\n",
       "| Condition1* | 14           | 1460         |          NaN |          NA  |     NA       |         NaN  |        NA    |  Inf         |   -Inf       |   -Inf       |         NA   |           NA |           NA |\n",
       "| Condition2* | 15           | 1460         |          NaN |          NA  |     NA       |         NaN  |        NA    |  Inf         |   -Inf       |   -Inf       |         NA   |           NA |           NA |\n",
       "| BldgType* | 16           | 1460         |          NaN |          NA  |     NA       |         NaN  |        NA    |  Inf         |   -Inf       |   -Inf       |         NA   |           NA |           NA |\n",
       "| HouseStyle* | 17           | 1460         |          NaN |          NA  |     NA       |         NaN  |        NA    |  Inf         |   -Inf       |   -Inf       |         NA   |           NA |           NA |\n",
       "| OverallQual | 18           | 1460         |     6.099315 |    1.382997  |    6.0       |    6.079623  |    1.4826    |    1         |     10       |      9       |  0.2164984   |   0.08762258 |   0.03619467 |\n",
       "| OverallCond | 19           | 1460         |     5.575342 |    1.112799  |    5.0       |    5.477740  |    0.0000    |    1         |      9       |      8       |  0.6916440   |   1.09290874 |   0.02912329 |\n",
       "| YearBuilt | 20           | 1460         |  1971.267808 |   30.202904  | 1973.0       | 1974.126712  |   37.0650    | 1872         |   2010       |    138       | -0.6122012   |  -0.44565754 |   0.79044613 |\n",
       "| YearRemodAdd | 21           | 1460         |  1984.865753 |   20.645407  | 1994.0       | 1986.369007  |   19.2738    | 1950         |   2010       |     60       | -0.5025278   |  -1.27436545 |   0.54031499 |\n",
       "| RoofStyle* | 22           | 1460         |          NaN |          NA  |     NA       |         NaN  |        NA    |  Inf         |   -Inf       |   -Inf       |         NA   |           NA |           NA |\n",
       "| RoofMatl* | 23           | 1460         |          NaN |          NA  |     NA       |         NaN  |        NA    |  Inf         |   -Inf       |   -Inf       |         NA   |           NA |           NA |\n",
       "| Exterior1st* | 24           | 1460         |          NaN |          NA  |     NA       |         NaN  |        NA    |  Inf         |   -Inf       |   -Inf       |         NA   |           NA |           NA |\n",
       "| Exterior2nd* | 25           | 1460         |          NaN |          NA  |     NA       |         NaN  |        NA    |  Inf         |   -Inf       |   -Inf       |         NA   |           NA |           NA |\n",
       "| MasVnrType* | 26           | 1452         |          NaN |          NA  |     NA       |         NaN  |        NA    |  Inf         |   -Inf       |   -Inf       |         NA   |           NA |           NA |\n",
       "| MasVnrArea | 27           | 1452         |   103.685262 |  181.066207  |    0.0       |   63.152324  |    0.0000    |    0         |   1600       |   1600       |  2.6635721   |  10.02564211 |   4.75175560 |\n",
       "| ExterQual* | 28           | 1460         |          NaN |          NA  |     NA       |         NaN  |        NA    |  Inf         |   -Inf       |   -Inf       |         NA   |           NA |           NA |\n",
       "| ExterCond* | 29           | 1460         |          NaN |          NA  |     NA       |         NaN  |        NA    |  Inf         |   -Inf       |   -Inf       |         NA   |           NA |           NA |\n",
       "| Foundation* | 30           | 1460         |          NaN |          NA  |     NA       |         NaN  |        NA    |  Inf         |   -Inf       |   -Inf       |         NA   |           NA |           NA |\n",
       "| ... | ... | ... | ... | ... | ... | ... | ... | ... | ... | ... | ... | ... | ... |\n",
       "| BedroomAbvGr | 52           | 1460         | 2.866438e+00 | 8.157780e-01 |      3       | 2.852740e+00 |     0.0000   |     0        |      8       |      8       |  0.21135511  |   2.2119881  | 2.134989e-02 |\n",
       "| KitchenAbvGr | 53           | 1460         | 1.046575e+00 | 2.203382e-01 |      1       | 1.000000e+00 |     0.0000   |     0        |      3       |      3       |  4.47917826  |  21.4211386  | 5.766514e-03 |\n",
       "| KitchenQual* | 54           | 1460         |          NaN |           NA |     NA       |          NaN |         NA   |   Inf        |   -Inf       |   -Inf       |          NA  |          NA  |           NA |\n",
       "| TotRmsAbvGrd | 55           | 1460         | 6.517808e+00 | 1.625393e+00 |      6       | 6.408390e+00 |     1.4826   |     2        |     14       |     12       |  0.67495173  |   0.8683368  | 4.253849e-02 |\n",
       "| Functional* | 56           | 1460         |          NaN |           NA |     NA       |          NaN |         NA   |   Inf        |   -Inf       |   -Inf       |          NA  |          NA  |           NA |\n",
       "| Fireplaces | 57           | 1460         | 6.130137e-01 | 6.446664e-01 |      1       | 5.342466e-01 |     1.4826   |     0        |      3       |      3       |  0.64823107  |  -0.2244068  | 1.687169e-02 |\n",
       "| FireplaceQu* | 58           |  770         |          NaN |           NA |     NA       |          NaN |         NA   |   Inf        |   -Inf       |   -Inf       |          NA  |          NA  |           NA |\n",
       "| GarageType* | 59           | 1379         |          NaN |           NA |     NA       |          NaN |         NA   |   Inf        |   -Inf       |   -Inf       |          NA  |          NA  |           NA |\n",
       "| GarageYrBlt | 60           | 1379         | 1.978506e+03 | 2.468972e+01 |   1980       | 1.981065e+03 |    31.1346   |  1900        |   2010       |    110       | -0.64800251  |  -0.4249123  | 6.648660e-01 |\n",
       "| GarageFinish* | 61           | 1379         |          NaN |           NA |     NA       |          NaN |         NA   |   Inf        |   -Inf       |   -Inf       |          NA  |          NA  |           NA |\n",
       "| GarageCars | 62           | 1460         | 1.767123e+00 | 7.473150e-01 |      2       | 1.773973e+00 |     0.0000   |     0        |      4       |      4       | -0.34184538  |   0.2117307  | 1.955813e-02 |\n",
       "| GarageArea | 63           | 1460         | 4.729801e+02 | 2.138048e+02 |    480       | 4.698082e+02 |   177.9120   |     0        |   1418       |   1418       |  0.17961125  |   0.9044687  | 5.595528e+00 |\n",
       "| GarageQual* | 64           | 1379         |          NaN |           NA |     NA       |          NaN |         NA   |   Inf        |   -Inf       |   -Inf       |          NA  |          NA  |           NA |\n",
       "| GarageCond* | 65           | 1379         |          NaN |           NA |     NA       |          NaN |         NA   |   Inf        |   -Inf       |   -Inf       |          NA  |          NA  |           NA |\n",
       "| PavedDrive* | 66           | 1460         |          NaN |           NA |     NA       |          NaN |         NA   |   Inf        |   -Inf       |   -Inf       |          NA  |          NA  |           NA |\n",
       "| WoodDeckSF | 67           | 1460         | 9.424452e+01 | 1.253388e+02 |      0       | 7.175771e+01 |     0.0000   |     0        |    857       |    857       |  1.53820999  |   2.9704171  | 3.280266e+00 |\n",
       "| OpenPorchSF | 68           | 1460         | 4.666027e+01 | 6.625603e+01 |     25       | 3.323288e+01 |    37.0650   |     0        |    547       |    547       |  2.35948572  |   8.4414910  | 1.733999e+00 |\n",
       "| EnclosedPorch | 69           | 1460         | 2.195411e+01 | 6.111915e+01 |      0       | 3.866438e+00 |     0.0000   |     0        |    552       |    552       |  3.08352575  |  10.3726341  | 1.599561e+00 |\n",
       "| X3SsnPorch | 70           | 1460         | 3.409589e+00 | 2.931733e+01 |      0       | 0.000000e+00 |     0.0000   |     0        |    508       |    508       | 10.28317840  | 123.0623116  | 7.672696e-01 |\n",
       "| ScreenPorch | 71           | 1460         | 1.506096e+01 | 5.575742e+01 |      0       | 0.000000e+00 |     0.0000   |     0        |    480       |    480       |  4.11374731  |  18.3426076  | 1.459238e+00 |\n",
       "| PoolArea | 72           | 1460         | 2.758904e+00 | 4.017731e+01 |      0       | 0.000000e+00 |     0.0000   |     0        |    738       |    738       | 14.79791829  | 222.1917078  | 1.051488e+00 |\n",
       "| PoolQC* | 73           |    7         |          NaN |           NA |     NA       |          NaN |         NA   |   Inf        |   -Inf       |   -Inf       |          NA  |          NA  |           NA |\n",
       "| Fence* | 74           |  281         |          NaN |           NA |     NA       |          NaN |         NA   |   Inf        |   -Inf       |   -Inf       |          NA  |          NA  |           NA |\n",
       "| MiscFeature* | 75           |   54         |          NaN |           NA |     NA       |          NaN |         NA   |   Inf        |   -Inf       |   -Inf       |          NA  |          NA  |           NA |\n",
       "| MiscVal | 76           | 1460         | 4.348904e+01 | 4.961230e+02 |      0       | 0.000000e+00 |     0.0000   |     0        |  15500       |  15500       | 24.42652237  | 697.6400721  | 1.298413e+01 |\n",
       "| MoSold | 77           | 1460         | 6.321918e+00 | 2.703626e+00 |      6       | 6.252568e+00 |     2.9652   |     1        |     12       |     11       |  0.21161746  |  -0.4103846  | 7.075713e-02 |\n",
       "| YrSold | 78           | 1460         | 2.007816e+03 | 1.328095e+00 |   2008       | 2.007770e+03 |     1.4826   |  2006        |   2010       |      4       |  0.09607079  |  -1.1931116  | 3.475784e-02 |\n",
       "| SaleType* | 79           | 1460         |          NaN |           NA |     NA       |          NaN |         NA   |   Inf        |   -Inf       |   -Inf       |          NA  |          NA  |           NA |\n",
       "| SaleCondition* | 80           | 1460         |          NaN |           NA |     NA       |          NaN |         NA   |   Inf        |   -Inf       |   -Inf       |          NA  |          NA  |           NA |\n",
       "| SalePrice | 81           | 1460         | 1.809212e+05 | 7.944250e+04 | 163000       | 1.707833e+05 | 56338.8000   | 34900        | 755000       | 720100       |  1.87900860  |   6.4967893  | 2.079105e+03 |\n",
       "\n"
      ],
      "text/plain": [
       "               vars n    mean         sd           median trimmed     \n",
       "Id              1   1460   730.500000  421.610009   730.5  730.500000 \n",
       "MSSubClass      2   1460    56.897260   42.300571    50.0   49.152397 \n",
       "MSZoning*       3   1460          NaN          NA      NA         NaN \n",
       "LotFrontage     4   1201    70.049958   24.284752    69.0   68.943809 \n",
       "LotArea         5   1460 10516.828082 9981.264932  9478.5 9563.284247 \n",
       "Street*         6   1460          NaN          NA      NA         NaN \n",
       "Alley*          7     91          NaN          NA      NA         NaN \n",
       "LotShape*       8   1460          NaN          NA      NA         NaN \n",
       "LandContour*    9   1460          NaN          NA      NA         NaN \n",
       "Utilities*     10   1460          NaN          NA      NA         NaN \n",
       "LotConfig*     11   1460          NaN          NA      NA         NaN \n",
       "LandSlope*     12   1460          NaN          NA      NA         NaN \n",
       "Neighborhood*  13   1460          NaN          NA      NA         NaN \n",
       "Condition1*    14   1460          NaN          NA      NA         NaN \n",
       "Condition2*    15   1460          NaN          NA      NA         NaN \n",
       "BldgType*      16   1460          NaN          NA      NA         NaN \n",
       "HouseStyle*    17   1460          NaN          NA      NA         NaN \n",
       "OverallQual    18   1460     6.099315    1.382997     6.0    6.079623 \n",
       "OverallCond    19   1460     5.575342    1.112799     5.0    5.477740 \n",
       "YearBuilt      20   1460  1971.267808   30.202904  1973.0 1974.126712 \n",
       "YearRemodAdd   21   1460  1984.865753   20.645407  1994.0 1986.369007 \n",
       "RoofStyle*     22   1460          NaN          NA      NA         NaN \n",
       "RoofMatl*      23   1460          NaN          NA      NA         NaN \n",
       "Exterior1st*   24   1460          NaN          NA      NA         NaN \n",
       "Exterior2nd*   25   1460          NaN          NA      NA         NaN \n",
       "MasVnrType*    26   1452          NaN          NA      NA         NaN \n",
       "MasVnrArea     27   1452   103.685262  181.066207     0.0   63.152324 \n",
       "ExterQual*     28   1460          NaN          NA      NA         NaN \n",
       "ExterCond*     29   1460          NaN          NA      NA         NaN \n",
       "Foundation*    30   1460          NaN          NA      NA         NaN \n",
       "...            ...  ...  ...          ...          ...    ...         \n",
       "BedroomAbvGr   52   1460 2.866438e+00 8.157780e-01      3 2.852740e+00\n",
       "KitchenAbvGr   53   1460 1.046575e+00 2.203382e-01      1 1.000000e+00\n",
       "KitchenQual*   54   1460          NaN           NA     NA          NaN\n",
       "TotRmsAbvGrd   55   1460 6.517808e+00 1.625393e+00      6 6.408390e+00\n",
       "Functional*    56   1460          NaN           NA     NA          NaN\n",
       "Fireplaces     57   1460 6.130137e-01 6.446664e-01      1 5.342466e-01\n",
       "FireplaceQu*   58    770          NaN           NA     NA          NaN\n",
       "GarageType*    59   1379          NaN           NA     NA          NaN\n",
       "GarageYrBlt    60   1379 1.978506e+03 2.468972e+01   1980 1.981065e+03\n",
       "GarageFinish*  61   1379          NaN           NA     NA          NaN\n",
       "GarageCars     62   1460 1.767123e+00 7.473150e-01      2 1.773973e+00\n",
       "GarageArea     63   1460 4.729801e+02 2.138048e+02    480 4.698082e+02\n",
       "GarageQual*    64   1379          NaN           NA     NA          NaN\n",
       "GarageCond*    65   1379          NaN           NA     NA          NaN\n",
       "PavedDrive*    66   1460          NaN           NA     NA          NaN\n",
       "WoodDeckSF     67   1460 9.424452e+01 1.253388e+02      0 7.175771e+01\n",
       "OpenPorchSF    68   1460 4.666027e+01 6.625603e+01     25 3.323288e+01\n",
       "EnclosedPorch  69   1460 2.195411e+01 6.111915e+01      0 3.866438e+00\n",
       "X3SsnPorch     70   1460 3.409589e+00 2.931733e+01      0 0.000000e+00\n",
       "ScreenPorch    71   1460 1.506096e+01 5.575742e+01      0 0.000000e+00\n",
       "PoolArea       72   1460 2.758904e+00 4.017731e+01      0 0.000000e+00\n",
       "PoolQC*        73      7          NaN           NA     NA          NaN\n",
       "Fence*         74    281          NaN           NA     NA          NaN\n",
       "MiscFeature*   75     54          NaN           NA     NA          NaN\n",
       "MiscVal        76   1460 4.348904e+01 4.961230e+02      0 0.000000e+00\n",
       "MoSold         77   1460 6.321918e+00 2.703626e+00      6 6.252568e+00\n",
       "YrSold         78   1460 2.007816e+03 1.328095e+00   2008 2.007770e+03\n",
       "SaleType*      79   1460          NaN           NA     NA          NaN\n",
       "SaleCondition* 80   1460          NaN           NA     NA          NaN\n",
       "SalePrice      81   1460 1.809212e+05 7.944250e+04 163000 1.707833e+05\n",
       "               mad        min   max    range  skew        kurtosis    \n",
       "Id              541.1490     1    1460   1459  0.0000000   -1.20246603\n",
       "MSSubClass       44.4780    20     190    170  1.4047656    1.56441572\n",
       "MSZoning*             NA   Inf    -Inf   -Inf         NA            NA\n",
       "LotFrontage      16.3086    21     313    292  2.1581677   17.34138406\n",
       "LotArea        2962.2348  1300  215245 213945 12.1826150  202.26232234\n",
       "Street*               NA   Inf    -Inf   -Inf         NA            NA\n",
       "Alley*                NA   Inf    -Inf   -Inf         NA            NA\n",
       "LotShape*             NA   Inf    -Inf   -Inf         NA            NA\n",
       "LandContour*          NA   Inf    -Inf   -Inf         NA            NA\n",
       "Utilities*            NA   Inf    -Inf   -Inf         NA            NA\n",
       "LotConfig*            NA   Inf    -Inf   -Inf         NA            NA\n",
       "LandSlope*            NA   Inf    -Inf   -Inf         NA            NA\n",
       "Neighborhood*         NA   Inf    -Inf   -Inf         NA            NA\n",
       "Condition1*           NA   Inf    -Inf   -Inf         NA            NA\n",
       "Condition2*           NA   Inf    -Inf   -Inf         NA            NA\n",
       "BldgType*             NA   Inf    -Inf   -Inf         NA            NA\n",
       "HouseStyle*           NA   Inf    -Inf   -Inf         NA            NA\n",
       "OverallQual       1.4826     1      10      9  0.2164984    0.08762258\n",
       "OverallCond       0.0000     1       9      8  0.6916440    1.09290874\n",
       "YearBuilt        37.0650  1872    2010    138 -0.6122012   -0.44565754\n",
       "YearRemodAdd     19.2738  1950    2010     60 -0.5025278   -1.27436545\n",
       "RoofStyle*            NA   Inf    -Inf   -Inf         NA            NA\n",
       "RoofMatl*             NA   Inf    -Inf   -Inf         NA            NA\n",
       "Exterior1st*          NA   Inf    -Inf   -Inf         NA            NA\n",
       "Exterior2nd*          NA   Inf    -Inf   -Inf         NA            NA\n",
       "MasVnrType*           NA   Inf    -Inf   -Inf         NA            NA\n",
       "MasVnrArea        0.0000     0    1600   1600  2.6635721   10.02564211\n",
       "ExterQual*            NA   Inf    -Inf   -Inf         NA            NA\n",
       "ExterCond*            NA   Inf    -Inf   -Inf         NA            NA\n",
       "Foundation*           NA   Inf    -Inf   -Inf         NA            NA\n",
       "...            ...        ...   ...    ...    ...         ...         \n",
       "BedroomAbvGr       0.0000     0      8      8  0.21135511   2.2119881 \n",
       "KitchenAbvGr       0.0000     0      3      3  4.47917826  21.4211386 \n",
       "KitchenQual*           NA   Inf   -Inf   -Inf          NA          NA \n",
       "TotRmsAbvGrd       1.4826     2     14     12  0.67495173   0.8683368 \n",
       "Functional*            NA   Inf   -Inf   -Inf          NA          NA \n",
       "Fireplaces         1.4826     0      3      3  0.64823107  -0.2244068 \n",
       "FireplaceQu*           NA   Inf   -Inf   -Inf          NA          NA \n",
       "GarageType*            NA   Inf   -Inf   -Inf          NA          NA \n",
       "GarageYrBlt       31.1346  1900   2010    110 -0.64800251  -0.4249123 \n",
       "GarageFinish*          NA   Inf   -Inf   -Inf          NA          NA \n",
       "GarageCars         0.0000     0      4      4 -0.34184538   0.2117307 \n",
       "GarageArea       177.9120     0   1418   1418  0.17961125   0.9044687 \n",
       "GarageQual*            NA   Inf   -Inf   -Inf          NA          NA \n",
       "GarageCond*            NA   Inf   -Inf   -Inf          NA          NA \n",
       "PavedDrive*            NA   Inf   -Inf   -Inf          NA          NA \n",
       "WoodDeckSF         0.0000     0    857    857  1.53820999   2.9704171 \n",
       "OpenPorchSF       37.0650     0    547    547  2.35948572   8.4414910 \n",
       "EnclosedPorch      0.0000     0    552    552  3.08352575  10.3726341 \n",
       "X3SsnPorch         0.0000     0    508    508 10.28317840 123.0623116 \n",
       "ScreenPorch        0.0000     0    480    480  4.11374731  18.3426076 \n",
       "PoolArea           0.0000     0    738    738 14.79791829 222.1917078 \n",
       "PoolQC*                NA   Inf   -Inf   -Inf          NA          NA \n",
       "Fence*                 NA   Inf   -Inf   -Inf          NA          NA \n",
       "MiscFeature*           NA   Inf   -Inf   -Inf          NA          NA \n",
       "MiscVal            0.0000     0  15500  15500 24.42652237 697.6400721 \n",
       "MoSold             2.9652     1     12     11  0.21161746  -0.4103846 \n",
       "YrSold             1.4826  2006   2010      4  0.09607079  -1.1931116 \n",
       "SaleType*              NA   Inf   -Inf   -Inf          NA          NA \n",
       "SaleCondition*         NA   Inf   -Inf   -Inf          NA          NA \n",
       "SalePrice      56338.8000 34900 755000 720100  1.87900860   6.4967893 \n",
       "               se          \n",
       "Id              11.03403825\n",
       "MSSubClass       1.10705654\n",
       "MSZoning*                NA\n",
       "LotFrontage      0.70074848\n",
       "LotArea        261.22164217\n",
       "Street*                  NA\n",
       "Alley*                   NA\n",
       "LotShape*                NA\n",
       "LandContour*             NA\n",
       "Utilities*               NA\n",
       "LotConfig*               NA\n",
       "LandSlope*               NA\n",
       "Neighborhood*            NA\n",
       "Condition1*              NA\n",
       "Condition2*              NA\n",
       "BldgType*                NA\n",
       "HouseStyle*              NA\n",
       "OverallQual      0.03619467\n",
       "OverallCond      0.02912329\n",
       "YearBuilt        0.79044613\n",
       "YearRemodAdd     0.54031499\n",
       "RoofStyle*               NA\n",
       "RoofMatl*                NA\n",
       "Exterior1st*             NA\n",
       "Exterior2nd*             NA\n",
       "MasVnrType*              NA\n",
       "MasVnrArea       4.75175560\n",
       "ExterQual*               NA\n",
       "ExterCond*               NA\n",
       "Foundation*              NA\n",
       "...            ...         \n",
       "BedroomAbvGr   2.134989e-02\n",
       "KitchenAbvGr   5.766514e-03\n",
       "KitchenQual*             NA\n",
       "TotRmsAbvGrd   4.253849e-02\n",
       "Functional*              NA\n",
       "Fireplaces     1.687169e-02\n",
       "FireplaceQu*             NA\n",
       "GarageType*              NA\n",
       "GarageYrBlt    6.648660e-01\n",
       "GarageFinish*            NA\n",
       "GarageCars     1.955813e-02\n",
       "GarageArea     5.595528e+00\n",
       "GarageQual*              NA\n",
       "GarageCond*              NA\n",
       "PavedDrive*              NA\n",
       "WoodDeckSF     3.280266e+00\n",
       "OpenPorchSF    1.733999e+00\n",
       "EnclosedPorch  1.599561e+00\n",
       "X3SsnPorch     7.672696e-01\n",
       "ScreenPorch    1.459238e+00\n",
       "PoolArea       1.051488e+00\n",
       "PoolQC*                  NA\n",
       "Fence*                   NA\n",
       "MiscFeature*             NA\n",
       "MiscVal        1.298413e+01\n",
       "MoSold         7.075713e-02\n",
       "YrSold         3.475784e-02\n",
       "SaleType*                NA\n",
       "SaleCondition*           NA\n",
       "SalePrice      2.079105e+03"
      ]
     },
     "metadata": {},
     "output_type": "display_data"
    }
   ],
   "source": [
    "# Some statistics of the variables\n",
    "describe(train)"
   ]
  },
  {
   "cell_type": "code",
   "execution_count": 951,
   "metadata": {},
   "outputs": [
    {
     "name": "stdout",
     "output_type": "stream",
     "text": [
      "[1] \"LotFrontage has 259 number of missing values\"\n",
      "[1] \"Alley has 1369 number of missing values\"\n",
      "[1] \"MasVnrType has 8 number of missing values\"\n",
      "[1] \"MasVnrArea has 8 number of missing values\"\n",
      "[1] \"BsmtQual has 37 number of missing values\"\n",
      "[1] \"BsmtCond has 37 number of missing values\"\n",
      "[1] \"BsmtExposure has 38 number of missing values\"\n",
      "[1] \"BsmtFinType1 has 37 number of missing values\"\n",
      "[1] \"BsmtFinType2 has 38 number of missing values\"\n",
      "[1] \"Electrical has 1 number of missing values\"\n",
      "[1] \"FireplaceQu has 690 number of missing values\"\n",
      "[1] \"GarageType has 81 number of missing values\"\n",
      "[1] \"GarageYrBlt has 81 number of missing values\"\n",
      "[1] \"GarageFinish has 81 number of missing values\"\n",
      "[1] \"GarageQual has 81 number of missing values\"\n",
      "[1] \"GarageCond has 81 number of missing values\"\n",
      "[1] \"PoolQC has 1453 number of missing values\"\n",
      "[1] \"Fence has 1179 number of missing values\"\n",
      "[1] \"MiscFeature has 1406 number of missing values\"\n"
     ]
    }
   ],
   "source": [
    "# Quick overview of the missing values\n",
    "for (col in names(train)){\n",
    "    if (sum(is.na(train[col]))>0){\n",
    "    print(paste(col,\"has\",sum(is.na(train[col])),\"number of missing values\"))   \n",
    "    }\n",
    "}"
   ]
  },
  {
   "cell_type": "code",
   "execution_count": 952,
   "metadata": {},
   "outputs": [
    {
     "data": {
      "image/png": "[encoded data removed]",
      "text/plain": [
       "Plot with title \"Histogram of train$SalePrice/1000\""
      ]
     },
     "metadata": {},
     "output_type": "display_data"
    }
   ],
   "source": [
    "# Quick overview of the target variable\n",
    "hist(train$SalePrice/1000, xlab=\"Sales price (in thousands)\",ylab=\"Frequency\")"
   ]
  },
  {
   "cell_type": "markdown",
   "metadata": {},
   "source": [
    "# 2. Data"
   ]
  },
  {
   "cell_type": "markdown",
   "metadata": {},
   "source": [
    "## 2.0. Quick check of variables"
   ]
  },
  {
   "cell_type": "markdown",
   "metadata": {},
   "source": [
    "#### Numerical Variables"
   ]
  },
  {
   "cell_type": "code",
   "execution_count": 953,
   "metadata": {},
   "outputs": [],
   "source": [
    "#Getting rid of the IDs\n",
    "test_labels <- test$Id\n",
    "test$Id <- NULL\n",
    "train$Id <- NULL\n",
    "test$SalePrice <- NA\n",
    "# all <- rbind(train, test)"
   ]
  },
  {
   "cell_type": "code",
   "execution_count": 954,
   "metadata": {},
   "outputs": [
    {
     "name": "stdout",
     "output_type": "stream",
     "text": [
      "There are 37 numeric variables"
     ]
    },
    {
     "data": {
      "text/html": [
       "<ol class=list-inline>\n",
       "\t<li>'MSSubClass'</li>\n",
       "\t<li>'LotFrontage'</li>\n",
       "\t<li>'LotArea'</li>\n",
       "\t<li>'OverallQual'</li>\n",
       "\t<li>'OverallCond'</li>\n",
       "\t<li>'YearBuilt'</li>\n",
       "\t<li>'YearRemodAdd'</li>\n",
       "\t<li>'MasVnrArea'</li>\n",
       "\t<li>'BsmtFinSF1'</li>\n",
       "\t<li>'BsmtFinSF2'</li>\n",
       "\t<li>'BsmtUnfSF'</li>\n",
       "\t<li>'TotalBsmtSF'</li>\n",
       "\t<li>'X1stFlrSF'</li>\n",
       "\t<li>'X2ndFlrSF'</li>\n",
       "\t<li>'LowQualFinSF'</li>\n",
       "\t<li>'GrLivArea'</li>\n",
       "\t<li>'BsmtFullBath'</li>\n",
       "\t<li>'BsmtHalfBath'</li>\n",
       "\t<li>'FullBath'</li>\n",
       "\t<li>'HalfBath'</li>\n",
       "\t<li>'BedroomAbvGr'</li>\n",
       "\t<li>'KitchenAbvGr'</li>\n",
       "\t<li>'TotRmsAbvGrd'</li>\n",
       "\t<li>'Fireplaces'</li>\n",
       "\t<li>'GarageYrBlt'</li>\n",
       "\t<li>'GarageCars'</li>\n",
       "\t<li>'GarageArea'</li>\n",
       "\t<li>'WoodDeckSF'</li>\n",
       "\t<li>'OpenPorchSF'</li>\n",
       "\t<li>'EnclosedPorch'</li>\n",
       "\t<li>'X3SsnPorch'</li>\n",
       "\t<li>'ScreenPorch'</li>\n",
       "\t<li>'PoolArea'</li>\n",
       "\t<li>'MiscVal'</li>\n",
       "\t<li>'MoSold'</li>\n",
       "\t<li>'YrSold'</li>\n",
       "\t<li>'SalePrice'</li>\n",
       "</ol>\n"
      ],
      "text/latex": [
       "\\begin{enumerate*}\n",
       "\\item 'MSSubClass'\n",
       "\\item 'LotFrontage'\n",
       "\\item 'LotArea'\n",
       "\\item 'OverallQual'\n",
       "\\item 'OverallCond'\n",
       "\\item 'YearBuilt'\n",
       "\\item 'YearRemodAdd'\n",
       "\\item 'MasVnrArea'\n",
       "\\item 'BsmtFinSF1'\n",
       "\\item 'BsmtFinSF2'\n",
       "\\item 'BsmtUnfSF'\n",
       "\\item 'TotalBsmtSF'\n",
       "\\item 'X1stFlrSF'\n",
       "\\item 'X2ndFlrSF'\n",
       "\\item 'LowQualFinSF'\n",
       "\\item 'GrLivArea'\n",
       "\\item 'BsmtFullBath'\n",
       "\\item 'BsmtHalfBath'\n",
       "\\item 'FullBath'\n",
       "\\item 'HalfBath'\n",
       "\\item 'BedroomAbvGr'\n",
       "\\item 'KitchenAbvGr'\n",
       "\\item 'TotRmsAbvGrd'\n",
       "\\item 'Fireplaces'\n",
       "\\item 'GarageYrBlt'\n",
       "\\item 'GarageCars'\n",
       "\\item 'GarageArea'\n",
       "\\item 'WoodDeckSF'\n",
       "\\item 'OpenPorchSF'\n",
       "\\item 'EnclosedPorch'\n",
       "\\item 'X3SsnPorch'\n",
       "\\item 'ScreenPorch'\n",
       "\\item 'PoolArea'\n",
       "\\item 'MiscVal'\n",
       "\\item 'MoSold'\n",
       "\\item 'YrSold'\n",
       "\\item 'SalePrice'\n",
       "\\end{enumerate*}\n"
      ],
      "text/markdown": [
       "1. 'MSSubClass'\n",
       "2. 'LotFrontage'\n",
       "3. 'LotArea'\n",
       "4. 'OverallQual'\n",
       "5. 'OverallCond'\n",
       "6. 'YearBuilt'\n",
       "7. 'YearRemodAdd'\n",
       "8. 'MasVnrArea'\n",
       "9. 'BsmtFinSF1'\n",
       "10. 'BsmtFinSF2'\n",
       "11. 'BsmtUnfSF'\n",
       "12. 'TotalBsmtSF'\n",
       "13. 'X1stFlrSF'\n",
       "14. 'X2ndFlrSF'\n",
       "15. 'LowQualFinSF'\n",
       "16. 'GrLivArea'\n",
       "17. 'BsmtFullBath'\n",
       "18. 'BsmtHalfBath'\n",
       "19. 'FullBath'\n",
       "20. 'HalfBath'\n",
       "21. 'BedroomAbvGr'\n",
       "22. 'KitchenAbvGr'\n",
       "23. 'TotRmsAbvGrd'\n",
       "24. 'Fireplaces'\n",
       "25. 'GarageYrBlt'\n",
       "26. 'GarageCars'\n",
       "27. 'GarageArea'\n",
       "28. 'WoodDeckSF'\n",
       "29. 'OpenPorchSF'\n",
       "30. 'EnclosedPorch'\n",
       "31. 'X3SsnPorch'\n",
       "32. 'ScreenPorch'\n",
       "33. 'PoolArea'\n",
       "34. 'MiscVal'\n",
       "35. 'MoSold'\n",
       "36. 'YrSold'\n",
       "37. 'SalePrice'\n",
       "\n",
       "\n"
      ],
      "text/plain": [
       " [1] \"MSSubClass\"    \"LotFrontage\"   \"LotArea\"       \"OverallQual\"  \n",
       " [5] \"OverallCond\"   \"YearBuilt\"     \"YearRemodAdd\"  \"MasVnrArea\"   \n",
       " [9] \"BsmtFinSF1\"    \"BsmtFinSF2\"    \"BsmtUnfSF\"     \"TotalBsmtSF\"  \n",
       "[13] \"X1stFlrSF\"     \"X2ndFlrSF\"     \"LowQualFinSF\"  \"GrLivArea\"    \n",
       "[17] \"BsmtFullBath\"  \"BsmtHalfBath\"  \"FullBath\"      \"HalfBath\"     \n",
       "[21] \"BedroomAbvGr\"  \"KitchenAbvGr\"  \"TotRmsAbvGrd\"  \"Fireplaces\"   \n",
       "[25] \"GarageYrBlt\"   \"GarageCars\"    \"GarageArea\"    \"WoodDeckSF\"   \n",
       "[29] \"OpenPorchSF\"   \"EnclosedPorch\" \"X3SsnPorch\"    \"ScreenPorch\"  \n",
       "[33] \"PoolArea\"      \"MiscVal\"       \"MoSold\"        \"YrSold\"       \n",
       "[37] \"SalePrice\"    "
      ]
     },
     "metadata": {},
     "output_type": "display_data"
    }
   ],
   "source": [
    "# Check the number of numerical variables \n",
    "numericVars <- which(sapply(train, is.numeric)) #index vector numeric variables\n",
    "numericVarNames <- names(numericVars) #saving names vector for use later on\n",
    "cat('There are', length(numericVars), 'numeric variables')\n",
    "numericVarNames"
   ]
  },
  {
   "cell_type": "markdown",
   "metadata": {},
   "source": [
    "#### Categorical Variables"
   ]
  },
  {
   "cell_type": "code",
   "execution_count": 955,
   "metadata": {},
   "outputs": [
    {
     "name": "stdout",
     "output_type": "stream",
     "text": [
      "There are 43 categorical variables"
     ]
    },
    {
     "data": {
      "text/html": [
       "<ol class=list-inline>\n",
       "\t<li>'MSZoning'</li>\n",
       "\t<li>'Street'</li>\n",
       "\t<li>'Alley'</li>\n",
       "\t<li>'LotShape'</li>\n",
       "\t<li>'LandContour'</li>\n",
       "\t<li>'Utilities'</li>\n",
       "\t<li>'LotConfig'</li>\n",
       "\t<li>'LandSlope'</li>\n",
       "\t<li>'Neighborhood'</li>\n",
       "\t<li>'Condition1'</li>\n",
       "\t<li>'Condition2'</li>\n",
       "\t<li>'BldgType'</li>\n",
       "\t<li>'HouseStyle'</li>\n",
       "\t<li>'RoofStyle'</li>\n",
       "\t<li>'RoofMatl'</li>\n",
       "\t<li>'Exterior1st'</li>\n",
       "\t<li>'Exterior2nd'</li>\n",
       "\t<li>'MasVnrType'</li>\n",
       "\t<li>'ExterQual'</li>\n",
       "\t<li>'ExterCond'</li>\n",
       "\t<li>'Foundation'</li>\n",
       "\t<li>'BsmtQual'</li>\n",
       "\t<li>'BsmtCond'</li>\n",
       "\t<li>'BsmtExposure'</li>\n",
       "\t<li>'BsmtFinType1'</li>\n",
       "\t<li>'BsmtFinType2'</li>\n",
       "\t<li>'Heating'</li>\n",
       "\t<li>'HeatingQC'</li>\n",
       "\t<li>'CentralAir'</li>\n",
       "\t<li>'Electrical'</li>\n",
       "\t<li>'KitchenQual'</li>\n",
       "\t<li>'Functional'</li>\n",
       "\t<li>'FireplaceQu'</li>\n",
       "\t<li>'GarageType'</li>\n",
       "\t<li>'GarageFinish'</li>\n",
       "\t<li>'GarageQual'</li>\n",
       "\t<li>'GarageCond'</li>\n",
       "\t<li>'PavedDrive'</li>\n",
       "\t<li>'PoolQC'</li>\n",
       "\t<li>'Fence'</li>\n",
       "\t<li>'MiscFeature'</li>\n",
       "\t<li>'SaleType'</li>\n",
       "\t<li>'SaleCondition'</li>\n",
       "</ol>\n"
      ],
      "text/latex": [
       "\\begin{enumerate*}\n",
       "\\item 'MSZoning'\n",
       "\\item 'Street'\n",
       "\\item 'Alley'\n",
       "\\item 'LotShape'\n",
       "\\item 'LandContour'\n",
       "\\item 'Utilities'\n",
       "\\item 'LotConfig'\n",
       "\\item 'LandSlope'\n",
       "\\item 'Neighborhood'\n",
       "\\item 'Condition1'\n",
       "\\item 'Condition2'\n",
       "\\item 'BldgType'\n",
       "\\item 'HouseStyle'\n",
       "\\item 'RoofStyle'\n",
       "\\item 'RoofMatl'\n",
       "\\item 'Exterior1st'\n",
       "\\item 'Exterior2nd'\n",
       "\\item 'MasVnrType'\n",
       "\\item 'ExterQual'\n",
       "\\item 'ExterCond'\n",
       "\\item 'Foundation'\n",
       "\\item 'BsmtQual'\n",
       "\\item 'BsmtCond'\n",
       "\\item 'BsmtExposure'\n",
       "\\item 'BsmtFinType1'\n",
       "\\item 'BsmtFinType2'\n",
       "\\item 'Heating'\n",
       "\\item 'HeatingQC'\n",
       "\\item 'CentralAir'\n",
       "\\item 'Electrical'\n",
       "\\item 'KitchenQual'\n",
       "\\item 'Functional'\n",
       "\\item 'FireplaceQu'\n",
       "\\item 'GarageType'\n",
       "\\item 'GarageFinish'\n",
       "\\item 'GarageQual'\n",
       "\\item 'GarageCond'\n",
       "\\item 'PavedDrive'\n",
       "\\item 'PoolQC'\n",
       "\\item 'Fence'\n",
       "\\item 'MiscFeature'\n",
       "\\item 'SaleType'\n",
       "\\item 'SaleCondition'\n",
       "\\end{enumerate*}\n"
      ],
      "text/markdown": [
       "1. 'MSZoning'\n",
       "2. 'Street'\n",
       "3. 'Alley'\n",
       "4. 'LotShape'\n",
       "5. 'LandContour'\n",
       "6. 'Utilities'\n",
       "7. 'LotConfig'\n",
       "8. 'LandSlope'\n",
       "9. 'Neighborhood'\n",
       "10. 'Condition1'\n",
       "11. 'Condition2'\n",
       "12. 'BldgType'\n",
       "13. 'HouseStyle'\n",
       "14. 'RoofStyle'\n",
       "15. 'RoofMatl'\n",
       "16. 'Exterior1st'\n",
       "17. 'Exterior2nd'\n",
       "18. 'MasVnrType'\n",
       "19. 'ExterQual'\n",
       "20. 'ExterCond'\n",
       "21. 'Foundation'\n",
       "22. 'BsmtQual'\n",
       "23. 'BsmtCond'\n",
       "24. 'BsmtExposure'\n",
       "25. 'BsmtFinType1'\n",
       "26. 'BsmtFinType2'\n",
       "27. 'Heating'\n",
       "28. 'HeatingQC'\n",
       "29. 'CentralAir'\n",
       "30. 'Electrical'\n",
       "31. 'KitchenQual'\n",
       "32. 'Functional'\n",
       "33. 'FireplaceQu'\n",
       "34. 'GarageType'\n",
       "35. 'GarageFinish'\n",
       "36. 'GarageQual'\n",
       "37. 'GarageCond'\n",
       "38. 'PavedDrive'\n",
       "39. 'PoolQC'\n",
       "40. 'Fence'\n",
       "41. 'MiscFeature'\n",
       "42. 'SaleType'\n",
       "43. 'SaleCondition'\n",
       "\n",
       "\n"
      ],
      "text/plain": [
       " [1] \"MSZoning\"      \"Street\"        \"Alley\"         \"LotShape\"     \n",
       " [5] \"LandContour\"   \"Utilities\"     \"LotConfig\"     \"LandSlope\"    \n",
       " [9] \"Neighborhood\"  \"Condition1\"    \"Condition2\"    \"BldgType\"     \n",
       "[13] \"HouseStyle\"    \"RoofStyle\"     \"RoofMatl\"      \"Exterior1st\"  \n",
       "[17] \"Exterior2nd\"   \"MasVnrType\"    \"ExterQual\"     \"ExterCond\"    \n",
       "[21] \"Foundation\"    \"BsmtQual\"      \"BsmtCond\"      \"BsmtExposure\" \n",
       "[25] \"BsmtFinType1\"  \"BsmtFinType2\"  \"Heating\"       \"HeatingQC\"    \n",
       "[29] \"CentralAir\"    \"Electrical\"    \"KitchenQual\"   \"Functional\"   \n",
       "[33] \"FireplaceQu\"   \"GarageType\"    \"GarageFinish\"  \"GarageQual\"   \n",
       "[37] \"GarageCond\"    \"PavedDrive\"    \"PoolQC\"        \"Fence\"        \n",
       "[41] \"MiscFeature\"   \"SaleType\"      \"SaleCondition\""
      ]
     },
     "metadata": {},
     "output_type": "display_data"
    }
   ],
   "source": [
    "# Check the number of categorical variables \n",
    "# install.packages(\"tangram\")\n",
    "library(\"tangram\")\n",
    "categoricalVars <- which(sapply(train, is.categorical)) #index vector numeric variables\n",
    "categoricalVarNames <- names(categoricalVars) #saving names vector for use later on\n",
    "cat('There are', length(categoricalVars), 'categorical variables')\n",
    "categoricalVarNames"
   ]
  },
  {
   "cell_type": "markdown",
   "metadata": {},
   "source": [
    "## 2.0. Most relevant variables"
   ]
  },
  {
   "cell_type": "markdown",
   "metadata": {},
   "source": [
    "#### Eta Squared - Categorical Variables\n",
    "Eta squared measures the proportion of the total variance in a dependent variable that is associated with the membership of different groups defined by an independent variable."
   ]
  },
  {
   "cell_type": "code",
   "execution_count": 956,
   "metadata": {},
   "outputs": [
    {
     "data": {
      "text/html": [
       "<dl class=dl-horizontal>\n",
       "\t<dt>Neighborhood</dt>\n",
       "\t\t<dd>0.545574990809563</dd>\n",
       "\t<dt>ExterQual</dt>\n",
       "\t\t<dd>0.477387777727006</dd>\n",
       "\t<dt>KitchenQual</dt>\n",
       "\t\t<dd>0.456598624444538</dd>\n",
       "\t<dt>BsmtQual</dt>\n",
       "\t\t<dd>0.453756066322398</dd>\n",
       "\t<dt>PoolQC</dt>\n",
       "\t\t<dd>0.448651398739346</dd>\n",
       "\t<dt>Alley</dt>\n",
       "\t\t<dd>0.285496725954748</dd>\n",
       "\t<dt>GarageFinish</dt>\n",
       "\t\t<dd>0.267276356592116</dd>\n",
       "\t<dt>Foundation</dt>\n",
       "\t\t<dd>0.256368401530418</dd>\n",
       "\t<dt>GarageType</dt>\n",
       "\t\t<dd>0.206638403932996</dd>\n",
       "\t<dt>HeatingQC</dt>\n",
       "\t\t<dd>0.195500485840093</dd>\n",
       "</dl>\n"
      ],
      "text/latex": [
       "\\begin{description*}\n",
       "\\item[Neighborhood] 0.545574990809563\n",
       "\\item[ExterQual] 0.477387777727006\n",
       "\\item[KitchenQual] 0.456598624444538\n",
       "\\item[BsmtQual] 0.453756066322398\n",
       "\\item[PoolQC] 0.448651398739346\n",
       "\\item[Alley] 0.285496725954748\n",
       "\\item[GarageFinish] 0.267276356592116\n",
       "\\item[Foundation] 0.256368401530418\n",
       "\\item[GarageType] 0.206638403932996\n",
       "\\item[HeatingQC] 0.195500485840093\n",
       "\\end{description*}\n"
      ],
      "text/markdown": [
       "Neighborhood\n",
       ":   0.545574990809563ExterQual\n",
       ":   0.477387777727006KitchenQual\n",
       ":   0.456598624444538BsmtQual\n",
       ":   0.453756066322398PoolQC\n",
       ":   0.448651398739346Alley\n",
       ":   0.285496725954748GarageFinish\n",
       ":   0.267276356592116Foundation\n",
       ":   0.256368401530418GarageType\n",
       ":   0.206638403932996HeatingQC\n",
       ":   0.195500485840093\n",
       "\n"
      ],
      "text/plain": [
       "Neighborhood    ExterQual  KitchenQual     BsmtQual       PoolQC        Alley \n",
       "   0.5455750    0.4773878    0.4565986    0.4537561    0.4486514    0.2854967 \n",
       "GarageFinish   Foundation   GarageType    HeatingQC \n",
       "   0.2672764    0.2563684    0.2066384    0.1955005 "
      ]
     },
     "metadata": {},
     "output_type": "display_data"
    }
   ],
   "source": [
    "# Select the categorical variables\n",
    "subset_categorical <- train[categoricalVars]\n",
    "\n",
    "#Checking the correlation between the variables and the dependent variable\n",
    "# install.packages(\"lsr\")\n",
    "library (lsr)\n",
    "corrcat <- function(x){\n",
    "    treatment <- factor(as.numeric(factor(x)))\n",
    "    outcome<-train$SalePrice\n",
    "    anova <- aov(outcome ~ treatment)\n",
    "    return(etaSquared(anova)[1])\n",
    "    }\n",
    "\n",
    "#We apply our newly created function and select the top 10 variables\n",
    "corr_categoricals <- sapply(subset_categorical,corrcat)\n",
    "head(sort(corr_categoricals, decreasing = TRUE),10)\n",
    "cat_selected <- sort(corr_categoricals, decreasing = TRUE)[0:10]"
   ]
  },
  {
   "cell_type": "markdown",
   "metadata": {},
   "source": [
    "#### RFE - Continous variables\n",
    "\n",
    "A popular automatic method for feature selection provided by the caret R package is called Recursive Feature Elimination or RFE."
   ]
  },
  {
   "cell_type": "code",
   "execution_count": 829,
   "metadata": {},
   "outputs": [],
   "source": [
    "# #Select a subset with all the numeric variables\n",
    "# subset_numeric <- train[numericVars]\n",
    "# subset_numeric[is.na(subset_numeric)] <- 0"
   ]
  },
  {
   "cell_type": "code",
   "execution_count": 830,
   "metadata": {},
   "outputs": [],
   "source": [
    "# #Select the best variables between the numeric variables\n",
    "# # https://machinelearningmastery.com/feature-selection-with-the-caret-r-package/\n",
    "\n",
    "# control <- rfeControl(functions=rfFuncs, method=\"cv\", number=10)\n",
    "# results <- rfe(subset_numeric, train$SalePrice, rfeControl=control)"
   ]
  },
  {
   "cell_type": "code",
   "execution_count": 831,
   "metadata": {},
   "outputs": [
    {
     "data": {
      "text/html": [
       "<ol class=list-inline>\n",
       "\t<li>'SalePrice'</li>\n",
       "\t<li>'OverallQual'</li>\n",
       "\t<li>'GrLivArea'</li>\n",
       "\t<li>'YearBuilt'</li>\n",
       "\t<li>'GarageCars'</li>\n",
       "\t<li>'TotalBsmtSF'</li>\n",
       "\t<li>'X1stFlrSF'</li>\n",
       "\t<li>'GarageArea'</li>\n",
       "\t<li>'YearRemodAdd'</li>\n",
       "\t<li>'GarageYrBlt'</li>\n",
       "\t<li>'X2ndFlrSF'</li>\n",
       "\t<li>'LotArea'</li>\n",
       "\t<li>'Fireplaces'</li>\n",
       "\t<li>'MSSubClass'</li>\n",
       "\t<li>'FullBath'</li>\n",
       "\t<li>'BsmtFinSF1'</li>\n",
       "</ol>\n"
      ],
      "text/latex": [
       "\\begin{enumerate*}\n",
       "\\item 'SalePrice'\n",
       "\\item 'OverallQual'\n",
       "\\item 'GrLivArea'\n",
       "\\item 'YearBuilt'\n",
       "\\item 'GarageCars'\n",
       "\\item 'TotalBsmtSF'\n",
       "\\item 'X1stFlrSF'\n",
       "\\item 'GarageArea'\n",
       "\\item 'YearRemodAdd'\n",
       "\\item 'GarageYrBlt'\n",
       "\\item 'X2ndFlrSF'\n",
       "\\item 'LotArea'\n",
       "\\item 'Fireplaces'\n",
       "\\item 'MSSubClass'\n",
       "\\item 'FullBath'\n",
       "\\item 'BsmtFinSF1'\n",
       "\\end{enumerate*}\n"
      ],
      "text/markdown": [
       "1. 'SalePrice'\n",
       "2. 'OverallQual'\n",
       "3. 'GrLivArea'\n",
       "4. 'YearBuilt'\n",
       "5. 'GarageCars'\n",
       "6. 'TotalBsmtSF'\n",
       "7. 'X1stFlrSF'\n",
       "8. 'GarageArea'\n",
       "9. 'YearRemodAdd'\n",
       "10. 'GarageYrBlt'\n",
       "11. 'X2ndFlrSF'\n",
       "12. 'LotArea'\n",
       "13. 'Fireplaces'\n",
       "14. 'MSSubClass'\n",
       "15. 'FullBath'\n",
       "16. 'BsmtFinSF1'\n",
       "\n",
       "\n"
      ],
      "text/plain": [
       " [1] \"SalePrice\"    \"OverallQual\"  \"GrLivArea\"    \"YearBuilt\"    \"GarageCars\"  \n",
       " [6] \"TotalBsmtSF\"  \"X1stFlrSF\"    \"GarageArea\"   \"YearRemodAdd\" \"GarageYrBlt\" \n",
       "[11] \"X2ndFlrSF\"    \"LotArea\"      \"Fireplaces\"   \"MSSubClass\"   \"FullBath\"    \n",
       "[16] \"BsmtFinSF1\"  "
      ]
     },
     "metadata": {},
     "output_type": "display_data"
    },
    {
     "data": {
      "text/plain": [
       "\n",
       "Recursive feature selection\n",
       "\n",
       "Outer resampling method: Cross-Validated (10 fold) \n",
       "\n",
       "Resampling performance over subset size:\n",
       "\n",
       " Variables  RMSE Rsquared  MAE RMSESD RsquaredSD  MAESD Selected\n",
       "         4 15140   0.9688 8375   4061   0.010989 1347.4         \n",
       "         8 13146   0.9750 6579   4035   0.014445  936.1         \n",
       "        16 10100   0.9853 4791   3584   0.009545  961.6        *\n",
       "        37 10527   0.9842 4573   4393   0.010371  993.3         \n",
       "\n",
       "The top 5 variables (out of 16):\n",
       "   SalePrice, OverallQual, GrLivArea, YearBuilt, GarageCars\n"
      ]
     },
     "metadata": {},
     "output_type": "display_data"
    }
   ],
   "source": [
    "# predictors(results)\n",
    "# results"
   ]
  },
  {
   "cell_type": "markdown",
   "metadata": {},
   "source": [
    "#### Correlation matrix - Continuous variables"
   ]
  },
  {
   "cell_type": "code",
   "execution_count": 957,
   "metadata": {},
   "outputs": [
    {
     "data": {
      "image/png": "[encoded data removed]",
      "text/plain": [
       "Plot with title \"\""
      ]
     },
     "metadata": {},
     "output_type": "display_data"
    }
   ],
   "source": [
    "#Select the numeric variables\n",
    "all_numVar <- train[, numericVars]\n",
    "cor_numVar <- cor(all_numVar, use=\"pairwise.complete.obs\") #correlations of all numeric variables\n",
    "\n",
    "#sort on decreasing correlations with SalePrice\n",
    "cor_sorted <- as.matrix(sort(cor_numVar[,'SalePrice'], decreasing = TRUE))\n",
    "\n",
    "#select only high corelations\n",
    "CorHigh <- names(which(apply(cor_sorted, 1, function(x) abs(x)>0.5)))\n",
    "cor_numVar <- cor_numVar[CorHigh, CorHigh]\n",
    "\n",
    "# create the correlation matrix\n",
    "corrplot.mixed(cor_numVar, tl.col=\"black\", tl.pos = \"lt\")"
   ]
  },
  {
   "cell_type": "markdown",
   "metadata": {},
   "source": [
    "#### Variables to keep"
   ]
  },
  {
   "cell_type": "code",
   "execution_count": 958,
   "metadata": {},
   "outputs": [],
   "source": [
    "# Select the preselected variables (numeric and categorical) from the train dataset\n",
    "selected_var <- c(names(cat_selected),colnames(cor_numVar))"
   ]
  },
  {
   "cell_type": "markdown",
   "metadata": {},
   "source": [
    "## 2.1. Preprocessing of data"
   ]
  },
  {
   "cell_type": "code",
   "execution_count": 959,
   "metadata": {},
   "outputs": [],
   "source": [
    "# Create the datasets that will be cleaned\n",
    "train_clean<-train[,selected_var]\n",
    "test_clean<-test[,selected_var]"
   ]
  },
  {
   "cell_type": "code",
   "execution_count": 960,
   "metadata": {},
   "outputs": [
    {
     "name": "stdout",
     "output_type": "stream",
     "text": [
      "'data.frame':\t1460 obs. of  21 variables:\n",
      " $ Neighborhood: chr  \"CollgCr\" \"Veenker\" \"CollgCr\" \"Crawfor\" ...\n",
      " $ ExterQual   : chr  \"Gd\" \"TA\" \"Gd\" \"TA\" ...\n",
      " $ KitchenQual : chr  \"Gd\" \"TA\" \"Gd\" \"Gd\" ...\n",
      " $ BsmtQual    : chr  \"Gd\" \"Gd\" \"Gd\" \"TA\" ...\n",
      " $ PoolQC      : chr  NA NA NA NA ...\n",
      " $ Alley       : chr  NA NA NA NA ...\n",
      " $ GarageFinish: chr  \"RFn\" \"RFn\" \"RFn\" \"Unf\" ...\n",
      " $ Foundation  : chr  \"PConc\" \"CBlock\" \"PConc\" \"BrkTil\" ...\n",
      " $ GarageType  : chr  \"Attchd\" \"Attchd\" \"Attchd\" \"Detchd\" ...\n",
      " $ HeatingQC   : chr  \"Ex\" \"Ex\" \"Ex\" \"Gd\" ...\n",
      " $ SalePrice   : int  208500 181500 223500 140000 250000 143000 307000 200000 129900 118000 ...\n",
      " $ OverallQual : int  7 6 7 7 8 5 8 7 7 5 ...\n",
      " $ GrLivArea   : int  1710 1262 1786 1717 2198 1362 1694 2090 1774 1077 ...\n",
      " $ GarageCars  : int  2 2 2 3 3 2 2 2 2 1 ...\n",
      " $ GarageArea  : int  548 460 608 642 836 480 636 484 468 205 ...\n",
      " $ TotalBsmtSF : int  856 1262 920 756 1145 796 1686 1107 952 991 ...\n",
      " $ X1stFlrSF   : int  856 1262 920 961 1145 796 1694 1107 1022 1077 ...\n",
      " $ FullBath    : int  2 2 2 1 2 1 2 2 2 1 ...\n",
      " $ TotRmsAbvGrd: int  8 6 6 7 9 5 7 7 8 5 ...\n",
      " $ YearBuilt   : int  2003 1976 2001 1915 2000 1993 2004 1973 1931 1939 ...\n",
      " $ YearRemodAdd: int  2003 1976 2002 1970 2000 1995 2005 1973 1950 1950 ...\n"
     ]
    }
   ],
   "source": [
    "str(train_clean)"
   ]
  },
  {
   "cell_type": "markdown",
   "metadata": {},
   "source": [
    "### Both Categorical and numerical"
   ]
  },
  {
   "cell_type": "markdown",
   "metadata": {},
   "source": [
    "#### NA"
   ]
  },
  {
   "cell_type": "code",
   "execution_count": 961,
   "metadata": {},
   "outputs": [],
   "source": [
    "# Replacing missings on the Train\n",
    "for (col in names(cat_selected)){\n",
    "  \n",
    "            train_clean[is.na(train_clean[,col]),col] <- \"None\"\n",
    "}\n",
    "for (col in colnames(cor_numVar)){\n",
    "            \n",
    "            train_clean[is.na(train_clean[,col]),col] <- 0\n",
    "}\n",
    "\n",
    "\n",
    "# Replacing missings on the test\n",
    "for (col in names(cat_selected)){\n",
    "  \n",
    "            test_clean[is.na(test_clean[,col]),col] <- \"None\"\n",
    "}\n",
    "for (col in colnames(cor_numVar)){\n",
    "            \n",
    "            test_clean[is.na(test_clean[,col]),col] <- 0\n",
    "}"
   ]
  },
  {
   "cell_type": "markdown",
   "metadata": {},
   "source": [
    "### Numeric"
   ]
  },
  {
   "cell_type": "markdown",
   "metadata": {},
   "source": [
    "#### Winzorization"
   ]
  },
  {
   "cell_type": "code",
   "execution_count": 962,
   "metadata": {},
   "outputs": [
    {
     "name": "stderr",
     "output_type": "stream",
     "text": [
      "Installing package into 'C:/Users/User/Documents/R/win-library/3.6'\n",
      "(as 'lib' is unspecified)\n",
      "Warning message:\n",
      "\"package 'robustHD' is in use and will not be installed\""
     ]
    }
   ],
   "source": [
    "install.packages(\"robustHD\")\n",
    "library(robustHD)\n",
    "\n",
    "#Winsorizing data from both train and test sets\n",
    "train_clean$GrLivArea <- winsorize(train_clean$GrLivArea,probs = c(0.0, 0.95)) \n",
    "train_clean$GarageArea <- winsorize(train_clean$GarageArea,probs = c(0.0, 0.95)) \n",
    "train_clean$TotalBsmtSF <- winsorize(train_clean$TotalBsmtSF,probs = c(0.0, 0.95)) \n",
    "train_clean$X1stFlrSF <- winsorize(train_clean$X1stFlrSF,probs = c(0.0, 0.95)) \n",
    "train_clean$YearBuilt <- winsorize(train_clean$YearBuilt,probs = c(0.0, 0.95)) \n",
    "train_clean$YearRemodAdd <- winsorize(train_clean$YearRemodAdd,probs = c(0.05, 0.95)) \n",
    "\n",
    "test_clean$GrLivArea <- winsorize(test_clean$GrLivArea,probs = c(0.0, 0.95)) \n",
    "test_clean$GarageArea <- winsorize(test_clean$GarageArea,probs = c(0.0, 0.95)) \n",
    "test_clean$TotalBsmtSF <- winsorize(test_clean$TotalBsmtSF,probs = c(0.0, 0.95)) \n",
    "test_clean$X1stFlrSF <- winsorize(test_clean$X1stFlrSF,probs = c(0.0, 0.95)) \n",
    "test_clean$YearBuilt <- winsorize(test_clean$YearBuilt,probs = c(0.0, 0.95)) \n",
    "test_clean$YearRemodAdd <- winsorize(test_clean$YearRemodAdd,probs = c(0.0, 0.95))"
   ]
  },
  {
   "cell_type": "code",
   "execution_count": 963,
   "metadata": {},
   "outputs": [],
   "source": [
    "# Introduce the maximum value to the observations that are missing\n",
    "train_clean[is.na(train_clean[,'GrLivArea']),\"GrLivArea\"] <- max(train_clean$GrLivArea)\n",
    "train_clean[is.na(train_clean[,'GarageCars']),'GarageCars'] <- max(train_clean$GarageCars)\n",
    "train_clean[is.na(train_clean[,'TotalBsmtSF']),'TotalBsmtSF'] <- max(train_clean$TotalBsmtSF)\n",
    "train_clean[is.na(train_clean[,'X1stFlrSF']),'X1stFlrSF'] <- max(train_clean$X1stFlrSF)\n",
    "train_clean[is.na(train_clean[,'YearBuilt']),'YearBuilt'] <- max(train_clean$YearBuilt)\n",
    "train_clean[is.na(train_clean[,'YearRemodAdd']),'YearRemodAdd'] <- max(train_clean$YearRemodAdd)\n",
    "\n",
    "test_clean[is.na(test_clean[,'GrLivArea']),\"GrLivArea\"] <- max(test_clean$GrLivArea)\n",
    "test_clean[is.na(test_clean[,'GarageCars']),'GarageCars'] <- max(test_clean$GarageCars)\n",
    "test_clean[is.na(test_clean[,'TotalBsmtSF']),'TotalBsmtSF'] <- max(test_clean$TotalBsmtSF)\n",
    "test_clean[is.na(test_clean[,'X1stFlrSF']),'X1stFlrSF'] <- max(test_clean$X1stFlrSF)\n",
    "test_clean[is.na(test_clean[,'YearBuilt']),'YearBuilt'] <- max(test_clean$YearBuilt)\n",
    "test_clean[is.na(test_clean[,'YearRemodAdd']),'YearRemodAdd'] <- max(test_clean$YearRemodAdd)"
   ]
  },
  {
   "cell_type": "markdown",
   "metadata": {},
   "source": [
    "### Categorical variables"
   ]
  },
  {
   "cell_type": "markdown",
   "metadata": {},
   "source": [
    "#### Dummy Encoding (not run yet)"
   ]
  },
  {
   "cell_type": "code",
   "execution_count": 964,
   "metadata": {},
   "outputs": [],
   "source": [
    "# Select the variable that we want to use for our models\n",
    "new_selected_var=c('TotalBsmtSF','GrLivArea','X1stFlrSF','KitchenQual','BsmtQual',\"PoolQC\",'FullBath','GarageArea','Neighborhood','SalePrice')\n",
    "\n",
    "# Create the datasets that will go trough the dummy encoding\n",
    "train_clean<-train_clean[,new_selected_var]\n",
    "test_clean<-test_clean[,new_selected_var]"
   ]
  },
  {
   "cell_type": "code",
   "execution_count": 965,
   "metadata": {},
   "outputs": [],
   "source": [
    "# We select the categorical variables where we want to apply the dummy encoding\n",
    "cat_selected<-c('KitchenQual','BsmtQual','PoolQC','Neighborhood')\n",
    "\n",
    "#Apply this method to the train\n",
    "dmy <- dummyVars(\" ~ .\", data =train_clean[,cat_selected])\n",
    "tmp <- data.frame(predict(dmy, newdata = train_clean[,cat_selected]))\n",
    "train_clean <- cbind(train_clean, tmp)\n",
    "train_clean <- train_clean[, !colnames(train_clean) %in% cat_selected]\n",
    "\n",
    "#Apply this method to the test\n",
    "dmy <- dummyVars(\" ~ .\", data =test_clean[,cat_selected])\n",
    "tmp <- data.frame(predict(dmy, newdata = test_clean[,cat_selected]))\n",
    "test_clean <- cbind(test_clean, tmp)\n",
    "test_clean <- test_clean[, !colnames(test_clean) %in% cat_selected]"
   ]
  },
  {
   "cell_type": "markdown",
   "metadata": {},
   "source": [
    "# 3. Model"
   ]
  },
  {
   "cell_type": "code",
   "execution_count": 966,
   "metadata": {},
   "outputs": [],
   "source": [
    "# Create the train and validation set that include the variables Sale Price\n",
    "train_idx <- cbind(train_clean, train$SalePrice)\n",
    "set.seed(1)\n",
    "train_idx <- sample(1:nrow(train_clean), 1022)\n",
    "data_train <- train_clean[train_idx, ]  # 1022\n",
    "data_test <- train_clean[-train_idx, ]  # rest"
   ]
  },
  {
   "cell_type": "code",
   "execution_count": 968,
   "metadata": {},
   "outputs": [
    {
     "name": "stdout",
     "output_type": "stream",
     "text": [
      "'data.frame':\t1022 obs. of  44 variables:\n",
      " $ TotalBsmtSF        : num  1504 1687 660 964 1488 ...\n",
      " $ GrLivArea          : num  1504 2046 1348 2236 1502 ...\n",
      " $ X1stFlrSF          : num  1504 1782 660 993 1502 ...\n",
      " $ FullBath           : int  2 2 1 2 1 1 1 2 2 1 ...\n",
      " $ GarageArea         : num  478 834 453 642 528 539 504 462 825 216 ...\n",
      " $ SalePrice          : int  203000 372500 155000 222000 212000 175000 148000 189000 227000 114504 ...\n",
      " $ KitchenQualEx      : num  0 0 0 0 0 0 0 0 0 0 ...\n",
      " $ KitchenQualFa      : num  0 0 0 0 0 0 0 0 0 0 ...\n",
      " $ KitchenQualGd      : num  1 1 0 1 1 0 0 1 1 0 ...\n",
      " $ KitchenQualTA      : num  0 0 1 0 0 1 1 0 0 1 ...\n",
      " $ BsmtQualEx         : num  0 1 0 0 0 0 0 0 0 0 ...\n",
      " $ BsmtQualFa         : num  0 0 0 0 0 0 0 0 0 0 ...\n",
      " $ BsmtQualGd         : num  1 0 0 1 1 0 0 1 1 0 ...\n",
      " $ BsmtQualNone       : num  0 0 0 0 0 0 0 0 0 0 ...\n",
      " $ BsmtQualTA         : num  0 0 1 0 0 1 1 0 0 1 ...\n",
      " $ PoolQCEx           : num  0 0 0 0 0 0 0 0 0 0 ...\n",
      " $ PoolQCFa           : num  0 0 0 0 0 0 0 0 0 0 ...\n",
      " $ PoolQCGd           : num  0 0 0 0 0 0 0 0 0 0 ...\n",
      " $ PoolQCNone         : num  1 1 1 1 1 1 1 1 1 1 ...\n",
      " $ NeighborhoodBlmngtn: num  0 0 0 0 0 0 0 0 0 0 ...\n",
      " $ NeighborhoodBlueste: num  0 0 0 0 0 0 0 0 0 0 ...\n",
      " $ NeighborhoodBrDale : num  0 0 0 0 0 0 0 0 0 0 ...\n",
      " $ NeighborhoodBrkSide: num  0 0 0 0 0 0 0 0 0 0 ...\n",
      " $ NeighborhoodClearCr: num  0 0 0 0 0 0 0 0 0 0 ...\n",
      " $ NeighborhoodCollgCr: num  1 0 0 0 0 0 0 0 0 0 ...\n",
      " $ NeighborhoodCrawfor: num  0 0 0 0 0 0 0 0 0 0 ...\n",
      " $ NeighborhoodEdwards: num  0 0 0 0 0 0 1 0 0 0 ...\n",
      " $ NeighborhoodGilbert: num  0 0 0 1 0 0 0 0 0 0 ...\n",
      " $ NeighborhoodIDOTRR : num  0 0 0 0 0 0 0 0 0 0 ...\n",
      " $ NeighborhoodMeadowV: num  0 0 0 0 0 0 0 0 0 0 ...\n",
      " $ NeighborhoodMitchel: num  0 0 0 0 0 0 0 0 0 0 ...\n",
      " $ NeighborhoodNAmes  : num  0 0 1 0 0 0 0 0 0 0 ...\n",
      " $ NeighborhoodNoRidge: num  0 0 0 0 0 0 0 0 0 0 ...\n",
      " $ NeighborhoodNPkVill: num  0 0 0 0 0 0 0 0 0 0 ...\n",
      " $ NeighborhoodNridgHt: num  0 0 0 0 0 0 0 0 0 0 ...\n",
      " $ NeighborhoodNWAmes : num  0 0 0 0 0 1 0 0 0 0 ...\n",
      " $ NeighborhoodOldTown: num  0 0 0 0 0 0 0 0 0 1 ...\n",
      " $ NeighborhoodSawyer : num  0 0 0 0 0 0 0 0 0 0 ...\n",
      " $ NeighborhoodSawyerW: num  0 0 0 0 0 0 0 1 0 0 ...\n",
      " $ NeighborhoodSomerst: num  0 0 0 0 0 0 0 0 1 0 ...\n",
      " $ NeighborhoodStoneBr: num  0 1 0 0 1 0 0 0 0 0 ...\n",
      " $ NeighborhoodSWISU  : num  0 0 0 0 0 0 0 0 0 0 ...\n",
      " $ NeighborhoodTimber : num  0 0 0 0 0 0 0 0 0 0 ...\n",
      " $ NeighborhoodVeenker: num  0 0 0 0 0 0 0 0 0 0 ...\n"
     ]
    }
   ],
   "source": [
    "str(data_train)"
   ]
  },
  {
   "cell_type": "markdown",
   "metadata": {},
   "source": [
    "## 3.2. Models"
   ]
  },
  {
   "cell_type": "markdown",
   "metadata": {},
   "source": [
    "### Linear Regression"
   ]
  },
  {
   "cell_type": "code",
   "execution_count": 939,
   "metadata": {},
   "outputs": [
    {
     "name": "stderr",
     "output_type": "stream",
     "text": [
      "Warning message in predict.lm(model_lm, data_train):\n",
      "\"prediction from a rank-deficient fit may be misleading\"Warning message in predict.lm(model_lm, data_test):\n",
      "\"prediction from a rank-deficient fit may be misleading\""
     ]
    }
   ],
   "source": [
    "#Selecting the model and generating its predictions\n",
    "model_lm <- lm(SalePrice ~ . -SalePrice, data=data_train)\n",
    "pred_lm_train <-predict(model_lm,data_train)\n",
    "pred_lm_test <-predict(model_lm,data_test)\n",
    "# pred_lm_predict <-predict(model_lm,test_clean)\n"
   ]
  },
  {
   "cell_type": "code",
   "execution_count": 940,
   "metadata": {},
   "outputs": [
    {
     "name": "stdout",
     "output_type": "stream",
     "text": [
      "[1] 0.8192053\n"
     ]
    }
   ],
   "source": [
    "Rsquared <-function(pred_test){\n",
    "    preds<-pred_test\n",
    "    actual<-data_test$SalePrice\n",
    "    rss <- sum((preds - actual) ^ 2)\n",
    "    tss <- sum((actual - mean(actual)) ^ 2)\n",
    "    rsq <- 1 - rss/tss\n",
    "    print(rsq)\n",
    "    }\n",
    "\n",
    "Rsquared(pred_lm_test)"
   ]
  },
  {
   "cell_type": "markdown",
   "metadata": {},
   "source": [
    "### Regression tree"
   ]
  },
  {
   "cell_type": "code",
   "execution_count": 666,
   "metadata": {},
   "outputs": [],
   "source": [
    "#https://www.r-bloggers.com/gradient-boosting-in-r/\n",
    "library(tree)\n",
    "md_tree <- tree(SalePrice ~ ., data=data_train)\n",
    "pred_tree_train <-predict(md_tree,newdata=data_train)\n",
    "pred_tree_test <-predict(md_tree,newdata=data_test)"
   ]
  },
  {
   "cell_type": "code",
   "execution_count": 667,
   "metadata": {},
   "outputs": [
    {
     "name": "stdout",
     "output_type": "stream",
     "text": [
      "[1] 0.7318627\n"
     ]
    }
   ],
   "source": [
    "Rsquared(pred_tree_test)"
   ]
  },
  {
   "cell_type": "markdown",
   "metadata": {},
   "source": [
    "### Gradient Boosting regression tree"
   ]
  },
  {
   "cell_type": "code",
   "execution_count": 668,
   "metadata": {},
   "outputs": [
    {
     "name": "stderr",
     "output_type": "stream",
     "text": [
      "Warning message in gbm.fit(x = x, y = y, offset = offset, distribution = distribution, :\n",
      "\"variable 20: NeighborhoodBlueste has no variation.\""
     ]
    }
   ],
   "source": [
    "#Run de model and predict\n",
    "library(gbm)\n",
    "md_gbm <- gbm(SalePrice ~ ., data=data_train,distribution = \"gaussian\", n.trees = 1000,shrinkage = 0.01, interaction.depth = 4)\n",
    "#pred_gbm_train <-predict(md_gbm,newdata=data_train,n.trees = 1000)\n",
    "pred_gbm_test <-predict(md_gbm,newdata=data_train,n.trees = 1000)"
   ]
  },
  {
   "cell_type": "code",
   "execution_count": 669,
   "metadata": {},
   "outputs": [
    {
     "name": "stderr",
     "output_type": "stream",
     "text": [
      "Warning message in preds - actual:\n",
      "\"longer object length is not a multiple of shorter object length\""
     ]
    },
    {
     "name": "stdout",
     "output_type": "stream",
     "text": [
      "[1] -3.078164\n"
     ]
    }
   ],
   "source": [
    "Rsquared(pred_gbm_test)"
   ]
  },
  {
   "cell_type": "markdown",
   "metadata": {},
   "source": [
    "### Ridge Regression"
   ]
  },
  {
   "cell_type": "code",
   "execution_count": 483,
   "metadata": {},
   "outputs": [],
   "source": [
    "#https://drsimonj.svbtle.com/ridge-regression-with-glmnet\n",
    "library(glmnet)\n",
    "\n",
    "# Getting the independent and dependent variable. And setting a range for lambda values.\n",
    "x_var <- data.matrix(select (data_train,-c(SalePrice)))\n",
    "y_var <- data_train[, \"SalePrice\"]\n",
    "lambdas <- 10^seq(3, -2, by = -.1)\n",
    "\n",
    "#We run the model and predict\n",
    "cv_fit <- cv.glmnet(x_var, y_var, alpha = 0, lambda = lambdas)\n",
    "opt_lambda <- cv_fit$lambda.min\n",
    "fit <- cv_fit$glmnet.fit\n",
    "\n",
    "# prediction on test\n",
    "x_var_test <- data.matrix(select (data_test,-c(SalePrice)))\n",
    "y_var_test <- data_test[, \"SalePrice\"]\n",
    "pred_ridge_test <- predict(fit, s = opt_lambda, newx = x_var)\n"
   ]
  },
  {
   "cell_type": "code",
   "execution_count": 484,
   "metadata": {},
   "outputs": [
    {
     "name": "stderr",
     "output_type": "stream",
     "text": [
      "Warning message in preds - actual:\n",
      "\"longer object length is not a multiple of shorter object length\""
     ]
    },
    {
     "name": "stdout",
     "output_type": "stream",
     "text": [
      "[1] -3.089931\n"
     ]
    }
   ],
   "source": [
    "Rsquared(pred_ridge_test)"
   ]
  },
  {
   "cell_type": "markdown",
   "metadata": {},
   "source": [
    "### Random forest"
   ]
  },
  {
   "cell_type": "code",
   "execution_count": 969,
   "metadata": {},
   "outputs": [],
   "source": [
    "# Perform training:\n",
    "rf_classifier = randomForest(SalePrice ~ ., data=data_train, ntree=100, importance=TRUE)"
   ]
  },
  {
   "cell_type": "code",
   "execution_count": 970,
   "metadata": {},
   "outputs": [
    {
     "name": "stdout",
     "output_type": "stream",
     "text": [
      "[1] 0.8519558\n"
     ]
    }
   ],
   "source": [
    "pred_random_test = predict(rf_classifier, newdata=data_test)\n",
    "Rsquared(pred_random_test)"
   ]
  },
  {
   "cell_type": "markdown",
   "metadata": {},
   "source": [
    "### SVM"
   ]
  },
  {
   "cell_type": "code",
   "execution_count": 487,
   "metadata": {},
   "outputs": [
    {
     "name": "stderr",
     "output_type": "stream",
     "text": [
      "Warning message in svm.default(x, y, scale = scale, ..., na.action = na.action):\n",
      "\"Variable(s) 'NeighborhoodBlueste' constant. Cannot scale data.\""
     ]
    }
   ],
   "source": [
    "# library(e1071)\n",
    "# #SVM\n",
    "# classifier = svm(formula = SalePrice ~ ., \n",
    "#                  data = data_train, \n",
    "#                  type = 'C-classification', \n",
    "#                  kernel = 'linear')"
   ]
  },
  {
   "cell_type": "code",
   "execution_count": 488,
   "metadata": {},
   "outputs": [
    {
     "name": "stdout",
     "output_type": "stream",
     "text": [
      "[1] -4.958325\n"
     ]
    }
   ],
   "source": [
    "# pred_SVM_test = predict(classifier, newdata = data_test) \n",
    "# Rsquared(as.numeric(pred_SVM_test))"
   ]
  },
  {
   "cell_type": "markdown",
   "metadata": {},
   "source": [
    "### Lasso"
   ]
  },
  {
   "cell_type": "code",
   "execution_count": 672,
   "metadata": {},
   "outputs": [
    {
     "name": "stderr",
     "output_type": "stream",
     "text": [
      "Warning message:\n",
      "\"`repeats` has no meaning for this resampling method.\""
     ]
    },
    {
     "name": "stdout",
     "output_type": "stream",
     "text": [
      "+ Fold01.Rep1: alpha=1, lambda=1 \n",
      "- Fold01.Rep1: alpha=1, lambda=1 \n",
      "+ Fold02.Rep1: alpha=1, lambda=1 \n",
      "- Fold02.Rep1: alpha=1, lambda=1 \n",
      "+ Fold03.Rep1: alpha=1, lambda=1 \n",
      "- Fold03.Rep1: alpha=1, lambda=1 \n",
      "+ Fold04.Rep1: alpha=1, lambda=1 \n",
      "- Fold04.Rep1: alpha=1, lambda=1 \n",
      "+ Fold05.Rep1: alpha=1, lambda=1 \n",
      "- Fold05.Rep1: alpha=1, lambda=1 \n",
      "+ Fold06.Rep1: alpha=1, lambda=1 \n",
      "- Fold06.Rep1: alpha=1, lambda=1 \n",
      "+ Fold07.Rep1: alpha=1, lambda=1 \n",
      "- Fold07.Rep1: alpha=1, lambda=1 \n",
      "+ Fold08.Rep1: alpha=1, lambda=1 \n",
      "- Fold08.Rep1: alpha=1, lambda=1 \n",
      "+ Fold09.Rep1: alpha=1, lambda=1 \n",
      "- Fold09.Rep1: alpha=1, lambda=1 \n",
      "+ Fold10.Rep1: alpha=1, lambda=1 \n",
      "- Fold10.Rep1: alpha=1, lambda=1 \n",
      "+ Fold11.Rep1: alpha=1, lambda=1 \n",
      "- Fold11.Rep1: alpha=1, lambda=1 \n",
      "+ Fold12.Rep1: alpha=1, lambda=1 \n",
      "- Fold12.Rep1: alpha=1, lambda=1 \n",
      "+ Fold13.Rep1: alpha=1, lambda=1 \n",
      "- Fold13.Rep1: alpha=1, lambda=1 \n",
      "+ Fold14.Rep1: alpha=1, lambda=1 \n",
      "- Fold14.Rep1: alpha=1, lambda=1 \n",
      "+ Fold15.Rep1: alpha=1, lambda=1 \n",
      "- Fold15.Rep1: alpha=1, lambda=1 \n",
      "+ Fold01.Rep2: alpha=1, lambda=1 \n",
      "- Fold01.Rep2: alpha=1, lambda=1 \n",
      "+ Fold02.Rep2: alpha=1, lambda=1 \n",
      "- Fold02.Rep2: alpha=1, lambda=1 \n",
      "+ Fold03.Rep2: alpha=1, lambda=1 \n",
      "- Fold03.Rep2: alpha=1, lambda=1 \n",
      "+ Fold04.Rep2: alpha=1, lambda=1 \n",
      "- Fold04.Rep2: alpha=1, lambda=1 \n",
      "+ Fold05.Rep2: alpha=1, lambda=1 \n",
      "- Fold05.Rep2: alpha=1, lambda=1 \n",
      "+ Fold06.Rep2: alpha=1, lambda=1 \n",
      "- Fold06.Rep2: alpha=1, lambda=1 \n",
      "+ Fold07.Rep2: alpha=1, lambda=1 \n",
      "- Fold07.Rep2: alpha=1, lambda=1 \n",
      "+ Fold08.Rep2: alpha=1, lambda=1 \n",
      "- Fold08.Rep2: alpha=1, lambda=1 \n",
      "+ Fold09.Rep2: alpha=1, lambda=1 \n",
      "- Fold09.Rep2: alpha=1, lambda=1 \n",
      "+ Fold10.Rep2: alpha=1, lambda=1 \n",
      "- Fold10.Rep2: alpha=1, lambda=1 \n",
      "+ Fold11.Rep2: alpha=1, lambda=1 \n",
      "- Fold11.Rep2: alpha=1, lambda=1 \n",
      "+ Fold12.Rep2: alpha=1, lambda=1 \n",
      "- Fold12.Rep2: alpha=1, lambda=1 \n",
      "+ Fold13.Rep2: alpha=1, lambda=1 \n",
      "- Fold13.Rep2: alpha=1, lambda=1 \n",
      "+ Fold14.Rep2: alpha=1, lambda=1 \n",
      "- Fold14.Rep2: alpha=1, lambda=1 \n",
      "+ Fold15.Rep2: alpha=1, lambda=1 \n",
      "- Fold15.Rep2: alpha=1, lambda=1 \n",
      "+ Fold01.Rep3: alpha=1, lambda=1 \n",
      "- Fold01.Rep3: alpha=1, lambda=1 \n",
      "+ Fold02.Rep3: alpha=1, lambda=1 \n",
      "- Fold02.Rep3: alpha=1, lambda=1 \n",
      "+ Fold03.Rep3: alpha=1, lambda=1 \n",
      "- Fold03.Rep3: alpha=1, lambda=1 \n",
      "+ Fold04.Rep3: alpha=1, lambda=1 \n",
      "- Fold04.Rep3: alpha=1, lambda=1 \n",
      "+ Fold05.Rep3: alpha=1, lambda=1 \n",
      "- Fold05.Rep3: alpha=1, lambda=1 \n",
      "+ Fold06.Rep3: alpha=1, lambda=1 \n",
      "- Fold06.Rep3: alpha=1, lambda=1 \n",
      "+ Fold07.Rep3: alpha=1, lambda=1 \n",
      "- Fold07.Rep3: alpha=1, lambda=1 \n",
      "+ Fold08.Rep3: alpha=1, lambda=1 \n",
      "- Fold08.Rep3: alpha=1, lambda=1 \n",
      "+ Fold09.Rep3: alpha=1, lambda=1 \n",
      "- Fold09.Rep3: alpha=1, lambda=1 \n",
      "+ Fold10.Rep3: alpha=1, lambda=1 \n",
      "- Fold10.Rep3: alpha=1, lambda=1 \n",
      "+ Fold11.Rep3: alpha=1, lambda=1 \n",
      "- Fold11.Rep3: alpha=1, lambda=1 \n",
      "+ Fold12.Rep3: alpha=1, lambda=1 \n",
      "- Fold12.Rep3: alpha=1, lambda=1 \n",
      "+ Fold13.Rep3: alpha=1, lambda=1 \n",
      "- Fold13.Rep3: alpha=1, lambda=1 \n",
      "+ Fold14.Rep3: alpha=1, lambda=1 \n",
      "- Fold14.Rep3: alpha=1, lambda=1 \n",
      "+ Fold15.Rep3: alpha=1, lambda=1 \n",
      "- Fold15.Rep3: alpha=1, lambda=1 \n",
      "+ Fold01.Rep4: alpha=1, lambda=1 \n",
      "- Fold01.Rep4: alpha=1, lambda=1 \n",
      "+ Fold02.Rep4: alpha=1, lambda=1 \n",
      "- Fold02.Rep4: alpha=1, lambda=1 \n",
      "+ Fold03.Rep4: alpha=1, lambda=1 \n",
      "- Fold03.Rep4: alpha=1, lambda=1 \n",
      "+ Fold04.Rep4: alpha=1, lambda=1 \n",
      "- Fold04.Rep4: alpha=1, lambda=1 \n",
      "+ Fold05.Rep4: alpha=1, lambda=1 \n",
      "- Fold05.Rep4: alpha=1, lambda=1 \n",
      "+ Fold06.Rep4: alpha=1, lambda=1 \n",
      "- Fold06.Rep4: alpha=1, lambda=1 \n",
      "+ Fold07.Rep4: alpha=1, lambda=1 \n",
      "- Fold07.Rep4: alpha=1, lambda=1 \n",
      "+ Fold08.Rep4: alpha=1, lambda=1 \n",
      "- Fold08.Rep4: alpha=1, lambda=1 \n",
      "+ Fold09.Rep4: alpha=1, lambda=1 \n",
      "- Fold09.Rep4: alpha=1, lambda=1 \n",
      "+ Fold10.Rep4: alpha=1, lambda=1 \n",
      "- Fold10.Rep4: alpha=1, lambda=1 \n",
      "+ Fold11.Rep4: alpha=1, lambda=1 \n",
      "- Fold11.Rep4: alpha=1, lambda=1 \n",
      "+ Fold12.Rep4: alpha=1, lambda=1 \n",
      "- Fold12.Rep4: alpha=1, lambda=1 \n",
      "+ Fold13.Rep4: alpha=1, lambda=1 \n",
      "- Fold13.Rep4: alpha=1, lambda=1 \n",
      "+ Fold14.Rep4: alpha=1, lambda=1 \n",
      "- Fold14.Rep4: alpha=1, lambda=1 \n",
      "+ Fold15.Rep4: alpha=1, lambda=1 \n",
      "- Fold15.Rep4: alpha=1, lambda=1 \n",
      "+ Fold01.Rep5: alpha=1, lambda=1 \n",
      "- Fold01.Rep5: alpha=1, lambda=1 \n",
      "+ Fold02.Rep5: alpha=1, lambda=1 \n",
      "- Fold02.Rep5: alpha=1, lambda=1 \n",
      "+ Fold03.Rep5: alpha=1, lambda=1 \n",
      "- Fold03.Rep5: alpha=1, lambda=1 \n",
      "+ Fold04.Rep5: alpha=1, lambda=1 \n",
      "- Fold04.Rep5: alpha=1, lambda=1 \n",
      "+ Fold05.Rep5: alpha=1, lambda=1 \n",
      "- Fold05.Rep5: alpha=1, lambda=1 \n",
      "+ Fold06.Rep5: alpha=1, lambda=1 \n",
      "- Fold06.Rep5: alpha=1, lambda=1 \n",
      "+ Fold07.Rep5: alpha=1, lambda=1 \n",
      "- Fold07.Rep5: alpha=1, lambda=1 \n",
      "+ Fold08.Rep5: alpha=1, lambda=1 \n",
      "- Fold08.Rep5: alpha=1, lambda=1 \n",
      "+ Fold09.Rep5: alpha=1, lambda=1 \n",
      "- Fold09.Rep5: alpha=1, lambda=1 \n",
      "+ Fold10.Rep5: alpha=1, lambda=1 \n",
      "- Fold10.Rep5: alpha=1, lambda=1 \n",
      "+ Fold11.Rep5: alpha=1, lambda=1 \n",
      "- Fold11.Rep5: alpha=1, lambda=1 \n",
      "+ Fold12.Rep5: alpha=1, lambda=1 \n",
      "- Fold12.Rep5: alpha=1, lambda=1 \n",
      "+ Fold13.Rep5: alpha=1, lambda=1 \n",
      "- Fold13.Rep5: alpha=1, lambda=1 \n",
      "+ Fold14.Rep5: alpha=1, lambda=1 \n",
      "- Fold14.Rep5: alpha=1, lambda=1 \n",
      "+ Fold15.Rep5: alpha=1, lambda=1 \n",
      "- Fold15.Rep5: alpha=1, lambda=1 \n",
      "Aggregating results\n",
      "Selecting tuning parameters\n",
      "Fitting alpha = 1, lambda = 1 on full training set\n"
     ]
    }
   ],
   "source": [
    "# We can set custom controls using the caret package \n",
    "# the method is trainControl ##\n",
    "custom <- trainControl(method = \"repeatedCV\",\n",
    "                       number = 15,\n",
    "                       repeats = 5,\n",
    "                       verboseIter = T)\n",
    "\n",
    "### Lasso Regression ###\n",
    "lasso <- train(SalePrice ~ .,\n",
    "               data_train,\n",
    "               method = 'glmnet',\n",
    "               tuneGrid= expand.grid(alpha = 1,\n",
    "                                     lambda = seq(0.0001, 1, length = 5)),\n",
    "               trControl = custom)"
   ]
  },
  {
   "cell_type": "code",
   "execution_count": 673,
   "metadata": {},
   "outputs": [
    {
     "name": "stdout",
     "output_type": "stream",
     "text": [
      "[1] 0.8216569\n"
     ]
    }
   ],
   "source": [
    "# run on test\n",
    "pred_lasso_test <- predict(lasso, new = data_test)\n",
    "\n",
    "Rsquared(pred_lasso_test)\n",
    "# pred_lasso_test <- as.data.frame(test_lasso)"
   ]
  },
  {
   "cell_type": "markdown",
   "metadata": {},
   "source": [
    "### GAM"
   ]
  },
  {
   "cell_type": "code",
   "execution_count": 942,
   "metadata": {},
   "outputs": [],
   "source": [
    "# library(mgcv)\n",
    "# gam_mod <- gam(SalePrice ~ s(OverallQual), data = data_train)"
   ]
  },
  {
   "cell_type": "code",
   "execution_count": 941,
   "metadata": {},
   "outputs": [],
   "source": [
    "# pred_gam_test <- predict.gam(gam_mod,data_test)"
   ]
  },
  {
   "cell_type": "code",
   "execution_count": 493,
   "metadata": {},
   "outputs": [
    {
     "name": "stdout",
     "output_type": "stream",
     "text": [
      "[1] 0.7219587\n"
     ]
    }
   ],
   "source": [
    "# Rsquared(pred_gam_test)"
   ]
  },
  {
   "cell_type": "markdown",
   "metadata": {},
   "source": [
    "# Visualization & Business sense"
   ]
  },
  {
   "cell_type": "code",
   "execution_count": 980,
   "metadata": {},
   "outputs": [],
   "source": [
    "# Complete the categories\n",
    "test_clean$PoolQCFa<-0\n",
    "\n",
    "# Predict our values\n",
    "pred_random_test = predict(rf_classifier, newdata=test_clean)"
   ]
  },
  {
   "cell_type": "code",
   "execution_count": 981,
   "metadata": {},
   "outputs": [],
   "source": [
    "# Take some variables from the test in order to plot them\n",
    "test_clean$pred_random_test<-pred_random_test\n",
    "test_clean$KitchenQual<-test$KitchenQual\n",
    "test_clean$BsmtQual<-test$BsmtQual\n",
    "test_clean$PoolQC <-test$PoolQC \n",
    "test_clean$Neighborhood <-test$Neighborhood "
   ]
  },
  {
   "cell_type": "code",
   "execution_count": 982,
   "metadata": {},
   "outputs": [],
   "source": [
    "# Create the random values for the market prices\n",
    "set.seed(123)\n",
    "test_clean$MarketPrice<-runif(1459, min=65249, max=558845)"
   ]
  },
  {
   "cell_type": "code",
   "execution_count": 983,
   "metadata": {},
   "outputs": [],
   "source": [
    "# Create the differences between our predicted values and market prices\n",
    "test_clean$difference<-test_clean$pred_random_test-test_clean$MarketPrice"
   ]
  },
  {
   "cell_type": "code",
   "execution_count": 984,
   "metadata": {},
   "outputs": [],
   "source": [
    "# Identify the undervalued properties\n",
    "test_clean$undervalued<-test_clean$difference>0"
   ]
  },
  {
   "cell_type": "code",
   "execution_count": null,
   "metadata": {},
   "outputs": [],
   "source": []
  },
  {
   "cell_type": "code",
   "execution_count": 985,
   "metadata": {},
   "outputs": [
    {
     "data": {
      "image/png": "[encoded data removed]",
      "text/plain": [
       "plot without title"
      ]
     },
     "metadata": {},
     "output_type": "display_data"
    },
    {
     "data": {
      "image/png": "[encoded data removed]",
      "text/plain": [
       "Plot with title \"Histogram of test_clean$GrLivArea\""
      ]
     },
     "metadata": {},
     "output_type": "display_data"
    }
   ],
   "source": [
    "# Important numerical variable\n",
    "plot(test_clean$GrLivArea,test_clean$pred_random_test,\n",
    "   xlab=\"Predicted price\", ylab=\"Ground Living Area (Squared foot)\", pch=19)\n",
    "lines(lowess(test_clean$GrLivArea,test_clean$pred_random_test), col=\"blue\") # lowess line (x,y)\n",
    "hist(test_clean$GrLivArea,xlab=\"Ground Living Area (Squared foot)\")"
   ]
  },
  {
   "cell_type": "code",
   "execution_count": 986,
   "metadata": {},
   "outputs": [
    {
     "data": {
      "image/png": "[encoded data removed]",
      "text/plain": [
       "plot without title"
      ]
     },
     "metadata": {},
     "output_type": "display_data"
    },
    {
     "data": {
      "image/png": "[encoded data removed]",
      "text/plain": [
       "Plot with title \"Histogram of test_clean$GarageArea\""
      ]
     },
     "metadata": {},
     "output_type": "display_data"
    }
   ],
   "source": [
    "# Other important numerical variable\n",
    "plot(test_clean$GarageArea,test_clean$pred_random_test,\n",
    "   xlab=\"Predicted price\", ylab=\"Garage Area (Squared foot)\", pch=19)\n",
    "lines(lowess(test_clean$GarageArea,test_clean$pred_random_test), col=\"blue\") # lowess line (x,y)\n",
    "hist(test_clean$GarageArea,xlab=\"Garage Area (Squared foot)\")"
   ]
  },
  {
   "cell_type": "code",
   "execution_count": 987,
   "metadata": {},
   "outputs": [
    {
     "data": {
      "image/png": "[encoded data removed]",
      "text/plain": [
       "plot without title"
      ]
     },
     "metadata": {},
     "output_type": "display_data"
    },
    {
     "data": {
      "image/png": "[encoded data removed]",
      "text/plain": [
       "plot without title"
      ]
     },
     "metadata": {},
     "output_type": "display_data"
    }
   ],
   "source": [
    "# hist(test_clean$KitchenQual)\n",
    "# plot(test_clean$pred_random_test, test_clean$KitchenQual.category, xlab = \"Kitchen quality\", ylab = \"Prediction of price\")\n",
    "\n",
    "boxplot(test_clean$pred_random_test~test_clean$KitchenQual,\n",
    "   xlab=\"Kitchen quality\", ylab=\"Prediction of price\",scientific=FALSE)\n",
    "barplot(table(test_clean$KitchenQual),xlab=\"Kitchen quality\",ylab=\"Frequency\")"
   ]
  },
  {
   "cell_type": "code",
   "execution_count": 988,
   "metadata": {},
   "outputs": [
    {
     "data": {
      "image/png": "[encoded data removed]",
      "text/plain": [
       "plot without title"
      ]
     },
     "metadata": {},
     "output_type": "display_data"
    },
    {
     "data": {
      "image/png": "[encoded data removed]",
      "text/plain": [
       "plot without title"
      ]
     },
     "metadata": {},
     "output_type": "display_data"
    }
   ],
   "source": [
    "boxplot(test_clean$pred_random_test~test_clean$BsmtQual,\n",
    "   xlab=\"Basement quality\", ylab=\"Prediction of price\",scientific=FALSE)\n",
    "barplot(table(test_clean$BsmtQual),xlab=\"Basement quality\",ylab=\"Frequency\")"
   ]
  },
  {
   "cell_type": "code",
   "execution_count": 823,
   "metadata": {},
   "outputs": [],
   "source": [
    "# Create dataframe with undervalued properties \n",
    "undervalued_properties<-test_clean[test_clean$undervalued==TRUE,]"
   ]
  },
  {
   "cell_type": "code",
   "execution_count": 992,
   "metadata": {},
   "outputs": [
    {
     "data": {
      "text/html": [
       "<table>\n",
       "<thead><tr><th></th><th scope=col>TotalBsmtSF</th><th scope=col>GrLivArea</th><th scope=col>FullBath</th><th scope=col>GarageArea</th><th scope=col>X1stFlrSF</th><th scope=col>KitchenQual</th><th scope=col>BsmtQual</th><th scope=col>PoolQC</th><th scope=col>Neighborhood</th><th scope=col>pred_random_test</th><th scope=col>difference</th><th scope=col>MarketPrice</th></tr></thead>\n",
       "<tbody>\n",
       "\t<tr><th scope=row>6</th><td> 763.000   </td><td>1655.000   </td><td>2          </td><td>440.000    </td><td> 763.000   </td><td>TA         </td><td>Gd         </td><td>NA         </td><td>Gilbert    </td><td>180508.3   </td><td> 92772.8412</td><td> 87735.51  </td></tr>\n",
       "\t<tr><th scope=row>15</th><td> 836.000   </td><td> 836.000   </td><td>1          </td><td>308.000    </td><td> 836.000   </td><td>TA         </td><td>Gd         </td><td>NA         </td><td>NPkVill    </td><td>122281.3   </td><td>  6229.1179</td><td>116052.21  </td></tr>\n",
       "\t<tr><th scope=row>17</th><td>1544.000   </td><td>1544.000   </td><td>2          </td><td>865.476    </td><td>1544.000   </td><td>Gd         </td><td>Gd         </td><td>NA         </td><td>NridgHt    </td><td>233926.0   </td><td> 47209.0584</td><td>186716.92  </td></tr>\n",
       "\t<tr><th scope=row>18</th><td>1698.000   </td><td>1698.000   </td><td>2          </td><td>730.000    </td><td>1698.000   </td><td>Ex         </td><td>Ex         </td><td>NA         </td><td>NridgHt    </td><td>310266.5   </td><td>224257.1276</td><td> 86009.42  </td></tr>\n",
       "\t<tr><th scope=row>19</th><td>1711.509   </td><td>1822.000   </td><td>2          </td><td>678.000    </td><td>1775.822   </td><td>Ex         </td><td>Ex         </td><td>NA         </td><td>NridgHt    </td><td>348142.2   </td><td>121032.8097</td><td>227109.36  </td></tr>\n",
       "\t<tr><th scope=row>27</th><td>1629.000   </td><td>2318.595   </td><td>2          </td><td>865.476    </td><td>1645.000   </td><td>Gd         </td><td>Ex         </td><td>NA         </td><td>NoRidge    </td><td>365078.5   </td><td> 31280.7045</td><td>333797.81  </td></tr>\n",
       "\t<tr><th scope=row>30</th><td>1468.000   </td><td>1468.000   </td><td>2          </td><td>528.000    </td><td>1468.000   </td><td>Gd         </td><td>Ex         </td><td>NA         </td><td>Somerst    </td><td>224694.1   </td><td> 86830.3852</td><td>137863.71  </td></tr>\n",
       "\t<tr><th scope=row>35</th><td>1390.000   </td><td>2225.000   </td><td>2          </td><td>713.000    </td><td>1402.000   </td><td>Gd         </td><td>Gd         </td><td>NA         </td><td>NoRidge    </td><td>286297.8   </td><td>208899.5448</td><td> 77398.22  </td></tr>\n",
       "\t<tr><th scope=row>41</th><td> 756.000   </td><td>1512.000   </td><td>2          </td><td>440.000    </td><td> 756.000   </td><td>Gd         </td><td>Gd         </td><td>NA         </td><td>Somerst    </td><td>172488.1   </td><td> 36753.5567</td><td>135734.52  </td></tr>\n",
       "\t<tr><th scope=row>45</th><td>1492.000   </td><td>1492.000   </td><td>2          </td><td>596.000    </td><td>1492.000   </td><td>Gd         </td><td>Gd         </td><td>NA         </td><td>Somerst    </td><td>228317.1   </td><td> 87822.0048</td><td>140495.12  </td></tr>\n",
       "\t<tr><th scope=row>46</th><td>1711.509   </td><td>1829.000   </td><td>2          </td><td>535.000    </td><td>1775.822   </td><td>TA         </td><td>TA         </td><td>NA         </td><td>NWAmes     </td><td>184824.0   </td><td> 51060.8654</td><td>133763.12  </td></tr>\n",
       "\t<tr><th scope=row>47</th><td>1280.000   </td><td>2318.595   </td><td>2          </td><td>660.000    </td><td>1280.000   </td><td>Gd         </td><td>Gd         </td><td>NA         </td><td>NWAmes     </td><td>268862.0   </td><td> 88588.3402</td><td>180273.70  </td></tr>\n",
       "\t<tr><th scope=row>51</th><td>1209.000   </td><td>1209.000   </td><td>1          </td><td>504.000    </td><td>1209.000   </td><td>TA         </td><td>Gd         </td><td>NA         </td><td>NAmes      </td><td>152409.4   </td><td> 64538.3378</td><td> 87871.08  </td></tr>\n",
       "\t<tr><th scope=row>54</th><td>1711.509   </td><td>1728.000   </td><td>2          </td><td> 94.524    </td><td>1728.000   </td><td>TA         </td><td>TA         </td><td>NA         </td><td>NAmes      </td><td>146275.1   </td><td> 20857.1244</td><td>125417.99  </td></tr>\n",
       "\t<tr><th scope=row>57</th><td>1080.000   </td><td>1128.000   </td><td>1          </td><td>315.000    </td><td>1128.000   </td><td>Gd         </td><td>TA         </td><td>NA         </td><td>NAmes      </td><td>144311.6   </td><td> 16113.5126</td><td>128198.11  </td></tr>\n",
       "\t<tr><th scope=row>62</th><td>1244.000   </td><td>1580.000   </td><td>1          </td><td>440.000    </td><td>1580.000   </td><td>TA         </td><td>TA         </td><td>NA         </td><td>NAmes      </td><td>163254.2   </td><td> 51192.2660</td><td>112061.97  </td></tr>\n",
       "\t<tr><th scope=row>74</th><td> 827.000   </td><td>1251.000   </td><td>1          </td><td>240.000    </td><td> 827.000   </td><td>Fa         </td><td>Gd         </td><td>NA         </td><td>OldTown    </td><td>115624.4   </td><td> 50067.0242</td><td> 65557.39  </td></tr>\n",
       "\t<tr><th scope=row>80</th><td> 840.000   </td><td>2256.000   </td><td>2          </td><td> 94.524    </td><td>1128.000   </td><td>Fa         </td><td>TA         </td><td>NA         </td><td>OldTown    </td><td>146414.7   </td><td> 26309.7050</td><td>120105.00  </td></tr>\n",
       "\t<tr><th scope=row>90</th><td> 928.000   </td><td>1536.000   </td><td>2          </td><td>480.000    </td><td> 928.000   </td><td>TA         </td><td>TA         </td><td>NA         </td><td>BrkSide    </td><td>156161.0   </td><td>  4506.7175</td><td>151654.29  </td></tr>\n",
       "\t<tr><th scope=row>113</th><td>1508.000   </td><td>1508.000   </td><td>1          </td><td>572.000    </td><td>1508.000   </td><td>Gd         </td><td>Gd         </td><td>NA         </td><td>Edwards    </td><td>219962.2   </td><td>124741.7757</td><td> 95220.43  </td></tr>\n",
       "\t<tr><th scope=row>116</th><td> 946.000   </td><td>1802.000   </td><td>2          </td><td>865.476    </td><td> 964.000   </td><td>Gd         </td><td>Gd         </td><td>NA         </td><td>SawyerW    </td><td>228983.9   </td><td> 93499.0071</td><td>135484.90  </td></tr>\n",
       "\t<tr><th scope=row>123</th><td>1711.509   </td><td>1978.000   </td><td>2          </td><td>850.000    </td><td>1775.822   </td><td>Gd         </td><td>Gd         </td><td>NA         </td><td>CollgCr    </td><td>298791.1   </td><td> 81652.7489</td><td>217138.37  </td></tr>\n",
       "\t<tr><th scope=row>124</th><td>1040.000   </td><td>2098.000   </td><td>2          </td><td>621.000    </td><td>1044.000   </td><td>Gd         </td><td>Gd         </td><td>NA         </td><td>CollgCr    </td><td>237325.1   </td><td> 63599.6648</td><td>173725.42  </td></tr>\n",
       "\t<tr><th scope=row>128</th><td>1196.000   </td><td>1196.000   </td><td>1          </td><td>336.000    </td><td>1196.000   </td><td>TA         </td><td>Gd         </td><td>NA         </td><td>Edwards    </td><td>136894.8   </td><td> 26706.8106</td><td>110187.95  </td></tr>\n",
       "\t<tr><th scope=row>143</th><td> 756.000   </td><td> 952.000   </td><td>1          </td><td>330.000    </td><td> 952.000   </td><td>TA         </td><td>TA         </td><td>NA         </td><td>IDOTRR     </td><td>105681.5   </td><td> 35265.9859</td><td> 70415.52  </td></tr>\n",
       "\t<tr><th scope=row>144</th><td>1594.000   </td><td>1646.000   </td><td>2          </td><td>525.000    </td><td>1646.000   </td><td>Gd         </td><td>Ex         </td><td>NA         </td><td>Crawfor    </td><td>244959.6   </td><td> 88963.2453</td><td>155996.39  </td></tr>\n",
       "\t<tr><th scope=row>147</th><td>1711.509   </td><td>2048.000   </td><td>3          </td><td>776.000    </td><td>1775.822   </td><td>TA         </td><td>TA         </td><td>NA         </td><td>Mitchel    </td><td>201697.8   </td><td> 18430.0054</td><td>183267.78  </td></tr>\n",
       "\t<tr><th scope=row>148</th><td>1336.000   </td><td>1346.000   </td><td>2          </td><td>660.000    </td><td>1346.000   </td><td>Gd         </td><td>Gd         </td><td>NA         </td><td>Timber     </td><td>197439.7   </td><td> 94336.2477</td><td>103103.45  </td></tr>\n",
       "\t<tr><th scope=row>149</th><td>1214.000   </td><td>1214.000   </td><td>2          </td><td>520.000    </td><td>1214.000   </td><td>Gd         </td><td>Gd         </td><td>NA         </td><td>Timber     </td><td>187153.3   </td><td>   616.0868</td><td>186537.22  </td></tr>\n",
       "\t<tr><th scope=row>160</th><td>1216.000   </td><td>2318.595   </td><td>4          </td><td>616.000    </td><td>1216.000   </td><td>TA         </td><td>TA         </td><td>NA         </td><td>Mitchel    </td><td>202535.7   </td><td> 29687.3943</td><td>172848.32  </td></tr>\n",
       "\t<tr><th scope=row>...</th><td>...</td><td>...</td><td>...</td><td>...</td><td>...</td><td>...</td><td>...</td><td>...</td><td>...</td><td>...</td><td>...</td><td>...</td></tr>\n",
       "\t<tr><th scope=row>1310</th><td>1045.0000  </td><td>1045       </td><td>1          </td><td>528.000    </td><td>1045.000   </td><td>TA         </td><td>TA         </td><td>NA         </td><td>NAmes      </td><td>141494.31  </td><td> 27072.3204</td><td>114421.99  </td></tr>\n",
       "\t<tr><th scope=row>1316</th><td> 780.0000  </td><td>1416       </td><td>1          </td><td>400.000    </td><td> 940.000   </td><td>Gd         </td><td>TA         </td><td>NA         </td><td>OldTown    </td><td>144500.84  </td><td> 26136.5541</td><td>118364.29  </td></tr>\n",
       "\t<tr><th scope=row>1320</th><td>1032.0000  </td><td>1032       </td><td>1          </td><td>280.000    </td><td>1032.000   </td><td>TA         </td><td>TA         </td><td>NA         </td><td>OldTown    </td><td>118248.77  </td><td> 36266.1113</td><td> 81982.66  </td></tr>\n",
       "\t<tr><th scope=row>1329</th><td>1226.0000  </td><td>2104       </td><td>2          </td><td>432.000    </td><td>1226.000   </td><td>TA         </td><td>TA         </td><td>NA         </td><td>OldTown    </td><td>159111.23  </td><td> 87813.3920</td><td> 71297.83  </td></tr>\n",
       "\t<tr><th scope=row>1351</th><td>1176.0000  </td><td>1458       </td><td>1          </td><td>512.000    </td><td>1458.000   </td><td>TA         </td><td>TA         </td><td>NA         </td><td>Sawyer     </td><td>158668.82  </td><td> 81130.1330</td><td> 77538.69  </td></tr>\n",
       "\t<tr><th scope=row>1352</th><td> 960.0000  </td><td>1040       </td><td>1          </td><td>616.000    </td><td>1040.000   </td><td>TA         </td><td>TA         </td><td>NA         </td><td>Sawyer     </td><td>138005.00  </td><td> 70366.1369</td><td> 67638.86  </td></tr>\n",
       "\t<tr><th scope=row>1353</th><td>1711.5088  </td><td>1967       </td><td>2          </td><td>580.000    </td><td>1775.822   </td><td>TA         </td><td>Gd         </td><td>NA         </td><td>Sawyer     </td><td>235176.29  </td><td>105079.5088</td><td>130096.78  </td></tr>\n",
       "\t<tr><th scope=row>1354</th><td>1711.5088  </td><td>1949       </td><td>2          </td><td>586.000    </td><td>1775.822   </td><td>TA         </td><td>TA         </td><td>NA         </td><td>Sawyer     </td><td>185924.84  </td><td>108426.2175</td><td> 77498.62  </td></tr>\n",
       "\t<tr><th scope=row>1355</th><td> 872.0000  </td><td> 872       </td><td>1          </td><td>322.000    </td><td> 872.000   </td><td>Fa         </td><td>TA         </td><td>NA         </td><td>Sawyer     </td><td>112200.04  </td><td>  1476.3110</td><td>110723.73  </td></tr>\n",
       "\t<tr><th scope=row>1362</th><td> 672.0000  </td><td>2009       </td><td>2          </td><td>795.000    </td><td>1337.000   </td><td>TA         </td><td>TA         </td><td>NA         </td><td>Edwards    </td><td>169966.83  </td><td> 26376.0164</td><td>143590.81  </td></tr>\n",
       "\t<tr><th scope=row>1369</th><td>1344.0000  </td><td>1440       </td><td>2          </td><td>865.476    </td><td>1440.000   </td><td>Gd         </td><td>Gd         </td><td>NA         </td><td>SawyerW    </td><td>214841.29  </td><td> 76156.0748</td><td>138685.21  </td></tr>\n",
       "\t<tr><th scope=row>1370</th><td>1308.0000  </td><td>1876       </td><td>2          </td><td>848.000    </td><td>1308.000   </td><td>Gd         </td><td>Gd         </td><td>NA         </td><td>CollgCr    </td><td>253132.87  </td><td> 99500.7925</td><td>153632.08  </td></tr>\n",
       "\t<tr><th scope=row>1372</th><td>1711.5088  </td><td>1846       </td><td>2          </td><td>495.000    </td><td>1775.822   </td><td>Gd         </td><td>Gd         </td><td>NA         </td><td>CollgCr    </td><td>256448.24  </td><td>100425.9779</td><td>156022.26  </td></tr>\n",
       "\t<tr><th scope=row>1373</th><td>1570.0000  </td><td>1590       </td><td>2          </td><td>754.000    </td><td>1590.000   </td><td>Ex         </td><td>Ex         </td><td>NA         </td><td>CollgCr    </td><td>291857.95  </td><td> 26435.2788</td><td>265422.67  </td></tr>\n",
       "\t<tr><th scope=row>1379</th><td> 781.0000  </td><td>1499       </td><td>2          </td><td>473.000    </td><td> 795.000   </td><td>Gd         </td><td>Gd         </td><td>NA         </td><td>CollgCr    </td><td>177778.42  </td><td>103233.9383</td><td> 74544.48  </td></tr>\n",
       "\t<tr><th scope=row>1384</th><td> 995.0000  </td><td>1282       </td><td>2          </td><td>672.000    </td><td>1282.000   </td><td>TA         </td><td>TA         </td><td>NA         </td><td>CollgCr    </td><td>149635.46  </td><td> 46970.4732</td><td>102664.99  </td></tr>\n",
       "\t<tr><th scope=row>1386</th><td> 826.0000  </td><td>1762       </td><td>2          </td><td>591.000    </td><td> 878.000   </td><td>Gd         </td><td>Gd         </td><td>NA         </td><td>CollgCr    </td><td>213510.89  </td><td> 55356.3428</td><td>158154.55  </td></tr>\n",
       "\t<tr><th scope=row>1387</th><td> 840.0000  </td><td>1755       </td><td>2          </td><td>530.000    </td><td> 840.000   </td><td>TA         </td><td>Gd         </td><td>NA         </td><td>CollgCr    </td><td>197850.81  </td><td> 26445.7277</td><td>171405.09  </td></tr>\n",
       "\t<tr><th scope=row>1389</th><td> 872.0000  </td><td>1909       </td><td>2          </td><td>529.000    </td><td> 872.000   </td><td>Gd         </td><td>Gd         </td><td>NA         </td><td>CollgCr    </td><td>207408.80  </td><td>112130.3762</td><td> 95278.42  </td></tr>\n",
       "\t<tr><th scope=row>1390</th><td>1090.0000  </td><td>2214       </td><td>2          </td><td>646.000    </td><td>1090.000   </td><td>Gd         </td><td>Gd         </td><td>NA         </td><td>CollgCr    </td><td>252818.18  </td><td> 71623.6776</td><td>181194.50  </td></tr>\n",
       "\t<tr><th scope=row>1399</th><td> 676.0000  </td><td>1436       </td><td>2          </td><td>528.000    </td><td> 760.000   </td><td>TA         </td><td>Gd         </td><td>NA         </td><td>Edwards    </td><td>169291.95  </td><td> 77754.3034</td><td> 91537.64  </td></tr>\n",
       "\t<tr><th scope=row>1402</th><td> 796.0000  </td><td>1724       </td><td>2          </td><td>616.000    </td><td> 806.000   </td><td>Gd         </td><td>Gd         </td><td>NA         </td><td>Edwards    </td><td>194718.15  </td><td> 15619.4581</td><td>179098.69  </td></tr>\n",
       "\t<tr><th scope=row>1403</th><td> 914.0000  </td><td> 914       </td><td>1          </td><td> 94.524    </td><td> 914.000   </td><td>Gd         </td><td>Gd         </td><td>NA         </td><td>Edwards    </td><td>119090.21  </td><td> 23373.3694</td><td> 95716.84  </td></tr>\n",
       "\t<tr><th scope=row>1409</th><td>1093.0000  </td><td>1669       </td><td>1          </td><td>288.000    </td><td>1093.000   </td><td>TA         </td><td>TA         </td><td>NA         </td><td>Edwards    </td><td>138686.92  </td><td> 30903.6724</td><td>107783.25  </td></tr>\n",
       "\t<tr><th scope=row>1426</th><td>1168.0000  </td><td>2315       </td><td>2          </td><td>342.000    </td><td>1278.000   </td><td>TA         </td><td>Gd         </td><td>NA         </td><td>Crawfor    </td><td>221543.68  </td><td>107257.7270</td><td>114285.95  </td></tr>\n",
       "\t<tr><th scope=row>1435</th><td>1573.0000  </td><td>1778       </td><td>2          </td><td>495.000    </td><td>1775.822   </td><td>Ex         </td><td>Ex         </td><td>NA         </td><td>Crawfor    </td><td>316922.00  </td><td> 60688.0243</td><td>256233.98  </td></tr>\n",
       "\t<tr><th scope=row>1441</th><td>1632.0000  </td><td>1650       </td><td>1          </td><td>518.000    </td><td>1650.000   </td><td>TA         </td><td>Gd         </td><td>NA         </td><td>Timber     </td><td>204402.36  </td><td> 65715.3627</td><td>138686.99  </td></tr>\n",
       "\t<tr><th scope=row>1443</th><td>1711.5088  </td><td>1960       </td><td>2          </td><td>714.000    </td><td>1775.822   </td><td>Gd         </td><td>Ex         </td><td>NA         </td><td>Timber     </td><td>326027.75  </td><td>240064.0948</td><td> 85963.65  </td></tr>\n",
       "\t<tr><th scope=row>1444</th><td>1711.5088  </td><td>1838       </td><td>2          </td><td>682.000    </td><td>1775.822   </td><td>Ex         </td><td>Gd         </td><td>NA         </td><td>Timber     </td><td>318445.78  </td><td>  7208.7795</td><td>311237.01  </td></tr>\n",
       "\t<tr><th scope=row>1447</th><td> 264.4912  </td><td>1304       </td><td>1          </td><td>336.000    </td><td> 616.000   </td><td>TA         </td><td>Gd         </td><td>NA         </td><td>MeadowV    </td><td> 96644.17  </td><td>   252.3545</td><td> 96391.82  </td></tr>\n",
       "</tbody>\n",
       "</table>\n"
      ],
      "text/latex": [
       "\\begin{tabular}{r|llllllllllll}\n",
       "  & TotalBsmtSF & GrLivArea & FullBath & GarageArea & X1stFlrSF & KitchenQual & BsmtQual & PoolQC & Neighborhood & pred\\_random\\_test & difference & MarketPrice\\\\\n",
       "\\hline\n",
       "\t6 &  763.000    & 1655.000    & 2           & 440.000     &  763.000    & TA          & Gd          & NA          & Gilbert     & 180508.3    &  92772.8412 &  87735.51  \\\\\n",
       "\t15 &  836.000    &  836.000    & 1           & 308.000     &  836.000    & TA          & Gd          & NA          & NPkVill     & 122281.3    &   6229.1179 & 116052.21  \\\\\n",
       "\t17 & 1544.000    & 1544.000    & 2           & 865.476     & 1544.000    & Gd          & Gd          & NA          & NridgHt     & 233926.0    &  47209.0584 & 186716.92  \\\\\n",
       "\t18 & 1698.000    & 1698.000    & 2           & 730.000     & 1698.000    & Ex          & Ex          & NA          & NridgHt     & 310266.5    & 224257.1276 &  86009.42  \\\\\n",
       "\t19 & 1711.509    & 1822.000    & 2           & 678.000     & 1775.822    & Ex          & Ex          & NA          & NridgHt     & 348142.2    & 121032.8097 & 227109.36  \\\\\n",
       "\t27 & 1629.000    & 2318.595    & 2           & 865.476     & 1645.000    & Gd          & Ex          & NA          & NoRidge     & 365078.5    &  31280.7045 & 333797.81  \\\\\n",
       "\t30 & 1468.000    & 1468.000    & 2           & 528.000     & 1468.000    & Gd          & Ex          & NA          & Somerst     & 224694.1    &  86830.3852 & 137863.71  \\\\\n",
       "\t35 & 1390.000    & 2225.000    & 2           & 713.000     & 1402.000    & Gd          & Gd          & NA          & NoRidge     & 286297.8    & 208899.5448 &  77398.22  \\\\\n",
       "\t41 &  756.000    & 1512.000    & 2           & 440.000     &  756.000    & Gd          & Gd          & NA          & Somerst     & 172488.1    &  36753.5567 & 135734.52  \\\\\n",
       "\t45 & 1492.000    & 1492.000    & 2           & 596.000     & 1492.000    & Gd          & Gd          & NA          & Somerst     & 228317.1    &  87822.0048 & 140495.12  \\\\\n",
       "\t46 & 1711.509    & 1829.000    & 2           & 535.000     & 1775.822    & TA          & TA          & NA          & NWAmes      & 184824.0    &  51060.8654 & 133763.12  \\\\\n",
       "\t47 & 1280.000    & 2318.595    & 2           & 660.000     & 1280.000    & Gd          & Gd          & NA          & NWAmes      & 268862.0    &  88588.3402 & 180273.70  \\\\\n",
       "\t51 & 1209.000    & 1209.000    & 1           & 504.000     & 1209.000    & TA          & Gd          & NA          & NAmes       & 152409.4    &  64538.3378 &  87871.08  \\\\\n",
       "\t54 & 1711.509    & 1728.000    & 2           &  94.524     & 1728.000    & TA          & TA          & NA          & NAmes       & 146275.1    &  20857.1244 & 125417.99  \\\\\n",
       "\t57 & 1080.000    & 1128.000    & 1           & 315.000     & 1128.000    & Gd          & TA          & NA          & NAmes       & 144311.6    &  16113.5126 & 128198.11  \\\\\n",
       "\t62 & 1244.000    & 1580.000    & 1           & 440.000     & 1580.000    & TA          & TA          & NA          & NAmes       & 163254.2    &  51192.2660 & 112061.97  \\\\\n",
       "\t74 &  827.000    & 1251.000    & 1           & 240.000     &  827.000    & Fa          & Gd          & NA          & OldTown     & 115624.4    &  50067.0242 &  65557.39  \\\\\n",
       "\t80 &  840.000    & 2256.000    & 2           &  94.524     & 1128.000    & Fa          & TA          & NA          & OldTown     & 146414.7    &  26309.7050 & 120105.00  \\\\\n",
       "\t90 &  928.000    & 1536.000    & 2           & 480.000     &  928.000    & TA          & TA          & NA          & BrkSide     & 156161.0    &   4506.7175 & 151654.29  \\\\\n",
       "\t113 & 1508.000    & 1508.000    & 1           & 572.000     & 1508.000    & Gd          & Gd          & NA          & Edwards     & 219962.2    & 124741.7757 &  95220.43  \\\\\n",
       "\t116 &  946.000    & 1802.000    & 2           & 865.476     &  964.000    & Gd          & Gd          & NA          & SawyerW     & 228983.9    &  93499.0071 & 135484.90  \\\\\n",
       "\t123 & 1711.509    & 1978.000    & 2           & 850.000     & 1775.822    & Gd          & Gd          & NA          & CollgCr     & 298791.1    &  81652.7489 & 217138.37  \\\\\n",
       "\t124 & 1040.000    & 2098.000    & 2           & 621.000     & 1044.000    & Gd          & Gd          & NA          & CollgCr     & 237325.1    &  63599.6648 & 173725.42  \\\\\n",
       "\t128 & 1196.000    & 1196.000    & 1           & 336.000     & 1196.000    & TA          & Gd          & NA          & Edwards     & 136894.8    &  26706.8106 & 110187.95  \\\\\n",
       "\t143 &  756.000    &  952.000    & 1           & 330.000     &  952.000    & TA          & TA          & NA          & IDOTRR      & 105681.5    &  35265.9859 &  70415.52  \\\\\n",
       "\t144 & 1594.000    & 1646.000    & 2           & 525.000     & 1646.000    & Gd          & Ex          & NA          & Crawfor     & 244959.6    &  88963.2453 & 155996.39  \\\\\n",
       "\t147 & 1711.509    & 2048.000    & 3           & 776.000     & 1775.822    & TA          & TA          & NA          & Mitchel     & 201697.8    &  18430.0054 & 183267.78  \\\\\n",
       "\t148 & 1336.000    & 1346.000    & 2           & 660.000     & 1346.000    & Gd          & Gd          & NA          & Timber      & 197439.7    &  94336.2477 & 103103.45  \\\\\n",
       "\t149 & 1214.000    & 1214.000    & 2           & 520.000     & 1214.000    & Gd          & Gd          & NA          & Timber      & 187153.3    &    616.0868 & 186537.22  \\\\\n",
       "\t160 & 1216.000    & 2318.595    & 4           & 616.000     & 1216.000    & TA          & TA          & NA          & Mitchel     & 202535.7    &  29687.3943 & 172848.32  \\\\\n",
       "\t... & ... & ... & ... & ... & ... & ... & ... & ... & ... & ... & ... & ...\\\\\n",
       "\t1310 & 1045.0000   & 1045        & 1           & 528.000     & 1045.000    & TA          & TA          & NA          & NAmes       & 141494.31   &  27072.3204 & 114421.99  \\\\\n",
       "\t1316 &  780.0000   & 1416        & 1           & 400.000     &  940.000    & Gd          & TA          & NA          & OldTown     & 144500.84   &  26136.5541 & 118364.29  \\\\\n",
       "\t1320 & 1032.0000   & 1032        & 1           & 280.000     & 1032.000    & TA          & TA          & NA          & OldTown     & 118248.77   &  36266.1113 &  81982.66  \\\\\n",
       "\t1329 & 1226.0000   & 2104        & 2           & 432.000     & 1226.000    & TA          & TA          & NA          & OldTown     & 159111.23   &  87813.3920 &  71297.83  \\\\\n",
       "\t1351 & 1176.0000   & 1458        & 1           & 512.000     & 1458.000    & TA          & TA          & NA          & Sawyer      & 158668.82   &  81130.1330 &  77538.69  \\\\\n",
       "\t1352 &  960.0000   & 1040        & 1           & 616.000     & 1040.000    & TA          & TA          & NA          & Sawyer      & 138005.00   &  70366.1369 &  67638.86  \\\\\n",
       "\t1353 & 1711.5088   & 1967        & 2           & 580.000     & 1775.822    & TA          & Gd          & NA          & Sawyer      & 235176.29   & 105079.5088 & 130096.78  \\\\\n",
       "\t1354 & 1711.5088   & 1949        & 2           & 586.000     & 1775.822    & TA          & TA          & NA          & Sawyer      & 185924.84   & 108426.2175 &  77498.62  \\\\\n",
       "\t1355 &  872.0000   &  872        & 1           & 322.000     &  872.000    & Fa          & TA          & NA          & Sawyer      & 112200.04   &   1476.3110 & 110723.73  \\\\\n",
       "\t1362 &  672.0000   & 2009        & 2           & 795.000     & 1337.000    & TA          & TA          & NA          & Edwards     & 169966.83   &  26376.0164 & 143590.81  \\\\\n",
       "\t1369 & 1344.0000   & 1440        & 2           & 865.476     & 1440.000    & Gd          & Gd          & NA          & SawyerW     & 214841.29   &  76156.0748 & 138685.21  \\\\\n",
       "\t1370 & 1308.0000   & 1876        & 2           & 848.000     & 1308.000    & Gd          & Gd          & NA          & CollgCr     & 253132.87   &  99500.7925 & 153632.08  \\\\\n",
       "\t1372 & 1711.5088   & 1846        & 2           & 495.000     & 1775.822    & Gd          & Gd          & NA          & CollgCr     & 256448.24   & 100425.9779 & 156022.26  \\\\\n",
       "\t1373 & 1570.0000   & 1590        & 2           & 754.000     & 1590.000    & Ex          & Ex          & NA          & CollgCr     & 291857.95   &  26435.2788 & 265422.67  \\\\\n",
       "\t1379 &  781.0000   & 1499        & 2           & 473.000     &  795.000    & Gd          & Gd          & NA          & CollgCr     & 177778.42   & 103233.9383 &  74544.48  \\\\\n",
       "\t1384 &  995.0000   & 1282        & 2           & 672.000     & 1282.000    & TA          & TA          & NA          & CollgCr     & 149635.46   &  46970.4732 & 102664.99  \\\\\n",
       "\t1386 &  826.0000   & 1762        & 2           & 591.000     &  878.000    & Gd          & Gd          & NA          & CollgCr     & 213510.89   &  55356.3428 & 158154.55  \\\\\n",
       "\t1387 &  840.0000   & 1755        & 2           & 530.000     &  840.000    & TA          & Gd          & NA          & CollgCr     & 197850.81   &  26445.7277 & 171405.09  \\\\\n",
       "\t1389 &  872.0000   & 1909        & 2           & 529.000     &  872.000    & Gd          & Gd          & NA          & CollgCr     & 207408.80   & 112130.3762 &  95278.42  \\\\\n",
       "\t1390 & 1090.0000   & 2214        & 2           & 646.000     & 1090.000    & Gd          & Gd          & NA          & CollgCr     & 252818.18   &  71623.6776 & 181194.50  \\\\\n",
       "\t1399 &  676.0000   & 1436        & 2           & 528.000     &  760.000    & TA          & Gd          & NA          & Edwards     & 169291.95   &  77754.3034 &  91537.64  \\\\\n",
       "\t1402 &  796.0000   & 1724        & 2           & 616.000     &  806.000    & Gd          & Gd          & NA          & Edwards     & 194718.15   &  15619.4581 & 179098.69  \\\\\n",
       "\t1403 &  914.0000   &  914        & 1           &  94.524     &  914.000    & Gd          & Gd          & NA          & Edwards     & 119090.21   &  23373.3694 &  95716.84  \\\\\n",
       "\t1409 & 1093.0000   & 1669        & 1           & 288.000     & 1093.000    & TA          & TA          & NA          & Edwards     & 138686.92   &  30903.6724 & 107783.25  \\\\\n",
       "\t1426 & 1168.0000   & 2315        & 2           & 342.000     & 1278.000    & TA          & Gd          & NA          & Crawfor     & 221543.68   & 107257.7270 & 114285.95  \\\\\n",
       "\t1435 & 1573.0000   & 1778        & 2           & 495.000     & 1775.822    & Ex          & Ex          & NA          & Crawfor     & 316922.00   &  60688.0243 & 256233.98  \\\\\n",
       "\t1441 & 1632.0000   & 1650        & 1           & 518.000     & 1650.000    & TA          & Gd          & NA          & Timber      & 204402.36   &  65715.3627 & 138686.99  \\\\\n",
       "\t1443 & 1711.5088   & 1960        & 2           & 714.000     & 1775.822    & Gd          & Ex          & NA          & Timber      & 326027.75   & 240064.0948 &  85963.65  \\\\\n",
       "\t1444 & 1711.5088   & 1838        & 2           & 682.000     & 1775.822    & Ex          & Gd          & NA          & Timber      & 318445.78   &   7208.7795 & 311237.01  \\\\\n",
       "\t1447 &  264.4912   & 1304        & 1           & 336.000     &  616.000    & TA          & Gd          & NA          & MeadowV     &  96644.17   &    252.3545 &  96391.82  \\\\\n",
       "\\end{tabular}\n"
      ],
      "text/markdown": [
       "\n",
       "| <!--/--> | TotalBsmtSF | GrLivArea | FullBath | GarageArea | X1stFlrSF | KitchenQual | BsmtQual | PoolQC | Neighborhood | pred_random_test | difference | MarketPrice |\n",
       "|---|---|---|---|---|---|---|---|---|---|---|---|---|\n",
       "| 6 |  763.000    | 1655.000    | 2           | 440.000     |  763.000    | TA          | Gd          | NA          | Gilbert     | 180508.3    |  92772.8412 |  87735.51   |\n",
       "| 15 |  836.000    |  836.000    | 1           | 308.000     |  836.000    | TA          | Gd          | NA          | NPkVill     | 122281.3    |   6229.1179 | 116052.21   |\n",
       "| 17 | 1544.000    | 1544.000    | 2           | 865.476     | 1544.000    | Gd          | Gd          | NA          | NridgHt     | 233926.0    |  47209.0584 | 186716.92   |\n",
       "| 18 | 1698.000    | 1698.000    | 2           | 730.000     | 1698.000    | Ex          | Ex          | NA          | NridgHt     | 310266.5    | 224257.1276 |  86009.42   |\n",
       "| 19 | 1711.509    | 1822.000    | 2           | 678.000     | 1775.822    | Ex          | Ex          | NA          | NridgHt     | 348142.2    | 121032.8097 | 227109.36   |\n",
       "| 27 | 1629.000    | 2318.595    | 2           | 865.476     | 1645.000    | Gd          | Ex          | NA          | NoRidge     | 365078.5    |  31280.7045 | 333797.81   |\n",
       "| 30 | 1468.000    | 1468.000    | 2           | 528.000     | 1468.000    | Gd          | Ex          | NA          | Somerst     | 224694.1    |  86830.3852 | 137863.71   |\n",
       "| 35 | 1390.000    | 2225.000    | 2           | 713.000     | 1402.000    | Gd          | Gd          | NA          | NoRidge     | 286297.8    | 208899.5448 |  77398.22   |\n",
       "| 41 |  756.000    | 1512.000    | 2           | 440.000     |  756.000    | Gd          | Gd          | NA          | Somerst     | 172488.1    |  36753.5567 | 135734.52   |\n",
       "| 45 | 1492.000    | 1492.000    | 2           | 596.000     | 1492.000    | Gd          | Gd          | NA          | Somerst     | 228317.1    |  87822.0048 | 140495.12   |\n",
       "| 46 | 1711.509    | 1829.000    | 2           | 535.000     | 1775.822    | TA          | TA          | NA          | NWAmes      | 184824.0    |  51060.8654 | 133763.12   |\n",
       "| 47 | 1280.000    | 2318.595    | 2           | 660.000     | 1280.000    | Gd          | Gd          | NA          | NWAmes      | 268862.0    |  88588.3402 | 180273.70   |\n",
       "| 51 | 1209.000    | 1209.000    | 1           | 504.000     | 1209.000    | TA          | Gd          | NA          | NAmes       | 152409.4    |  64538.3378 |  87871.08   |\n",
       "| 54 | 1711.509    | 1728.000    | 2           |  94.524     | 1728.000    | TA          | TA          | NA          | NAmes       | 146275.1    |  20857.1244 | 125417.99   |\n",
       "| 57 | 1080.000    | 1128.000    | 1           | 315.000     | 1128.000    | Gd          | TA          | NA          | NAmes       | 144311.6    |  16113.5126 | 128198.11   |\n",
       "| 62 | 1244.000    | 1580.000    | 1           | 440.000     | 1580.000    | TA          | TA          | NA          | NAmes       | 163254.2    |  51192.2660 | 112061.97   |\n",
       "| 74 |  827.000    | 1251.000    | 1           | 240.000     |  827.000    | Fa          | Gd          | NA          | OldTown     | 115624.4    |  50067.0242 |  65557.39   |\n",
       "| 80 |  840.000    | 2256.000    | 2           |  94.524     | 1128.000    | Fa          | TA          | NA          | OldTown     | 146414.7    |  26309.7050 | 120105.00   |\n",
       "| 90 |  928.000    | 1536.000    | 2           | 480.000     |  928.000    | TA          | TA          | NA          | BrkSide     | 156161.0    |   4506.7175 | 151654.29   |\n",
       "| 113 | 1508.000    | 1508.000    | 1           | 572.000     | 1508.000    | Gd          | Gd          | NA          | Edwards     | 219962.2    | 124741.7757 |  95220.43   |\n",
       "| 116 |  946.000    | 1802.000    | 2           | 865.476     |  964.000    | Gd          | Gd          | NA          | SawyerW     | 228983.9    |  93499.0071 | 135484.90   |\n",
       "| 123 | 1711.509    | 1978.000    | 2           | 850.000     | 1775.822    | Gd          | Gd          | NA          | CollgCr     | 298791.1    |  81652.7489 | 217138.37   |\n",
       "| 124 | 1040.000    | 2098.000    | 2           | 621.000     | 1044.000    | Gd          | Gd          | NA          | CollgCr     | 237325.1    |  63599.6648 | 173725.42   |\n",
       "| 128 | 1196.000    | 1196.000    | 1           | 336.000     | 1196.000    | TA          | Gd          | NA          | Edwards     | 136894.8    |  26706.8106 | 110187.95   |\n",
       "| 143 |  756.000    |  952.000    | 1           | 330.000     |  952.000    | TA          | TA          | NA          | IDOTRR      | 105681.5    |  35265.9859 |  70415.52   |\n",
       "| 144 | 1594.000    | 1646.000    | 2           | 525.000     | 1646.000    | Gd          | Ex          | NA          | Crawfor     | 244959.6    |  88963.2453 | 155996.39   |\n",
       "| 147 | 1711.509    | 2048.000    | 3           | 776.000     | 1775.822    | TA          | TA          | NA          | Mitchel     | 201697.8    |  18430.0054 | 183267.78   |\n",
       "| 148 | 1336.000    | 1346.000    | 2           | 660.000     | 1346.000    | Gd          | Gd          | NA          | Timber      | 197439.7    |  94336.2477 | 103103.45   |\n",
       "| 149 | 1214.000    | 1214.000    | 2           | 520.000     | 1214.000    | Gd          | Gd          | NA          | Timber      | 187153.3    |    616.0868 | 186537.22   |\n",
       "| 160 | 1216.000    | 2318.595    | 4           | 616.000     | 1216.000    | TA          | TA          | NA          | Mitchel     | 202535.7    |  29687.3943 | 172848.32   |\n",
       "| ... | ... | ... | ... | ... | ... | ... | ... | ... | ... | ... | ... | ... |\n",
       "| 1310 | 1045.0000   | 1045        | 1           | 528.000     | 1045.000    | TA          | TA          | NA          | NAmes       | 141494.31   |  27072.3204 | 114421.99   |\n",
       "| 1316 |  780.0000   | 1416        | 1           | 400.000     |  940.000    | Gd          | TA          | NA          | OldTown     | 144500.84   |  26136.5541 | 118364.29   |\n",
       "| 1320 | 1032.0000   | 1032        | 1           | 280.000     | 1032.000    | TA          | TA          | NA          | OldTown     | 118248.77   |  36266.1113 |  81982.66   |\n",
       "| 1329 | 1226.0000   | 2104        | 2           | 432.000     | 1226.000    | TA          | TA          | NA          | OldTown     | 159111.23   |  87813.3920 |  71297.83   |\n",
       "| 1351 | 1176.0000   | 1458        | 1           | 512.000     | 1458.000    | TA          | TA          | NA          | Sawyer      | 158668.82   |  81130.1330 |  77538.69   |\n",
       "| 1352 |  960.0000   | 1040        | 1           | 616.000     | 1040.000    | TA          | TA          | NA          | Sawyer      | 138005.00   |  70366.1369 |  67638.86   |\n",
       "| 1353 | 1711.5088   | 1967        | 2           | 580.000     | 1775.822    | TA          | Gd          | NA          | Sawyer      | 235176.29   | 105079.5088 | 130096.78   |\n",
       "| 1354 | 1711.5088   | 1949        | 2           | 586.000     | 1775.822    | TA          | TA          | NA          | Sawyer      | 185924.84   | 108426.2175 |  77498.62   |\n",
       "| 1355 |  872.0000   |  872        | 1           | 322.000     |  872.000    | Fa          | TA          | NA          | Sawyer      | 112200.04   |   1476.3110 | 110723.73   |\n",
       "| 1362 |  672.0000   | 2009        | 2           | 795.000     | 1337.000    | TA          | TA          | NA          | Edwards     | 169966.83   |  26376.0164 | 143590.81   |\n",
       "| 1369 | 1344.0000   | 1440        | 2           | 865.476     | 1440.000    | Gd          | Gd          | NA          | SawyerW     | 214841.29   |  76156.0748 | 138685.21   |\n",
       "| 1370 | 1308.0000   | 1876        | 2           | 848.000     | 1308.000    | Gd          | Gd          | NA          | CollgCr     | 253132.87   |  99500.7925 | 153632.08   |\n",
       "| 1372 | 1711.5088   | 1846        | 2           | 495.000     | 1775.822    | Gd          | Gd          | NA          | CollgCr     | 256448.24   | 100425.9779 | 156022.26   |\n",
       "| 1373 | 1570.0000   | 1590        | 2           | 754.000     | 1590.000    | Ex          | Ex          | NA          | CollgCr     | 291857.95   |  26435.2788 | 265422.67   |\n",
       "| 1379 |  781.0000   | 1499        | 2           | 473.000     |  795.000    | Gd          | Gd          | NA          | CollgCr     | 177778.42   | 103233.9383 |  74544.48   |\n",
       "| 1384 |  995.0000   | 1282        | 2           | 672.000     | 1282.000    | TA          | TA          | NA          | CollgCr     | 149635.46   |  46970.4732 | 102664.99   |\n",
       "| 1386 |  826.0000   | 1762        | 2           | 591.000     |  878.000    | Gd          | Gd          | NA          | CollgCr     | 213510.89   |  55356.3428 | 158154.55   |\n",
       "| 1387 |  840.0000   | 1755        | 2           | 530.000     |  840.000    | TA          | Gd          | NA          | CollgCr     | 197850.81   |  26445.7277 | 171405.09   |\n",
       "| 1389 |  872.0000   | 1909        | 2           | 529.000     |  872.000    | Gd          | Gd          | NA          | CollgCr     | 207408.80   | 112130.3762 |  95278.42   |\n",
       "| 1390 | 1090.0000   | 2214        | 2           | 646.000     | 1090.000    | Gd          | Gd          | NA          | CollgCr     | 252818.18   |  71623.6776 | 181194.50   |\n",
       "| 1399 |  676.0000   | 1436        | 2           | 528.000     |  760.000    | TA          | Gd          | NA          | Edwards     | 169291.95   |  77754.3034 |  91537.64   |\n",
       "| 1402 |  796.0000   | 1724        | 2           | 616.000     |  806.000    | Gd          | Gd          | NA          | Edwards     | 194718.15   |  15619.4581 | 179098.69   |\n",
       "| 1403 |  914.0000   |  914        | 1           |  94.524     |  914.000    | Gd          | Gd          | NA          | Edwards     | 119090.21   |  23373.3694 |  95716.84   |\n",
       "| 1409 | 1093.0000   | 1669        | 1           | 288.000     | 1093.000    | TA          | TA          | NA          | Edwards     | 138686.92   |  30903.6724 | 107783.25   |\n",
       "| 1426 | 1168.0000   | 2315        | 2           | 342.000     | 1278.000    | TA          | Gd          | NA          | Crawfor     | 221543.68   | 107257.7270 | 114285.95   |\n",
       "| 1435 | 1573.0000   | 1778        | 2           | 495.000     | 1775.822    | Ex          | Ex          | NA          | Crawfor     | 316922.00   |  60688.0243 | 256233.98   |\n",
       "| 1441 | 1632.0000   | 1650        | 1           | 518.000     | 1650.000    | TA          | Gd          | NA          | Timber      | 204402.36   |  65715.3627 | 138686.99   |\n",
       "| 1443 | 1711.5088   | 1960        | 2           | 714.000     | 1775.822    | Gd          | Ex          | NA          | Timber      | 326027.75   | 240064.0948 |  85963.65   |\n",
       "| 1444 | 1711.5088   | 1838        | 2           | 682.000     | 1775.822    | Ex          | Gd          | NA          | Timber      | 318445.78   |   7208.7795 | 311237.01   |\n",
       "| 1447 |  264.4912   | 1304        | 1           | 336.000     |  616.000    | TA          | Gd          | NA          | MeadowV     |  96644.17   |    252.3545 |  96391.82   |\n",
       "\n"
      ],
      "text/plain": [
       "     TotalBsmtSF GrLivArea FullBath GarageArea X1stFlrSF KitchenQual BsmtQual\n",
       "6     763.000    1655.000  2        440.000     763.000  TA          Gd      \n",
       "15    836.000     836.000  1        308.000     836.000  TA          Gd      \n",
       "17   1544.000    1544.000  2        865.476    1544.000  Gd          Gd      \n",
       "18   1698.000    1698.000  2        730.000    1698.000  Ex          Ex      \n",
       "19   1711.509    1822.000  2        678.000    1775.822  Ex          Ex      \n",
       "27   1629.000    2318.595  2        865.476    1645.000  Gd          Ex      \n",
       "30   1468.000    1468.000  2        528.000    1468.000  Gd          Ex      \n",
       "35   1390.000    2225.000  2        713.000    1402.000  Gd          Gd      \n",
       "41    756.000    1512.000  2        440.000     756.000  Gd          Gd      \n",
       "45   1492.000    1492.000  2        596.000    1492.000  Gd          Gd      \n",
       "46   1711.509    1829.000  2        535.000    1775.822  TA          TA      \n",
       "47   1280.000    2318.595  2        660.000    1280.000  Gd          Gd      \n",
       "51   1209.000    1209.000  1        504.000    1209.000  TA          Gd      \n",
       "54   1711.509    1728.000  2         94.524    1728.000  TA          TA      \n",
       "57   1080.000    1128.000  1        315.000    1128.000  Gd          TA      \n",
       "62   1244.000    1580.000  1        440.000    1580.000  TA          TA      \n",
       "74    827.000    1251.000  1        240.000     827.000  Fa          Gd      \n",
       "80    840.000    2256.000  2         94.524    1128.000  Fa          TA      \n",
       "90    928.000    1536.000  2        480.000     928.000  TA          TA      \n",
       "113  1508.000    1508.000  1        572.000    1508.000  Gd          Gd      \n",
       "116   946.000    1802.000  2        865.476     964.000  Gd          Gd      \n",
       "123  1711.509    1978.000  2        850.000    1775.822  Gd          Gd      \n",
       "124  1040.000    2098.000  2        621.000    1044.000  Gd          Gd      \n",
       "128  1196.000    1196.000  1        336.000    1196.000  TA          Gd      \n",
       "143   756.000     952.000  1        330.000     952.000  TA          TA      \n",
       "144  1594.000    1646.000  2        525.000    1646.000  Gd          Ex      \n",
       "147  1711.509    2048.000  3        776.000    1775.822  TA          TA      \n",
       "148  1336.000    1346.000  2        660.000    1346.000  Gd          Gd      \n",
       "149  1214.000    1214.000  2        520.000    1214.000  Gd          Gd      \n",
       "160  1216.000    2318.595  4        616.000    1216.000  TA          TA      \n",
       "...  ...         ...       ...      ...        ...       ...         ...     \n",
       "1310 1045.0000   1045      1        528.000    1045.000  TA          TA      \n",
       "1316  780.0000   1416      1        400.000     940.000  Gd          TA      \n",
       "1320 1032.0000   1032      1        280.000    1032.000  TA          TA      \n",
       "1329 1226.0000   2104      2        432.000    1226.000  TA          TA      \n",
       "1351 1176.0000   1458      1        512.000    1458.000  TA          TA      \n",
       "1352  960.0000   1040      1        616.000    1040.000  TA          TA      \n",
       "1353 1711.5088   1967      2        580.000    1775.822  TA          Gd      \n",
       "1354 1711.5088   1949      2        586.000    1775.822  TA          TA      \n",
       "1355  872.0000    872      1        322.000     872.000  Fa          TA      \n",
       "1362  672.0000   2009      2        795.000    1337.000  TA          TA      \n",
       "1369 1344.0000   1440      2        865.476    1440.000  Gd          Gd      \n",
       "1370 1308.0000   1876      2        848.000    1308.000  Gd          Gd      \n",
       "1372 1711.5088   1846      2        495.000    1775.822  Gd          Gd      \n",
       "1373 1570.0000   1590      2        754.000    1590.000  Ex          Ex      \n",
       "1379  781.0000   1499      2        473.000     795.000  Gd          Gd      \n",
       "1384  995.0000   1282      2        672.000    1282.000  TA          TA      \n",
       "1386  826.0000   1762      2        591.000     878.000  Gd          Gd      \n",
       "1387  840.0000   1755      2        530.000     840.000  TA          Gd      \n",
       "1389  872.0000   1909      2        529.000     872.000  Gd          Gd      \n",
       "1390 1090.0000   2214      2        646.000    1090.000  Gd          Gd      \n",
       "1399  676.0000   1436      2        528.000     760.000  TA          Gd      \n",
       "1402  796.0000   1724      2        616.000     806.000  Gd          Gd      \n",
       "1403  914.0000    914      1         94.524     914.000  Gd          Gd      \n",
       "1409 1093.0000   1669      1        288.000    1093.000  TA          TA      \n",
       "1426 1168.0000   2315      2        342.000    1278.000  TA          Gd      \n",
       "1435 1573.0000   1778      2        495.000    1775.822  Ex          Ex      \n",
       "1441 1632.0000   1650      1        518.000    1650.000  TA          Gd      \n",
       "1443 1711.5088   1960      2        714.000    1775.822  Gd          Ex      \n",
       "1444 1711.5088   1838      2        682.000    1775.822  Ex          Gd      \n",
       "1447  264.4912   1304      1        336.000     616.000  TA          Gd      \n",
       "     PoolQC Neighborhood pred_random_test difference  MarketPrice\n",
       "6    NA     Gilbert      180508.3          92772.8412  87735.51  \n",
       "15   NA     NPkVill      122281.3           6229.1179 116052.21  \n",
       "17   NA     NridgHt      233926.0          47209.0584 186716.92  \n",
       "18   NA     NridgHt      310266.5         224257.1276  86009.42  \n",
       "19   NA     NridgHt      348142.2         121032.8097 227109.36  \n",
       "27   NA     NoRidge      365078.5          31280.7045 333797.81  \n",
       "30   NA     Somerst      224694.1          86830.3852 137863.71  \n",
       "35   NA     NoRidge      286297.8         208899.5448  77398.22  \n",
       "41   NA     Somerst      172488.1          36753.5567 135734.52  \n",
       "45   NA     Somerst      228317.1          87822.0048 140495.12  \n",
       "46   NA     NWAmes       184824.0          51060.8654 133763.12  \n",
       "47   NA     NWAmes       268862.0          88588.3402 180273.70  \n",
       "51   NA     NAmes        152409.4          64538.3378  87871.08  \n",
       "54   NA     NAmes        146275.1          20857.1244 125417.99  \n",
       "57   NA     NAmes        144311.6          16113.5126 128198.11  \n",
       "62   NA     NAmes        163254.2          51192.2660 112061.97  \n",
       "74   NA     OldTown      115624.4          50067.0242  65557.39  \n",
       "80   NA     OldTown      146414.7          26309.7050 120105.00  \n",
       "90   NA     BrkSide      156161.0           4506.7175 151654.29  \n",
       "113  NA     Edwards      219962.2         124741.7757  95220.43  \n",
       "116  NA     SawyerW      228983.9          93499.0071 135484.90  \n",
       "123  NA     CollgCr      298791.1          81652.7489 217138.37  \n",
       "124  NA     CollgCr      237325.1          63599.6648 173725.42  \n",
       "128  NA     Edwards      136894.8          26706.8106 110187.95  \n",
       "143  NA     IDOTRR       105681.5          35265.9859  70415.52  \n",
       "144  NA     Crawfor      244959.6          88963.2453 155996.39  \n",
       "147  NA     Mitchel      201697.8          18430.0054 183267.78  \n",
       "148  NA     Timber       197439.7          94336.2477 103103.45  \n",
       "149  NA     Timber       187153.3            616.0868 186537.22  \n",
       "160  NA     Mitchel      202535.7          29687.3943 172848.32  \n",
       "...  ...    ...          ...              ...         ...        \n",
       "1310 NA     NAmes        141494.31         27072.3204 114421.99  \n",
       "1316 NA     OldTown      144500.84         26136.5541 118364.29  \n",
       "1320 NA     OldTown      118248.77         36266.1113  81982.66  \n",
       "1329 NA     OldTown      159111.23         87813.3920  71297.83  \n",
       "1351 NA     Sawyer       158668.82         81130.1330  77538.69  \n",
       "1352 NA     Sawyer       138005.00         70366.1369  67638.86  \n",
       "1353 NA     Sawyer       235176.29        105079.5088 130096.78  \n",
       "1354 NA     Sawyer       185924.84        108426.2175  77498.62  \n",
       "1355 NA     Sawyer       112200.04          1476.3110 110723.73  \n",
       "1362 NA     Edwards      169966.83         26376.0164 143590.81  \n",
       "1369 NA     SawyerW      214841.29         76156.0748 138685.21  \n",
       "1370 NA     CollgCr      253132.87         99500.7925 153632.08  \n",
       "1372 NA     CollgCr      256448.24        100425.9779 156022.26  \n",
       "1373 NA     CollgCr      291857.95         26435.2788 265422.67  \n",
       "1379 NA     CollgCr      177778.42        103233.9383  74544.48  \n",
       "1384 NA     CollgCr      149635.46         46970.4732 102664.99  \n",
       "1386 NA     CollgCr      213510.89         55356.3428 158154.55  \n",
       "1387 NA     CollgCr      197850.81         26445.7277 171405.09  \n",
       "1389 NA     CollgCr      207408.80        112130.3762  95278.42  \n",
       "1390 NA     CollgCr      252818.18         71623.6776 181194.50  \n",
       "1399 NA     Edwards      169291.95         77754.3034  91537.64  \n",
       "1402 NA     Edwards      194718.15         15619.4581 179098.69  \n",
       "1403 NA     Edwards      119090.21         23373.3694  95716.84  \n",
       "1409 NA     Edwards      138686.92         30903.6724 107783.25  \n",
       "1426 NA     Crawfor      221543.68        107257.7270 114285.95  \n",
       "1435 NA     Crawfor      316922.00         60688.0243 256233.98  \n",
       "1441 NA     Timber       204402.36         65715.3627 138686.99  \n",
       "1443 NA     Timber       326027.75        240064.0948  85963.65  \n",
       "1444 NA     Timber       318445.78          7208.7795 311237.01  \n",
       "1447 NA     MeadowV       96644.17           252.3545  96391.82  "
      ]
     },
     "metadata": {},
     "output_type": "display_data"
    }
   ],
   "source": [
    "# Create dataframe with the important variables\n",
    "undervalued_properties[,c('TotalBsmtSF','GrLivArea','FullBath',\n",
    "                                                                      'GarageArea','X1stFlrSF','KitchenQual',\n",
    "                                                                      'BsmtQual','PoolQC','Neighborhood',\n",
    "                                                                      'pred_random_test','difference','MarketPrice')]"
   ]
  },
  {
   "cell_type": "code",
   "execution_count": 991,
   "metadata": {},
   "outputs": [
    {
     "data": {
      "text/html": [
       "<table>\n",
       "<thead><tr><th></th><th scope=col>TotalBsmtSF</th><th scope=col>GrLivArea</th><th scope=col>FullBath</th><th scope=col>GarageArea</th><th scope=col>X1stFlrSF</th><th scope=col>KitchenQual</th><th scope=col>BsmtQual</th><th scope=col>PoolQC</th><th scope=col>Neighborhood</th><th scope=col>pred_random_test</th><th scope=col>difference</th><th scope=col>MarketPrice</th></tr></thead>\n",
       "<tbody>\n",
       "\t<tr><th scope=row>831</th><td>1108     </td><td>2318.595 </td><td>2        </td><td>670      </td><td>1148     </td><td>Ex       </td><td>Ex       </td><td>NA       </td><td>NridgHt  </td><td>329707.0 </td><td>262430.87</td><td>67276.17 </td></tr>\n",
       "\t<tr><th scope=row>717</th><td>1129     </td><td>2318.595 </td><td>2        </td><td>596      </td><td>1129     </td><td>Gd       </td><td>Gd       </td><td>NA       </td><td>CollgCr  </td><td>263488.1 </td><td>194866.16</td><td>68621.99 </td></tr>\n",
       "\t<tr><th scope=row>848</th><td>1554     </td><td>1554.000 </td><td>2        </td><td>627      </td><td>1554     </td><td>Gd       </td><td>Gd       </td><td>NA       </td><td>NridgHt  </td><td>221386.2 </td><td>151606.03</td><td>69780.18 </td></tr>\n",
       "\t<tr><th scope=row>718</th><td> 850     </td><td>1764.000 </td><td>2        </td><td>560      </td><td> 886     </td><td>Gd       </td><td>Gd       </td><td>NA       </td><td>CollgCr  </td><td>214376.4 </td><td>147308.84</td><td>67067.52 </td></tr>\n",
       "\t<tr><th scope=row>1231</th><td> 858     </td><td>1716.000 </td><td>2        </td><td>615      </td><td> 858     </td><td>Gd       </td><td>Gd       </td><td>NA       </td><td>Somerst  </td><td>205129.4 </td><td>137591.06</td><td>67538.37 </td></tr>\n",
       "\t<tr><th scope=row>478</th><td>1348     </td><td>1384.000 </td><td>2        </td><td>404      </td><td>1384     </td><td>Gd       </td><td>Gd       </td><td>NA       </td><td>Gilbert  </td><td>190382.4 </td><td>124903.75</td><td>65478.69 </td></tr>\n",
       "\t<tr><th scope=row>911</th><td> 756     </td><td>1573.000 </td><td>2        </td><td>440      </td><td> 769     </td><td>Gd       </td><td>Gd       </td><td>NA       </td><td>Somerst  </td><td>180431.0 </td><td>113258.77</td><td>67172.22 </td></tr>\n",
       "\t<tr><th scope=row>302</th><td> 744     </td><td>2140.000 </td><td>2        </td><td>549      </td><td> 825     </td><td>TA       </td><td>TA       </td><td>NA       </td><td>NAmes    </td><td>173228.8 </td><td>103325.28</td><td>69903.56 </td></tr>\n",
       "\t<tr><th scope=row>1254</th><td> 600     </td><td>1223.000 </td><td>2        </td><td>480      </td><td> 520     </td><td>Gd       </td><td>Gd       </td><td>NA       </td><td>Somerst  </td><td>155711.8 </td><td> 89892.29</td><td>65819.51 </td></tr>\n",
       "\t<tr><th scope=row>1352</th><td> 960     </td><td>1040.000 </td><td>1        </td><td>616      </td><td>1040     </td><td>TA       </td><td>TA       </td><td>NA       </td><td>Sawyer   </td><td>138005.0 </td><td> 70366.14</td><td>67638.86 </td></tr>\n",
       "\t<tr><th scope=row>308</th><td>1169     </td><td>1144.000 </td><td>1        </td><td>286      </td><td>1144     </td><td>TA       </td><td>TA       </td><td>NA       </td><td>NAmes    </td><td>137440.6 </td><td> 68136.48</td><td>69304.15 </td></tr>\n",
       "\t<tr><th scope=row>1181</th><td> 864     </td><td> 874.000 </td><td>1        </td><td>576      </td><td> 874     </td><td>TA       </td><td>TA       </td><td>NA       </td><td>NAmes    </td><td>125992.0 </td><td> 59519.47</td><td>66472.53 </td></tr>\n",
       "\t<tr><th scope=row>740</th><td> 644     </td><td>1316.000 </td><td>1        </td><td>369      </td><td> 672     </td><td>TA       </td><td>TA       </td><td>NA       </td><td>Crawfor  </td><td>124592.2 </td><td> 58754.99</td><td>65837.18 </td></tr>\n",
       "\t<tr><th scope=row>978</th><td> 896     </td><td> 936.000 </td><td>1        </td><td>288      </td><td> 936     </td><td>TA       </td><td>TA       </td><td>NA       </td><td>NAmes    </td><td>122327.1 </td><td> 53623.65</td><td>68703.41 </td></tr>\n",
       "\t<tr><th scope=row>74</th><td> 827     </td><td>1251.000 </td><td>1        </td><td>240      </td><td> 827     </td><td>Fa       </td><td>Gd       </td><td>NA       </td><td>OldTown  </td><td>115624.4 </td><td> 50067.02</td><td>65557.39 </td></tr>\n",
       "\t<tr><th scope=row>272</th><td> 864     </td><td> 864.000 </td><td>1        </td><td>732      </td><td> 864     </td><td>TA       </td><td>TA       </td><td>NA       </td><td>Sawyer   </td><td>118186.9 </td><td> 49827.87</td><td>68359.04 </td></tr>\n",
       "</tbody>\n",
       "</table>\n"
      ],
      "text/latex": [
       "\\begin{tabular}{r|llllllllllll}\n",
       "  & TotalBsmtSF & GrLivArea & FullBath & GarageArea & X1stFlrSF & KitchenQual & BsmtQual & PoolQC & Neighborhood & pred\\_random\\_test & difference & MarketPrice\\\\\n",
       "\\hline\n",
       "\t831 & 1108      & 2318.595  & 2         & 670       & 1148      & Ex        & Ex        & NA        & NridgHt   & 329707.0  & 262430.87 & 67276.17 \\\\\n",
       "\t717 & 1129      & 2318.595  & 2         & 596       & 1129      & Gd        & Gd        & NA        & CollgCr   & 263488.1  & 194866.16 & 68621.99 \\\\\n",
       "\t848 & 1554      & 1554.000  & 2         & 627       & 1554      & Gd        & Gd        & NA        & NridgHt   & 221386.2  & 151606.03 & 69780.18 \\\\\n",
       "\t718 &  850      & 1764.000  & 2         & 560       &  886      & Gd        & Gd        & NA        & CollgCr   & 214376.4  & 147308.84 & 67067.52 \\\\\n",
       "\t1231 &  858      & 1716.000  & 2         & 615       &  858      & Gd        & Gd        & NA        & Somerst   & 205129.4  & 137591.06 & 67538.37 \\\\\n",
       "\t478 & 1348      & 1384.000  & 2         & 404       & 1384      & Gd        & Gd        & NA        & Gilbert   & 190382.4  & 124903.75 & 65478.69 \\\\\n",
       "\t911 &  756      & 1573.000  & 2         & 440       &  769      & Gd        & Gd        & NA        & Somerst   & 180431.0  & 113258.77 & 67172.22 \\\\\n",
       "\t302 &  744      & 2140.000  & 2         & 549       &  825      & TA        & TA        & NA        & NAmes     & 173228.8  & 103325.28 & 69903.56 \\\\\n",
       "\t1254 &  600      & 1223.000  & 2         & 480       &  520      & Gd        & Gd        & NA        & Somerst   & 155711.8  &  89892.29 & 65819.51 \\\\\n",
       "\t1352 &  960      & 1040.000  & 1         & 616       & 1040      & TA        & TA        & NA        & Sawyer    & 138005.0  &  70366.14 & 67638.86 \\\\\n",
       "\t308 & 1169      & 1144.000  & 1         & 286       & 1144      & TA        & TA        & NA        & NAmes     & 137440.6  &  68136.48 & 69304.15 \\\\\n",
       "\t1181 &  864      &  874.000  & 1         & 576       &  874      & TA        & TA        & NA        & NAmes     & 125992.0  &  59519.47 & 66472.53 \\\\\n",
       "\t740 &  644      & 1316.000  & 1         & 369       &  672      & TA        & TA        & NA        & Crawfor   & 124592.2  &  58754.99 & 65837.18 \\\\\n",
       "\t978 &  896      &  936.000  & 1         & 288       &  936      & TA        & TA        & NA        & NAmes     & 122327.1  &  53623.65 & 68703.41 \\\\\n",
       "\t74 &  827      & 1251.000  & 1         & 240       &  827      & Fa        & Gd        & NA        & OldTown   & 115624.4  &  50067.02 & 65557.39 \\\\\n",
       "\t272 &  864      &  864.000  & 1         & 732       &  864      & TA        & TA        & NA        & Sawyer    & 118186.9  &  49827.87 & 68359.04 \\\\\n",
       "\\end{tabular}\n"
      ],
      "text/markdown": [
       "\n",
       "| <!--/--> | TotalBsmtSF | GrLivArea | FullBath | GarageArea | X1stFlrSF | KitchenQual | BsmtQual | PoolQC | Neighborhood | pred_random_test | difference | MarketPrice |\n",
       "|---|---|---|---|---|---|---|---|---|---|---|---|---|\n",
       "| 831 | 1108      | 2318.595  | 2         | 670       | 1148      | Ex        | Ex        | NA        | NridgHt   | 329707.0  | 262430.87 | 67276.17  |\n",
       "| 717 | 1129      | 2318.595  | 2         | 596       | 1129      | Gd        | Gd        | NA        | CollgCr   | 263488.1  | 194866.16 | 68621.99  |\n",
       "| 848 | 1554      | 1554.000  | 2         | 627       | 1554      | Gd        | Gd        | NA        | NridgHt   | 221386.2  | 151606.03 | 69780.18  |\n",
       "| 718 |  850      | 1764.000  | 2         | 560       |  886      | Gd        | Gd        | NA        | CollgCr   | 214376.4  | 147308.84 | 67067.52  |\n",
       "| 1231 |  858      | 1716.000  | 2         | 615       |  858      | Gd        | Gd        | NA        | Somerst   | 205129.4  | 137591.06 | 67538.37  |\n",
       "| 478 | 1348      | 1384.000  | 2         | 404       | 1384      | Gd        | Gd        | NA        | Gilbert   | 190382.4  | 124903.75 | 65478.69  |\n",
       "| 911 |  756      | 1573.000  | 2         | 440       |  769      | Gd        | Gd        | NA        | Somerst   | 180431.0  | 113258.77 | 67172.22  |\n",
       "| 302 |  744      | 2140.000  | 2         | 549       |  825      | TA        | TA        | NA        | NAmes     | 173228.8  | 103325.28 | 69903.56  |\n",
       "| 1254 |  600      | 1223.000  | 2         | 480       |  520      | Gd        | Gd        | NA        | Somerst   | 155711.8  |  89892.29 | 65819.51  |\n",
       "| 1352 |  960      | 1040.000  | 1         | 616       | 1040      | TA        | TA        | NA        | Sawyer    | 138005.0  |  70366.14 | 67638.86  |\n",
       "| 308 | 1169      | 1144.000  | 1         | 286       | 1144      | TA        | TA        | NA        | NAmes     | 137440.6  |  68136.48 | 69304.15  |\n",
       "| 1181 |  864      |  874.000  | 1         | 576       |  874      | TA        | TA        | NA        | NAmes     | 125992.0  |  59519.47 | 66472.53  |\n",
       "| 740 |  644      | 1316.000  | 1         | 369       |  672      | TA        | TA        | NA        | Crawfor   | 124592.2  |  58754.99 | 65837.18  |\n",
       "| 978 |  896      |  936.000  | 1         | 288       |  936      | TA        | TA        | NA        | NAmes     | 122327.1  |  53623.65 | 68703.41  |\n",
       "| 74 |  827      | 1251.000  | 1         | 240       |  827      | Fa        | Gd        | NA        | OldTown   | 115624.4  |  50067.02 | 65557.39  |\n",
       "| 272 |  864      |  864.000  | 1         | 732       |  864      | TA        | TA        | NA        | Sawyer    | 118186.9  |  49827.87 | 68359.04  |\n",
       "\n"
      ],
      "text/plain": [
       "     TotalBsmtSF GrLivArea FullBath GarageArea X1stFlrSF KitchenQual BsmtQual\n",
       "831  1108        2318.595  2        670        1148      Ex          Ex      \n",
       "717  1129        2318.595  2        596        1129      Gd          Gd      \n",
       "848  1554        1554.000  2        627        1554      Gd          Gd      \n",
       "718   850        1764.000  2        560         886      Gd          Gd      \n",
       "1231  858        1716.000  2        615         858      Gd          Gd      \n",
       "478  1348        1384.000  2        404        1384      Gd          Gd      \n",
       "911   756        1573.000  2        440         769      Gd          Gd      \n",
       "302   744        2140.000  2        549         825      TA          TA      \n",
       "1254  600        1223.000  2        480         520      Gd          Gd      \n",
       "1352  960        1040.000  1        616        1040      TA          TA      \n",
       "308  1169        1144.000  1        286        1144      TA          TA      \n",
       "1181  864         874.000  1        576         874      TA          TA      \n",
       "740   644        1316.000  1        369         672      TA          TA      \n",
       "978   896         936.000  1        288         936      TA          TA      \n",
       "74    827        1251.000  1        240         827      Fa          Gd      \n",
       "272   864         864.000  1        732         864      TA          TA      \n",
       "     PoolQC Neighborhood pred_random_test difference MarketPrice\n",
       "831  NA     NridgHt      329707.0         262430.87  67276.17   \n",
       "717  NA     CollgCr      263488.1         194866.16  68621.99   \n",
       "848  NA     NridgHt      221386.2         151606.03  69780.18   \n",
       "718  NA     CollgCr      214376.4         147308.84  67067.52   \n",
       "1231 NA     Somerst      205129.4         137591.06  67538.37   \n",
       "478  NA     Gilbert      190382.4         124903.75  65478.69   \n",
       "911  NA     Somerst      180431.0         113258.77  67172.22   \n",
       "302  NA     NAmes        173228.8         103325.28  69903.56   \n",
       "1254 NA     Somerst      155711.8          89892.29  65819.51   \n",
       "1352 NA     Sawyer       138005.0          70366.14  67638.86   \n",
       "308  NA     NAmes        137440.6          68136.48  69304.15   \n",
       "1181 NA     NAmes        125992.0          59519.47  66472.53   \n",
       "740  NA     Crawfor      124592.2          58754.99  65837.18   \n",
       "978  NA     NAmes        122327.1          53623.65  68703.41   \n",
       "74   NA     OldTown      115624.4          50067.02  65557.39   \n",
       "272  NA     Sawyer       118186.9          49827.87  68359.04   "
      ]
     },
     "metadata": {},
     "output_type": "display_data"
    }
   ],
   "source": [
    "# Create dataframe with the observations that meet our budget \n",
    "propertytoinvest<-undervalued_properties[undervalued_properties$MarketPrice<70000,]\n",
    "propertytoinvest[order(propertytoinvest$difference,decreasing=T),][,c('TotalBsmtSF','GrLivArea','FullBath',\n",
    "                                                                      'GarageArea','X1stFlrSF','KitchenQual',\n",
    "                                                                      'BsmtQual','PoolQC','Neighborhood',\n",
    "                                                                      'pred_random_test','difference','MarketPrice')]\n"
   ]
  }
 ],
 "metadata": {
  "kernelspec": {
   "display_name": "R",
   "language": "R",
   "name": "ir"
  },
  "language_info": {
   "codemirror_mode": "r",
   "file_extension": ".r",
   "mimetype": "text/x-r-source",
   "name": "R",
   "pygments_lexer": "r",
   "version": "3.6.1"
  }
 },
 "nbformat": 4,
 "nbformat_minor": 2
}
