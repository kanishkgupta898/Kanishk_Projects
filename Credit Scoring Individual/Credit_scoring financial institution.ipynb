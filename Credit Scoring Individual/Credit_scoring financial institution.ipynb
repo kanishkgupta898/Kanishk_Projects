{
 "cells": [
  {
   "cell_type": "markdown",
   "metadata": {},
   "source": [
    "CREDIT SCORING ASSIGNMENT"
   ]
  },
  {
   "cell_type": "markdown",
   "metadata": {},
   "source": [
    "This project is majorly based on Statistical approach to assess credit risk. A little bit of judgemental approach in this project.\n",
    "The major purpose of the project is to develop an application based credit scoring scorecard.\n",
    "It has two datasets available. Accepts and Rejects.\n",
    "Accepts has clients whose loan was accepted.\n",
    "Reject has clients whose loan was rejected.\n",
    "In this project firstly Accepts Dataset will be analyzed in order to find out the scorecard for all the people whose loan got accepted.\n",
    "Then we will search for best features available in the Rejects datasets through reject inference approach\n",
    "Then we will combine both the datasets and develop a scorecard.\n",
    "\n",
    "Three different classification models will be used to determien which is the best model for making the scorecard. They are:\n",
    "1. Linear Regression\n",
    "2. Logistic Regression\n",
    "3. Decision Tree"
   ]
  },
  {
   "cell_type": "code",
   "execution_count": 1,
   "metadata": {},
   "outputs": [
    {
     "name": "stderr",
     "output_type": "stream",
     "text": [
      "Installing package into 'C:/Users/kgupta/Documents/R/win-library/3.6'\n",
      "(as 'lib' is unspecified)\n"
     ]
    },
    {
     "name": "stdout",
     "output_type": "stream",
     "text": [
      "package 'readxl' successfully unpacked and MD5 sums checked\n",
      "\n",
      "The downloaded binary packages are in\n",
      "\tC:\\Users\\kgupta\\AppData\\Local\\Temp\\RtmpkrSyed\\downloaded_packages\n"
     ]
    },
    {
     "name": "stderr",
     "output_type": "stream",
     "text": [
      "Warning message:\n",
      "\"package 'tidyr' was built under R version 3.6.1\"Warning message:\n",
      "\"package 'dplyr' was built under R version 3.6.3\"\n",
      "Attaching package: 'dplyr'\n",
      "\n",
      "The following objects are masked from 'package:stats':\n",
      "\n",
      "    filter, lag\n",
      "\n",
      "The following objects are masked from 'package:base':\n",
      "\n",
      "    intersect, setdiff, setequal, union\n",
      "\n",
      "Warning message:\n",
      "\"package 'ggplot2' was built under R version 3.6.1\"Warning message:\n",
      "\"package 'readxl' was built under R version 3.6.3\""
     ]
    }
   ],
   "source": [
    "#Importing necessary packages\n",
    "install.packages(\"readxl\")\n",
    "install.packages(\"Amelia\")\n",
    "install.packages(\"imputeTS\")\n",
    "library(tidyr)\n",
    "library(dplyr)\n",
    "library(ggplot2)\n",
    "library(tidyr)\n",
    "library(readxl)\n",
    "library(magrittr)\n",
    "library(graphics)\n",
    "library(lattice)\n",
    "library(Amelia)\n",
    "library(Hmisc)\n",
    "library(imputeTS)"
   ]
  },
  {
   "cell_type": "code",
   "execution_count": 212,
   "metadata": {},
   "outputs": [
    {
     "data": {
      "text/html": [
       "<table>\n",
       "<thead><tr><th scope=col>ID</th><th scope=col>V1</th><th scope=col>V2</th><th scope=col>V3</th><th scope=col>V4</th><th scope=col>V5</th><th scope=col>V6</th><th scope=col>V7</th><th scope=col>V8</th><th scope=col>Has_FICO</th><th scope=col>Business_channel</th><th scope=col>Days_late</th><th scope=col>FICO_Score</th><th scope=col>Loan_amount</th><th scope=col>Monthly_income</th><th scope=col>Age</th><th scope=col>Gearing_coefficient</th><th scope=col>Max_gearing_ratio</th><th scope=col>Default_45</th></tr></thead>\n",
       "<tbody>\n",
       "\t<tr><td>250263     </td><td>1          </td><td>1          </td><td>11         </td><td>5          </td><td>6          </td><td>7          </td><td>1          </td><td>2          </td><td>0          </td><td>1          </td><td>  0        </td><td>        NA </td><td> 1.43851768</td><td>-0.25908469</td><td> 1.78103991</td><td> 0.86026906</td><td> 0.5139798 </td><td>0          </td></tr>\n",
       "\t<tr><td>250290     </td><td>1          </td><td>2          </td><td> 6         </td><td>4          </td><td>5          </td><td>1          </td><td>1          </td><td>2          </td><td>1          </td><td>1          </td><td>  0        </td><td> 1.4981826 </td><td> 0.20481141</td><td> 0.38331185</td><td> 1.10716265</td><td>-0.71824919</td><td> 1.7965902 </td><td>0          </td></tr>\n",
       "\t<tr><td>250249     </td><td>2          </td><td>3          </td><td>11         </td><td>5          </td><td>7          </td><td>7          </td><td>1          </td><td>2          </td><td>1          </td><td>1          </td><td>  0        </td><td>-0.2417306 </td><td>-0.85265110</td><td>-0.73242952</td><td> 1.40666366</td><td> 1.12292973</td><td>-0.7686307 </td><td>0          </td></tr>\n",
       "\t<tr><td>249516     </td><td>3          </td><td>3          </td><td>10         </td><td>4          </td><td>2          </td><td>4          </td><td>1          </td><td>2          </td><td>0          </td><td>1          </td><td>168        </td><td>        NA </td><td>-0.67640735</td><td>-0.05734964</td><td> 0.95741215</td><td>-1.70248171</td><td> 0.5139798 </td><td>1          </td></tr>\n",
       "\t<tr><td>249827     </td><td>1          </td><td>3          </td><td> 5         </td><td>2          </td><td>4          </td><td>4          </td><td>1          </td><td>3          </td><td>0          </td><td>1          </td><td>  0        </td><td>        NA </td><td>-0.41204172</td><td>-0.57464791</td><td>-0.39034236</td><td> 0.91007667</td><td>-0.7686307 </td><td>0          </td></tr>\n",
       "\t<tr><td>250329     </td><td>1          </td><td>3          </td><td>11         </td><td>2          </td><td>5          </td><td>4          </td><td>3          </td><td>4          </td><td>0          </td><td>2          </td><td>  0        </td><td>        NA </td><td> 0.55729892</td><td>-0.21062320</td><td>-0.39034236</td><td>-0.38449560</td><td> 0.5139798 </td><td>0          </td></tr>\n",
       "\t<tr><td>250196     </td><td>2          </td><td>4          </td><td>11         </td><td>5          </td><td>7          </td><td>7          </td><td>3          </td><td>1          </td><td>1          </td><td>1          </td><td>  0        </td><td> 0.5909421 </td><td>-0.85265110</td><td>-0.67495193</td><td> 1.25691315</td><td>-0.78955496</td><td>-0.7686307 </td><td>0          </td></tr>\n",
       "\t<tr><td>250358     </td><td>1          </td><td>3          </td><td>12         </td><td>3          </td><td>3          </td><td>5          </td><td>1          </td><td>3          </td><td>0          </td><td>2          </td><td>  0        </td><td>        NA </td><td>-0.46491485</td><td>-0.58028297</td><td>-0.46521761</td><td> 0.50352734</td><td>-0.7686307 </td><td>0          </td></tr>\n",
       "\t<tr><td>250375     </td><td>2          </td><td>5          </td><td>11         </td><td>5          </td><td>1          </td><td>7          </td><td>1          </td><td>1          </td><td>0          </td><td>1          </td><td>336        </td><td>        NA </td><td> 0.02856766</td><td>-0.70988929</td><td> 1.40666366</td><td> 1.06226661</td><td>-0.7686307 </td><td>1          </td></tr>\n",
       "\t<tr><td>250415     </td><td>3          </td><td>3          </td><td>14         </td><td>1          </td><td>4          </td><td>4          </td><td>3          </td><td>1          </td><td>0          </td><td>1          </td><td>  0        </td><td>        NA </td><td>-0.23579797</td><td>-0.76623986</td><td>-0.31546711</td><td> 1.02395306</td><td>-0.7686307 </td><td>0          </td></tr>\n",
       "\t<tr><td>250334     </td><td>1          </td><td>3          </td><td>15         </td><td>4          </td><td>3          </td><td>4          </td><td>1          </td><td>3          </td><td>0          </td><td>1          </td><td>349        </td><td>        NA </td><td> 2.14349269</td><td>-0.04833354</td><td>-0.31546711</td><td> 1.09440742</td><td> 0.5139798 </td><td>1          </td></tr>\n",
       "\t<tr><td>250321     </td><td>1          </td><td>4          </td><td>15         </td><td>2          </td><td>2          </td><td>4          </td><td>1          </td><td>2          </td><td>0          </td><td>1          </td><td>  0        </td><td>        NA </td><td>-0.05955422</td><td>-0.67269791</td><td>-0.01596610</td><td> 0.89624122</td><td>-0.7686307 </td><td>0          </td></tr>\n",
       "\t<tr><td>250033     </td><td>3          </td><td>3          </td><td> 3         </td><td>4          </td><td>2          </td><td>4          </td><td>3          </td><td>1          </td><td>0          </td><td>2          </td><td>  0        </td><td>        NA </td><td>-0.32391985</td><td>-0.01565021</td><td>-1.43859586</td><td>-1.47345183</td><td> 0.5139798 </td><td>0          </td></tr>\n",
       "\t<tr><td>250018     </td><td>1          </td><td>5          </td><td>11         </td><td>5          </td><td>7          </td><td>7          </td><td>1          </td><td>2          </td><td>1          </td><td>3          </td><td>  0        </td><td> 1.1999118 </td><td>-1.00333951</td><td>-0.88344906</td><td> 1.78103991</td><td>-0.99815096</td><td>-0.7686307 </td><td>0          </td></tr>\n",
       "\t<tr><td>250310     </td><td>1          </td><td>1          </td><td>12         </td><td>4          </td><td>6          </td><td>1          </td><td>1          </td><td>3          </td><td>1          </td><td>1          </td><td>  0        </td><td>-0.2790145 </td><td>-0.39441735</td><td>-0.26246573</td><td>-0.39034236</td><td> 1.08248765</td><td>-0.7686307 </td><td>0          </td></tr>\n",
       "\t<tr><td>250470     </td><td>1          </td><td>3          </td><td>12         </td><td>2          </td><td>6          </td><td>1          </td><td>1          </td><td>3          </td><td>1          </td><td>1          </td><td> 15        </td><td>-1.3975301 </td><td>-0.85265110</td><td>-0.64452262</td><td> 0.20865965</td><td> 1.07184499</td><td>-0.7686307 </td><td>0          </td></tr>\n",
       "\t<tr><td>250370     </td><td>1          </td><td>3          </td><td>15         </td><td>1          </td><td>2          </td><td>4          </td><td>1          </td><td>2          </td><td>0          </td><td>1          </td><td> 15        </td><td>        NA </td><td> 0.02856766</td><td>-0.63663354</td><td>-1.13909486</td><td> 0.92071932</td><td>-0.7686307 </td><td>0          </td></tr>\n",
       "\t<tr><td>250420     </td><td>1          </td><td>3          </td><td>11         </td><td>5          </td><td>6          </td><td>7          </td><td>1          </td><td>2          </td><td>0          </td><td>1          </td><td>  0        </td><td>        NA </td><td>-0.32391985</td><td>-0.60282320</td><td> 1.40666366</td><td> 0.41625759</td><td>-0.7686307 </td><td>0          </td></tr>\n",
       "\t<tr><td>250523     </td><td>2          </td><td>4          </td><td>11         </td><td>5          </td><td>7          </td><td>7          </td><td>1          </td><td>1          </td><td>0          </td><td>1          </td><td>  0        </td><td>        NA </td><td> 0.02856766</td><td>-0.48899504</td><td> 1.18203790</td><td> 1.01437467</td><td>-0.7686307 </td><td>0          </td></tr>\n",
       "\t<tr><td>250512     </td><td>1          </td><td>1          </td><td>12         </td><td>2          </td><td>1          </td><td>1          </td><td>3          </td><td>2          </td><td>1          </td><td>1          </td><td>594        </td><td>-0.8507003 </td><td>-0.67640735</td><td>-0.39658009</td><td> 0.50816065</td><td>-0.07756150</td><td>-0.7686307 </td><td>1          </td></tr>\n",
       "\t<tr><td>250566     </td><td>1          </td><td>4          </td><td>10         </td><td>5          </td><td>7          </td><td>7          </td><td>1          </td><td>2          </td><td>1          </td><td>1          </td><td> 15        </td><td> 1.5230385 </td><td>-0.14767609</td><td>-0.26021170</td><td> 0.95741215</td><td> 1.05949952</td><td> 0.5139798 </td><td>0          </td></tr>\n",
       "\t<tr><td>250479     </td><td>4          </td><td>4          </td><td>11         </td><td>5          </td><td>5          </td><td>7          </td><td>1          </td><td>1          </td><td>1          </td><td>1          </td><td>319        </td><td>-0.4032940 </td><td> 1.08603017</td><td>-0.08327090</td><td> 0.20865965</td><td>-0.34447923</td><td> 0.5139798 </td><td>1          </td></tr>\n",
       "\t<tr><td>250546     </td><td>3          </td><td>1          </td><td>11         </td><td>4          </td><td>2          </td><td>1          </td><td>3          </td><td>1          </td><td>0          </td><td>1          </td><td>  0        </td><td>        NA </td><td> 0.82166455</td><td> 0.04295439</td><td>-1.21397011</td><td>-0.71824919</td><td> 0.5139798 </td><td>0          </td></tr>\n",
       "\t<tr><td>250559     </td><td>1          </td><td>3          </td><td> 2         </td><td>1          </td><td>4          </td><td>5          </td><td>1          </td><td>2          </td><td>0          </td><td>1          </td><td>  0        </td><td>        NA </td><td>-0.32391985</td><td>-0.67269791</td><td> 0.50816065</td><td> 0.02460797</td><td>-0.7686307 </td><td>0          </td></tr>\n",
       "\t<tr><td>250578     </td><td>4          </td><td>3          </td><td>13         </td><td>1          </td><td>3          </td><td>5          </td><td>3          </td><td>1          </td><td>1          </td><td>1          </td><td>  0        </td><td>-1.1116873 </td><td>-0.14767609</td><td>-0.70087319</td><td>-1.13909486</td><td> 0.80790721</td><td>-0.7686307 </td><td>0          </td></tr>\n",
       "\t<tr><td>250545     </td><td>1          </td><td>4          </td><td>10         </td><td>4          </td><td>4          </td><td>5          </td><td>1          </td><td>2          </td><td>1          </td><td>2          </td><td>273        </td><td>-1.1116873 </td><td> 0.55729892</td><td>-0.15539964</td><td>-1.21397011</td><td>-0.52583003</td><td> 0.5139798 </td><td>1          </td></tr>\n",
       "\t<tr><td>250452     </td><td>1          </td><td>4          </td><td> 3         </td><td>1          </td><td>3          </td><td>4          </td><td>1          </td><td>3          </td><td>1          </td><td>1          </td><td>  0        </td><td> 0.2181036 </td><td> 0.02856766</td><td>-0.07087377</td><td> 0.20865965</td><td> 1.12165261</td><td> 0.5139798 </td><td>0          </td></tr>\n",
       "\t<tr><td>250079     </td><td>1          </td><td>4          </td><td>15         </td><td>2          </td><td>2          </td><td>4          </td><td>1          </td><td>2          </td><td>0          </td><td>1          </td><td>  0        </td><td>        NA </td><td> 0.01094328</td><td>-0.67269791</td><td> 0.13378440</td><td> 1.10909428</td><td>-0.7686307 </td><td>0          </td></tr>\n",
       "\t<tr><td>250395     </td><td>1          </td><td>4          </td><td>10         </td><td>4          </td><td>6          </td><td>4          </td><td>1          </td><td>2          </td><td>1          </td><td>1          </td><td>  0        </td><td> 1.1129161 </td><td>-0.85265110</td><td>-0.42926343</td><td>-0.68984336</td><td>-0.42557624</td><td>-0.7686307 </td><td>0          </td></tr>\n",
       "\t<tr><td>250644     </td><td>1          </td><td>3          </td><td>15         </td><td>4          </td><td>6          </td><td>4          </td><td>1          </td><td>2          </td><td>1          </td><td>1          </td><td>168        </td><td>-0.6145692 </td><td>-0.32391985</td><td> 1.66810495</td><td> 0.05890915</td><td>-0.02434823</td><td> 1.7965902 </td><td>1          </td></tr>\n",
       "\t<tr><td>...</td><td>...</td><td>...</td><td>...</td><td>...</td><td>...</td><td>...</td><td>...</td><td>...</td><td>...</td><td>...</td><td>...</td><td>...</td><td>...</td><td>...</td><td>...</td><td>...</td><td>...</td><td>...</td></tr>\n",
       "\t<tr><td>305655      </td><td>3           </td><td>5           </td><td>10          </td><td>3           </td><td>2           </td><td>5           </td><td>3           </td><td>3           </td><td>1           </td><td>1           </td><td>107         </td><td>-0.9749798  </td><td> 0.5572989  </td><td>-0.207242164</td><td>-0.31546711 </td><td> 0.09740371 </td><td> 0.5139798  </td><td>1           </td></tr>\n",
       "\t<tr><td>304997      </td><td>1           </td><td>3           </td><td>11          </td><td>4           </td><td>3           </td><td>5           </td><td>1           </td><td>3           </td><td>1           </td><td>1           </td><td>  0         </td><td>-1.0619754  </td><td> 1.4385177  </td><td> 0.008017030</td><td>-1.13909486 </td><td> 0.63294200 </td><td> 0.5139798  </td><td>0           </td></tr>\n",
       "\t<tr><td>305752      </td><td>1           </td><td>3           </td><td>15          </td><td>1           </td><td>6           </td><td>1           </td><td>1           </td><td>3           </td><td>1           </td><td>1           </td><td>  0         </td><td> 0.8022173  </td><td> 3.2009552  </td><td>-0.467581817</td><td> 0.35841015 </td><td> 0.66884321 </td><td> 1.7965902  </td><td>0           </td></tr>\n",
       "\t<tr><td>305832      </td><td>3           </td><td>3           </td><td>10          </td><td>4           </td><td>1           </td><td>4           </td><td>3           </td><td>1           </td><td>0           </td><td>1           </td><td>137         </td><td>        NA  </td><td>-0.6764074  </td><td> 0.394581970</td><td>-0.83959386 </td><td>-2.04077617 </td><td> 1.7965902  </td><td>1           </td></tr>\n",
       "\t<tr><td>305830      </td><td>3           </td><td>2           </td><td>11          </td><td>2           </td><td>3           </td><td>4           </td><td>3           </td><td>1           </td><td>0           </td><td>1           </td><td> 45         </td><td>        NA  </td><td>-0.8526511  </td><td>-0.464200783</td><td> 0.13378440 </td><td> 0.26832471 </td><td>-0.7686307  </td><td>1           </td></tr>\n",
       "\t<tr><td>305495      </td><td>1           </td><td>4           </td><td>11          </td><td>2           </td><td>1           </td><td>5           </td><td>1           </td><td>3           </td><td>1           </td><td>2           </td><td>  0         </td><td>-1.3726742  </td><td> 0.5572989  </td><td> 0.001254961</td><td> 0.28353490 </td><td>-0.80083618 </td><td> 0.5139798  </td><td>0           </td></tr>\n",
       "\t<tr><td>305758      </td><td>2           </td><td>1           </td><td> 5          </td><td>4           </td><td>1           </td><td>4           </td><td>1           </td><td>1           </td><td>1           </td><td>1           </td><td>198         </td><td>-1.0744034  </td><td> 1.0860302  </td><td> 0.289769902</td><td> 1.33178840 </td><td> 0.12890596 </td><td> 1.7965902  </td><td>1           </td></tr>\n",
       "\t<tr><td>305824      </td><td>2           </td><td>4           </td><td>10          </td><td>4           </td><td>4           </td><td>4           </td><td>1           </td><td>1           </td><td>1           </td><td>1           </td><td>  0         </td><td> 1.0010645  </td><td>-0.8526511  </td><td>-0.066365728</td><td> 1.03228740 </td><td>-1.36617389 </td><td> 0.5139798  </td><td>0           </td></tr>\n",
       "\t<tr><td>305893      </td><td>1           </td><td>4           </td><td>11          </td><td>4           </td><td>5           </td><td>4           </td><td>3           </td><td>4           </td><td>1           </td><td>3           </td><td>  0         </td><td> 0.2926713  </td><td>-1.0202589  </td><td> 2.177514141</td><td>-0.46521761 </td><td>-1.84566087 </td><td> 1.7965902  </td><td>0           </td></tr>\n",
       "\t<tr><td>305851      </td><td>3           </td><td>5           </td><td>10          </td><td>4           </td><td>3           </td><td>5           </td><td>3           </td><td>3           </td><td>0           </td><td>1           </td><td>  0         </td><td>        NA  </td><td>-0.8526511  </td><td>-0.113700210</td><td>-0.31546711 </td><td>-2.08221156 </td><td> 0.5139798  </td><td>0           </td></tr>\n",
       "\t<tr><td>305827      </td><td>3           </td><td>5           </td><td> 3          </td><td>1           </td><td>3           </td><td>5           </td><td>3           </td><td>1           </td><td>0           </td><td>1           </td><td>137         </td><td>        NA  </td><td>-0.5882855  </td><td>-0.505900208</td><td>-1.36372061 </td><td> 0.72808731 </td><td>-0.7686307  </td><td>1           </td></tr>\n",
       "\t<tr><td>305789      </td><td>1           </td><td>4           </td><td> 1          </td><td>4           </td><td>1           </td><td>5           </td><td>1           </td><td>2           </td><td>1           </td><td>1           </td><td>  0         </td><td>-0.5772853  </td><td> 0.2048114  </td><td>-0.487868024</td><td> 1.25691315 </td><td> 0.68977376 </td><td>-0.7686307  </td><td>0           </td></tr>\n",
       "\t<tr><td>304994      </td><td>3           </td><td>3           </td><td>11          </td><td>2           </td><td>2           </td><td>5           </td><td>3           </td><td>1           </td><td>0           </td><td>2           </td><td>168         </td><td>        NA  </td><td>-0.3239198  </td><td>-0.026920326</td><td>-0.31546711 </td><td>-1.88468393 </td><td> 0.5139798  </td><td>1           </td></tr>\n",
       "\t<tr><td>305739      </td><td>3           </td><td>3           </td><td> 1          </td><td>4           </td><td>4           </td><td>4           </td><td>3           </td><td>1           </td><td>1           </td><td>1           </td><td>  0         </td><td> 0.7649334  </td><td>-0.3239198  </td><td> 0.751844611</td><td> 0.05890915 </td><td>-1.70304932 </td><td> 1.7965902  </td><td>0           </td></tr>\n",
       "\t<tr><td>305650      </td><td>3           </td><td>5           </td><td>10          </td><td>3           </td><td>2           </td><td>4           </td><td>3           </td><td>1           </td><td>0           </td><td>1           </td><td> 45         </td><td>        NA  </td><td>-0.3239198  </td><td> 0.055351512</td><td>-1.51347111 </td><td>-0.73783167 </td><td> 0.5139798  </td><td>1           </td></tr>\n",
       "\t<tr><td>305844      </td><td>1           </td><td>5           </td><td>10          </td><td>4           </td><td>1           </td><td>5           </td><td>1           </td><td>2           </td><td>1           </td><td>1           </td><td>  0         </td><td> 0.7400775  </td><td> 0.7335427  </td><td> 0.088034846</td><td> 0.05890915 </td><td> 0.38518104 </td><td> 0.5139798  </td><td>0           </td></tr>\n",
       "\t<tr><td>305886      </td><td>1           </td><td>4           </td><td>11          </td><td>5           </td><td>7           </td><td>7           </td><td>1           </td><td>2           </td><td>1           </td><td>1           </td><td>112         </td><td> 0.6655098  </td><td>-0.8526511  </td><td>-0.093414004</td><td> 1.40666366 </td><td>-0.26870354 </td><td> 0.5139798  </td><td>1           </td></tr>\n",
       "\t<tr><td>305823      </td><td>3           </td><td>5           </td><td> 2          </td><td>1           </td><td>5           </td><td>5           </td><td>3           </td><td>1           </td><td>0           </td><td>1           </td><td>  0         </td><td>        NA  </td><td>-0.7645292  </td><td>-0.540837564</td><td>-1.21397011 </td><td>-0.16483125 </td><td>-0.7686307  </td><td>0           </td></tr>\n",
       "\t<tr><td>305885      </td><td>3           </td><td>4           </td><td>11          </td><td>1           </td><td>2           </td><td>4           </td><td>3           </td><td>1           </td><td>0           </td><td>1           </td><td>  0         </td><td>        NA  </td><td>-0.6764074  </td><td>-0.505900208</td><td> 0.43328540 </td><td>-1.32275186 </td><td>-0.7686307  </td><td>0           </td></tr>\n",
       "\t<tr><td>305846      </td><td>1           </td><td>4           </td><td>11          </td><td>5           </td><td>7           </td><td>7           </td><td>1           </td><td>2           </td><td>1           </td><td>1           </td><td>  0         </td><td> 0.1559638  </td><td>-0.3239198  </td><td>-0.550980667</td><td> 1.70616466 </td><td> 0.91326947 </td><td>-0.7686307  </td><td>0           </td></tr>\n",
       "\t<tr><td>304880      </td><td>1           </td><td>2           </td><td> 2          </td><td>4           </td><td>2           </td><td>5           </td><td>1           </td><td>3           </td><td>1           </td><td>2           </td><td> 15         </td><td>-0.5151456  </td><td> 1.7910052  </td><td> 0.614349210</td><td>-0.09084135 </td><td> 0.07285466 </td><td> 1.7965902  </td><td>0           </td></tr>\n",
       "\t<tr><td>305882      </td><td>1           </td><td>5           </td><td>10          </td><td>4           </td><td>1           </td><td>5           </td><td>3           </td><td>3           </td><td>0           </td><td>3           </td><td>  0         </td><td>        NA  </td><td>-0.9143364  </td><td>-0.354880668</td><td>-0.31546711 </td><td>-1.58775392 </td><td>-0.7686307  </td><td>0           </td></tr>\n",
       "\t<tr><td>305926      </td><td>1           </td><td>4           </td><td>15          </td><td>4           </td><td>4           </td><td>4           </td><td>3           </td><td>3           </td><td>1           </td><td>1           </td><td>  0         </td><td> 0.5163744  </td><td>-0.7645292  </td><td>-0.486741012</td><td> 0.50816065 </td><td> 0.99841069 </td><td>-0.7686307  </td><td>0           </td></tr>\n",
       "\t<tr><td>305871      </td><td>1           </td><td>5           </td><td> 7          </td><td>3           </td><td>1           </td><td>4           </td><td>1           </td><td>3           </td><td>0           </td><td>2           </td><td>  0         </td><td>        NA  </td><td> 0.5572989  </td><td>-0.378547910</td><td>-0.01596610 </td><td> 1.12931532 </td><td>-0.7686307  </td><td>0           </td></tr>\n",
       "\t<tr><td>305925      </td><td>1           </td><td>5           </td><td> 1          </td><td>3           </td><td>2           </td><td>4           </td><td>1           </td><td>4           </td><td>1           </td><td>1           </td><td>  0         </td><td>-0.4654338  </td><td>-0.3239198  </td><td>-0.090032969</td><td>-0.31546711 </td><td>-1.42662415 </td><td> 0.5139798  </td><td>0           </td></tr>\n",
       "\t<tr><td>305892      </td><td>4           </td><td>4           </td><td>10          </td><td>4           </td><td>3           </td><td>4           </td><td>3           </td><td>2           </td><td>1           </td><td>1           </td><td>  0         </td><td> 0.7649334  </td><td>-0.5001636  </td><td>-0.180193888</td><td>-0.68984336 </td><td>-0.95919885 </td><td> 0.5139798  </td><td>0           </td></tr>\n",
       "\t<tr><td>302908      </td><td>3           </td><td>3           </td><td> 2          </td><td>4           </td><td>1           </td><td>4           </td><td>3           </td><td>1           </td><td>0           </td><td>1           </td><td> 76         </td><td>        NA  </td><td> 0.5572989  </td><td>-0.086651935</td><td>-1.06421961 </td><td>-0.71654637 </td><td> 0.5139798  </td><td>1           </td></tr>\n",
       "\t<tr><td>305940      </td><td>1           </td><td>5           </td><td>11          </td><td>5           </td><td>7           </td><td>7           </td><td>1           </td><td>2           </td><td>1           </td><td>1           </td><td>  0         </td><td>-0.3908661  </td><td> 0.1695627  </td><td>-0.531821472</td><td> 1.63128941 </td><td> 1.09313030 </td><td>-0.7686307  </td><td>0           </td></tr>\n",
       "\t<tr><td>305957      </td><td>2           </td><td>1           </td><td> 2          </td><td>1           </td><td>4           </td><td>4           </td><td>1           </td><td>1           </td><td>1           </td><td>2           </td><td>  0         </td><td>-1.0246916  </td><td>-0.5882855  </td><td> 0.615476221</td><td> 1.55641416 </td><td> 1.11725364 </td><td> 1.7965902  </td><td>0           </td></tr>\n",
       "\t<tr><td>305891      </td><td>3           </td><td>4           </td><td>11          </td><td>2           </td><td>4           </td><td>5           </td><td>1           </td><td>1           </td><td>0           </td><td>1           </td><td>  0         </td><td>        NA  </td><td>-0.3239198  </td><td>-0.605077218</td><td> 1.33178840 </td><td>-0.17760243 </td><td>-0.7686307  </td><td>0           </td></tr>\n",
       "</tbody>\n",
       "</table>\n"
      ],
      "text/latex": [
       "\\begin{tabular}{r|lllllllllllllllllll}\n",
       " ID & V1 & V2 & V3 & V4 & V5 & V6 & V7 & V8 & Has\\_FICO & Business\\_channel & Days\\_late & FICO\\_Score & Loan\\_amount & Monthly\\_income & Age & Gearing\\_coefficient & Max\\_gearing\\_ratio & Default\\_45\\\\\n",
       "\\hline\n",
       "\t 250263      & 1           & 1           & 11          & 5           & 6           & 7           & 1           & 2           & 0           & 1           &   0         &         NA  &  1.43851768 & -0.25908469 &  1.78103991 &  0.86026906 &  0.5139798  & 0          \\\\\n",
       "\t 250290      & 1           & 2           &  6          & 4           & 5           & 1           & 1           & 2           & 1           & 1           &   0         &  1.4981826  &  0.20481141 &  0.38331185 &  1.10716265 & -0.71824919 &  1.7965902  & 0          \\\\\n",
       "\t 250249      & 2           & 3           & 11          & 5           & 7           & 7           & 1           & 2           & 1           & 1           &   0         & -0.2417306  & -0.85265110 & -0.73242952 &  1.40666366 &  1.12292973 & -0.7686307  & 0          \\\\\n",
       "\t 249516      & 3           & 3           & 10          & 4           & 2           & 4           & 1           & 2           & 0           & 1           & 168         &         NA  & -0.67640735 & -0.05734964 &  0.95741215 & -1.70248171 &  0.5139798  & 1          \\\\\n",
       "\t 249827      & 1           & 3           &  5          & 2           & 4           & 4           & 1           & 3           & 0           & 1           &   0         &         NA  & -0.41204172 & -0.57464791 & -0.39034236 &  0.91007667 & -0.7686307  & 0          \\\\\n",
       "\t 250329      & 1           & 3           & 11          & 2           & 5           & 4           & 3           & 4           & 0           & 2           &   0         &         NA  &  0.55729892 & -0.21062320 & -0.39034236 & -0.38449560 &  0.5139798  & 0          \\\\\n",
       "\t 250196      & 2           & 4           & 11          & 5           & 7           & 7           & 3           & 1           & 1           & 1           &   0         &  0.5909421  & -0.85265110 & -0.67495193 &  1.25691315 & -0.78955496 & -0.7686307  & 0          \\\\\n",
       "\t 250358      & 1           & 3           & 12          & 3           & 3           & 5           & 1           & 3           & 0           & 2           &   0         &         NA  & -0.46491485 & -0.58028297 & -0.46521761 &  0.50352734 & -0.7686307  & 0          \\\\\n",
       "\t 250375      & 2           & 5           & 11          & 5           & 1           & 7           & 1           & 1           & 0           & 1           & 336         &         NA  &  0.02856766 & -0.70988929 &  1.40666366 &  1.06226661 & -0.7686307  & 1          \\\\\n",
       "\t 250415      & 3           & 3           & 14          & 1           & 4           & 4           & 3           & 1           & 0           & 1           &   0         &         NA  & -0.23579797 & -0.76623986 & -0.31546711 &  1.02395306 & -0.7686307  & 0          \\\\\n",
       "\t 250334      & 1           & 3           & 15          & 4           & 3           & 4           & 1           & 3           & 0           & 1           & 349         &         NA  &  2.14349269 & -0.04833354 & -0.31546711 &  1.09440742 &  0.5139798  & 1          \\\\\n",
       "\t 250321      & 1           & 4           & 15          & 2           & 2           & 4           & 1           & 2           & 0           & 1           &   0         &         NA  & -0.05955422 & -0.67269791 & -0.01596610 &  0.89624122 & -0.7686307  & 0          \\\\\n",
       "\t 250033      & 3           & 3           &  3          & 4           & 2           & 4           & 3           & 1           & 0           & 2           &   0         &         NA  & -0.32391985 & -0.01565021 & -1.43859586 & -1.47345183 &  0.5139798  & 0          \\\\\n",
       "\t 250018      & 1           & 5           & 11          & 5           & 7           & 7           & 1           & 2           & 1           & 3           &   0         &  1.1999118  & -1.00333951 & -0.88344906 &  1.78103991 & -0.99815096 & -0.7686307  & 0          \\\\\n",
       "\t 250310      & 1           & 1           & 12          & 4           & 6           & 1           & 1           & 3           & 1           & 1           &   0         & -0.2790145  & -0.39441735 & -0.26246573 & -0.39034236 &  1.08248765 & -0.7686307  & 0          \\\\\n",
       "\t 250470      & 1           & 3           & 12          & 2           & 6           & 1           & 1           & 3           & 1           & 1           &  15         & -1.3975301  & -0.85265110 & -0.64452262 &  0.20865965 &  1.07184499 & -0.7686307  & 0          \\\\\n",
       "\t 250370      & 1           & 3           & 15          & 1           & 2           & 4           & 1           & 2           & 0           & 1           &  15         &         NA  &  0.02856766 & -0.63663354 & -1.13909486 &  0.92071932 & -0.7686307  & 0          \\\\\n",
       "\t 250420      & 1           & 3           & 11          & 5           & 6           & 7           & 1           & 2           & 0           & 1           &   0         &         NA  & -0.32391985 & -0.60282320 &  1.40666366 &  0.41625759 & -0.7686307  & 0          \\\\\n",
       "\t 250523      & 2           & 4           & 11          & 5           & 7           & 7           & 1           & 1           & 0           & 1           &   0         &         NA  &  0.02856766 & -0.48899504 &  1.18203790 &  1.01437467 & -0.7686307  & 0          \\\\\n",
       "\t 250512      & 1           & 1           & 12          & 2           & 1           & 1           & 3           & 2           & 1           & 1           & 594         & -0.8507003  & -0.67640735 & -0.39658009 &  0.50816065 & -0.07756150 & -0.7686307  & 1          \\\\\n",
       "\t 250566      & 1           & 4           & 10          & 5           & 7           & 7           & 1           & 2           & 1           & 1           &  15         &  1.5230385  & -0.14767609 & -0.26021170 &  0.95741215 &  1.05949952 &  0.5139798  & 0          \\\\\n",
       "\t 250479      & 4           & 4           & 11          & 5           & 5           & 7           & 1           & 1           & 1           & 1           & 319         & -0.4032940  &  1.08603017 & -0.08327090 &  0.20865965 & -0.34447923 &  0.5139798  & 1          \\\\\n",
       "\t 250546      & 3           & 1           & 11          & 4           & 2           & 1           & 3           & 1           & 0           & 1           &   0         &         NA  &  0.82166455 &  0.04295439 & -1.21397011 & -0.71824919 &  0.5139798  & 0          \\\\\n",
       "\t 250559      & 1           & 3           &  2          & 1           & 4           & 5           & 1           & 2           & 0           & 1           &   0         &         NA  & -0.32391985 & -0.67269791 &  0.50816065 &  0.02460797 & -0.7686307  & 0          \\\\\n",
       "\t 250578      & 4           & 3           & 13          & 1           & 3           & 5           & 3           & 1           & 1           & 1           &   0         & -1.1116873  & -0.14767609 & -0.70087319 & -1.13909486 &  0.80790721 & -0.7686307  & 0          \\\\\n",
       "\t 250545      & 1           & 4           & 10          & 4           & 4           & 5           & 1           & 2           & 1           & 2           & 273         & -1.1116873  &  0.55729892 & -0.15539964 & -1.21397011 & -0.52583003 &  0.5139798  & 1          \\\\\n",
       "\t 250452      & 1           & 4           &  3          & 1           & 3           & 4           & 1           & 3           & 1           & 1           &   0         &  0.2181036  &  0.02856766 & -0.07087377 &  0.20865965 &  1.12165261 &  0.5139798  & 0          \\\\\n",
       "\t 250079      & 1           & 4           & 15          & 2           & 2           & 4           & 1           & 2           & 0           & 1           &   0         &         NA  &  0.01094328 & -0.67269791 &  0.13378440 &  1.10909428 & -0.7686307  & 0          \\\\\n",
       "\t 250395      & 1           & 4           & 10          & 4           & 6           & 4           & 1           & 2           & 1           & 1           &   0         &  1.1129161  & -0.85265110 & -0.42926343 & -0.68984336 & -0.42557624 & -0.7686307  & 0          \\\\\n",
       "\t 250644      & 1           & 3           & 15          & 4           & 6           & 4           & 1           & 2           & 1           & 1           & 168         & -0.6145692  & -0.32391985 &  1.66810495 &  0.05890915 & -0.02434823 &  1.7965902  & 1          \\\\\n",
       "\t ... & ... & ... & ... & ... & ... & ... & ... & ... & ... & ... & ... & ... & ... & ... & ... & ... & ... & ...\\\\\n",
       "\t 305655       & 3            & 5            & 10           & 3            & 2            & 5            & 3            & 3            & 1            & 1            & 107          & -0.9749798   &  0.5572989   & -0.207242164 & -0.31546711  &  0.09740371  &  0.5139798   & 1           \\\\\n",
       "\t 304997       & 1            & 3            & 11           & 4            & 3            & 5            & 1            & 3            & 1            & 1            &   0          & -1.0619754   &  1.4385177   &  0.008017030 & -1.13909486  &  0.63294200  &  0.5139798   & 0           \\\\\n",
       "\t 305752       & 1            & 3            & 15           & 1            & 6            & 1            & 1            & 3            & 1            & 1            &   0          &  0.8022173   &  3.2009552   & -0.467581817 &  0.35841015  &  0.66884321  &  1.7965902   & 0           \\\\\n",
       "\t 305832       & 3            & 3            & 10           & 4            & 1            & 4            & 3            & 1            & 0            & 1            & 137          &         NA   & -0.6764074   &  0.394581970 & -0.83959386  & -2.04077617  &  1.7965902   & 1           \\\\\n",
       "\t 305830       & 3            & 2            & 11           & 2            & 3            & 4            & 3            & 1            & 0            & 1            &  45          &         NA   & -0.8526511   & -0.464200783 &  0.13378440  &  0.26832471  & -0.7686307   & 1           \\\\\n",
       "\t 305495       & 1            & 4            & 11           & 2            & 1            & 5            & 1            & 3            & 1            & 2            &   0          & -1.3726742   &  0.5572989   &  0.001254961 &  0.28353490  & -0.80083618  &  0.5139798   & 0           \\\\\n",
       "\t 305758       & 2            & 1            &  5           & 4            & 1            & 4            & 1            & 1            & 1            & 1            & 198          & -1.0744034   &  1.0860302   &  0.289769902 &  1.33178840  &  0.12890596  &  1.7965902   & 1           \\\\\n",
       "\t 305824       & 2            & 4            & 10           & 4            & 4            & 4            & 1            & 1            & 1            & 1            &   0          &  1.0010645   & -0.8526511   & -0.066365728 &  1.03228740  & -1.36617389  &  0.5139798   & 0           \\\\\n",
       "\t 305893       & 1            & 4            & 11           & 4            & 5            & 4            & 3            & 4            & 1            & 3            &   0          &  0.2926713   & -1.0202589   &  2.177514141 & -0.46521761  & -1.84566087  &  1.7965902   & 0           \\\\\n",
       "\t 305851       & 3            & 5            & 10           & 4            & 3            & 5            & 3            & 3            & 0            & 1            &   0          &         NA   & -0.8526511   & -0.113700210 & -0.31546711  & -2.08221156  &  0.5139798   & 0           \\\\\n",
       "\t 305827       & 3            & 5            &  3           & 1            & 3            & 5            & 3            & 1            & 0            & 1            & 137          &         NA   & -0.5882855   & -0.505900208 & -1.36372061  &  0.72808731  & -0.7686307   & 1           \\\\\n",
       "\t 305789       & 1            & 4            &  1           & 4            & 1            & 5            & 1            & 2            & 1            & 1            &   0          & -0.5772853   &  0.2048114   & -0.487868024 &  1.25691315  &  0.68977376  & -0.7686307   & 0           \\\\\n",
       "\t 304994       & 3            & 3            & 11           & 2            & 2            & 5            & 3            & 1            & 0            & 2            & 168          &         NA   & -0.3239198   & -0.026920326 & -0.31546711  & -1.88468393  &  0.5139798   & 1           \\\\\n",
       "\t 305739       & 3            & 3            &  1           & 4            & 4            & 4            & 3            & 1            & 1            & 1            &   0          &  0.7649334   & -0.3239198   &  0.751844611 &  0.05890915  & -1.70304932  &  1.7965902   & 0           \\\\\n",
       "\t 305650       & 3            & 5            & 10           & 3            & 2            & 4            & 3            & 1            & 0            & 1            &  45          &         NA   & -0.3239198   &  0.055351512 & -1.51347111  & -0.73783167  &  0.5139798   & 1           \\\\\n",
       "\t 305844       & 1            & 5            & 10           & 4            & 1            & 5            & 1            & 2            & 1            & 1            &   0          &  0.7400775   &  0.7335427   &  0.088034846 &  0.05890915  &  0.38518104  &  0.5139798   & 0           \\\\\n",
       "\t 305886       & 1            & 4            & 11           & 5            & 7            & 7            & 1            & 2            & 1            & 1            & 112          &  0.6655098   & -0.8526511   & -0.093414004 &  1.40666366  & -0.26870354  &  0.5139798   & 1           \\\\\n",
       "\t 305823       & 3            & 5            &  2           & 1            & 5            & 5            & 3            & 1            & 0            & 1            &   0          &         NA   & -0.7645292   & -0.540837564 & -1.21397011  & -0.16483125  & -0.7686307   & 0           \\\\\n",
       "\t 305885       & 3            & 4            & 11           & 1            & 2            & 4            & 3            & 1            & 0            & 1            &   0          &         NA   & -0.6764074   & -0.505900208 &  0.43328540  & -1.32275186  & -0.7686307   & 0           \\\\\n",
       "\t 305846       & 1            & 4            & 11           & 5            & 7            & 7            & 1            & 2            & 1            & 1            &   0          &  0.1559638   & -0.3239198   & -0.550980667 &  1.70616466  &  0.91326947  & -0.7686307   & 0           \\\\\n",
       "\t 304880       & 1            & 2            &  2           & 4            & 2            & 5            & 1            & 3            & 1            & 2            &  15          & -0.5151456   &  1.7910052   &  0.614349210 & -0.09084135  &  0.07285466  &  1.7965902   & 0           \\\\\n",
       "\t 305882       & 1            & 5            & 10           & 4            & 1            & 5            & 3            & 3            & 0            & 3            &   0          &         NA   & -0.9143364   & -0.354880668 & -0.31546711  & -1.58775392  & -0.7686307   & 0           \\\\\n",
       "\t 305926       & 1            & 4            & 15           & 4            & 4            & 4            & 3            & 3            & 1            & 1            &   0          &  0.5163744   & -0.7645292   & -0.486741012 &  0.50816065  &  0.99841069  & -0.7686307   & 0           \\\\\n",
       "\t 305871       & 1            & 5            &  7           & 3            & 1            & 4            & 1            & 3            & 0            & 2            &   0          &         NA   &  0.5572989   & -0.378547910 & -0.01596610  &  1.12931532  & -0.7686307   & 0           \\\\\n",
       "\t 305925       & 1            & 5            &  1           & 3            & 2            & 4            & 1            & 4            & 1            & 1            &   0          & -0.4654338   & -0.3239198   & -0.090032969 & -0.31546711  & -1.42662415  &  0.5139798   & 0           \\\\\n",
       "\t 305892       & 4            & 4            & 10           & 4            & 3            & 4            & 3            & 2            & 1            & 1            &   0          &  0.7649334   & -0.5001636   & -0.180193888 & -0.68984336  & -0.95919885  &  0.5139798   & 0           \\\\\n",
       "\t 302908       & 3            & 3            &  2           & 4            & 1            & 4            & 3            & 1            & 0            & 1            &  76          &         NA   &  0.5572989   & -0.086651935 & -1.06421961  & -0.71654637  &  0.5139798   & 1           \\\\\n",
       "\t 305940       & 1            & 5            & 11           & 5            & 7            & 7            & 1            & 2            & 1            & 1            &   0          & -0.3908661   &  0.1695627   & -0.531821472 &  1.63128941  &  1.09313030  & -0.7686307   & 0           \\\\\n",
       "\t 305957       & 2            & 1            &  2           & 1            & 4            & 4            & 1            & 1            & 1            & 2            &   0          & -1.0246916   & -0.5882855   &  0.615476221 &  1.55641416  &  1.11725364  &  1.7965902   & 0           \\\\\n",
       "\t 305891       & 3            & 4            & 11           & 2            & 4            & 5            & 1            & 1            & 0            & 1            &   0          &         NA   & -0.3239198   & -0.605077218 &  1.33178840  & -0.17760243  & -0.7686307   & 0           \\\\\n",
       "\\end{tabular}\n"
      ],
      "text/markdown": [
       "\n",
       "| ID | V1 | V2 | V3 | V4 | V5 | V6 | V7 | V8 | Has_FICO | Business_channel | Days_late | FICO_Score | Loan_amount | Monthly_income | Age | Gearing_coefficient | Max_gearing_ratio | Default_45 |\n",
       "|---|---|---|---|---|---|---|---|---|---|---|---|---|---|---|---|---|---|---|\n",
       "| 250263      | 1           | 1           | 11          | 5           | 6           | 7           | 1           | 2           | 0           | 1           |   0         |         NA  |  1.43851768 | -0.25908469 |  1.78103991 |  0.86026906 |  0.5139798  | 0           |\n",
       "| 250290      | 1           | 2           |  6          | 4           | 5           | 1           | 1           | 2           | 1           | 1           |   0         |  1.4981826  |  0.20481141 |  0.38331185 |  1.10716265 | -0.71824919 |  1.7965902  | 0           |\n",
       "| 250249      | 2           | 3           | 11          | 5           | 7           | 7           | 1           | 2           | 1           | 1           |   0         | -0.2417306  | -0.85265110 | -0.73242952 |  1.40666366 |  1.12292973 | -0.7686307  | 0           |\n",
       "| 249516      | 3           | 3           | 10          | 4           | 2           | 4           | 1           | 2           | 0           | 1           | 168         |         NA  | -0.67640735 | -0.05734964 |  0.95741215 | -1.70248171 |  0.5139798  | 1           |\n",
       "| 249827      | 1           | 3           |  5          | 2           | 4           | 4           | 1           | 3           | 0           | 1           |   0         |         NA  | -0.41204172 | -0.57464791 | -0.39034236 |  0.91007667 | -0.7686307  | 0           |\n",
       "| 250329      | 1           | 3           | 11          | 2           | 5           | 4           | 3           | 4           | 0           | 2           |   0         |         NA  |  0.55729892 | -0.21062320 | -0.39034236 | -0.38449560 |  0.5139798  | 0           |\n",
       "| 250196      | 2           | 4           | 11          | 5           | 7           | 7           | 3           | 1           | 1           | 1           |   0         |  0.5909421  | -0.85265110 | -0.67495193 |  1.25691315 | -0.78955496 | -0.7686307  | 0           |\n",
       "| 250358      | 1           | 3           | 12          | 3           | 3           | 5           | 1           | 3           | 0           | 2           |   0         |         NA  | -0.46491485 | -0.58028297 | -0.46521761 |  0.50352734 | -0.7686307  | 0           |\n",
       "| 250375      | 2           | 5           | 11          | 5           | 1           | 7           | 1           | 1           | 0           | 1           | 336         |         NA  |  0.02856766 | -0.70988929 |  1.40666366 |  1.06226661 | -0.7686307  | 1           |\n",
       "| 250415      | 3           | 3           | 14          | 1           | 4           | 4           | 3           | 1           | 0           | 1           |   0         |         NA  | -0.23579797 | -0.76623986 | -0.31546711 |  1.02395306 | -0.7686307  | 0           |\n",
       "| 250334      | 1           | 3           | 15          | 4           | 3           | 4           | 1           | 3           | 0           | 1           | 349         |         NA  |  2.14349269 | -0.04833354 | -0.31546711 |  1.09440742 |  0.5139798  | 1           |\n",
       "| 250321      | 1           | 4           | 15          | 2           | 2           | 4           | 1           | 2           | 0           | 1           |   0         |         NA  | -0.05955422 | -0.67269791 | -0.01596610 |  0.89624122 | -0.7686307  | 0           |\n",
       "| 250033      | 3           | 3           |  3          | 4           | 2           | 4           | 3           | 1           | 0           | 2           |   0         |         NA  | -0.32391985 | -0.01565021 | -1.43859586 | -1.47345183 |  0.5139798  | 0           |\n",
       "| 250018      | 1           | 5           | 11          | 5           | 7           | 7           | 1           | 2           | 1           | 3           |   0         |  1.1999118  | -1.00333951 | -0.88344906 |  1.78103991 | -0.99815096 | -0.7686307  | 0           |\n",
       "| 250310      | 1           | 1           | 12          | 4           | 6           | 1           | 1           | 3           | 1           | 1           |   0         | -0.2790145  | -0.39441735 | -0.26246573 | -0.39034236 |  1.08248765 | -0.7686307  | 0           |\n",
       "| 250470      | 1           | 3           | 12          | 2           | 6           | 1           | 1           | 3           | 1           | 1           |  15         | -1.3975301  | -0.85265110 | -0.64452262 |  0.20865965 |  1.07184499 | -0.7686307  | 0           |\n",
       "| 250370      | 1           | 3           | 15          | 1           | 2           | 4           | 1           | 2           | 0           | 1           |  15         |         NA  |  0.02856766 | -0.63663354 | -1.13909486 |  0.92071932 | -0.7686307  | 0           |\n",
       "| 250420      | 1           | 3           | 11          | 5           | 6           | 7           | 1           | 2           | 0           | 1           |   0         |         NA  | -0.32391985 | -0.60282320 |  1.40666366 |  0.41625759 | -0.7686307  | 0           |\n",
       "| 250523      | 2           | 4           | 11          | 5           | 7           | 7           | 1           | 1           | 0           | 1           |   0         |         NA  |  0.02856766 | -0.48899504 |  1.18203790 |  1.01437467 | -0.7686307  | 0           |\n",
       "| 250512      | 1           | 1           | 12          | 2           | 1           | 1           | 3           | 2           | 1           | 1           | 594         | -0.8507003  | -0.67640735 | -0.39658009 |  0.50816065 | -0.07756150 | -0.7686307  | 1           |\n",
       "| 250566      | 1           | 4           | 10          | 5           | 7           | 7           | 1           | 2           | 1           | 1           |  15         |  1.5230385  | -0.14767609 | -0.26021170 |  0.95741215 |  1.05949952 |  0.5139798  | 0           |\n",
       "| 250479      | 4           | 4           | 11          | 5           | 5           | 7           | 1           | 1           | 1           | 1           | 319         | -0.4032940  |  1.08603017 | -0.08327090 |  0.20865965 | -0.34447923 |  0.5139798  | 1           |\n",
       "| 250546      | 3           | 1           | 11          | 4           | 2           | 1           | 3           | 1           | 0           | 1           |   0         |         NA  |  0.82166455 |  0.04295439 | -1.21397011 | -0.71824919 |  0.5139798  | 0           |\n",
       "| 250559      | 1           | 3           |  2          | 1           | 4           | 5           | 1           | 2           | 0           | 1           |   0         |         NA  | -0.32391985 | -0.67269791 |  0.50816065 |  0.02460797 | -0.7686307  | 0           |\n",
       "| 250578      | 4           | 3           | 13          | 1           | 3           | 5           | 3           | 1           | 1           | 1           |   0         | -1.1116873  | -0.14767609 | -0.70087319 | -1.13909486 |  0.80790721 | -0.7686307  | 0           |\n",
       "| 250545      | 1           | 4           | 10          | 4           | 4           | 5           | 1           | 2           | 1           | 2           | 273         | -1.1116873  |  0.55729892 | -0.15539964 | -1.21397011 | -0.52583003 |  0.5139798  | 1           |\n",
       "| 250452      | 1           | 4           |  3          | 1           | 3           | 4           | 1           | 3           | 1           | 1           |   0         |  0.2181036  |  0.02856766 | -0.07087377 |  0.20865965 |  1.12165261 |  0.5139798  | 0           |\n",
       "| 250079      | 1           | 4           | 15          | 2           | 2           | 4           | 1           | 2           | 0           | 1           |   0         |         NA  |  0.01094328 | -0.67269791 |  0.13378440 |  1.10909428 | -0.7686307  | 0           |\n",
       "| 250395      | 1           | 4           | 10          | 4           | 6           | 4           | 1           | 2           | 1           | 1           |   0         |  1.1129161  | -0.85265110 | -0.42926343 | -0.68984336 | -0.42557624 | -0.7686307  | 0           |\n",
       "| 250644      | 1           | 3           | 15          | 4           | 6           | 4           | 1           | 2           | 1           | 1           | 168         | -0.6145692  | -0.32391985 |  1.66810495 |  0.05890915 | -0.02434823 |  1.7965902  | 1           |\n",
       "| ... | ... | ... | ... | ... | ... | ... | ... | ... | ... | ... | ... | ... | ... | ... | ... | ... | ... | ... |\n",
       "| 305655       | 3            | 5            | 10           | 3            | 2            | 5            | 3            | 3            | 1            | 1            | 107          | -0.9749798   |  0.5572989   | -0.207242164 | -0.31546711  |  0.09740371  |  0.5139798   | 1            |\n",
       "| 304997       | 1            | 3            | 11           | 4            | 3            | 5            | 1            | 3            | 1            | 1            |   0          | -1.0619754   |  1.4385177   |  0.008017030 | -1.13909486  |  0.63294200  |  0.5139798   | 0            |\n",
       "| 305752       | 1            | 3            | 15           | 1            | 6            | 1            | 1            | 3            | 1            | 1            |   0          |  0.8022173   |  3.2009552   | -0.467581817 |  0.35841015  |  0.66884321  |  1.7965902   | 0            |\n",
       "| 305832       | 3            | 3            | 10           | 4            | 1            | 4            | 3            | 1            | 0            | 1            | 137          |         NA   | -0.6764074   |  0.394581970 | -0.83959386  | -2.04077617  |  1.7965902   | 1            |\n",
       "| 305830       | 3            | 2            | 11           | 2            | 3            | 4            | 3            | 1            | 0            | 1            |  45          |         NA   | -0.8526511   | -0.464200783 |  0.13378440  |  0.26832471  | -0.7686307   | 1            |\n",
       "| 305495       | 1            | 4            | 11           | 2            | 1            | 5            | 1            | 3            | 1            | 2            |   0          | -1.3726742   |  0.5572989   |  0.001254961 |  0.28353490  | -0.80083618  |  0.5139798   | 0            |\n",
       "| 305758       | 2            | 1            |  5           | 4            | 1            | 4            | 1            | 1            | 1            | 1            | 198          | -1.0744034   |  1.0860302   |  0.289769902 |  1.33178840  |  0.12890596  |  1.7965902   | 1            |\n",
       "| 305824       | 2            | 4            | 10           | 4            | 4            | 4            | 1            | 1            | 1            | 1            |   0          |  1.0010645   | -0.8526511   | -0.066365728 |  1.03228740  | -1.36617389  |  0.5139798   | 0            |\n",
       "| 305893       | 1            | 4            | 11           | 4            | 5            | 4            | 3            | 4            | 1            | 3            |   0          |  0.2926713   | -1.0202589   |  2.177514141 | -0.46521761  | -1.84566087  |  1.7965902   | 0            |\n",
       "| 305851       | 3            | 5            | 10           | 4            | 3            | 5            | 3            | 3            | 0            | 1            |   0          |         NA   | -0.8526511   | -0.113700210 | -0.31546711  | -2.08221156  |  0.5139798   | 0            |\n",
       "| 305827       | 3            | 5            |  3           | 1            | 3            | 5            | 3            | 1            | 0            | 1            | 137          |         NA   | -0.5882855   | -0.505900208 | -1.36372061  |  0.72808731  | -0.7686307   | 1            |\n",
       "| 305789       | 1            | 4            |  1           | 4            | 1            | 5            | 1            | 2            | 1            | 1            |   0          | -0.5772853   |  0.2048114   | -0.487868024 |  1.25691315  |  0.68977376  | -0.7686307   | 0            |\n",
       "| 304994       | 3            | 3            | 11           | 2            | 2            | 5            | 3            | 1            | 0            | 2            | 168          |         NA   | -0.3239198   | -0.026920326 | -0.31546711  | -1.88468393  |  0.5139798   | 1            |\n",
       "| 305739       | 3            | 3            |  1           | 4            | 4            | 4            | 3            | 1            | 1            | 1            |   0          |  0.7649334   | -0.3239198   |  0.751844611 |  0.05890915  | -1.70304932  |  1.7965902   | 0            |\n",
       "| 305650       | 3            | 5            | 10           | 3            | 2            | 4            | 3            | 1            | 0            | 1            |  45          |         NA   | -0.3239198   |  0.055351512 | -1.51347111  | -0.73783167  |  0.5139798   | 1            |\n",
       "| 305844       | 1            | 5            | 10           | 4            | 1            | 5            | 1            | 2            | 1            | 1            |   0          |  0.7400775   |  0.7335427   |  0.088034846 |  0.05890915  |  0.38518104  |  0.5139798   | 0            |\n",
       "| 305886       | 1            | 4            | 11           | 5            | 7            | 7            | 1            | 2            | 1            | 1            | 112          |  0.6655098   | -0.8526511   | -0.093414004 |  1.40666366  | -0.26870354  |  0.5139798   | 1            |\n",
       "| 305823       | 3            | 5            |  2           | 1            | 5            | 5            | 3            | 1            | 0            | 1            |   0          |         NA   | -0.7645292   | -0.540837564 | -1.21397011  | -0.16483125  | -0.7686307   | 0            |\n",
       "| 305885       | 3            | 4            | 11           | 1            | 2            | 4            | 3            | 1            | 0            | 1            |   0          |         NA   | -0.6764074   | -0.505900208 |  0.43328540  | -1.32275186  | -0.7686307   | 0            |\n",
       "| 305846       | 1            | 4            | 11           | 5            | 7            | 7            | 1            | 2            | 1            | 1            |   0          |  0.1559638   | -0.3239198   | -0.550980667 |  1.70616466  |  0.91326947  | -0.7686307   | 0            |\n",
       "| 304880       | 1            | 2            |  2           | 4            | 2            | 5            | 1            | 3            | 1            | 2            |  15          | -0.5151456   |  1.7910052   |  0.614349210 | -0.09084135  |  0.07285466  |  1.7965902   | 0            |\n",
       "| 305882       | 1            | 5            | 10           | 4            | 1            | 5            | 3            | 3            | 0            | 3            |   0          |         NA   | -0.9143364   | -0.354880668 | -0.31546711  | -1.58775392  | -0.7686307   | 0            |\n",
       "| 305926       | 1            | 4            | 15           | 4            | 4            | 4            | 3            | 3            | 1            | 1            |   0          |  0.5163744   | -0.7645292   | -0.486741012 |  0.50816065  |  0.99841069  | -0.7686307   | 0            |\n",
       "| 305871       | 1            | 5            |  7           | 3            | 1            | 4            | 1            | 3            | 0            | 2            |   0          |         NA   |  0.5572989   | -0.378547910 | -0.01596610  |  1.12931532  | -0.7686307   | 0            |\n",
       "| 305925       | 1            | 5            |  1           | 3            | 2            | 4            | 1            | 4            | 1            | 1            |   0          | -0.4654338   | -0.3239198   | -0.090032969 | -0.31546711  | -1.42662415  |  0.5139798   | 0            |\n",
       "| 305892       | 4            | 4            | 10           | 4            | 3            | 4            | 3            | 2            | 1            | 1            |   0          |  0.7649334   | -0.5001636   | -0.180193888 | -0.68984336  | -0.95919885  |  0.5139798   | 0            |\n",
       "| 302908       | 3            | 3            |  2           | 4            | 1            | 4            | 3            | 1            | 0            | 1            |  76          |         NA   |  0.5572989   | -0.086651935 | -1.06421961  | -0.71654637  |  0.5139798   | 1            |\n",
       "| 305940       | 1            | 5            | 11           | 5            | 7            | 7            | 1            | 2            | 1            | 1            |   0          | -0.3908661   |  0.1695627   | -0.531821472 |  1.63128941  |  1.09313030  | -0.7686307   | 0            |\n",
       "| 305957       | 2            | 1            |  2           | 1            | 4            | 4            | 1            | 1            | 1            | 2            |   0          | -1.0246916   | -0.5882855   |  0.615476221 |  1.55641416  |  1.11725364  |  1.7965902   | 0            |\n",
       "| 305891       | 3            | 4            | 11           | 2            | 4            | 5            | 1            | 1            | 0            | 1            |   0          |         NA   | -0.3239198   | -0.605077218 |  1.33178840  | -0.17760243  | -0.7686307   | 0            |\n",
       "\n"
      ],
      "text/plain": [
       "      ID     V1  V2  V3  V4  V5  V6  V7  V8  Has_FICO Business_channel\n",
       "1     250263 1   1   11  5   6   7   1   2   0        1               \n",
       "2     250290 1   2    6  4   5   1   1   2   1        1               \n",
       "3     250249 2   3   11  5   7   7   1   2   1        1               \n",
       "4     249516 3   3   10  4   2   4   1   2   0        1               \n",
       "5     249827 1   3    5  2   4   4   1   3   0        1               \n",
       "6     250329 1   3   11  2   5   4   3   4   0        2               \n",
       "7     250196 2   4   11  5   7   7   3   1   1        1               \n",
       "8     250358 1   3   12  3   3   5   1   3   0        2               \n",
       "9     250375 2   5   11  5   1   7   1   1   0        1               \n",
       "10    250415 3   3   14  1   4   4   3   1   0        1               \n",
       "11    250334 1   3   15  4   3   4   1   3   0        1               \n",
       "12    250321 1   4   15  2   2   4   1   2   0        1               \n",
       "13    250033 3   3    3  4   2   4   3   1   0        2               \n",
       "14    250018 1   5   11  5   7   7   1   2   1        3               \n",
       "15    250310 1   1   12  4   6   1   1   3   1        1               \n",
       "16    250470 1   3   12  2   6   1   1   3   1        1               \n",
       "17    250370 1   3   15  1   2   4   1   2   0        1               \n",
       "18    250420 1   3   11  5   6   7   1   2   0        1               \n",
       "19    250523 2   4   11  5   7   7   1   1   0        1               \n",
       "20    250512 1   1   12  2   1   1   3   2   1        1               \n",
       "21    250566 1   4   10  5   7   7   1   2   1        1               \n",
       "22    250479 4   4   11  5   5   7   1   1   1        1               \n",
       "23    250546 3   1   11  4   2   1   3   1   0        1               \n",
       "24    250559 1   3    2  1   4   5   1   2   0        1               \n",
       "25    250578 4   3   13  1   3   5   3   1   1        1               \n",
       "26    250545 1   4   10  4   4   5   1   2   1        2               \n",
       "27    250452 1   4    3  1   3   4   1   3   1        1               \n",
       "28    250079 1   4   15  2   2   4   1   2   0        1               \n",
       "29    250395 1   4   10  4   6   4   1   2   1        1               \n",
       "30    250644 1   3   15  4   6   4   1   2   1        1               \n",
       "...   ...    ... ... ... ... ... ... ... ... ...      ...             \n",
       "9971  305655 3   5   10  3   2   5   3   3   1        1               \n",
       "9972  304997 1   3   11  4   3   5   1   3   1        1               \n",
       "9973  305752 1   3   15  1   6   1   1   3   1        1               \n",
       "9974  305832 3   3   10  4   1   4   3   1   0        1               \n",
       "9975  305830 3   2   11  2   3   4   3   1   0        1               \n",
       "9976  305495 1   4   11  2   1   5   1   3   1        2               \n",
       "9977  305758 2   1    5  4   1   4   1   1   1        1               \n",
       "9978  305824 2   4   10  4   4   4   1   1   1        1               \n",
       "9979  305893 1   4   11  4   5   4   3   4   1        3               \n",
       "9980  305851 3   5   10  4   3   5   3   3   0        1               \n",
       "9981  305827 3   5    3  1   3   5   3   1   0        1               \n",
       "9982  305789 1   4    1  4   1   5   1   2   1        1               \n",
       "9983  304994 3   3   11  2   2   5   3   1   0        2               \n",
       "9984  305739 3   3    1  4   4   4   3   1   1        1               \n",
       "9985  305650 3   5   10  3   2   4   3   1   0        1               \n",
       "9986  305844 1   5   10  4   1   5   1   2   1        1               \n",
       "9987  305886 1   4   11  5   7   7   1   2   1        1               \n",
       "9988  305823 3   5    2  1   5   5   3   1   0        1               \n",
       "9989  305885 3   4   11  1   2   4   3   1   0        1               \n",
       "9990  305846 1   4   11  5   7   7   1   2   1        1               \n",
       "9991  304880 1   2    2  4   2   5   1   3   1        2               \n",
       "9992  305882 1   5   10  4   1   5   3   3   0        3               \n",
       "9993  305926 1   4   15  4   4   4   3   3   1        1               \n",
       "9994  305871 1   5    7  3   1   4   1   3   0        2               \n",
       "9995  305925 1   5    1  3   2   4   1   4   1        1               \n",
       "9996  305892 4   4   10  4   3   4   3   2   1        1               \n",
       "9997  302908 3   3    2  4   1   4   3   1   0        1               \n",
       "9998  305940 1   5   11  5   7   7   1   2   1        1               \n",
       "9999  305957 2   1    2  1   4   4   1   1   1        2               \n",
       "10000 305891 3   4   11  2   4   5   1   1   0        1               \n",
       "      Days_late FICO_Score Loan_amount Monthly_income Age        \n",
       "1       0               NA  1.43851768 -0.25908469     1.78103991\n",
       "2       0        1.4981826  0.20481141  0.38331185     1.10716265\n",
       "3       0       -0.2417306 -0.85265110 -0.73242952     1.40666366\n",
       "4     168               NA -0.67640735 -0.05734964     0.95741215\n",
       "5       0               NA -0.41204172 -0.57464791    -0.39034236\n",
       "6       0               NA  0.55729892 -0.21062320    -0.39034236\n",
       "7       0        0.5909421 -0.85265110 -0.67495193     1.25691315\n",
       "8       0               NA -0.46491485 -0.58028297    -0.46521761\n",
       "9     336               NA  0.02856766 -0.70988929     1.40666366\n",
       "10      0               NA -0.23579797 -0.76623986    -0.31546711\n",
       "11    349               NA  2.14349269 -0.04833354    -0.31546711\n",
       "12      0               NA -0.05955422 -0.67269791    -0.01596610\n",
       "13      0               NA -0.32391985 -0.01565021    -1.43859586\n",
       "14      0        1.1999118 -1.00333951 -0.88344906     1.78103991\n",
       "15      0       -0.2790145 -0.39441735 -0.26246573    -0.39034236\n",
       "16     15       -1.3975301 -0.85265110 -0.64452262     0.20865965\n",
       "17     15               NA  0.02856766 -0.63663354    -1.13909486\n",
       "18      0               NA -0.32391985 -0.60282320     1.40666366\n",
       "19      0               NA  0.02856766 -0.48899504     1.18203790\n",
       "20    594       -0.8507003 -0.67640735 -0.39658009     0.50816065\n",
       "21     15        1.5230385 -0.14767609 -0.26021170     0.95741215\n",
       "22    319       -0.4032940  1.08603017 -0.08327090     0.20865965\n",
       "23      0               NA  0.82166455  0.04295439    -1.21397011\n",
       "24      0               NA -0.32391985 -0.67269791     0.50816065\n",
       "25      0       -1.1116873 -0.14767609 -0.70087319    -1.13909486\n",
       "26    273       -1.1116873  0.55729892 -0.15539964    -1.21397011\n",
       "27      0        0.2181036  0.02856766 -0.07087377     0.20865965\n",
       "28      0               NA  0.01094328 -0.67269791     0.13378440\n",
       "29      0        1.1129161 -0.85265110 -0.42926343    -0.68984336\n",
       "30    168       -0.6145692 -0.32391985  1.66810495     0.05890915\n",
       "...   ...       ...        ...         ...            ...        \n",
       "9971  107       -0.9749798  0.5572989  -0.207242164   -0.31546711\n",
       "9972    0       -1.0619754  1.4385177   0.008017030   -1.13909486\n",
       "9973    0        0.8022173  3.2009552  -0.467581817    0.35841015\n",
       "9974  137               NA -0.6764074   0.394581970   -0.83959386\n",
       "9975   45               NA -0.8526511  -0.464200783    0.13378440\n",
       "9976    0       -1.3726742  0.5572989   0.001254961    0.28353490\n",
       "9977  198       -1.0744034  1.0860302   0.289769902    1.33178840\n",
       "9978    0        1.0010645 -0.8526511  -0.066365728    1.03228740\n",
       "9979    0        0.2926713 -1.0202589   2.177514141   -0.46521761\n",
       "9980    0               NA -0.8526511  -0.113700210   -0.31546711\n",
       "9981  137               NA -0.5882855  -0.505900208   -1.36372061\n",
       "9982    0       -0.5772853  0.2048114  -0.487868024    1.25691315\n",
       "9983  168               NA -0.3239198  -0.026920326   -0.31546711\n",
       "9984    0        0.7649334 -0.3239198   0.751844611    0.05890915\n",
       "9985   45               NA -0.3239198   0.055351512   -1.51347111\n",
       "9986    0        0.7400775  0.7335427   0.088034846    0.05890915\n",
       "9987  112        0.6655098 -0.8526511  -0.093414004    1.40666366\n",
       "9988    0               NA -0.7645292  -0.540837564   -1.21397011\n",
       "9989    0               NA -0.6764074  -0.505900208    0.43328540\n",
       "9990    0        0.1559638 -0.3239198  -0.550980667    1.70616466\n",
       "9991   15       -0.5151456  1.7910052   0.614349210   -0.09084135\n",
       "9992    0               NA -0.9143364  -0.354880668   -0.31546711\n",
       "9993    0        0.5163744 -0.7645292  -0.486741012    0.50816065\n",
       "9994    0               NA  0.5572989  -0.378547910   -0.01596610\n",
       "9995    0       -0.4654338 -0.3239198  -0.090032969   -0.31546711\n",
       "9996    0        0.7649334 -0.5001636  -0.180193888   -0.68984336\n",
       "9997   76               NA  0.5572989  -0.086651935   -1.06421961\n",
       "9998    0       -0.3908661  0.1695627  -0.531821472    1.63128941\n",
       "9999    0       -1.0246916 -0.5882855   0.615476221    1.55641416\n",
       "10000   0               NA -0.3239198  -0.605077218    1.33178840\n",
       "      Gearing_coefficient Max_gearing_ratio Default_45\n",
       "1      0.86026906          0.5139798        0         \n",
       "2     -0.71824919          1.7965902        0         \n",
       "3      1.12292973         -0.7686307        0         \n",
       "4     -1.70248171          0.5139798        1         \n",
       "5      0.91007667         -0.7686307        0         \n",
       "6     -0.38449560          0.5139798        0         \n",
       "7     -0.78955496         -0.7686307        0         \n",
       "8      0.50352734         -0.7686307        0         \n",
       "9      1.06226661         -0.7686307        1         \n",
       "10     1.02395306         -0.7686307        0         \n",
       "11     1.09440742          0.5139798        1         \n",
       "12     0.89624122         -0.7686307        0         \n",
       "13    -1.47345183          0.5139798        0         \n",
       "14    -0.99815096         -0.7686307        0         \n",
       "15     1.08248765         -0.7686307        0         \n",
       "16     1.07184499         -0.7686307        0         \n",
       "17     0.92071932         -0.7686307        0         \n",
       "18     0.41625759         -0.7686307        0         \n",
       "19     1.01437467         -0.7686307        0         \n",
       "20    -0.07756150         -0.7686307        1         \n",
       "21     1.05949952          0.5139798        0         \n",
       "22    -0.34447923          0.5139798        1         \n",
       "23    -0.71824919          0.5139798        0         \n",
       "24     0.02460797         -0.7686307        0         \n",
       "25     0.80790721         -0.7686307        0         \n",
       "26    -0.52583003          0.5139798        1         \n",
       "27     1.12165261          0.5139798        0         \n",
       "28     1.10909428         -0.7686307        0         \n",
       "29    -0.42557624         -0.7686307        0         \n",
       "30    -0.02434823          1.7965902        1         \n",
       "...   ...                 ...               ...       \n",
       "9971   0.09740371          0.5139798        1         \n",
       "9972   0.63294200          0.5139798        0         \n",
       "9973   0.66884321          1.7965902        0         \n",
       "9974  -2.04077617          1.7965902        1         \n",
       "9975   0.26832471         -0.7686307        1         \n",
       "9976  -0.80083618          0.5139798        0         \n",
       "9977   0.12890596          1.7965902        1         \n",
       "9978  -1.36617389          0.5139798        0         \n",
       "9979  -1.84566087          1.7965902        0         \n",
       "9980  -2.08221156          0.5139798        0         \n",
       "9981   0.72808731         -0.7686307        1         \n",
       "9982   0.68977376         -0.7686307        0         \n",
       "9983  -1.88468393          0.5139798        1         \n",
       "9984  -1.70304932          1.7965902        0         \n",
       "9985  -0.73783167          0.5139798        1         \n",
       "9986   0.38518104          0.5139798        0         \n",
       "9987  -0.26870354          0.5139798        1         \n",
       "9988  -0.16483125         -0.7686307        0         \n",
       "9989  -1.32275186         -0.7686307        0         \n",
       "9990   0.91326947         -0.7686307        0         \n",
       "9991   0.07285466          1.7965902        0         \n",
       "9992  -1.58775392         -0.7686307        0         \n",
       "9993   0.99841069         -0.7686307        0         \n",
       "9994   1.12931532         -0.7686307        0         \n",
       "9995  -1.42662415          0.5139798        0         \n",
       "9996  -0.95919885          0.5139798        0         \n",
       "9997  -0.71654637          0.5139798        1         \n",
       "9998   1.09313030         -0.7686307        0         \n",
       "9999   1.11725364          1.7965902        0         \n",
       "10000 -0.17760243         -0.7686307        0         "
      ]
     },
     "metadata": {},
     "output_type": "display_data"
    }
   ],
   "source": [
    "# READING IN THE DATASET ON WHICH ANALYSIS HAS TO BE PERFORMED\n",
    "Accepts <- read_excel(\"C:/Users/kgupta/Desktop/Credit scoring/ACCEPTS.xlsx\")\n",
    "Accepts"
   ]
  },
  {
   "cell_type": "code",
   "execution_count": 213,
   "metadata": {},
   "outputs": [
    {
     "data": {
      "text/html": [
       "<table>\n",
       "<thead><tr><th scope=col>ID</th><th scope=col>V1</th><th scope=col>V2</th><th scope=col>V3</th><th scope=col>V4</th><th scope=col>V5</th><th scope=col>V6</th><th scope=col>V7</th><th scope=col>V8</th><th scope=col>Has_FICO</th><th scope=col>Business_channel</th><th scope=col>FICO_Score</th><th scope=col>Loan_amount</th><th scope=col>Monthly_income</th><th scope=col>Age</th><th scope=col>Gearing_coefficient</th><th scope=col>Max_gearing_ratio</th></tr></thead>\n",
       "<tbody>\n",
       "\t<tr><td>305932     </td><td>3          </td><td>3          </td><td>14         </td><td>2          </td><td>1          </td><td>5          </td><td>1          </td><td>1          </td><td>1          </td><td>1          </td><td>-0.03045546</td><td>-0.32391985</td><td>-0.60544913</td><td>-1.06421961</td><td> 1.02821012</td><td>-0.7686307 </td></tr>\n",
       "\t<tr><td>305764     </td><td>1          </td><td>4          </td><td> 7         </td><td>1          </td><td>6          </td><td>4          </td><td>1          </td><td>2          </td><td>1          </td><td>1          </td><td> 0.71522164</td><td> 5.66836774</td><td> 1.29957219</td><td> 0.80766165</td><td> 1.08177814</td><td> 1.7965902 </td></tr>\n",
       "\t<tr><td>305971     </td><td>1          </td><td>4          </td><td>10         </td><td>4          </td><td>5          </td><td>4          </td><td>1          </td><td>4          </td><td>1          </td><td>3          </td><td> 0.76493345</td><td>-0.75078221</td><td> 0.43402737</td><td>-0.39034236</td><td>-0.96941579</td><td> 1.7965902 </td></tr>\n",
       "\t<tr><td>305664     </td><td>1          </td><td>5          </td><td>14         </td><td>2          </td><td>2          </td><td>5          </td><td>3          </td><td>3          </td><td>1          </td><td>1          </td><td>-1.34781834</td><td>-0.85265110</td><td>-0.49012205</td><td>-0.98934436</td><td> 1.04630263</td><td>-0.7686307 </td></tr>\n",
       "\t<tr><td>305639     </td><td>1          </td><td>4          </td><td>15         </td><td>1          </td><td>5          </td><td>4          </td><td>1          </td><td>3          </td><td>1          </td><td>2          </td><td> 1.63489006</td><td> 3.20095521</td><td> 0.56137967</td><td> 0.58303590</td><td> 0.08846388</td><td> 1.7965902 </td></tr>\n",
       "\t<tr><td>305854     </td><td>3          </td><td>3          </td><td>10         </td><td>1          </td><td>4          </td><td>5          </td><td>3          </td><td>1          </td><td>1          </td><td>1          </td><td> 0.97620862</td><td> 0.29293329</td><td>-0.50590021</td><td> 0.05890915</td><td> 1.02182453</td><td>-0.7686307 </td></tr>\n",
       "\t<tr><td>306018     </td><td>1          </td><td>5          </td><td>10         </td><td>4          </td><td>2          </td><td>4          </td><td>3          </td><td>&gt;4      </td><td>1          </td><td>1          </td><td>-0.45300582</td><td>-0.32391985</td><td> 0.32019921</td><td>-1.21397011</td><td>-1.17730228</td><td> 1.7965902 </td></tr>\n",
       "\t<tr><td>305910     </td><td>1          </td><td>3          </td><td>10         </td><td>4          </td><td>3          </td><td>4          </td><td>3          </td><td>3          </td><td>1          </td><td>1          </td><td>-0.17959088</td><td> 0.55729892</td><td> 0.15903657</td><td>-1.13909486</td><td>-0.24401259</td><td> 0.5139798 </td></tr>\n",
       "\t<tr><td>305802     </td><td>1          </td><td>4          </td><td> 2         </td><td>2          </td><td>6          </td><td>4          </td><td>1          </td><td>2          </td><td>0          </td><td>1          </td><td>         NA</td><td>-0.85265110</td><td>-0.62085538</td><td> 0.73278640</td><td>-0.05308340</td><td>-0.7686307 </td></tr>\n",
       "\t<tr><td>306025     </td><td>1          </td><td>3          </td><td>10         </td><td>4          </td><td>5          </td><td>4          </td><td>1          </td><td>2          </td><td>1          </td><td>3          </td><td> 1.23719561</td><td>-0.77369390</td><td>-0.08439791</td><td> 0.35841015</td><td>-1.02220335</td><td> 0.5139798 </td></tr>\n",
       "\t<tr><td>305618     </td><td>1          </td><td>3          </td><td> 5         </td><td>2          </td><td>6          </td><td>5          </td><td>1          </td><td>1          </td><td>0          </td><td>1          </td><td>         NA</td><td>-0.32391985</td><td>-0.50139216</td><td> 0.88253690</td><td>-0.62033679</td><td>-0.7686307 </td></tr>\n",
       "\t<tr><td>305196     </td><td>3          </td><td>4          </td><td>14         </td><td>4          </td><td>2          </td><td>4          </td><td>1          </td><td>1          </td><td>1          </td><td>2          </td><td>-1.57152147</td><td> 0.29293329</td><td>-0.09679504</td><td>-1.21397011</td><td> 1.08078482</td><td> 0.5139798 </td></tr>\n",
       "\t<tr><td>306039     </td><td>1          </td><td>5          </td><td>11         </td><td>5          </td><td>7          </td><td>7          </td><td>1          </td><td>2          </td><td>1          </td><td>1          </td><td> 0.81464525</td><td>-0.41204172</td><td>-0.66255480</td><td> 1.55641416</td><td> 0.91965506</td><td>-0.7686307 </td></tr>\n",
       "\t<tr><td>306024     </td><td>1          </td><td>5          </td><td> 7         </td><td>4          </td><td>5          </td><td>4          </td><td>1          </td><td>2          </td><td>1          </td><td>1          </td><td>-1.03711955</td><td>-0.32391985</td><td> 0.23341933</td><td> 0.58303590</td><td> 0.73085440</td><td> 0.5139798 </td></tr>\n",
       "\t<tr><td>306030     </td><td>1          </td><td>5          </td><td>11         </td><td>2          </td><td>3          </td><td>5          </td><td>1          </td><td>3          </td><td>1          </td><td>1          </td><td>-0.06773932</td><td> 0.02856766</td><td>-0.34811860</td><td>-0.68984336</td><td> 0.89517696</td><td>-0.7686307 </td></tr>\n",
       "\t<tr><td>306036     </td><td>1          </td><td>5          </td><td>10         </td><td>4          </td><td>2          </td><td>5          </td><td>1          </td><td>2          </td><td>0          </td><td>1          </td><td>         NA</td><td>-0.76452923</td><td>-0.41686630</td><td> 1.03228740</td><td> 0.81216427</td><td>-0.7686307 </td></tr>\n",
       "\t<tr><td>303147     </td><td>1          </td><td>4          </td><td>11         </td><td>2          </td><td>5          </td><td>4          </td><td>1          </td><td>2          </td><td>1          </td><td>1          </td><td>-0.90041208</td><td>-0.50016360</td><td>-0.60620423</td><td> 0.73278640</td><td>-0.71612066</td><td>-0.7686307 </td></tr>\n",
       "\t<tr><td>305110     </td><td>3          </td><td>5          </td><td>10         </td><td>4          </td><td>1          </td><td>5          </td><td>3          </td><td>2          </td><td>1          </td><td>1          </td><td>-2.16806315</td><td> 0.38105516</td><td>-0.38080193</td><td>-1.13909486</td><td> 0.57802591</td><td>-0.7686307 </td></tr>\n",
       "\t<tr><td>305812     </td><td>3          </td><td>1          </td><td>15         </td><td>2          </td><td>3          </td><td>3          </td><td>1          </td><td>1          </td><td>1          </td><td>2          </td><td>-0.10502317</td><td> 5.84461149</td><td> 0.96034174</td><td>-1.06421961</td><td> 1.03424095</td><td> 1.7965902 </td></tr>\n",
       "\t<tr><td>305847     </td><td>1          </td><td>3          </td><td>11         </td><td>2          </td><td>2          </td><td>4          </td><td>1          </td><td>3          </td><td>1          </td><td>1          </td><td>-0.39086606</td><td> 0.55729892</td><td> 0.33935841</td><td>-1.13909486</td><td>-1.44904468</td><td> 1.7965902 </td></tr>\n",
       "\t<tr><td>305475                                             </td><td>1                                                  </td><td>4                                                  </td><td>10                                                 </td><td>4                                                  </td><td>2                                                  </td><td>5                                                  </td><td>1                                                  </td><td>&gt;4                                              </td><td>0                                                  </td><td>2                                                  </td><td><span style=white-space:pre-wrap>         NA</span></td><td> 1.43851768                                        </td><td>-0.13285941                                        </td><td>-0.68984336                                        </td><td> 0.74532841                                        </td><td> 0.5139798                                         </td></tr>\n",
       "\t<tr><td>306003     </td><td>3          </td><td>5          </td><td>11         </td><td>1          </td><td>1          </td><td>4          </td><td>3          </td><td>1          </td><td>0          </td><td>1          </td><td>         NA</td><td>-0.50016360</td><td>-0.50590021</td><td>-1.13909486</td><td>-1.06732820</td><td>-0.7686307 </td></tr>\n",
       "\t<tr><td>306053     </td><td>1          </td><td>3          </td><td> 2         </td><td>4          </td><td>1          </td><td>4          </td><td>3          </td><td>2          </td><td>1          </td><td>1          </td><td>-1.57152147</td><td> 0.90978642</td><td> 0.29315094</td><td>-1.06421961</td><td> 0.96612798</td><td> 1.7965902 </td></tr>\n",
       "\t<tr><td>305972     </td><td>1          </td><td>4          </td><td>15         </td><td>4          </td><td>4          </td><td>4          </td><td>3          </td><td>2          </td><td>0          </td><td>3          </td><td>         NA</td><td>-0.42085391</td><td>-0.21175021</td><td>-0.39034236</td><td>-0.48070518</td><td> 0.5139798 </td></tr>\n",
       "\t<tr><td>306069     </td><td>3          </td><td>5          </td><td>10         </td><td>4          </td><td>2          </td><td>5          </td><td>3          </td><td>1          </td><td>0          </td><td>2          </td><td>         NA</td><td>-0.41204172</td><td>-0.37178584</td><td>-1.43859586</td><td> 0.97073979</td><td>-0.7686307 </td></tr>\n",
       "\t<tr><td>306113     </td><td>4          </td><td>5          </td><td> 3         </td><td>2          </td><td>2          </td><td>5          </td><td>3          </td><td>1          </td><td>0          </td><td>1          </td><td>         NA</td><td>-0.50016360</td><td>-0.66255480</td><td> 0.13378440</td><td>-0.45963273</td><td>-0.7686307 </td></tr>\n",
       "\t<tr><td>306122     </td><td>4          </td><td>4          </td><td>10         </td><td>4          </td><td>2          </td><td>4          </td><td>3          </td><td>1          </td><td>1          </td><td>1          </td><td>-0.46543377</td><td> 0.55729892</td><td> 0.89272105</td><td> 0.20865965</td><td> 0.25874633</td><td> 1.7965902 </td></tr>\n",
       "\t<tr><td>306015     </td><td>1          </td><td>5          </td><td> 8         </td><td>4          </td><td>1          </td><td>5          </td><td>2          </td><td>3          </td><td>1          </td><td>1          </td><td>-1.28567858</td><td> 0.55729892</td><td> 0.55236358</td><td>-0.68984336</td><td>-0.54796675</td><td> 1.7965902 </td></tr>\n",
       "\t<tr><td>306068                                             </td><td>1                                                  </td><td>5                                                  </td><td>10                                                 </td><td>2                                                  </td><td>3                                                  </td><td>5                                                  </td><td>1                                                  </td><td>&gt;4                                              </td><td>0                                                  </td><td>1                                                  </td><td><span style=white-space:pre-wrap>         NA</span></td><td> 0.20481141                                        </td><td>-0.50590021                                        </td><td> 0.65791115                                        </td><td> 0.78981470                                        </td><td>-0.7686307                                         </td></tr>\n",
       "\t<tr><td>305949     </td><td>1          </td><td>4          </td><td>11         </td><td>5          </td><td>7          </td><td>7          </td><td>1          </td><td>2          </td><td>1          </td><td>1          </td><td> 1.85859319</td><td>-0.32391985</td><td>-0.43264446</td><td> 1.93079041</td><td> 0.19701894</td><td>-0.7686307 </td></tr>\n",
       "\t<tr><td>...</td><td>...</td><td>...</td><td>...</td><td>...</td><td>...</td><td>...</td><td>...</td><td>...</td><td>...</td><td>...</td><td>...</td><td>...</td><td>...</td><td>...</td><td>...</td><td>...</td></tr>\n",
       "\t<tr><td>325436     </td><td>1          </td><td>4          </td><td> 3         </td><td>2          </td><td>4          </td><td>4          </td><td>3          </td><td>3          </td><td>1          </td><td>2          </td><td> 0.03168430</td><td> 1.43851768</td><td> 1.11474231</td><td> 0.13378440</td><td>-0.46566357</td><td> 1.7965902 </td></tr>\n",
       "\t<tr><td>325312     </td><td>1          </td><td>4          </td><td>10         </td><td>3          </td><td>3          </td><td>4          </td><td>1          </td><td>3          </td><td>1          </td><td>3          </td><td> 1.59760621</td><td>-0.98483392</td><td>-0.17681285</td><td> 0.35841015</td><td>-1.01730773</td><td>-0.7686307 </td></tr>\n",
       "\t<tr><td>325484     </td><td>1          </td><td>3          </td><td>10         </td><td>4          </td><td>4          </td><td>4          </td><td>1          </td><td>4          </td><td>1          </td><td>1          </td><td>-0.68913690</td><td>-0.14767609</td><td> 0.46671070</td><td>-0.09084135</td><td> 0.39114093</td><td> 0.5139798 </td></tr>\n",
       "\t<tr><td>325144     </td><td>1          </td><td>3          </td><td>10         </td><td>4          </td><td>2          </td><td>5          </td><td>3          </td><td>4          </td><td>0          </td><td>1          </td><td>         NA</td><td>-0.32391985</td><td>-0.03706343</td><td> 0.05890915</td><td>-1.05562128</td><td>-0.7686307 </td></tr>\n",
       "\t<tr><td>324723     </td><td>1          </td><td>4          </td><td>10         </td><td>2          </td><td>3          </td><td>5          </td><td>1          </td><td>2          </td><td>1          </td><td>1          </td><td>-1.02469159</td><td> 0.29293329</td><td>-0.52055136</td><td> 0.13378440</td><td> 1.14102224</td><td>-0.7686307 </td></tr>\n",
       "\t<tr><td>324896     </td><td>1          </td><td>5          </td><td>10         </td><td>4          </td><td>1          </td><td>5          </td><td>3          </td><td>&gt;4      </td><td>1          </td><td>1          </td><td>-0.21687474</td><td>-0.32391985</td><td> 0.05535151</td><td>-0.83959386</td><td>-1.31530201</td><td>-0.7686307 </td></tr>\n",
       "\t<tr><td>325373     </td><td>3          </td><td>5          </td><td> 2         </td><td>1          </td><td>3          </td><td>5          </td><td>3          </td><td>1          </td><td>1          </td><td>1          </td><td>-0.05531136</td><td> 0.38105516</td><td>-0.34811860</td><td>-0.39034236</td><td> 0.97925391</td><td>-0.7686307 </td></tr>\n",
       "\t<tr><td>325496     </td><td>3          </td><td>3          </td><td> 1         </td><td>1          </td><td>6          </td><td>4          </td><td>1          </td><td>1          </td><td>1          </td><td>1          </td><td>-0.97497979</td><td>-0.32391985</td><td>-0.67269791</td><td>-0.76471861</td><td> 0.63868903</td><td>-0.7686307 </td></tr>\n",
       "\t<tr><td>325303     </td><td>3          </td><td>3          </td><td>10         </td><td>3          </td><td>1          </td><td>4          </td><td>3          </td><td>1          </td><td>0          </td><td>1          </td><td>         NA</td><td> 0.02856766</td><td>-0.40559619</td><td>-1.06421961</td><td> 0.64507462</td><td>-0.7686307 </td></tr>\n",
       "\t<tr><td>325356     </td><td>1          </td><td>2          </td><td>15         </td><td>4          </td><td>6          </td><td>4          </td><td>1          </td><td>3          </td><td>1          </td><td>3          </td><td> 0.83950116</td><td>-1.01144672</td><td> 0.04182737</td><td> 1.18203790</td><td>-1.84424185</td><td>-0.7686307 </td></tr>\n",
       "\t<tr><td>325522     </td><td>1          </td><td>5          </td><td>10         </td><td>4          </td><td>6          </td><td>4          </td><td>3          </td><td>3          </td><td>0          </td><td>1          </td><td>         NA</td><td>-0.85265110</td><td> 0.65379461</td><td>-0.76471861</td><td>-0.94302202</td><td> 0.5139798 </td></tr>\n",
       "\t<tr><td>322847     </td><td>1          </td><td>3          </td><td> 2         </td><td>2          </td><td>4          </td><td>5          </td><td>1          </td><td>3          </td><td>1          </td><td>2          </td><td>-0.54000148</td><td>-0.50016360</td><td>-0.29514906</td><td>-0.61496811</td><td> 0.89198416</td><td>-0.7686307 </td></tr>\n",
       "\t<tr><td>325517     </td><td>3          </td><td>5          </td><td>10         </td><td>4          </td><td>2          </td><td>5          </td><td>1          </td><td>1          </td><td>0          </td><td>1          </td><td>         NA</td><td>-0.32391985</td><td>-0.26734569</td><td> 0.73278640</td><td>-1.01092214</td><td>-0.7686307 </td></tr>\n",
       "\t<tr><td>325504     </td><td>1          </td><td>5          </td><td>10         </td><td>4          </td><td>2          </td><td>4          </td><td>3          </td><td>2          </td><td>0          </td><td>1          </td><td>         NA</td><td> 0.20481141</td><td> 0.02266818</td><td>-0.91446911</td><td>-0.90023855</td><td>-0.7686307 </td></tr>\n",
       "\t<tr><td>325262     </td><td>3          </td><td>4          </td><td>10         </td><td>4          </td><td>2          </td><td>5          </td><td>1          </td><td>1          </td><td>0          </td><td>1          </td><td>         NA</td><td> 0.02856766</td><td>-0.62536343</td><td>-0.76471861</td><td> 1.06226661</td><td>-0.7686307 </td></tr>\n",
       "\t<tr><td>325481     </td><td>1          </td><td>5          </td><td> 7         </td><td>4          </td><td>1          </td><td>5          </td><td>1          </td><td>3          </td><td>1          </td><td>1          </td><td>-1.19868292</td><td> 0.55729892</td><td> 0.67295381</td><td>-0.16571661</td><td> 0.13571726</td><td> 0.5139798 </td></tr>\n",
       "\t<tr><td>325459     </td><td>4          </td><td>3          </td><td> 3         </td><td>4          </td><td>2          </td><td>5          </td><td>1          </td><td>1          </td><td>0          </td><td>1          </td><td>         NA</td><td> 0.55729892</td><td>-0.25344963</td><td>-0.24059186</td><td> 0.45137834</td><td>-0.7686307 </td></tr>\n",
       "\t<tr><td>325513     </td><td>3          </td><td>5          </td><td> 2         </td><td>2          </td><td>5          </td><td>4          </td><td>3          </td><td>1          </td><td>0          </td><td>1          </td><td>         NA</td><td> 0.55729892</td><td>-0.31205423</td><td>-1.21397011</td><td> 0.90581961</td><td>-0.7686307 </td></tr>\n",
       "\t<tr><td>325415     </td><td>1          </td><td>4          </td><td>10         </td><td>1          </td><td>3          </td><td>4          </td><td>1          </td><td>2          </td><td>0          </td><td>1          </td><td>         NA</td><td> 0.55729892</td><td> 0.19735496</td><td> 0.05890915</td><td>-0.70760654</td><td>-0.7686307 </td></tr>\n",
       "\t<tr><td>325454     </td><td>3          </td><td>3          </td><td> 1         </td><td>1          </td><td>4          </td><td>5          </td><td>1          </td><td>1          </td><td>0          </td><td>1          </td><td>         NA</td><td>-0.32391985</td><td>-0.49124906</td><td>-0.91446911</td><td>-0.67674284</td><td>-0.7686307 </td></tr>\n",
       "\t<tr><td>325485     </td><td>1          </td><td>3          </td><td>12         </td><td>4          </td><td>4          </td><td>4          </td><td>3          </td><td>3          </td><td>1          </td><td>1          </td><td> 0.23053152</td><td>-0.14767609</td><td> 0.00801703</td><td>-0.39034236</td><td>-0.94706622</td><td>-0.7686307 </td></tr>\n",
       "\t<tr><td>325483     </td><td>1          </td><td>5          </td><td> 5         </td><td>3          </td><td>3          </td><td>5          </td><td>1          </td><td>4          </td><td>0          </td><td>1          </td><td>         NA</td><td> 0.55729892</td><td>-0.29402205</td><td> 0.58303590</td><td> 0.61208240</td><td>-0.7686307 </td></tr>\n",
       "\t<tr><td>324820     </td><td>1          </td><td>4          </td><td> 1         </td><td>1          </td><td>2          </td><td>4          </td><td>1          </td><td>2          </td><td>1          </td><td>2          </td><td>-1.21111087</td><td> 0.73354267</td><td>-0.25457665</td><td> 0.05890915</td><td> 1.13782944</td><td>-0.7686307 </td></tr>\n",
       "\t<tr><td>325011     </td><td>1          </td><td>5          </td><td>14         </td><td>1          </td><td>2          </td><td>5          </td><td>3          </td><td>4          </td><td>0          </td><td>1          </td><td>         NA</td><td>-0.32391985</td><td>-0.15990768</td><td>-1.51347111</td><td> 0.48011350</td><td>-0.7686307 </td></tr>\n",
       "\t<tr><td>325479     </td><td>3          </td><td>5          </td><td>14         </td><td>1          </td><td>3          </td><td>5          </td><td>3          </td><td>1          </td><td>1          </td><td>1          </td><td>-0.80098846</td><td> 0.20481141</td><td>-0.40071623</td><td>-0.91446911</td><td> 0.28748149</td><td>-0.7686307 </td></tr>\n",
       "\t<tr><td>325349     </td><td>3          </td><td>3          </td><td>14         </td><td>2          </td><td>1          </td><td>4          </td><td>3          </td><td>1          </td><td>1          </td><td>1          </td><td>-1.44724195</td><td> 0.55729892</td><td> 2.06368598</td><td>-0.83959386</td><td>-1.90455021</td><td> 1.7965902 </td></tr>\n",
       "\t<tr><td>325393     </td><td>1          </td><td>5          </td><td>10         </td><td>4          </td><td>1          </td><td>5          </td><td>1          </td><td>4          </td><td>0          </td><td>1          </td><td>         NA</td><td>-0.32391985</td><td>-0.15990768</td><td> 0.28353490</td><td> 0.90475535</td><td>-0.7686307 </td></tr>\n",
       "\t<tr><td>325510     </td><td>4          </td><td>1          </td><td>10         </td><td>4          </td><td>4          </td><td>4          </td><td>1          </td><td>2          </td><td>1          </td><td>1          </td><td> 0.93892477</td><td>-0.32391985</td><td> 0.79278894</td><td>-0.61496811</td><td>-0.33170804</td><td> 0.5139798 </td></tr>\n",
       "\t<tr><td>325534                                             </td><td>1                                                  </td><td>5                                                  </td><td>10                                                 </td><td>3                                                  </td><td>2                                                  </td><td>5                                                  </td><td>1                                                  </td><td>&gt;4                                              </td><td>0                                                  </td><td>1                                                  </td><td><span style=white-space:pre-wrap>         NA</span></td><td> 0.55729892                                        </td><td>-0.10468412                                        </td><td> 0.13378440                                        </td><td>-0.03818368                                        </td><td>-0.7686307                                         </td></tr>\n",
       "\t<tr><td>325624     </td><td>4          </td><td>3          </td><td> 2         </td><td>1          </td><td>2          </td><td>4          </td><td>1          </td><td>1          </td><td>1          </td><td>1          </td><td> 0.01925635</td><td>-0.67640735</td><td>-0.34811860</td><td>-0.39034236</td><td> 0.47585644</td><td>-0.7686307 </td></tr>\n",
       "</tbody>\n",
       "</table>\n"
      ],
      "text/latex": [
       "\\begin{tabular}{r|lllllllllllllllll}\n",
       " ID & V1 & V2 & V3 & V4 & V5 & V6 & V7 & V8 & Has\\_FICO & Business\\_channel & FICO\\_Score & Loan\\_amount & Monthly\\_income & Age & Gearing\\_coefficient & Max\\_gearing\\_ratio\\\\\n",
       "\\hline\n",
       "\t 305932      & 3           & 3           & 14          & 2           & 1           & 5           & 1           & 1           & 1           & 1           & -0.03045546 & -0.32391985 & -0.60544913 & -1.06421961 &  1.02821012 & -0.7686307 \\\\\n",
       "\t 305764      & 1           & 4           &  7          & 1           & 6           & 4           & 1           & 2           & 1           & 1           &  0.71522164 &  5.66836774 &  1.29957219 &  0.80766165 &  1.08177814 &  1.7965902 \\\\\n",
       "\t 305971      & 1           & 4           & 10          & 4           & 5           & 4           & 1           & 4           & 1           & 3           &  0.76493345 & -0.75078221 &  0.43402737 & -0.39034236 & -0.96941579 &  1.7965902 \\\\\n",
       "\t 305664      & 1           & 5           & 14          & 2           & 2           & 5           & 3           & 3           & 1           & 1           & -1.34781834 & -0.85265110 & -0.49012205 & -0.98934436 &  1.04630263 & -0.7686307 \\\\\n",
       "\t 305639      & 1           & 4           & 15          & 1           & 5           & 4           & 1           & 3           & 1           & 2           &  1.63489006 &  3.20095521 &  0.56137967 &  0.58303590 &  0.08846388 &  1.7965902 \\\\\n",
       "\t 305854      & 3           & 3           & 10          & 1           & 4           & 5           & 3           & 1           & 1           & 1           &  0.97620862 &  0.29293329 & -0.50590021 &  0.05890915 &  1.02182453 & -0.7686307 \\\\\n",
       "\t 306018      & 1           & 5           & 10          & 4           & 2           & 4           & 3           & >4          & 1           & 1           & -0.45300582 & -0.32391985 &  0.32019921 & -1.21397011 & -1.17730228 &  1.7965902 \\\\\n",
       "\t 305910      & 1           & 3           & 10          & 4           & 3           & 4           & 3           & 3           & 1           & 1           & -0.17959088 &  0.55729892 &  0.15903657 & -1.13909486 & -0.24401259 &  0.5139798 \\\\\n",
       "\t 305802      & 1           & 4           &  2          & 2           & 6           & 4           & 1           & 2           & 0           & 1           &          NA & -0.85265110 & -0.62085538 &  0.73278640 & -0.05308340 & -0.7686307 \\\\\n",
       "\t 306025      & 1           & 3           & 10          & 4           & 5           & 4           & 1           & 2           & 1           & 3           &  1.23719561 & -0.77369390 & -0.08439791 &  0.35841015 & -1.02220335 &  0.5139798 \\\\\n",
       "\t 305618      & 1           & 3           &  5          & 2           & 6           & 5           & 1           & 1           & 0           & 1           &          NA & -0.32391985 & -0.50139216 &  0.88253690 & -0.62033679 & -0.7686307 \\\\\n",
       "\t 305196      & 3           & 4           & 14          & 4           & 2           & 4           & 1           & 1           & 1           & 2           & -1.57152147 &  0.29293329 & -0.09679504 & -1.21397011 &  1.08078482 &  0.5139798 \\\\\n",
       "\t 306039      & 1           & 5           & 11          & 5           & 7           & 7           & 1           & 2           & 1           & 1           &  0.81464525 & -0.41204172 & -0.66255480 &  1.55641416 &  0.91965506 & -0.7686307 \\\\\n",
       "\t 306024      & 1           & 5           &  7          & 4           & 5           & 4           & 1           & 2           & 1           & 1           & -1.03711955 & -0.32391985 &  0.23341933 &  0.58303590 &  0.73085440 &  0.5139798 \\\\\n",
       "\t 306030      & 1           & 5           & 11          & 2           & 3           & 5           & 1           & 3           & 1           & 1           & -0.06773932 &  0.02856766 & -0.34811860 & -0.68984336 &  0.89517696 & -0.7686307 \\\\\n",
       "\t 306036      & 1           & 5           & 10          & 4           & 2           & 5           & 1           & 2           & 0           & 1           &          NA & -0.76452923 & -0.41686630 &  1.03228740 &  0.81216427 & -0.7686307 \\\\\n",
       "\t 303147      & 1           & 4           & 11          & 2           & 5           & 4           & 1           & 2           & 1           & 1           & -0.90041208 & -0.50016360 & -0.60620423 &  0.73278640 & -0.71612066 & -0.7686307 \\\\\n",
       "\t 305110      & 3           & 5           & 10          & 4           & 1           & 5           & 3           & 2           & 1           & 1           & -2.16806315 &  0.38105516 & -0.38080193 & -1.13909486 &  0.57802591 & -0.7686307 \\\\\n",
       "\t 305812      & 3           & 1           & 15          & 2           & 3           & 3           & 1           & 1           & 1           & 2           & -0.10502317 &  5.84461149 &  0.96034174 & -1.06421961 &  1.03424095 &  1.7965902 \\\\\n",
       "\t 305847      & 1           & 3           & 11          & 2           & 2           & 4           & 1           & 3           & 1           & 1           & -0.39086606 &  0.55729892 &  0.33935841 & -1.13909486 & -1.44904468 &  1.7965902 \\\\\n",
       "\t 305475      & 1           & 4           & 10          & 4           & 2           & 5           & 1           & >4          & 0           & 2           &          NA &  1.43851768 & -0.13285941 & -0.68984336 &  0.74532841 &  0.5139798 \\\\\n",
       "\t 306003      & 3           & 5           & 11          & 1           & 1           & 4           & 3           & 1           & 0           & 1           &          NA & -0.50016360 & -0.50590021 & -1.13909486 & -1.06732820 & -0.7686307 \\\\\n",
       "\t 306053      & 1           & 3           &  2          & 4           & 1           & 4           & 3           & 2           & 1           & 1           & -1.57152147 &  0.90978642 &  0.29315094 & -1.06421961 &  0.96612798 &  1.7965902 \\\\\n",
       "\t 305972      & 1           & 4           & 15          & 4           & 4           & 4           & 3           & 2           & 0           & 3           &          NA & -0.42085391 & -0.21175021 & -0.39034236 & -0.48070518 &  0.5139798 \\\\\n",
       "\t 306069      & 3           & 5           & 10          & 4           & 2           & 5           & 3           & 1           & 0           & 2           &          NA & -0.41204172 & -0.37178584 & -1.43859586 &  0.97073979 & -0.7686307 \\\\\n",
       "\t 306113      & 4           & 5           &  3          & 2           & 2           & 5           & 3           & 1           & 0           & 1           &          NA & -0.50016360 & -0.66255480 &  0.13378440 & -0.45963273 & -0.7686307 \\\\\n",
       "\t 306122      & 4           & 4           & 10          & 4           & 2           & 4           & 3           & 1           & 1           & 1           & -0.46543377 &  0.55729892 &  0.89272105 &  0.20865965 &  0.25874633 &  1.7965902 \\\\\n",
       "\t 306015      & 1           & 5           &  8          & 4           & 1           & 5           & 2           & 3           & 1           & 1           & -1.28567858 &  0.55729892 &  0.55236358 & -0.68984336 & -0.54796675 &  1.7965902 \\\\\n",
       "\t 306068      & 1           & 5           & 10          & 2           & 3           & 5           & 1           & >4          & 0           & 1           &          NA &  0.20481141 & -0.50590021 &  0.65791115 &  0.78981470 & -0.7686307 \\\\\n",
       "\t 305949      & 1           & 4           & 11          & 5           & 7           & 7           & 1           & 2           & 1           & 1           &  1.85859319 & -0.32391985 & -0.43264446 &  1.93079041 &  0.19701894 & -0.7686307 \\\\\n",
       "\t ... & ... & ... & ... & ... & ... & ... & ... & ... & ... & ... & ... & ... & ... & ... & ... & ...\\\\\n",
       "\t 325436      & 1           & 4           &  3          & 2           & 4           & 4           & 3           & 3           & 1           & 2           &  0.03168430 &  1.43851768 &  1.11474231 &  0.13378440 & -0.46566357 &  1.7965902 \\\\\n",
       "\t 325312      & 1           & 4           & 10          & 3           & 3           & 4           & 1           & 3           & 1           & 3           &  1.59760621 & -0.98483392 & -0.17681285 &  0.35841015 & -1.01730773 & -0.7686307 \\\\\n",
       "\t 325484      & 1           & 3           & 10          & 4           & 4           & 4           & 1           & 4           & 1           & 1           & -0.68913690 & -0.14767609 &  0.46671070 & -0.09084135 &  0.39114093 &  0.5139798 \\\\\n",
       "\t 325144      & 1           & 3           & 10          & 4           & 2           & 5           & 3           & 4           & 0           & 1           &          NA & -0.32391985 & -0.03706343 &  0.05890915 & -1.05562128 & -0.7686307 \\\\\n",
       "\t 324723      & 1           & 4           & 10          & 2           & 3           & 5           & 1           & 2           & 1           & 1           & -1.02469159 &  0.29293329 & -0.52055136 &  0.13378440 &  1.14102224 & -0.7686307 \\\\\n",
       "\t 324896      & 1           & 5           & 10          & 4           & 1           & 5           & 3           & >4          & 1           & 1           & -0.21687474 & -0.32391985 &  0.05535151 & -0.83959386 & -1.31530201 & -0.7686307 \\\\\n",
       "\t 325373      & 3           & 5           &  2          & 1           & 3           & 5           & 3           & 1           & 1           & 1           & -0.05531136 &  0.38105516 & -0.34811860 & -0.39034236 &  0.97925391 & -0.7686307 \\\\\n",
       "\t 325496      & 3           & 3           &  1          & 1           & 6           & 4           & 1           & 1           & 1           & 1           & -0.97497979 & -0.32391985 & -0.67269791 & -0.76471861 &  0.63868903 & -0.7686307 \\\\\n",
       "\t 325303      & 3           & 3           & 10          & 3           & 1           & 4           & 3           & 1           & 0           & 1           &          NA &  0.02856766 & -0.40559619 & -1.06421961 &  0.64507462 & -0.7686307 \\\\\n",
       "\t 325356      & 1           & 2           & 15          & 4           & 6           & 4           & 1           & 3           & 1           & 3           &  0.83950116 & -1.01144672 &  0.04182737 &  1.18203790 & -1.84424185 & -0.7686307 \\\\\n",
       "\t 325522      & 1           & 5           & 10          & 4           & 6           & 4           & 3           & 3           & 0           & 1           &          NA & -0.85265110 &  0.65379461 & -0.76471861 & -0.94302202 &  0.5139798 \\\\\n",
       "\t 322847      & 1           & 3           &  2          & 2           & 4           & 5           & 1           & 3           & 1           & 2           & -0.54000148 & -0.50016360 & -0.29514906 & -0.61496811 &  0.89198416 & -0.7686307 \\\\\n",
       "\t 325517      & 3           & 5           & 10          & 4           & 2           & 5           & 1           & 1           & 0           & 1           &          NA & -0.32391985 & -0.26734569 &  0.73278640 & -1.01092214 & -0.7686307 \\\\\n",
       "\t 325504      & 1           & 5           & 10          & 4           & 2           & 4           & 3           & 2           & 0           & 1           &          NA &  0.20481141 &  0.02266818 & -0.91446911 & -0.90023855 & -0.7686307 \\\\\n",
       "\t 325262      & 3           & 4           & 10          & 4           & 2           & 5           & 1           & 1           & 0           & 1           &          NA &  0.02856766 & -0.62536343 & -0.76471861 &  1.06226661 & -0.7686307 \\\\\n",
       "\t 325481      & 1           & 5           &  7          & 4           & 1           & 5           & 1           & 3           & 1           & 1           & -1.19868292 &  0.55729892 &  0.67295381 & -0.16571661 &  0.13571726 &  0.5139798 \\\\\n",
       "\t 325459      & 4           & 3           &  3          & 4           & 2           & 5           & 1           & 1           & 0           & 1           &          NA &  0.55729892 & -0.25344963 & -0.24059186 &  0.45137834 & -0.7686307 \\\\\n",
       "\t 325513      & 3           & 5           &  2          & 2           & 5           & 4           & 3           & 1           & 0           & 1           &          NA &  0.55729892 & -0.31205423 & -1.21397011 &  0.90581961 & -0.7686307 \\\\\n",
       "\t 325415      & 1           & 4           & 10          & 1           & 3           & 4           & 1           & 2           & 0           & 1           &          NA &  0.55729892 &  0.19735496 &  0.05890915 & -0.70760654 & -0.7686307 \\\\\n",
       "\t 325454      & 3           & 3           &  1          & 1           & 4           & 5           & 1           & 1           & 0           & 1           &          NA & -0.32391985 & -0.49124906 & -0.91446911 & -0.67674284 & -0.7686307 \\\\\n",
       "\t 325485      & 1           & 3           & 12          & 4           & 4           & 4           & 3           & 3           & 1           & 1           &  0.23053152 & -0.14767609 &  0.00801703 & -0.39034236 & -0.94706622 & -0.7686307 \\\\\n",
       "\t 325483      & 1           & 5           &  5          & 3           & 3           & 5           & 1           & 4           & 0           & 1           &          NA &  0.55729892 & -0.29402205 &  0.58303590 &  0.61208240 & -0.7686307 \\\\\n",
       "\t 324820      & 1           & 4           &  1          & 1           & 2           & 4           & 1           & 2           & 1           & 2           & -1.21111087 &  0.73354267 & -0.25457665 &  0.05890915 &  1.13782944 & -0.7686307 \\\\\n",
       "\t 325011      & 1           & 5           & 14          & 1           & 2           & 5           & 3           & 4           & 0           & 1           &          NA & -0.32391985 & -0.15990768 & -1.51347111 &  0.48011350 & -0.7686307 \\\\\n",
       "\t 325479      & 3           & 5           & 14          & 1           & 3           & 5           & 3           & 1           & 1           & 1           & -0.80098846 &  0.20481141 & -0.40071623 & -0.91446911 &  0.28748149 & -0.7686307 \\\\\n",
       "\t 325349      & 3           & 3           & 14          & 2           & 1           & 4           & 3           & 1           & 1           & 1           & -1.44724195 &  0.55729892 &  2.06368598 & -0.83959386 & -1.90455021 &  1.7965902 \\\\\n",
       "\t 325393      & 1           & 5           & 10          & 4           & 1           & 5           & 1           & 4           & 0           & 1           &          NA & -0.32391985 & -0.15990768 &  0.28353490 &  0.90475535 & -0.7686307 \\\\\n",
       "\t 325510      & 4           & 1           & 10          & 4           & 4           & 4           & 1           & 2           & 1           & 1           &  0.93892477 & -0.32391985 &  0.79278894 & -0.61496811 & -0.33170804 &  0.5139798 \\\\\n",
       "\t 325534      & 1           & 5           & 10          & 3           & 2           & 5           & 1           & >4          & 0           & 1           &          NA &  0.55729892 & -0.10468412 &  0.13378440 & -0.03818368 & -0.7686307 \\\\\n",
       "\t 325624      & 4           & 3           &  2          & 1           & 2           & 4           & 1           & 1           & 1           & 1           &  0.01925635 & -0.67640735 & -0.34811860 & -0.39034236 &  0.47585644 & -0.7686307 \\\\\n",
       "\\end{tabular}\n"
      ],
      "text/markdown": [
       "\n",
       "| ID | V1 | V2 | V3 | V4 | V5 | V6 | V7 | V8 | Has_FICO | Business_channel | FICO_Score | Loan_amount | Monthly_income | Age | Gearing_coefficient | Max_gearing_ratio |\n",
       "|---|---|---|---|---|---|---|---|---|---|---|---|---|---|---|---|---|\n",
       "| 305932      | 3           | 3           | 14          | 2           | 1           | 5           | 1           | 1           | 1           | 1           | -0.03045546 | -0.32391985 | -0.60544913 | -1.06421961 |  1.02821012 | -0.7686307  |\n",
       "| 305764      | 1           | 4           |  7          | 1           | 6           | 4           | 1           | 2           | 1           | 1           |  0.71522164 |  5.66836774 |  1.29957219 |  0.80766165 |  1.08177814 |  1.7965902  |\n",
       "| 305971      | 1           | 4           | 10          | 4           | 5           | 4           | 1           | 4           | 1           | 3           |  0.76493345 | -0.75078221 |  0.43402737 | -0.39034236 | -0.96941579 |  1.7965902  |\n",
       "| 305664      | 1           | 5           | 14          | 2           | 2           | 5           | 3           | 3           | 1           | 1           | -1.34781834 | -0.85265110 | -0.49012205 | -0.98934436 |  1.04630263 | -0.7686307  |\n",
       "| 305639      | 1           | 4           | 15          | 1           | 5           | 4           | 1           | 3           | 1           | 2           |  1.63489006 |  3.20095521 |  0.56137967 |  0.58303590 |  0.08846388 |  1.7965902  |\n",
       "| 305854      | 3           | 3           | 10          | 1           | 4           | 5           | 3           | 1           | 1           | 1           |  0.97620862 |  0.29293329 | -0.50590021 |  0.05890915 |  1.02182453 | -0.7686307  |\n",
       "| 306018      | 1           | 5           | 10          | 4           | 2           | 4           | 3           | >4          | 1           | 1           | -0.45300582 | -0.32391985 |  0.32019921 | -1.21397011 | -1.17730228 |  1.7965902  |\n",
       "| 305910      | 1           | 3           | 10          | 4           | 3           | 4           | 3           | 3           | 1           | 1           | -0.17959088 |  0.55729892 |  0.15903657 | -1.13909486 | -0.24401259 |  0.5139798  |\n",
       "| 305802      | 1           | 4           |  2          | 2           | 6           | 4           | 1           | 2           | 0           | 1           |          NA | -0.85265110 | -0.62085538 |  0.73278640 | -0.05308340 | -0.7686307  |\n",
       "| 306025      | 1           | 3           | 10          | 4           | 5           | 4           | 1           | 2           | 1           | 3           |  1.23719561 | -0.77369390 | -0.08439791 |  0.35841015 | -1.02220335 |  0.5139798  |\n",
       "| 305618      | 1           | 3           |  5          | 2           | 6           | 5           | 1           | 1           | 0           | 1           |          NA | -0.32391985 | -0.50139216 |  0.88253690 | -0.62033679 | -0.7686307  |\n",
       "| 305196      | 3           | 4           | 14          | 4           | 2           | 4           | 1           | 1           | 1           | 2           | -1.57152147 |  0.29293329 | -0.09679504 | -1.21397011 |  1.08078482 |  0.5139798  |\n",
       "| 306039      | 1           | 5           | 11          | 5           | 7           | 7           | 1           | 2           | 1           | 1           |  0.81464525 | -0.41204172 | -0.66255480 |  1.55641416 |  0.91965506 | -0.7686307  |\n",
       "| 306024      | 1           | 5           |  7          | 4           | 5           | 4           | 1           | 2           | 1           | 1           | -1.03711955 | -0.32391985 |  0.23341933 |  0.58303590 |  0.73085440 |  0.5139798  |\n",
       "| 306030      | 1           | 5           | 11          | 2           | 3           | 5           | 1           | 3           | 1           | 1           | -0.06773932 |  0.02856766 | -0.34811860 | -0.68984336 |  0.89517696 | -0.7686307  |\n",
       "| 306036      | 1           | 5           | 10          | 4           | 2           | 5           | 1           | 2           | 0           | 1           |          NA | -0.76452923 | -0.41686630 |  1.03228740 |  0.81216427 | -0.7686307  |\n",
       "| 303147      | 1           | 4           | 11          | 2           | 5           | 4           | 1           | 2           | 1           | 1           | -0.90041208 | -0.50016360 | -0.60620423 |  0.73278640 | -0.71612066 | -0.7686307  |\n",
       "| 305110      | 3           | 5           | 10          | 4           | 1           | 5           | 3           | 2           | 1           | 1           | -2.16806315 |  0.38105516 | -0.38080193 | -1.13909486 |  0.57802591 | -0.7686307  |\n",
       "| 305812      | 3           | 1           | 15          | 2           | 3           | 3           | 1           | 1           | 1           | 2           | -0.10502317 |  5.84461149 |  0.96034174 | -1.06421961 |  1.03424095 |  1.7965902  |\n",
       "| 305847      | 1           | 3           | 11          | 2           | 2           | 4           | 1           | 3           | 1           | 1           | -0.39086606 |  0.55729892 |  0.33935841 | -1.13909486 | -1.44904468 |  1.7965902  |\n",
       "| 305475      | 1           | 4           | 10          | 4           | 2           | 5           | 1           | >4          | 0           | 2           |          NA |  1.43851768 | -0.13285941 | -0.68984336 |  0.74532841 |  0.5139798  |\n",
       "| 306003      | 3           | 5           | 11          | 1           | 1           | 4           | 3           | 1           | 0           | 1           |          NA | -0.50016360 | -0.50590021 | -1.13909486 | -1.06732820 | -0.7686307  |\n",
       "| 306053      | 1           | 3           |  2          | 4           | 1           | 4           | 3           | 2           | 1           | 1           | -1.57152147 |  0.90978642 |  0.29315094 | -1.06421961 |  0.96612798 |  1.7965902  |\n",
       "| 305972      | 1           | 4           | 15          | 4           | 4           | 4           | 3           | 2           | 0           | 3           |          NA | -0.42085391 | -0.21175021 | -0.39034236 | -0.48070518 |  0.5139798  |\n",
       "| 306069      | 3           | 5           | 10          | 4           | 2           | 5           | 3           | 1           | 0           | 2           |          NA | -0.41204172 | -0.37178584 | -1.43859586 |  0.97073979 | -0.7686307  |\n",
       "| 306113      | 4           | 5           |  3          | 2           | 2           | 5           | 3           | 1           | 0           | 1           |          NA | -0.50016360 | -0.66255480 |  0.13378440 | -0.45963273 | -0.7686307  |\n",
       "| 306122      | 4           | 4           | 10          | 4           | 2           | 4           | 3           | 1           | 1           | 1           | -0.46543377 |  0.55729892 |  0.89272105 |  0.20865965 |  0.25874633 |  1.7965902  |\n",
       "| 306015      | 1           | 5           |  8          | 4           | 1           | 5           | 2           | 3           | 1           | 1           | -1.28567858 |  0.55729892 |  0.55236358 | -0.68984336 | -0.54796675 |  1.7965902  |\n",
       "| 306068      | 1           | 5           | 10          | 2           | 3           | 5           | 1           | >4          | 0           | 1           |          NA |  0.20481141 | -0.50590021 |  0.65791115 |  0.78981470 | -0.7686307  |\n",
       "| 305949      | 1           | 4           | 11          | 5           | 7           | 7           | 1           | 2           | 1           | 1           |  1.85859319 | -0.32391985 | -0.43264446 |  1.93079041 |  0.19701894 | -0.7686307  |\n",
       "| ... | ... | ... | ... | ... | ... | ... | ... | ... | ... | ... | ... | ... | ... | ... | ... | ... |\n",
       "| 325436      | 1           | 4           |  3          | 2           | 4           | 4           | 3           | 3           | 1           | 2           |  0.03168430 |  1.43851768 |  1.11474231 |  0.13378440 | -0.46566357 |  1.7965902  |\n",
       "| 325312      | 1           | 4           | 10          | 3           | 3           | 4           | 1           | 3           | 1           | 3           |  1.59760621 | -0.98483392 | -0.17681285 |  0.35841015 | -1.01730773 | -0.7686307  |\n",
       "| 325484      | 1           | 3           | 10          | 4           | 4           | 4           | 1           | 4           | 1           | 1           | -0.68913690 | -0.14767609 |  0.46671070 | -0.09084135 |  0.39114093 |  0.5139798  |\n",
       "| 325144      | 1           | 3           | 10          | 4           | 2           | 5           | 3           | 4           | 0           | 1           |          NA | -0.32391985 | -0.03706343 |  0.05890915 | -1.05562128 | -0.7686307  |\n",
       "| 324723      | 1           | 4           | 10          | 2           | 3           | 5           | 1           | 2           | 1           | 1           | -1.02469159 |  0.29293329 | -0.52055136 |  0.13378440 |  1.14102224 | -0.7686307  |\n",
       "| 324896      | 1           | 5           | 10          | 4           | 1           | 5           | 3           | >4          | 1           | 1           | -0.21687474 | -0.32391985 |  0.05535151 | -0.83959386 | -1.31530201 | -0.7686307  |\n",
       "| 325373      | 3           | 5           |  2          | 1           | 3           | 5           | 3           | 1           | 1           | 1           | -0.05531136 |  0.38105516 | -0.34811860 | -0.39034236 |  0.97925391 | -0.7686307  |\n",
       "| 325496      | 3           | 3           |  1          | 1           | 6           | 4           | 1           | 1           | 1           | 1           | -0.97497979 | -0.32391985 | -0.67269791 | -0.76471861 |  0.63868903 | -0.7686307  |\n",
       "| 325303      | 3           | 3           | 10          | 3           | 1           | 4           | 3           | 1           | 0           | 1           |          NA |  0.02856766 | -0.40559619 | -1.06421961 |  0.64507462 | -0.7686307  |\n",
       "| 325356      | 1           | 2           | 15          | 4           | 6           | 4           | 1           | 3           | 1           | 3           |  0.83950116 | -1.01144672 |  0.04182737 |  1.18203790 | -1.84424185 | -0.7686307  |\n",
       "| 325522      | 1           | 5           | 10          | 4           | 6           | 4           | 3           | 3           | 0           | 1           |          NA | -0.85265110 |  0.65379461 | -0.76471861 | -0.94302202 |  0.5139798  |\n",
       "| 322847      | 1           | 3           |  2          | 2           | 4           | 5           | 1           | 3           | 1           | 2           | -0.54000148 | -0.50016360 | -0.29514906 | -0.61496811 |  0.89198416 | -0.7686307  |\n",
       "| 325517      | 3           | 5           | 10          | 4           | 2           | 5           | 1           | 1           | 0           | 1           |          NA | -0.32391985 | -0.26734569 |  0.73278640 | -1.01092214 | -0.7686307  |\n",
       "| 325504      | 1           | 5           | 10          | 4           | 2           | 4           | 3           | 2           | 0           | 1           |          NA |  0.20481141 |  0.02266818 | -0.91446911 | -0.90023855 | -0.7686307  |\n",
       "| 325262      | 3           | 4           | 10          | 4           | 2           | 5           | 1           | 1           | 0           | 1           |          NA |  0.02856766 | -0.62536343 | -0.76471861 |  1.06226661 | -0.7686307  |\n",
       "| 325481      | 1           | 5           |  7          | 4           | 1           | 5           | 1           | 3           | 1           | 1           | -1.19868292 |  0.55729892 |  0.67295381 | -0.16571661 |  0.13571726 |  0.5139798  |\n",
       "| 325459      | 4           | 3           |  3          | 4           | 2           | 5           | 1           | 1           | 0           | 1           |          NA |  0.55729892 | -0.25344963 | -0.24059186 |  0.45137834 | -0.7686307  |\n",
       "| 325513      | 3           | 5           |  2          | 2           | 5           | 4           | 3           | 1           | 0           | 1           |          NA |  0.55729892 | -0.31205423 | -1.21397011 |  0.90581961 | -0.7686307  |\n",
       "| 325415      | 1           | 4           | 10          | 1           | 3           | 4           | 1           | 2           | 0           | 1           |          NA |  0.55729892 |  0.19735496 |  0.05890915 | -0.70760654 | -0.7686307  |\n",
       "| 325454      | 3           | 3           |  1          | 1           | 4           | 5           | 1           | 1           | 0           | 1           |          NA | -0.32391985 | -0.49124906 | -0.91446911 | -0.67674284 | -0.7686307  |\n",
       "| 325485      | 1           | 3           | 12          | 4           | 4           | 4           | 3           | 3           | 1           | 1           |  0.23053152 | -0.14767609 |  0.00801703 | -0.39034236 | -0.94706622 | -0.7686307  |\n",
       "| 325483      | 1           | 5           |  5          | 3           | 3           | 5           | 1           | 4           | 0           | 1           |          NA |  0.55729892 | -0.29402205 |  0.58303590 |  0.61208240 | -0.7686307  |\n",
       "| 324820      | 1           | 4           |  1          | 1           | 2           | 4           | 1           | 2           | 1           | 2           | -1.21111087 |  0.73354267 | -0.25457665 |  0.05890915 |  1.13782944 | -0.7686307  |\n",
       "| 325011      | 1           | 5           | 14          | 1           | 2           | 5           | 3           | 4           | 0           | 1           |          NA | -0.32391985 | -0.15990768 | -1.51347111 |  0.48011350 | -0.7686307  |\n",
       "| 325479      | 3           | 5           | 14          | 1           | 3           | 5           | 3           | 1           | 1           | 1           | -0.80098846 |  0.20481141 | -0.40071623 | -0.91446911 |  0.28748149 | -0.7686307  |\n",
       "| 325349      | 3           | 3           | 14          | 2           | 1           | 4           | 3           | 1           | 1           | 1           | -1.44724195 |  0.55729892 |  2.06368598 | -0.83959386 | -1.90455021 |  1.7965902  |\n",
       "| 325393      | 1           | 5           | 10          | 4           | 1           | 5           | 1           | 4           | 0           | 1           |          NA | -0.32391985 | -0.15990768 |  0.28353490 |  0.90475535 | -0.7686307  |\n",
       "| 325510      | 4           | 1           | 10          | 4           | 4           | 4           | 1           | 2           | 1           | 1           |  0.93892477 | -0.32391985 |  0.79278894 | -0.61496811 | -0.33170804 |  0.5139798  |\n",
       "| 325534      | 1           | 5           | 10          | 3           | 2           | 5           | 1           | >4          | 0           | 1           |          NA |  0.55729892 | -0.10468412 |  0.13378440 | -0.03818368 | -0.7686307  |\n",
       "| 325624      | 4           | 3           |  2          | 1           | 2           | 4           | 1           | 1           | 1           | 1           |  0.01925635 | -0.67640735 | -0.34811860 | -0.39034236 |  0.47585644 | -0.7686307  |\n",
       "\n"
      ],
      "text/plain": [
       "     ID     V1  V2  V3  V4  V5  V6  V7  V8  Has_FICO Business_channel\n",
       "1    305932 3   3   14  2   1   5   1   1   1        1               \n",
       "2    305764 1   4    7  1   6   4   1   2   1        1               \n",
       "3    305971 1   4   10  4   5   4   1   4   1        3               \n",
       "4    305664 1   5   14  2   2   5   3   3   1        1               \n",
       "5    305639 1   4   15  1   5   4   1   3   1        2               \n",
       "6    305854 3   3   10  1   4   5   3   1   1        1               \n",
       "7    306018 1   5   10  4   2   4   3   >4  1        1               \n",
       "8    305910 1   3   10  4   3   4   3   3   1        1               \n",
       "9    305802 1   4    2  2   6   4   1   2   0        1               \n",
       "10   306025 1   3   10  4   5   4   1   2   1        3               \n",
       "11   305618 1   3    5  2   6   5   1   1   0        1               \n",
       "12   305196 3   4   14  4   2   4   1   1   1        2               \n",
       "13   306039 1   5   11  5   7   7   1   2   1        1               \n",
       "14   306024 1   5    7  4   5   4   1   2   1        1               \n",
       "15   306030 1   5   11  2   3   5   1   3   1        1               \n",
       "16   306036 1   5   10  4   2   5   1   2   0        1               \n",
       "17   303147 1   4   11  2   5   4   1   2   1        1               \n",
       "18   305110 3   5   10  4   1   5   3   2   1        1               \n",
       "19   305812 3   1   15  2   3   3   1   1   1        2               \n",
       "20   305847 1   3   11  2   2   4   1   3   1        1               \n",
       "21   305475 1   4   10  4   2   5   1   >4  0        2               \n",
       "22   306003 3   5   11  1   1   4   3   1   0        1               \n",
       "23   306053 1   3    2  4   1   4   3   2   1        1               \n",
       "24   305972 1   4   15  4   4   4   3   2   0        3               \n",
       "25   306069 3   5   10  4   2   5   3   1   0        2               \n",
       "26   306113 4   5    3  2   2   5   3   1   0        1               \n",
       "27   306122 4   4   10  4   2   4   3   1   1        1               \n",
       "28   306015 1   5    8  4   1   5   2   3   1        1               \n",
       "29   306068 1   5   10  2   3   5   1   >4  0        1               \n",
       "30   305949 1   4   11  5   7   7   1   2   1        1               \n",
       "...  ...    ... ... ... ... ... ... ... ... ...      ...             \n",
       "4971 325436 1   4    3  2   4   4   3   3   1        2               \n",
       "4972 325312 1   4   10  3   3   4   1   3   1        3               \n",
       "4973 325484 1   3   10  4   4   4   1   4   1        1               \n",
       "4974 325144 1   3   10  4   2   5   3   4   0        1               \n",
       "4975 324723 1   4   10  2   3   5   1   2   1        1               \n",
       "4976 324896 1   5   10  4   1   5   3   >4  1        1               \n",
       "4977 325373 3   5    2  1   3   5   3   1   1        1               \n",
       "4978 325496 3   3    1  1   6   4   1   1   1        1               \n",
       "4979 325303 3   3   10  3   1   4   3   1   0        1               \n",
       "4980 325356 1   2   15  4   6   4   1   3   1        3               \n",
       "4981 325522 1   5   10  4   6   4   3   3   0        1               \n",
       "4982 322847 1   3    2  2   4   5   1   3   1        2               \n",
       "4983 325517 3   5   10  4   2   5   1   1   0        1               \n",
       "4984 325504 1   5   10  4   2   4   3   2   0        1               \n",
       "4985 325262 3   4   10  4   2   5   1   1   0        1               \n",
       "4986 325481 1   5    7  4   1   5   1   3   1        1               \n",
       "4987 325459 4   3    3  4   2   5   1   1   0        1               \n",
       "4988 325513 3   5    2  2   5   4   3   1   0        1               \n",
       "4989 325415 1   4   10  1   3   4   1   2   0        1               \n",
       "4990 325454 3   3    1  1   4   5   1   1   0        1               \n",
       "4991 325485 1   3   12  4   4   4   3   3   1        1               \n",
       "4992 325483 1   5    5  3   3   5   1   4   0        1               \n",
       "4993 324820 1   4    1  1   2   4   1   2   1        2               \n",
       "4994 325011 1   5   14  1   2   5   3   4   0        1               \n",
       "4995 325479 3   5   14  1   3   5   3   1   1        1               \n",
       "4996 325349 3   3   14  2   1   4   3   1   1        1               \n",
       "4997 325393 1   5   10  4   1   5   1   4   0        1               \n",
       "4998 325510 4   1   10  4   4   4   1   2   1        1               \n",
       "4999 325534 1   5   10  3   2   5   1   >4  0        1               \n",
       "5000 325624 4   3    2  1   2   4   1   1   1        1               \n",
       "     FICO_Score  Loan_amount Monthly_income Age         Gearing_coefficient\n",
       "1    -0.03045546 -0.32391985 -0.60544913    -1.06421961  1.02821012        \n",
       "2     0.71522164  5.66836774  1.29957219     0.80766165  1.08177814        \n",
       "3     0.76493345 -0.75078221  0.43402737    -0.39034236 -0.96941579        \n",
       "4    -1.34781834 -0.85265110 -0.49012205    -0.98934436  1.04630263        \n",
       "5     1.63489006  3.20095521  0.56137967     0.58303590  0.08846388        \n",
       "6     0.97620862  0.29293329 -0.50590021     0.05890915  1.02182453        \n",
       "7    -0.45300582 -0.32391985  0.32019921    -1.21397011 -1.17730228        \n",
       "8    -0.17959088  0.55729892  0.15903657    -1.13909486 -0.24401259        \n",
       "9             NA -0.85265110 -0.62085538     0.73278640 -0.05308340        \n",
       "10    1.23719561 -0.77369390 -0.08439791     0.35841015 -1.02220335        \n",
       "11            NA -0.32391985 -0.50139216     0.88253690 -0.62033679        \n",
       "12   -1.57152147  0.29293329 -0.09679504    -1.21397011  1.08078482        \n",
       "13    0.81464525 -0.41204172 -0.66255480     1.55641416  0.91965506        \n",
       "14   -1.03711955 -0.32391985  0.23341933     0.58303590  0.73085440        \n",
       "15   -0.06773932  0.02856766 -0.34811860    -0.68984336  0.89517696        \n",
       "16            NA -0.76452923 -0.41686630     1.03228740  0.81216427        \n",
       "17   -0.90041208 -0.50016360 -0.60620423     0.73278640 -0.71612066        \n",
       "18   -2.16806315  0.38105516 -0.38080193    -1.13909486  0.57802591        \n",
       "19   -0.10502317  5.84461149  0.96034174    -1.06421961  1.03424095        \n",
       "20   -0.39086606  0.55729892  0.33935841    -1.13909486 -1.44904468        \n",
       "21            NA  1.43851768 -0.13285941    -0.68984336  0.74532841        \n",
       "22            NA -0.50016360 -0.50590021    -1.13909486 -1.06732820        \n",
       "23   -1.57152147  0.90978642  0.29315094    -1.06421961  0.96612798        \n",
       "24            NA -0.42085391 -0.21175021    -0.39034236 -0.48070518        \n",
       "25            NA -0.41204172 -0.37178584    -1.43859586  0.97073979        \n",
       "26            NA -0.50016360 -0.66255480     0.13378440 -0.45963273        \n",
       "27   -0.46543377  0.55729892  0.89272105     0.20865965  0.25874633        \n",
       "28   -1.28567858  0.55729892  0.55236358    -0.68984336 -0.54796675        \n",
       "29            NA  0.20481141 -0.50590021     0.65791115  0.78981470        \n",
       "30    1.85859319 -0.32391985 -0.43264446     1.93079041  0.19701894        \n",
       "...  ...         ...         ...            ...         ...                \n",
       "4971  0.03168430  1.43851768  1.11474231     0.13378440 -0.46566357        \n",
       "4972  1.59760621 -0.98483392 -0.17681285     0.35841015 -1.01730773        \n",
       "4973 -0.68913690 -0.14767609  0.46671070    -0.09084135  0.39114093        \n",
       "4974          NA -0.32391985 -0.03706343     0.05890915 -1.05562128        \n",
       "4975 -1.02469159  0.29293329 -0.52055136     0.13378440  1.14102224        \n",
       "4976 -0.21687474 -0.32391985  0.05535151    -0.83959386 -1.31530201        \n",
       "4977 -0.05531136  0.38105516 -0.34811860    -0.39034236  0.97925391        \n",
       "4978 -0.97497979 -0.32391985 -0.67269791    -0.76471861  0.63868903        \n",
       "4979          NA  0.02856766 -0.40559619    -1.06421961  0.64507462        \n",
       "4980  0.83950116 -1.01144672  0.04182737     1.18203790 -1.84424185        \n",
       "4981          NA -0.85265110  0.65379461    -0.76471861 -0.94302202        \n",
       "4982 -0.54000148 -0.50016360 -0.29514906    -0.61496811  0.89198416        \n",
       "4983          NA -0.32391985 -0.26734569     0.73278640 -1.01092214        \n",
       "4984          NA  0.20481141  0.02266818    -0.91446911 -0.90023855        \n",
       "4985          NA  0.02856766 -0.62536343    -0.76471861  1.06226661        \n",
       "4986 -1.19868292  0.55729892  0.67295381    -0.16571661  0.13571726        \n",
       "4987          NA  0.55729892 -0.25344963    -0.24059186  0.45137834        \n",
       "4988          NA  0.55729892 -0.31205423    -1.21397011  0.90581961        \n",
       "4989          NA  0.55729892  0.19735496     0.05890915 -0.70760654        \n",
       "4990          NA -0.32391985 -0.49124906    -0.91446911 -0.67674284        \n",
       "4991  0.23053152 -0.14767609  0.00801703    -0.39034236 -0.94706622        \n",
       "4992          NA  0.55729892 -0.29402205     0.58303590  0.61208240        \n",
       "4993 -1.21111087  0.73354267 -0.25457665     0.05890915  1.13782944        \n",
       "4994          NA -0.32391985 -0.15990768    -1.51347111  0.48011350        \n",
       "4995 -0.80098846  0.20481141 -0.40071623    -0.91446911  0.28748149        \n",
       "4996 -1.44724195  0.55729892  2.06368598    -0.83959386 -1.90455021        \n",
       "4997          NA -0.32391985 -0.15990768     0.28353490  0.90475535        \n",
       "4998  0.93892477 -0.32391985  0.79278894    -0.61496811 -0.33170804        \n",
       "4999          NA  0.55729892 -0.10468412     0.13378440 -0.03818368        \n",
       "5000  0.01925635 -0.67640735 -0.34811860    -0.39034236  0.47585644        \n",
       "     Max_gearing_ratio\n",
       "1    -0.7686307       \n",
       "2     1.7965902       \n",
       "3     1.7965902       \n",
       "4    -0.7686307       \n",
       "5     1.7965902       \n",
       "6    -0.7686307       \n",
       "7     1.7965902       \n",
       "8     0.5139798       \n",
       "9    -0.7686307       \n",
       "10    0.5139798       \n",
       "11   -0.7686307       \n",
       "12    0.5139798       \n",
       "13   -0.7686307       \n",
       "14    0.5139798       \n",
       "15   -0.7686307       \n",
       "16   -0.7686307       \n",
       "17   -0.7686307       \n",
       "18   -0.7686307       \n",
       "19    1.7965902       \n",
       "20    1.7965902       \n",
       "21    0.5139798       \n",
       "22   -0.7686307       \n",
       "23    1.7965902       \n",
       "24    0.5139798       \n",
       "25   -0.7686307       \n",
       "26   -0.7686307       \n",
       "27    1.7965902       \n",
       "28    1.7965902       \n",
       "29   -0.7686307       \n",
       "30   -0.7686307       \n",
       "...  ...              \n",
       "4971  1.7965902       \n",
       "4972 -0.7686307       \n",
       "4973  0.5139798       \n",
       "4974 -0.7686307       \n",
       "4975 -0.7686307       \n",
       "4976 -0.7686307       \n",
       "4977 -0.7686307       \n",
       "4978 -0.7686307       \n",
       "4979 -0.7686307       \n",
       "4980 -0.7686307       \n",
       "4981  0.5139798       \n",
       "4982 -0.7686307       \n",
       "4983 -0.7686307       \n",
       "4984 -0.7686307       \n",
       "4985 -0.7686307       \n",
       "4986  0.5139798       \n",
       "4987 -0.7686307       \n",
       "4988 -0.7686307       \n",
       "4989 -0.7686307       \n",
       "4990 -0.7686307       \n",
       "4991 -0.7686307       \n",
       "4992 -0.7686307       \n",
       "4993 -0.7686307       \n",
       "4994 -0.7686307       \n",
       "4995 -0.7686307       \n",
       "4996  1.7965902       \n",
       "4997 -0.7686307       \n",
       "4998  0.5139798       \n",
       "4999 -0.7686307       \n",
       "5000 -0.7686307       "
      ]
     },
     "metadata": {},
     "output_type": "display_data"
    }
   ],
   "source": [
    "# READING IN THE DATASET ON WHICH ANALYSIS HAS TO BE PERFORMED\n",
    "Rejects <- read_excel(\"C:/Users/kgupta/Desktop/Credit scoring/REJECTS.xlsx\")\n",
    "Rejects\n"
   ]
  },
  {
   "cell_type": "code",
   "execution_count": 214,
   "metadata": {},
   "outputs": [
    {
     "name": "stdout",
     "output_type": "stream",
     "text": [
      "Classes 'tbl_df', 'tbl' and 'data.frame':\t10000 obs. of  19 variables:\n",
      " $ ID                 : num  250263 250290 250249 249516 249827 ...\n",
      " $ V1                 : num  1 1 2 3 1 1 2 1 2 3 ...\n",
      " $ V2                 : num  1 2 3 3 3 3 4 3 5 3 ...\n",
      " $ V3                 : num  11 6 11 10 5 11 11 12 11 14 ...\n",
      " $ V4                 : num  5 4 5 4 2 2 5 3 5 1 ...\n",
      " $ V5                 : num  6 5 7 2 4 5 7 3 1 4 ...\n",
      " $ V6                 : num  7 1 7 4 4 4 7 5 7 4 ...\n",
      " $ V7                 : num  1 1 1 1 1 3 3 1 1 3 ...\n",
      " $ V8                 : chr  \"2\" \"2\" \"2\" \"2\" ...\n",
      " $ Has_FICO           : num  0 1 1 0 0 0 1 0 0 0 ...\n",
      " $ Business_channel   : num  1 1 1 1 1 2 1 2 1 1 ...\n",
      " $ Days_late          : num  0 0 0 168 0 0 0 0 336 0 ...\n",
      " $ FICO_Score         : num  NA 1.498 -0.242 NA NA ...\n",
      " $ Loan_amount        : num  1.439 0.205 -0.853 -0.676 -0.412 ...\n",
      " $ Monthly_income     : num  -0.2591 0.3833 -0.7324 -0.0573 -0.5746 ...\n",
      " $ Age                : num  1.781 1.107 1.407 0.957 -0.39 ...\n",
      " $ Gearing_coefficient: num  0.86 -0.718 1.123 -1.702 0.91 ...\n",
      " $ Max_gearing_ratio  : num  0.514 1.797 -0.769 0.514 -0.769 ...\n",
      " $ Default_45         : num  0 0 0 1 0 0 0 0 1 0 ...\n",
      "Classes 'tbl_df', 'tbl' and 'data.frame':\t5000 obs. of  17 variables:\n",
      " $ ID                 : num  305932 305764 305971 305664 305639 ...\n",
      " $ V1                 : num  3 1 1 1 1 3 1 1 1 1 ...\n",
      " $ V2                 : num  3 4 4 5 4 3 5 3 4 3 ...\n",
      " $ V3                 : num  14 7 10 14 15 10 10 10 2 10 ...\n",
      " $ V4                 : num  2 1 4 2 1 1 4 4 2 4 ...\n",
      " $ V5                 : num  1 6 5 2 5 4 2 3 6 5 ...\n",
      " $ V6                 : num  5 4 4 5 4 5 4 4 4 4 ...\n",
      " $ V7                 : num  1 1 1 3 1 3 3 3 1 1 ...\n",
      " $ V8                 : chr  \"1\" \"2\" \"4\" \"3\" ...\n",
      " $ Has_FICO           : num  1 1 1 1 1 1 1 1 0 1 ...\n",
      " $ Business_channel   : num  1 1 3 1 2 1 1 1 1 3 ...\n",
      " $ FICO_Score         : num  -0.0305 0.7152 0.7649 -1.3478 1.6349 ...\n",
      " $ Loan_amount        : num  -0.324 5.668 -0.751 -0.853 3.201 ...\n",
      " $ Monthly_income     : num  -0.605 1.3 0.434 -0.49 0.561 ...\n",
      " $ Age                : num  -1.064 0.808 -0.39 -0.989 0.583 ...\n",
      " $ Gearing_coefficient: num  1.0282 1.0818 -0.9694 1.0463 0.0885 ...\n",
      " $ Max_gearing_ratio  : num  -0.769 1.797 1.797 -0.769 1.797 ...\n"
     ]
    }
   ],
   "source": [
    "#some general details about the datasets\n",
    "str(Accepts)\n",
    "str(Rejects)"
   ]
  },
  {
   "cell_type": "markdown",
   "metadata": {},
   "source": [
    "ACCEPTS DATA"
   ]
  },
  {
   "cell_type": "markdown",
   "metadata": {},
   "source": [
    "Visual exploration of data (Accepts Data)\n",
    "This visualization is performed on raw data without any preprocessing in order to get some general insights about the data. \n",
    "For this process not all the variables are important in the Accepts dataset, hence we will subset only those varibales which are important \n",
    "They will be stored in the variable called as \"sele_var\". They comprise of Has_FICO, Business_channel, Loan_amount, Monthly_income, Age, Default_45\n",
    "It is important to analyze these variables as they have a strong meaning with the target variable i.e. Default_45.\n",
    "\n",
    "If a person has a FICO score , it clearly indicates that the customer has some credit worthiness based on his score\n",
    "\n",
    "Analysis of business channels is also important as the bank can keep a record that whether a person who is applying for a loan is applying through a broker , a partner bank or directlt through the bank.\n",
    "\n",
    "Loan amount , Age and monthly income are important factors as they will help the bank understand about the financial status , the demand of money as well as the age of the person who is applying for the loan.\n",
    "\n",
    "Since our main focus is on visualizing univariate data, several visualizing techniques used for univariate data visualization will be used which are as follows : \n",
    "1.Histogram plots\n",
    "2.Missing Plot\n"
   ]
  },
  {
   "cell_type": "code",
   "execution_count": 30,
   "metadata": {},
   "outputs": [],
   "source": [
    "#Seperate dataframe for variables only required for visualization\n",
    "sele_var <- Accepts[,c(\"Has_FICO\", \"Business_channel\",\"Loan_amount\",\"Monthly_income\",\"Age\",\"Default_45\")]"
   ]
  },
  {
   "cell_type": "code",
   "execution_count": 66,
   "metadata": {},
   "outputs": [
    {
     "data": {
      "image/png": "[encoded data removed]",
      "text/plain": [
       "Plot with title \"Histogram of sele_var$Has_FICO\""
      ]
     },
     "metadata": {},
     "output_type": "display_data"
    },
    {
     "data": {
      "image/png": "[encoded data removed]",
      "text/plain": [
       "Plot with title \"Histogram of sele_var$Has_FICO\""
      ]
     },
     "metadata": {},
     "output_type": "display_data"
    },
    {
     "data": {
      "image/png": "[encoded data removed]",
      "text/plain": [
       "Plot with title \"Histogram of sele_var$Business_channel\""
      ]
     },
     "metadata": {},
     "output_type": "display_data"
    },
    {
     "data": {
      "image/png": "[encoded data removed]",
      "text/plain": [
       "Plot with title \"Histogram of sele_var$Business_channel\""
      ]
     },
     "metadata": {},
     "output_type": "display_data"
    }
   ],
   "source": [
    "# Histogram for selected variables from the accepts dataset\n",
    "h <- hist(sele_var$Has_FICO)\n",
    "plot(h)\n",
    "h1 <- hist(sele_var$Business_channel)\n",
    "plot(h1)\n"
   ]
  },
  {
   "cell_type": "markdown",
   "metadata": {},
   "source": [
    "As per the results of Histogram\n",
    "Maximum accepted customers have a FICO score which indicates good credit worthiness.\n",
    "    Maximum customers apply for the loan directly from the financial institution s compared to applying through a broker or a partner"
   ]
  },
  {
   "cell_type": "code",
   "execution_count": 58,
   "metadata": {},
   "outputs": [
    {
     "data": {
      "text/plain": [
       "sele_var$Age \n",
       "        n   missing  distinct      Info      Mean       Gmd       .05       .10 \n",
       "    10000         0        49     0.999 -0.003147      1.17   -1.4386   -1.2888 \n",
       "      .25       .50       .75       .90       .95 \n",
       "  -0.9145   -0.1657    0.8825    1.5564    1.7062 \n",
       "\n",
       "lowest : -1.588346 -1.513471 -1.438596 -1.363721 -1.288845\n",
       "highest:  1.706165  1.781040  1.855915  1.930790  2.005666"
      ]
     },
     "metadata": {},
     "output_type": "display_data"
    },
    {
     "data": {
      "text/plain": [
       "sele_var$Loan_amount \n",
       "       n  missing distinct     Info     Mean      Gmd      .05      .10 \n",
       "   10000        0      776    0.995  0.03416   0.9651  -0.8527  -0.8527 \n",
       "     .25      .50      .75      .90      .95 \n",
       " -0.6412  -0.3239   0.3811   1.0860   1.9717 \n",
       "\n",
       "lowest : -1.117017 -1.102817 -1.097982 -1.090580 -1.085469\n",
       "highest:  5.509748  5.580246  5.668368  5.756490  5.844611"
      ]
     },
     "metadata": {},
     "output_type": "display_data"
    },
    {
     "data": {
      "text/plain": [
       "sele_var$Monthly_income \n",
       "       n  missing distinct     Info     Mean      Gmd      .05      .10 \n",
       "   10000        0     2317        1  -0.1193   0.6997 -0.80461 -0.68735 \n",
       "     .25      .50      .75      .90      .95 \n",
       "-0.53633 -0.35939  0.05648  0.66281  1.18244 \n",
       "\n",
       "lowest : -0.9848801 -0.9837531 -0.9826261 -0.9814991 -0.9803720\n",
       "highest: 12.6609750 14.3875566 21.2657077 41.2126840 43.8420018"
      ]
     },
     "metadata": {},
     "output_type": "display_data"
    }
   ],
   "source": [
    "#CALCULATE STATISTICS FOR AGE, LOAN AMOUNT AND MONTHLY INCOME\n",
    "describe(sele_var$Age)\n",
    "describe(sele_var$Loan_amount)\n",
    "describe(sele_var$Monthly_income)"
   ]
  },
  {
   "cell_type": "markdown",
   "metadata": {},
   "source": [
    "As per the above statistics it is clearly visible that customers applying for the loan have diverse age backgrouunds, have both high and low monthly income and have extremely different demands for loan ."
   ]
  },
  {
   "cell_type": "code",
   "execution_count": 54,
   "metadata": {},
   "outputs": [
    {
     "name": "stderr",
     "output_type": "stream",
     "text": [
      "Warning message:\n",
      "\"Unknown or uninitialised column: 'arguments'.\"Warning message:\n",
      "\"Unknown or uninitialised column: 'arguments'.\"Warning message:\n",
      "\"Unknown or uninitialised column: 'imputations'.\""
     ]
    },
    {
     "data": {
      "image/png": "[encoded data removed]",
      "text/plain": [
       "Plot with title \"Missingness Map\""
      ]
     },
     "metadata": {},
     "output_type": "display_data"
    }
   ],
   "source": [
    "# Missing plot to represent missing values in a visualized form for selected variables\n",
    "missmap(sele_var , col=c(\"black\", \"grey\"), legend=FALSE)\n"
   ]
  },
  {
   "cell_type": "code",
   "execution_count": 55,
   "metadata": {},
   "outputs": [
    {
     "name": "stderr",
     "output_type": "stream",
     "text": [
      "Warning message:\n",
      "\"Unknown or uninitialised column: 'arguments'.\"Warning message:\n",
      "\"Unknown or uninitialised column: 'arguments'.\"Warning message:\n",
      "\"Unknown or uninitialised column: 'imputations'.\""
     ]
    },
    {
     "data": {
      "image/png": "[encoded data removed]",
      "text/plain": [
       "Plot with title \"Missingness Map\""
      ]
     },
     "metadata": {},
     "output_type": "display_data"
    }
   ],
   "source": [
    "# Missing plot to represent missing values in a visualized form for the whole accepts dataset\n",
    "missmap(Accepts , col=c(\"black\", \"grey\"), legend=FALSE)\n"
   ]
  },
  {
   "cell_type": "markdown",
   "metadata": {},
   "source": [
    "Data sampling\n",
    "Reject Inference problem\n",
    "chosen method - First analyze the accepts data with models \n",
    "create a scorecard on the rejects dataset\n",
    "combine both reject and accept data \n",
    "then test it with the model"
   ]
  },
  {
   "cell_type": "markdown",
   "metadata": {},
   "source": [
    "DATA PREPROCESSING\n",
    "IT IS AN IMPORTANT ASPECT IN ORDER TO MAKE THE DATA FIT FOR PREDICTIONS OF CREDIT SCORE\n",
    "FOLLOWING ASPECTS WILL BE COVERED IN THIS PROCESS:\n",
    "1.Treatment of Missing Values\n",
    "2.Treatment of outlier values"
   ]
  },
  {
   "cell_type": "code",
   "execution_count": 85,
   "metadata": {},
   "outputs": [
    {
     "data": {
      "text/html": [
       "4472"
      ],
      "text/latex": [
       "4472"
      ],
      "text/markdown": [
       "4472"
      ],
      "text/plain": [
       "[1] 4472"
      ]
     },
     "metadata": {},
     "output_type": "display_data"
    }
   ],
   "source": [
    "#Check the count of NA values in the dataframe\n",
    "sum(is.na(Accepts$FICO_Score))"
   ]
  },
  {
   "cell_type": "code",
   "execution_count": 92,
   "metadata": {},
   "outputs": [
    {
     "name": "stderr",
     "output_type": "stream",
     "text": [
      "Installing package into 'C:/Users/kgupta/Documents/R/win-library/3.6'\n",
      "(as 'lib' is unspecified)\n",
      "Warning message:\n",
      "\"package 'imputeTS' is in use and will not be installed\"Warning message:\n",
      "\"na.replace will replaced by na_replace.\n",
      "    Functionality stays the same.\n",
      "    The new function name better fits modern R code style guidelines.\n",
      "    Please adjust your code accordingly.\""
     ]
    }
   ],
   "source": [
    "#Replaced all NA values with 0\n",
    "Accepts$FICO_Score <- na.replace(Accepts$FICO_Score, 0)"
   ]
  },
  {
   "cell_type": "code",
   "execution_count": 89,
   "metadata": {},
   "outputs": [
    {
     "ename": "ERROR",
     "evalue": "Error in Accepts$Max_gearing_ratio: $ operator is invalid for atomic vectors\n",
     "output_type": "error",
     "traceback": [
      "Error in Accepts$Max_gearing_ratio: $ operator is invalid for atomic vectors\nTraceback:\n",
      "1. boxplot(Accepts$Max_gearing_ratio)"
     ]
    }
   ],
   "source": [
    "#outlier detection in the dataset\n",
    "b1 <- boxplot(Accepts$Max_gearing_ratio)\n",
    "b2 <- boxplot(Accepts$Age)\n",
    "b3 <- boxplot(Accepts$Monthly_income)  # with outlier\n",
    "b4 <- boxplot(Accepts$Loan_amount)  # with otulier\n",
    "b5 <- boxplot(Accepts$FICO_Score) # with outlier\n",
    "b6 <- boxplot(Accepts$Days_late) #with outlier\n",
    "b7 <- boxplot(Accepts$Business_channel)\n",
    "b8 <- boxplot(Accepts$Has_FICO)"
   ]
  },
  {
   "cell_type": "code",
   "execution_count": 83,
   "metadata": {},
   "outputs": [
    {
     "data": {
      "text/html": [
       "<table>\n",
       "<thead><tr><th scope=col>ID</th><th scope=col>V1</th><th scope=col>V2</th><th scope=col>V3</th><th scope=col>V4</th><th scope=col>V5</th><th scope=col>V6</th><th scope=col>V7</th><th scope=col>V8</th><th scope=col>Has_FICO</th><th scope=col>Business_channel</th><th scope=col>Days_late</th><th scope=col>FICO_Score</th><th scope=col>Loan_amount</th><th scope=col>Monthly_income</th><th scope=col>Age</th><th scope=col>Gearing_coefficient</th><th scope=col>Max_gearing_ratio</th><th scope=col>Default_45</th></tr></thead>\n",
       "<tbody>\n",
       "</tbody>\n",
       "</table>\n"
      ],
      "text/latex": [
       "\\begin{tabular}{r|lllllllllllllllllll}\n",
       " ID & V1 & V2 & V3 & V4 & V5 & V6 & V7 & V8 & Has\\_FICO & Business\\_channel & Days\\_late & FICO\\_Score & Loan\\_amount & Monthly\\_income & Age & Gearing\\_coefficient & Max\\_gearing\\_ratio & Default\\_45\\\\\n",
       "\\hline\n",
       "\\end{tabular}\n"
      ],
      "text/markdown": [
       "\n",
       "| ID | V1 | V2 | V3 | V4 | V5 | V6 | V7 | V8 | Has_FICO | Business_channel | Days_late | FICO_Score | Loan_amount | Monthly_income | Age | Gearing_coefficient | Max_gearing_ratio | Default_45 |\n",
       "|---|---|---|---|---|---|---|---|---|---|---|---|---|---|---|---|---|---|---|\n",
       "\n"
      ],
      "text/plain": [
       "     ID V1 V2 V3 V4 V5 V6 V7 V8 Has_FICO Business_channel Days_late FICO_Score\n",
       "     Loan_amount Monthly_income Age Gearing_coefficient Max_gearing_ratio\n",
       "     Default_45"
      ]
     },
     "metadata": {},
     "output_type": "display_data"
    },
    {
     "data": {
      "text/html": [
       "<table>\n",
       "<thead><tr><th scope=col>ID</th><th scope=col>V1</th><th scope=col>V2</th><th scope=col>V3</th><th scope=col>V4</th><th scope=col>V5</th><th scope=col>V6</th><th scope=col>V7</th><th scope=col>V8</th><th scope=col>Has_FICO</th><th scope=col>Business_channel</th><th scope=col>Days_late</th><th scope=col>FICO_Score</th><th scope=col>Loan_amount</th><th scope=col>Monthly_income</th><th scope=col>Age</th><th scope=col>Gearing_coefficient</th><th scope=col>Max_gearing_ratio</th><th scope=col>Default_45</th></tr></thead>\n",
       "<tbody>\n",
       "</tbody>\n",
       "</table>\n"
      ],
      "text/latex": [
       "\\begin{tabular}{r|lllllllllllllllllll}\n",
       " ID & V1 & V2 & V3 & V4 & V5 & V6 & V7 & V8 & Has\\_FICO & Business\\_channel & Days\\_late & FICO\\_Score & Loan\\_amount & Monthly\\_income & Age & Gearing\\_coefficient & Max\\_gearing\\_ratio & Default\\_45\\\\\n",
       "\\hline\n",
       "\\end{tabular}\n"
      ],
      "text/markdown": [
       "\n",
       "| ID | V1 | V2 | V3 | V4 | V5 | V6 | V7 | V8 | Has_FICO | Business_channel | Days_late | FICO_Score | Loan_amount | Monthly_income | Age | Gearing_coefficient | Max_gearing_ratio | Default_45 |\n",
       "|---|---|---|---|---|---|---|---|---|---|---|---|---|---|---|---|---|---|---|\n",
       "\n"
      ],
      "text/plain": [
       "     ID V1 V2 V3 V4 V5 V6 V7 V8 Has_FICO Business_channel Days_late FICO_Score\n",
       "     Loan_amount Monthly_income Age Gearing_coefficient Max_gearing_ratio\n",
       "     Default_45"
      ]
     },
     "metadata": {},
     "output_type": "display_data"
    },
    {
     "data": {
      "text/html": [
       "<table>\n",
       "<thead><tr><th scope=col>ID</th><th scope=col>V1</th><th scope=col>V2</th><th scope=col>V3</th><th scope=col>V4</th><th scope=col>V5</th><th scope=col>V6</th><th scope=col>V7</th><th scope=col>V8</th><th scope=col>Has_FICO</th><th scope=col>Business_channel</th><th scope=col>Days_late</th><th scope=col>FICO_Score</th><th scope=col>Loan_amount</th><th scope=col>Monthly_income</th><th scope=col>Age</th><th scope=col>Gearing_coefficient</th><th scope=col>Max_gearing_ratio</th><th scope=col>Default_45</th></tr></thead>\n",
       "<tbody>\n",
       "</tbody>\n",
       "</table>\n"
      ],
      "text/latex": [
       "\\begin{tabular}{r|lllllllllllllllllll}\n",
       " ID & V1 & V2 & V3 & V4 & V5 & V6 & V7 & V8 & Has\\_FICO & Business\\_channel & Days\\_late & FICO\\_Score & Loan\\_amount & Monthly\\_income & Age & Gearing\\_coefficient & Max\\_gearing\\_ratio & Default\\_45\\\\\n",
       "\\hline\n",
       "\\end{tabular}\n"
      ],
      "text/markdown": [
       "\n",
       "| ID | V1 | V2 | V3 | V4 | V5 | V6 | V7 | V8 | Has_FICO | Business_channel | Days_late | FICO_Score | Loan_amount | Monthly_income | Age | Gearing_coefficient | Max_gearing_ratio | Default_45 |\n",
       "|---|---|---|---|---|---|---|---|---|---|---|---|---|---|---|---|---|---|---|\n",
       "\n"
      ],
      "text/plain": [
       "     ID V1 V2 V3 V4 V5 V6 V7 V8 Has_FICO Business_channel Days_late FICO_Score\n",
       "     Loan_amount Monthly_income Age Gearing_coefficient Max_gearing_ratio\n",
       "     Default_45"
      ]
     },
     "metadata": {},
     "output_type": "display_data"
    },
    {
     "data": {
      "text/html": [
       "<table>\n",
       "<thead><tr><th scope=col>ID</th><th scope=col>V1</th><th scope=col>V2</th><th scope=col>V3</th><th scope=col>V4</th><th scope=col>V5</th><th scope=col>V6</th><th scope=col>V7</th><th scope=col>V8</th><th scope=col>Has_FICO</th><th scope=col>Business_channel</th><th scope=col>Days_late</th><th scope=col>FICO_Score</th><th scope=col>Loan_amount</th><th scope=col>Monthly_income</th><th scope=col>Age</th><th scope=col>Gearing_coefficient</th><th scope=col>Max_gearing_ratio</th><th scope=col>Default_45</th></tr></thead>\n",
       "<tbody>\n",
       "</tbody>\n",
       "</table>\n"
      ],
      "text/latex": [
       "\\begin{tabular}{r|lllllllllllllllllll}\n",
       " ID & V1 & V2 & V3 & V4 & V5 & V6 & V7 & V8 & Has\\_FICO & Business\\_channel & Days\\_late & FICO\\_Score & Loan\\_amount & Monthly\\_income & Age & Gearing\\_coefficient & Max\\_gearing\\_ratio & Default\\_45\\\\\n",
       "\\hline\n",
       "\\end{tabular}\n"
      ],
      "text/markdown": [
       "\n",
       "| ID | V1 | V2 | V3 | V4 | V5 | V6 | V7 | V8 | Has_FICO | Business_channel | Days_late | FICO_Score | Loan_amount | Monthly_income | Age | Gearing_coefficient | Max_gearing_ratio | Default_45 |\n",
       "|---|---|---|---|---|---|---|---|---|---|---|---|---|---|---|---|---|---|---|\n",
       "\n"
      ],
      "text/plain": [
       "     ID V1 V2 V3 V4 V5 V6 V7 V8 Has_FICO Business_channel Days_late FICO_Score\n",
       "     Loan_amount Monthly_income Age Gearing_coefficient Max_gearing_ratio\n",
       "     Default_45"
      ]
     },
     "metadata": {},
     "output_type": "display_data"
    }
   ],
   "source": [
    "#Removing outliers\n",
    "Accepts[-which(Accepts$Monthly_income %in% b3),]\n",
    "Accepts[-which(Accepts$Loan_amount %in% b4),]\n",
    "Accepts[-which(Accepts$FICO_Score %in% b5),]\n",
    "Accepts[-which(Accepts$Days_late %in% b6),]"
   ]
  },
  {
   "cell_type": "code",
   "execution_count": 93,
   "metadata": {},
   "outputs": [
    {
     "data": {
      "text/html": [
       "<table>\n",
       "<thead><tr><th scope=col>ID</th><th scope=col>V1</th><th scope=col>V2</th><th scope=col>V3</th><th scope=col>V4</th><th scope=col>V5</th><th scope=col>V6</th><th scope=col>V7</th><th scope=col>V8</th><th scope=col>Has_FICO</th><th scope=col>Business_channel</th><th scope=col>Days_late</th><th scope=col>FICO_Score</th><th scope=col>Loan_amount</th><th scope=col>Monthly_income</th><th scope=col>Age</th><th scope=col>Gearing_coefficient</th><th scope=col>Max_gearing_ratio</th><th scope=col>Default_45</th></tr></thead>\n",
       "<tbody>\n",
       "\t<tr><td>250263     </td><td>1          </td><td>1          </td><td>11         </td><td>5          </td><td>6          </td><td>7          </td><td>1          </td><td>2          </td><td>0          </td><td>1          </td><td>  0        </td><td> 0.0000000 </td><td> 1.43851768</td><td>-0.25908469</td><td> 1.78103991</td><td> 0.86026906</td><td> 0.5139798 </td><td>0          </td></tr>\n",
       "\t<tr><td>250290     </td><td>1          </td><td>2          </td><td> 6         </td><td>4          </td><td>5          </td><td>1          </td><td>1          </td><td>2          </td><td>1          </td><td>1          </td><td>  0        </td><td> 1.4981826 </td><td> 0.20481141</td><td> 0.38331185</td><td> 1.10716265</td><td>-0.71824919</td><td> 1.7965902 </td><td>0          </td></tr>\n",
       "\t<tr><td>250249     </td><td>2          </td><td>3          </td><td>11         </td><td>5          </td><td>7          </td><td>7          </td><td>1          </td><td>2          </td><td>1          </td><td>1          </td><td>  0        </td><td>-0.2417306 </td><td>-0.85265110</td><td>-0.73242952</td><td> 1.40666366</td><td> 1.12292973</td><td>-0.7686307 </td><td>0          </td></tr>\n",
       "\t<tr><td>249516     </td><td>3          </td><td>3          </td><td>10         </td><td>4          </td><td>2          </td><td>4          </td><td>1          </td><td>2          </td><td>0          </td><td>1          </td><td>168        </td><td> 0.0000000 </td><td>-0.67640735</td><td>-0.05734964</td><td> 0.95741215</td><td>-1.70248171</td><td> 0.5139798 </td><td>1          </td></tr>\n",
       "\t<tr><td>249827     </td><td>1          </td><td>3          </td><td> 5         </td><td>2          </td><td>4          </td><td>4          </td><td>1          </td><td>3          </td><td>0          </td><td>1          </td><td>  0        </td><td> 0.0000000 </td><td>-0.41204172</td><td>-0.57464791</td><td>-0.39034236</td><td> 0.91007667</td><td>-0.7686307 </td><td>0          </td></tr>\n",
       "\t<tr><td>250329     </td><td>1          </td><td>3          </td><td>11         </td><td>2          </td><td>5          </td><td>4          </td><td>3          </td><td>4          </td><td>0          </td><td>2          </td><td>  0        </td><td> 0.0000000 </td><td> 0.55729892</td><td>-0.21062320</td><td>-0.39034236</td><td>-0.38449560</td><td> 0.5139798 </td><td>0          </td></tr>\n",
       "\t<tr><td>250196     </td><td>2          </td><td>4          </td><td>11         </td><td>5          </td><td>7          </td><td>7          </td><td>3          </td><td>1          </td><td>1          </td><td>1          </td><td>  0        </td><td> 0.5909421 </td><td>-0.85265110</td><td>-0.67495193</td><td> 1.25691315</td><td>-0.78955496</td><td>-0.7686307 </td><td>0          </td></tr>\n",
       "\t<tr><td>250358     </td><td>1          </td><td>3          </td><td>12         </td><td>3          </td><td>3          </td><td>5          </td><td>1          </td><td>3          </td><td>0          </td><td>2          </td><td>  0        </td><td> 0.0000000 </td><td>-0.46491485</td><td>-0.58028297</td><td>-0.46521761</td><td> 0.50352734</td><td>-0.7686307 </td><td>0          </td></tr>\n",
       "\t<tr><td>250375     </td><td>2          </td><td>5          </td><td>11         </td><td>5          </td><td>1          </td><td>7          </td><td>1          </td><td>1          </td><td>0          </td><td>1          </td><td>336        </td><td> 0.0000000 </td><td> 0.02856766</td><td>-0.70988929</td><td> 1.40666366</td><td> 1.06226661</td><td>-0.7686307 </td><td>1          </td></tr>\n",
       "\t<tr><td>250415     </td><td>3          </td><td>3          </td><td>14         </td><td>1          </td><td>4          </td><td>4          </td><td>3          </td><td>1          </td><td>0          </td><td>1          </td><td>  0        </td><td> 0.0000000 </td><td>-0.23579797</td><td>-0.76623986</td><td>-0.31546711</td><td> 1.02395306</td><td>-0.7686307 </td><td>0          </td></tr>\n",
       "\t<tr><td>250334     </td><td>1          </td><td>3          </td><td>15         </td><td>4          </td><td>3          </td><td>4          </td><td>1          </td><td>3          </td><td>0          </td><td>1          </td><td>349        </td><td> 0.0000000 </td><td> 2.14349269</td><td>-0.04833354</td><td>-0.31546711</td><td> 1.09440742</td><td> 0.5139798 </td><td>1          </td></tr>\n",
       "\t<tr><td>250321     </td><td>1          </td><td>4          </td><td>15         </td><td>2          </td><td>2          </td><td>4          </td><td>1          </td><td>2          </td><td>0          </td><td>1          </td><td>  0        </td><td> 0.0000000 </td><td>-0.05955422</td><td>-0.67269791</td><td>-0.01596610</td><td> 0.89624122</td><td>-0.7686307 </td><td>0          </td></tr>\n",
       "\t<tr><td>250033     </td><td>3          </td><td>3          </td><td> 3         </td><td>4          </td><td>2          </td><td>4          </td><td>3          </td><td>1          </td><td>0          </td><td>2          </td><td>  0        </td><td> 0.0000000 </td><td>-0.32391985</td><td>-0.01565021</td><td>-1.43859586</td><td>-1.47345183</td><td> 0.5139798 </td><td>0          </td></tr>\n",
       "\t<tr><td>250018     </td><td>1          </td><td>5          </td><td>11         </td><td>5          </td><td>7          </td><td>7          </td><td>1          </td><td>2          </td><td>1          </td><td>3          </td><td>  0        </td><td> 1.1999118 </td><td>-1.00333951</td><td>-0.88344906</td><td> 1.78103991</td><td>-0.99815096</td><td>-0.7686307 </td><td>0          </td></tr>\n",
       "\t<tr><td>250310     </td><td>1          </td><td>1          </td><td>12         </td><td>4          </td><td>6          </td><td>1          </td><td>1          </td><td>3          </td><td>1          </td><td>1          </td><td>  0        </td><td>-0.2790145 </td><td>-0.39441735</td><td>-0.26246573</td><td>-0.39034236</td><td> 1.08248765</td><td>-0.7686307 </td><td>0          </td></tr>\n",
       "\t<tr><td>250470     </td><td>1          </td><td>3          </td><td>12         </td><td>2          </td><td>6          </td><td>1          </td><td>1          </td><td>3          </td><td>1          </td><td>1          </td><td> 15        </td><td>-1.3975301 </td><td>-0.85265110</td><td>-0.64452262</td><td> 0.20865965</td><td> 1.07184499</td><td>-0.7686307 </td><td>0          </td></tr>\n",
       "\t<tr><td>250370     </td><td>1          </td><td>3          </td><td>15         </td><td>1          </td><td>2          </td><td>4          </td><td>1          </td><td>2          </td><td>0          </td><td>1          </td><td> 15        </td><td> 0.0000000 </td><td> 0.02856766</td><td>-0.63663354</td><td>-1.13909486</td><td> 0.92071932</td><td>-0.7686307 </td><td>0          </td></tr>\n",
       "\t<tr><td>250420     </td><td>1          </td><td>3          </td><td>11         </td><td>5          </td><td>6          </td><td>7          </td><td>1          </td><td>2          </td><td>0          </td><td>1          </td><td>  0        </td><td> 0.0000000 </td><td>-0.32391985</td><td>-0.60282320</td><td> 1.40666366</td><td> 0.41625759</td><td>-0.7686307 </td><td>0          </td></tr>\n",
       "\t<tr><td>250523     </td><td>2          </td><td>4          </td><td>11         </td><td>5          </td><td>7          </td><td>7          </td><td>1          </td><td>1          </td><td>0          </td><td>1          </td><td>  0        </td><td> 0.0000000 </td><td> 0.02856766</td><td>-0.48899504</td><td> 1.18203790</td><td> 1.01437467</td><td>-0.7686307 </td><td>0          </td></tr>\n",
       "\t<tr><td>250512     </td><td>1          </td><td>1          </td><td>12         </td><td>2          </td><td>1          </td><td>1          </td><td>3          </td><td>2          </td><td>1          </td><td>1          </td><td>594        </td><td>-0.8507003 </td><td>-0.67640735</td><td>-0.39658009</td><td> 0.50816065</td><td>-0.07756150</td><td>-0.7686307 </td><td>1          </td></tr>\n",
       "\t<tr><td>250566     </td><td>1          </td><td>4          </td><td>10         </td><td>5          </td><td>7          </td><td>7          </td><td>1          </td><td>2          </td><td>1          </td><td>1          </td><td> 15        </td><td> 1.5230385 </td><td>-0.14767609</td><td>-0.26021170</td><td> 0.95741215</td><td> 1.05949952</td><td> 0.5139798 </td><td>0          </td></tr>\n",
       "\t<tr><td>250479     </td><td>4          </td><td>4          </td><td>11         </td><td>5          </td><td>5          </td><td>7          </td><td>1          </td><td>1          </td><td>1          </td><td>1          </td><td>319        </td><td>-0.4032940 </td><td> 1.08603017</td><td>-0.08327090</td><td> 0.20865965</td><td>-0.34447923</td><td> 0.5139798 </td><td>1          </td></tr>\n",
       "\t<tr><td>250546     </td><td>3          </td><td>1          </td><td>11         </td><td>4          </td><td>2          </td><td>1          </td><td>3          </td><td>1          </td><td>0          </td><td>1          </td><td>  0        </td><td> 0.0000000 </td><td> 0.82166455</td><td> 0.04295439</td><td>-1.21397011</td><td>-0.71824919</td><td> 0.5139798 </td><td>0          </td></tr>\n",
       "\t<tr><td>250559     </td><td>1          </td><td>3          </td><td> 2         </td><td>1          </td><td>4          </td><td>5          </td><td>1          </td><td>2          </td><td>0          </td><td>1          </td><td>  0        </td><td> 0.0000000 </td><td>-0.32391985</td><td>-0.67269791</td><td> 0.50816065</td><td> 0.02460797</td><td>-0.7686307 </td><td>0          </td></tr>\n",
       "\t<tr><td>250578     </td><td>4          </td><td>3          </td><td>13         </td><td>1          </td><td>3          </td><td>5          </td><td>3          </td><td>1          </td><td>1          </td><td>1          </td><td>  0        </td><td>-1.1116873 </td><td>-0.14767609</td><td>-0.70087319</td><td>-1.13909486</td><td> 0.80790721</td><td>-0.7686307 </td><td>0          </td></tr>\n",
       "\t<tr><td>250545     </td><td>1          </td><td>4          </td><td>10         </td><td>4          </td><td>4          </td><td>5          </td><td>1          </td><td>2          </td><td>1          </td><td>2          </td><td>273        </td><td>-1.1116873 </td><td> 0.55729892</td><td>-0.15539964</td><td>-1.21397011</td><td>-0.52583003</td><td> 0.5139798 </td><td>1          </td></tr>\n",
       "\t<tr><td>250452     </td><td>1          </td><td>4          </td><td> 3         </td><td>1          </td><td>3          </td><td>4          </td><td>1          </td><td>3          </td><td>1          </td><td>1          </td><td>  0        </td><td> 0.2181036 </td><td> 0.02856766</td><td>-0.07087377</td><td> 0.20865965</td><td> 1.12165261</td><td> 0.5139798 </td><td>0          </td></tr>\n",
       "\t<tr><td>250079     </td><td>1          </td><td>4          </td><td>15         </td><td>2          </td><td>2          </td><td>4          </td><td>1          </td><td>2          </td><td>0          </td><td>1          </td><td>  0        </td><td> 0.0000000 </td><td> 0.01094328</td><td>-0.67269791</td><td> 0.13378440</td><td> 1.10909428</td><td>-0.7686307 </td><td>0          </td></tr>\n",
       "\t<tr><td>250395     </td><td>1          </td><td>4          </td><td>10         </td><td>4          </td><td>6          </td><td>4          </td><td>1          </td><td>2          </td><td>1          </td><td>1          </td><td>  0        </td><td> 1.1129161 </td><td>-0.85265110</td><td>-0.42926343</td><td>-0.68984336</td><td>-0.42557624</td><td>-0.7686307 </td><td>0          </td></tr>\n",
       "\t<tr><td>250644     </td><td>1          </td><td>3          </td><td>15         </td><td>4          </td><td>6          </td><td>4          </td><td>1          </td><td>2          </td><td>1          </td><td>1          </td><td>168        </td><td>-0.6145692 </td><td>-0.32391985</td><td> 1.66810495</td><td> 0.05890915</td><td>-0.02434823</td><td> 1.7965902 </td><td>1          </td></tr>\n",
       "\t<tr><td>...</td><td>...</td><td>...</td><td>...</td><td>...</td><td>...</td><td>...</td><td>...</td><td>...</td><td>...</td><td>...</td><td>...</td><td>...</td><td>...</td><td>...</td><td>...</td><td>...</td><td>...</td><td>...</td></tr>\n",
       "\t<tr><td>305655      </td><td>3           </td><td>5           </td><td>10          </td><td>3           </td><td>2           </td><td>5           </td><td>3           </td><td>3           </td><td>1           </td><td>1           </td><td>107         </td><td>-0.9749798  </td><td> 0.5572989  </td><td>-0.207242164</td><td>-0.31546711 </td><td> 0.09740371 </td><td> 0.5139798  </td><td>1           </td></tr>\n",
       "\t<tr><td>304997      </td><td>1           </td><td>3           </td><td>11          </td><td>4           </td><td>3           </td><td>5           </td><td>1           </td><td>3           </td><td>1           </td><td>1           </td><td>  0         </td><td>-1.0619754  </td><td> 1.4385177  </td><td> 0.008017030</td><td>-1.13909486 </td><td> 0.63294200 </td><td> 0.5139798  </td><td>0           </td></tr>\n",
       "\t<tr><td>305752      </td><td>1           </td><td>3           </td><td>15          </td><td>1           </td><td>6           </td><td>1           </td><td>1           </td><td>3           </td><td>1           </td><td>1           </td><td>  0         </td><td> 0.8022173  </td><td> 3.2009552  </td><td>-0.467581817</td><td> 0.35841015 </td><td> 0.66884321 </td><td> 1.7965902  </td><td>0           </td></tr>\n",
       "\t<tr><td>305832      </td><td>3           </td><td>3           </td><td>10          </td><td>4           </td><td>1           </td><td>4           </td><td>3           </td><td>1           </td><td>0           </td><td>1           </td><td>137         </td><td> 0.0000000  </td><td>-0.6764074  </td><td> 0.394581970</td><td>-0.83959386 </td><td>-2.04077617 </td><td> 1.7965902  </td><td>1           </td></tr>\n",
       "\t<tr><td>305830      </td><td>3           </td><td>2           </td><td>11          </td><td>2           </td><td>3           </td><td>4           </td><td>3           </td><td>1           </td><td>0           </td><td>1           </td><td> 45         </td><td> 0.0000000  </td><td>-0.8526511  </td><td>-0.464200783</td><td> 0.13378440 </td><td> 0.26832471 </td><td>-0.7686307  </td><td>1           </td></tr>\n",
       "\t<tr><td>305495      </td><td>1           </td><td>4           </td><td>11          </td><td>2           </td><td>1           </td><td>5           </td><td>1           </td><td>3           </td><td>1           </td><td>2           </td><td>  0         </td><td>-1.3726742  </td><td> 0.5572989  </td><td> 0.001254961</td><td> 0.28353490 </td><td>-0.80083618 </td><td> 0.5139798  </td><td>0           </td></tr>\n",
       "\t<tr><td>305758      </td><td>2           </td><td>1           </td><td> 5          </td><td>4           </td><td>1           </td><td>4           </td><td>1           </td><td>1           </td><td>1           </td><td>1           </td><td>198         </td><td>-1.0744034  </td><td> 1.0860302  </td><td> 0.289769902</td><td> 1.33178840 </td><td> 0.12890596 </td><td> 1.7965902  </td><td>1           </td></tr>\n",
       "\t<tr><td>305824      </td><td>2           </td><td>4           </td><td>10          </td><td>4           </td><td>4           </td><td>4           </td><td>1           </td><td>1           </td><td>1           </td><td>1           </td><td>  0         </td><td> 1.0010645  </td><td>-0.8526511  </td><td>-0.066365728</td><td> 1.03228740 </td><td>-1.36617389 </td><td> 0.5139798  </td><td>0           </td></tr>\n",
       "\t<tr><td>305893      </td><td>1           </td><td>4           </td><td>11          </td><td>4           </td><td>5           </td><td>4           </td><td>3           </td><td>4           </td><td>1           </td><td>3           </td><td>  0         </td><td> 0.2926713  </td><td>-1.0202589  </td><td> 2.177514141</td><td>-0.46521761 </td><td>-1.84566087 </td><td> 1.7965902  </td><td>0           </td></tr>\n",
       "\t<tr><td>305851      </td><td>3           </td><td>5           </td><td>10          </td><td>4           </td><td>3           </td><td>5           </td><td>3           </td><td>3           </td><td>0           </td><td>1           </td><td>  0         </td><td> 0.0000000  </td><td>-0.8526511  </td><td>-0.113700210</td><td>-0.31546711 </td><td>-2.08221156 </td><td> 0.5139798  </td><td>0           </td></tr>\n",
       "\t<tr><td>305827      </td><td>3           </td><td>5           </td><td> 3          </td><td>1           </td><td>3           </td><td>5           </td><td>3           </td><td>1           </td><td>0           </td><td>1           </td><td>137         </td><td> 0.0000000  </td><td>-0.5882855  </td><td>-0.505900208</td><td>-1.36372061 </td><td> 0.72808731 </td><td>-0.7686307  </td><td>1           </td></tr>\n",
       "\t<tr><td>305789      </td><td>1           </td><td>4           </td><td> 1          </td><td>4           </td><td>1           </td><td>5           </td><td>1           </td><td>2           </td><td>1           </td><td>1           </td><td>  0         </td><td>-0.5772853  </td><td> 0.2048114  </td><td>-0.487868024</td><td> 1.25691315 </td><td> 0.68977376 </td><td>-0.7686307  </td><td>0           </td></tr>\n",
       "\t<tr><td>304994      </td><td>3           </td><td>3           </td><td>11          </td><td>2           </td><td>2           </td><td>5           </td><td>3           </td><td>1           </td><td>0           </td><td>2           </td><td>168         </td><td> 0.0000000  </td><td>-0.3239198  </td><td>-0.026920326</td><td>-0.31546711 </td><td>-1.88468393 </td><td> 0.5139798  </td><td>1           </td></tr>\n",
       "\t<tr><td>305739      </td><td>3           </td><td>3           </td><td> 1          </td><td>4           </td><td>4           </td><td>4           </td><td>3           </td><td>1           </td><td>1           </td><td>1           </td><td>  0         </td><td> 0.7649334  </td><td>-0.3239198  </td><td> 0.751844611</td><td> 0.05890915 </td><td>-1.70304932 </td><td> 1.7965902  </td><td>0           </td></tr>\n",
       "\t<tr><td>305650      </td><td>3           </td><td>5           </td><td>10          </td><td>3           </td><td>2           </td><td>4           </td><td>3           </td><td>1           </td><td>0           </td><td>1           </td><td> 45         </td><td> 0.0000000  </td><td>-0.3239198  </td><td> 0.055351512</td><td>-1.51347111 </td><td>-0.73783167 </td><td> 0.5139798  </td><td>1           </td></tr>\n",
       "\t<tr><td>305844      </td><td>1           </td><td>5           </td><td>10          </td><td>4           </td><td>1           </td><td>5           </td><td>1           </td><td>2           </td><td>1           </td><td>1           </td><td>  0         </td><td> 0.7400775  </td><td> 0.7335427  </td><td> 0.088034846</td><td> 0.05890915 </td><td> 0.38518104 </td><td> 0.5139798  </td><td>0           </td></tr>\n",
       "\t<tr><td>305886      </td><td>1           </td><td>4           </td><td>11          </td><td>5           </td><td>7           </td><td>7           </td><td>1           </td><td>2           </td><td>1           </td><td>1           </td><td>112         </td><td> 0.6655098  </td><td>-0.8526511  </td><td>-0.093414004</td><td> 1.40666366 </td><td>-0.26870354 </td><td> 0.5139798  </td><td>1           </td></tr>\n",
       "\t<tr><td>305823      </td><td>3           </td><td>5           </td><td> 2          </td><td>1           </td><td>5           </td><td>5           </td><td>3           </td><td>1           </td><td>0           </td><td>1           </td><td>  0         </td><td> 0.0000000  </td><td>-0.7645292  </td><td>-0.540837564</td><td>-1.21397011 </td><td>-0.16483125 </td><td>-0.7686307  </td><td>0           </td></tr>\n",
       "\t<tr><td>305885      </td><td>3           </td><td>4           </td><td>11          </td><td>1           </td><td>2           </td><td>4           </td><td>3           </td><td>1           </td><td>0           </td><td>1           </td><td>  0         </td><td> 0.0000000  </td><td>-0.6764074  </td><td>-0.505900208</td><td> 0.43328540 </td><td>-1.32275186 </td><td>-0.7686307  </td><td>0           </td></tr>\n",
       "\t<tr><td>305846      </td><td>1           </td><td>4           </td><td>11          </td><td>5           </td><td>7           </td><td>7           </td><td>1           </td><td>2           </td><td>1           </td><td>1           </td><td>  0         </td><td> 0.1559638  </td><td>-0.3239198  </td><td>-0.550980667</td><td> 1.70616466 </td><td> 0.91326947 </td><td>-0.7686307  </td><td>0           </td></tr>\n",
       "\t<tr><td>304880      </td><td>1           </td><td>2           </td><td> 2          </td><td>4           </td><td>2           </td><td>5           </td><td>1           </td><td>3           </td><td>1           </td><td>2           </td><td> 15         </td><td>-0.5151456  </td><td> 1.7910052  </td><td> 0.614349210</td><td>-0.09084135 </td><td> 0.07285466 </td><td> 1.7965902  </td><td>0           </td></tr>\n",
       "\t<tr><td>305882      </td><td>1           </td><td>5           </td><td>10          </td><td>4           </td><td>1           </td><td>5           </td><td>3           </td><td>3           </td><td>0           </td><td>3           </td><td>  0         </td><td> 0.0000000  </td><td>-0.9143364  </td><td>-0.354880668</td><td>-0.31546711 </td><td>-1.58775392 </td><td>-0.7686307  </td><td>0           </td></tr>\n",
       "\t<tr><td>305926      </td><td>1           </td><td>4           </td><td>15          </td><td>4           </td><td>4           </td><td>4           </td><td>3           </td><td>3           </td><td>1           </td><td>1           </td><td>  0         </td><td> 0.5163744  </td><td>-0.7645292  </td><td>-0.486741012</td><td> 0.50816065 </td><td> 0.99841069 </td><td>-0.7686307  </td><td>0           </td></tr>\n",
       "\t<tr><td>305871      </td><td>1           </td><td>5           </td><td> 7          </td><td>3           </td><td>1           </td><td>4           </td><td>1           </td><td>3           </td><td>0           </td><td>2           </td><td>  0         </td><td> 0.0000000  </td><td> 0.5572989  </td><td>-0.378547910</td><td>-0.01596610 </td><td> 1.12931532 </td><td>-0.7686307  </td><td>0           </td></tr>\n",
       "\t<tr><td>305925      </td><td>1           </td><td>5           </td><td> 1          </td><td>3           </td><td>2           </td><td>4           </td><td>1           </td><td>4           </td><td>1           </td><td>1           </td><td>  0         </td><td>-0.4654338  </td><td>-0.3239198  </td><td>-0.090032969</td><td>-0.31546711 </td><td>-1.42662415 </td><td> 0.5139798  </td><td>0           </td></tr>\n",
       "\t<tr><td>305892      </td><td>4           </td><td>4           </td><td>10          </td><td>4           </td><td>3           </td><td>4           </td><td>3           </td><td>2           </td><td>1           </td><td>1           </td><td>  0         </td><td> 0.7649334  </td><td>-0.5001636  </td><td>-0.180193888</td><td>-0.68984336 </td><td>-0.95919885 </td><td> 0.5139798  </td><td>0           </td></tr>\n",
       "\t<tr><td>302908      </td><td>3           </td><td>3           </td><td> 2          </td><td>4           </td><td>1           </td><td>4           </td><td>3           </td><td>1           </td><td>0           </td><td>1           </td><td> 76         </td><td> 0.0000000  </td><td> 0.5572989  </td><td>-0.086651935</td><td>-1.06421961 </td><td>-0.71654637 </td><td> 0.5139798  </td><td>1           </td></tr>\n",
       "\t<tr><td>305940      </td><td>1           </td><td>5           </td><td>11          </td><td>5           </td><td>7           </td><td>7           </td><td>1           </td><td>2           </td><td>1           </td><td>1           </td><td>  0         </td><td>-0.3908661  </td><td> 0.1695627  </td><td>-0.531821472</td><td> 1.63128941 </td><td> 1.09313030 </td><td>-0.7686307  </td><td>0           </td></tr>\n",
       "\t<tr><td>305957      </td><td>2           </td><td>1           </td><td> 2          </td><td>1           </td><td>4           </td><td>4           </td><td>1           </td><td>1           </td><td>1           </td><td>2           </td><td>  0         </td><td>-1.0246916  </td><td>-0.5882855  </td><td> 0.615476221</td><td> 1.55641416 </td><td> 1.11725364 </td><td> 1.7965902  </td><td>0           </td></tr>\n",
       "\t<tr><td>305891      </td><td>3           </td><td>4           </td><td>11          </td><td>2           </td><td>4           </td><td>5           </td><td>1           </td><td>1           </td><td>0           </td><td>1           </td><td>  0         </td><td> 0.0000000  </td><td>-0.3239198  </td><td>-0.605077218</td><td> 1.33178840 </td><td>-0.17760243 </td><td>-0.7686307  </td><td>0           </td></tr>\n",
       "</tbody>\n",
       "</table>\n"
      ],
      "text/latex": [
       "\\begin{tabular}{r|lllllllllllllllllll}\n",
       " ID & V1 & V2 & V3 & V4 & V5 & V6 & V7 & V8 & Has\\_FICO & Business\\_channel & Days\\_late & FICO\\_Score & Loan\\_amount & Monthly\\_income & Age & Gearing\\_coefficient & Max\\_gearing\\_ratio & Default\\_45\\\\\n",
       "\\hline\n",
       "\t 250263      & 1           & 1           & 11          & 5           & 6           & 7           & 1           & 2           & 0           & 1           &   0         &  0.0000000  &  1.43851768 & -0.25908469 &  1.78103991 &  0.86026906 &  0.5139798  & 0          \\\\\n",
       "\t 250290      & 1           & 2           &  6          & 4           & 5           & 1           & 1           & 2           & 1           & 1           &   0         &  1.4981826  &  0.20481141 &  0.38331185 &  1.10716265 & -0.71824919 &  1.7965902  & 0          \\\\\n",
       "\t 250249      & 2           & 3           & 11          & 5           & 7           & 7           & 1           & 2           & 1           & 1           &   0         & -0.2417306  & -0.85265110 & -0.73242952 &  1.40666366 &  1.12292973 & -0.7686307  & 0          \\\\\n",
       "\t 249516      & 3           & 3           & 10          & 4           & 2           & 4           & 1           & 2           & 0           & 1           & 168         &  0.0000000  & -0.67640735 & -0.05734964 &  0.95741215 & -1.70248171 &  0.5139798  & 1          \\\\\n",
       "\t 249827      & 1           & 3           &  5          & 2           & 4           & 4           & 1           & 3           & 0           & 1           &   0         &  0.0000000  & -0.41204172 & -0.57464791 & -0.39034236 &  0.91007667 & -0.7686307  & 0          \\\\\n",
       "\t 250329      & 1           & 3           & 11          & 2           & 5           & 4           & 3           & 4           & 0           & 2           &   0         &  0.0000000  &  0.55729892 & -0.21062320 & -0.39034236 & -0.38449560 &  0.5139798  & 0          \\\\\n",
       "\t 250196      & 2           & 4           & 11          & 5           & 7           & 7           & 3           & 1           & 1           & 1           &   0         &  0.5909421  & -0.85265110 & -0.67495193 &  1.25691315 & -0.78955496 & -0.7686307  & 0          \\\\\n",
       "\t 250358      & 1           & 3           & 12          & 3           & 3           & 5           & 1           & 3           & 0           & 2           &   0         &  0.0000000  & -0.46491485 & -0.58028297 & -0.46521761 &  0.50352734 & -0.7686307  & 0          \\\\\n",
       "\t 250375      & 2           & 5           & 11          & 5           & 1           & 7           & 1           & 1           & 0           & 1           & 336         &  0.0000000  &  0.02856766 & -0.70988929 &  1.40666366 &  1.06226661 & -0.7686307  & 1          \\\\\n",
       "\t 250415      & 3           & 3           & 14          & 1           & 4           & 4           & 3           & 1           & 0           & 1           &   0         &  0.0000000  & -0.23579797 & -0.76623986 & -0.31546711 &  1.02395306 & -0.7686307  & 0          \\\\\n",
       "\t 250334      & 1           & 3           & 15          & 4           & 3           & 4           & 1           & 3           & 0           & 1           & 349         &  0.0000000  &  2.14349269 & -0.04833354 & -0.31546711 &  1.09440742 &  0.5139798  & 1          \\\\\n",
       "\t 250321      & 1           & 4           & 15          & 2           & 2           & 4           & 1           & 2           & 0           & 1           &   0         &  0.0000000  & -0.05955422 & -0.67269791 & -0.01596610 &  0.89624122 & -0.7686307  & 0          \\\\\n",
       "\t 250033      & 3           & 3           &  3          & 4           & 2           & 4           & 3           & 1           & 0           & 2           &   0         &  0.0000000  & -0.32391985 & -0.01565021 & -1.43859586 & -1.47345183 &  0.5139798  & 0          \\\\\n",
       "\t 250018      & 1           & 5           & 11          & 5           & 7           & 7           & 1           & 2           & 1           & 3           &   0         &  1.1999118  & -1.00333951 & -0.88344906 &  1.78103991 & -0.99815096 & -0.7686307  & 0          \\\\\n",
       "\t 250310      & 1           & 1           & 12          & 4           & 6           & 1           & 1           & 3           & 1           & 1           &   0         & -0.2790145  & -0.39441735 & -0.26246573 & -0.39034236 &  1.08248765 & -0.7686307  & 0          \\\\\n",
       "\t 250470      & 1           & 3           & 12          & 2           & 6           & 1           & 1           & 3           & 1           & 1           &  15         & -1.3975301  & -0.85265110 & -0.64452262 &  0.20865965 &  1.07184499 & -0.7686307  & 0          \\\\\n",
       "\t 250370      & 1           & 3           & 15          & 1           & 2           & 4           & 1           & 2           & 0           & 1           &  15         &  0.0000000  &  0.02856766 & -0.63663354 & -1.13909486 &  0.92071932 & -0.7686307  & 0          \\\\\n",
       "\t 250420      & 1           & 3           & 11          & 5           & 6           & 7           & 1           & 2           & 0           & 1           &   0         &  0.0000000  & -0.32391985 & -0.60282320 &  1.40666366 &  0.41625759 & -0.7686307  & 0          \\\\\n",
       "\t 250523      & 2           & 4           & 11          & 5           & 7           & 7           & 1           & 1           & 0           & 1           &   0         &  0.0000000  &  0.02856766 & -0.48899504 &  1.18203790 &  1.01437467 & -0.7686307  & 0          \\\\\n",
       "\t 250512      & 1           & 1           & 12          & 2           & 1           & 1           & 3           & 2           & 1           & 1           & 594         & -0.8507003  & -0.67640735 & -0.39658009 &  0.50816065 & -0.07756150 & -0.7686307  & 1          \\\\\n",
       "\t 250566      & 1           & 4           & 10          & 5           & 7           & 7           & 1           & 2           & 1           & 1           &  15         &  1.5230385  & -0.14767609 & -0.26021170 &  0.95741215 &  1.05949952 &  0.5139798  & 0          \\\\\n",
       "\t 250479      & 4           & 4           & 11          & 5           & 5           & 7           & 1           & 1           & 1           & 1           & 319         & -0.4032940  &  1.08603017 & -0.08327090 &  0.20865965 & -0.34447923 &  0.5139798  & 1          \\\\\n",
       "\t 250546      & 3           & 1           & 11          & 4           & 2           & 1           & 3           & 1           & 0           & 1           &   0         &  0.0000000  &  0.82166455 &  0.04295439 & -1.21397011 & -0.71824919 &  0.5139798  & 0          \\\\\n",
       "\t 250559      & 1           & 3           &  2          & 1           & 4           & 5           & 1           & 2           & 0           & 1           &   0         &  0.0000000  & -0.32391985 & -0.67269791 &  0.50816065 &  0.02460797 & -0.7686307  & 0          \\\\\n",
       "\t 250578      & 4           & 3           & 13          & 1           & 3           & 5           & 3           & 1           & 1           & 1           &   0         & -1.1116873  & -0.14767609 & -0.70087319 & -1.13909486 &  0.80790721 & -0.7686307  & 0          \\\\\n",
       "\t 250545      & 1           & 4           & 10          & 4           & 4           & 5           & 1           & 2           & 1           & 2           & 273         & -1.1116873  &  0.55729892 & -0.15539964 & -1.21397011 & -0.52583003 &  0.5139798  & 1          \\\\\n",
       "\t 250452      & 1           & 4           &  3          & 1           & 3           & 4           & 1           & 3           & 1           & 1           &   0         &  0.2181036  &  0.02856766 & -0.07087377 &  0.20865965 &  1.12165261 &  0.5139798  & 0          \\\\\n",
       "\t 250079      & 1           & 4           & 15          & 2           & 2           & 4           & 1           & 2           & 0           & 1           &   0         &  0.0000000  &  0.01094328 & -0.67269791 &  0.13378440 &  1.10909428 & -0.7686307  & 0          \\\\\n",
       "\t 250395      & 1           & 4           & 10          & 4           & 6           & 4           & 1           & 2           & 1           & 1           &   0         &  1.1129161  & -0.85265110 & -0.42926343 & -0.68984336 & -0.42557624 & -0.7686307  & 0          \\\\\n",
       "\t 250644      & 1           & 3           & 15          & 4           & 6           & 4           & 1           & 2           & 1           & 1           & 168         & -0.6145692  & -0.32391985 &  1.66810495 &  0.05890915 & -0.02434823 &  1.7965902  & 1          \\\\\n",
       "\t ... & ... & ... & ... & ... & ... & ... & ... & ... & ... & ... & ... & ... & ... & ... & ... & ... & ... & ...\\\\\n",
       "\t 305655       & 3            & 5            & 10           & 3            & 2            & 5            & 3            & 3            & 1            & 1            & 107          & -0.9749798   &  0.5572989   & -0.207242164 & -0.31546711  &  0.09740371  &  0.5139798   & 1           \\\\\n",
       "\t 304997       & 1            & 3            & 11           & 4            & 3            & 5            & 1            & 3            & 1            & 1            &   0          & -1.0619754   &  1.4385177   &  0.008017030 & -1.13909486  &  0.63294200  &  0.5139798   & 0           \\\\\n",
       "\t 305752       & 1            & 3            & 15           & 1            & 6            & 1            & 1            & 3            & 1            & 1            &   0          &  0.8022173   &  3.2009552   & -0.467581817 &  0.35841015  &  0.66884321  &  1.7965902   & 0           \\\\\n",
       "\t 305832       & 3            & 3            & 10           & 4            & 1            & 4            & 3            & 1            & 0            & 1            & 137          &  0.0000000   & -0.6764074   &  0.394581970 & -0.83959386  & -2.04077617  &  1.7965902   & 1           \\\\\n",
       "\t 305830       & 3            & 2            & 11           & 2            & 3            & 4            & 3            & 1            & 0            & 1            &  45          &  0.0000000   & -0.8526511   & -0.464200783 &  0.13378440  &  0.26832471  & -0.7686307   & 1           \\\\\n",
       "\t 305495       & 1            & 4            & 11           & 2            & 1            & 5            & 1            & 3            & 1            & 2            &   0          & -1.3726742   &  0.5572989   &  0.001254961 &  0.28353490  & -0.80083618  &  0.5139798   & 0           \\\\\n",
       "\t 305758       & 2            & 1            &  5           & 4            & 1            & 4            & 1            & 1            & 1            & 1            & 198          & -1.0744034   &  1.0860302   &  0.289769902 &  1.33178840  &  0.12890596  &  1.7965902   & 1           \\\\\n",
       "\t 305824       & 2            & 4            & 10           & 4            & 4            & 4            & 1            & 1            & 1            & 1            &   0          &  1.0010645   & -0.8526511   & -0.066365728 &  1.03228740  & -1.36617389  &  0.5139798   & 0           \\\\\n",
       "\t 305893       & 1            & 4            & 11           & 4            & 5            & 4            & 3            & 4            & 1            & 3            &   0          &  0.2926713   & -1.0202589   &  2.177514141 & -0.46521761  & -1.84566087  &  1.7965902   & 0           \\\\\n",
       "\t 305851       & 3            & 5            & 10           & 4            & 3            & 5            & 3            & 3            & 0            & 1            &   0          &  0.0000000   & -0.8526511   & -0.113700210 & -0.31546711  & -2.08221156  &  0.5139798   & 0           \\\\\n",
       "\t 305827       & 3            & 5            &  3           & 1            & 3            & 5            & 3            & 1            & 0            & 1            & 137          &  0.0000000   & -0.5882855   & -0.505900208 & -1.36372061  &  0.72808731  & -0.7686307   & 1           \\\\\n",
       "\t 305789       & 1            & 4            &  1           & 4            & 1            & 5            & 1            & 2            & 1            & 1            &   0          & -0.5772853   &  0.2048114   & -0.487868024 &  1.25691315  &  0.68977376  & -0.7686307   & 0           \\\\\n",
       "\t 304994       & 3            & 3            & 11           & 2            & 2            & 5            & 3            & 1            & 0            & 2            & 168          &  0.0000000   & -0.3239198   & -0.026920326 & -0.31546711  & -1.88468393  &  0.5139798   & 1           \\\\\n",
       "\t 305739       & 3            & 3            &  1           & 4            & 4            & 4            & 3            & 1            & 1            & 1            &   0          &  0.7649334   & -0.3239198   &  0.751844611 &  0.05890915  & -1.70304932  &  1.7965902   & 0           \\\\\n",
       "\t 305650       & 3            & 5            & 10           & 3            & 2            & 4            & 3            & 1            & 0            & 1            &  45          &  0.0000000   & -0.3239198   &  0.055351512 & -1.51347111  & -0.73783167  &  0.5139798   & 1           \\\\\n",
       "\t 305844       & 1            & 5            & 10           & 4            & 1            & 5            & 1            & 2            & 1            & 1            &   0          &  0.7400775   &  0.7335427   &  0.088034846 &  0.05890915  &  0.38518104  &  0.5139798   & 0           \\\\\n",
       "\t 305886       & 1            & 4            & 11           & 5            & 7            & 7            & 1            & 2            & 1            & 1            & 112          &  0.6655098   & -0.8526511   & -0.093414004 &  1.40666366  & -0.26870354  &  0.5139798   & 1           \\\\\n",
       "\t 305823       & 3            & 5            &  2           & 1            & 5            & 5            & 3            & 1            & 0            & 1            &   0          &  0.0000000   & -0.7645292   & -0.540837564 & -1.21397011  & -0.16483125  & -0.7686307   & 0           \\\\\n",
       "\t 305885       & 3            & 4            & 11           & 1            & 2            & 4            & 3            & 1            & 0            & 1            &   0          &  0.0000000   & -0.6764074   & -0.505900208 &  0.43328540  & -1.32275186  & -0.7686307   & 0           \\\\\n",
       "\t 305846       & 1            & 4            & 11           & 5            & 7            & 7            & 1            & 2            & 1            & 1            &   0          &  0.1559638   & -0.3239198   & -0.550980667 &  1.70616466  &  0.91326947  & -0.7686307   & 0           \\\\\n",
       "\t 304880       & 1            & 2            &  2           & 4            & 2            & 5            & 1            & 3            & 1            & 2            &  15          & -0.5151456   &  1.7910052   &  0.614349210 & -0.09084135  &  0.07285466  &  1.7965902   & 0           \\\\\n",
       "\t 305882       & 1            & 5            & 10           & 4            & 1            & 5            & 3            & 3            & 0            & 3            &   0          &  0.0000000   & -0.9143364   & -0.354880668 & -0.31546711  & -1.58775392  & -0.7686307   & 0           \\\\\n",
       "\t 305926       & 1            & 4            & 15           & 4            & 4            & 4            & 3            & 3            & 1            & 1            &   0          &  0.5163744   & -0.7645292   & -0.486741012 &  0.50816065  &  0.99841069  & -0.7686307   & 0           \\\\\n",
       "\t 305871       & 1            & 5            &  7           & 3            & 1            & 4            & 1            & 3            & 0            & 2            &   0          &  0.0000000   &  0.5572989   & -0.378547910 & -0.01596610  &  1.12931532  & -0.7686307   & 0           \\\\\n",
       "\t 305925       & 1            & 5            &  1           & 3            & 2            & 4            & 1            & 4            & 1            & 1            &   0          & -0.4654338   & -0.3239198   & -0.090032969 & -0.31546711  & -1.42662415  &  0.5139798   & 0           \\\\\n",
       "\t 305892       & 4            & 4            & 10           & 4            & 3            & 4            & 3            & 2            & 1            & 1            &   0          &  0.7649334   & -0.5001636   & -0.180193888 & -0.68984336  & -0.95919885  &  0.5139798   & 0           \\\\\n",
       "\t 302908       & 3            & 3            &  2           & 4            & 1            & 4            & 3            & 1            & 0            & 1            &  76          &  0.0000000   &  0.5572989   & -0.086651935 & -1.06421961  & -0.71654637  &  0.5139798   & 1           \\\\\n",
       "\t 305940       & 1            & 5            & 11           & 5            & 7            & 7            & 1            & 2            & 1            & 1            &   0          & -0.3908661   &  0.1695627   & -0.531821472 &  1.63128941  &  1.09313030  & -0.7686307   & 0           \\\\\n",
       "\t 305957       & 2            & 1            &  2           & 1            & 4            & 4            & 1            & 1            & 1            & 2            &   0          & -1.0246916   & -0.5882855   &  0.615476221 &  1.55641416  &  1.11725364  &  1.7965902   & 0           \\\\\n",
       "\t 305891       & 3            & 4            & 11           & 2            & 4            & 5            & 1            & 1            & 0            & 1            &   0          &  0.0000000   & -0.3239198   & -0.605077218 &  1.33178840  & -0.17760243  & -0.7686307   & 0           \\\\\n",
       "\\end{tabular}\n"
      ],
      "text/markdown": [
       "\n",
       "| ID | V1 | V2 | V3 | V4 | V5 | V6 | V7 | V8 | Has_FICO | Business_channel | Days_late | FICO_Score | Loan_amount | Monthly_income | Age | Gearing_coefficient | Max_gearing_ratio | Default_45 |\n",
       "|---|---|---|---|---|---|---|---|---|---|---|---|---|---|---|---|---|---|---|\n",
       "| 250263      | 1           | 1           | 11          | 5           | 6           | 7           | 1           | 2           | 0           | 1           |   0         |  0.0000000  |  1.43851768 | -0.25908469 |  1.78103991 |  0.86026906 |  0.5139798  | 0           |\n",
       "| 250290      | 1           | 2           |  6          | 4           | 5           | 1           | 1           | 2           | 1           | 1           |   0         |  1.4981826  |  0.20481141 |  0.38331185 |  1.10716265 | -0.71824919 |  1.7965902  | 0           |\n",
       "| 250249      | 2           | 3           | 11          | 5           | 7           | 7           | 1           | 2           | 1           | 1           |   0         | -0.2417306  | -0.85265110 | -0.73242952 |  1.40666366 |  1.12292973 | -0.7686307  | 0           |\n",
       "| 249516      | 3           | 3           | 10          | 4           | 2           | 4           | 1           | 2           | 0           | 1           | 168         |  0.0000000  | -0.67640735 | -0.05734964 |  0.95741215 | -1.70248171 |  0.5139798  | 1           |\n",
       "| 249827      | 1           | 3           |  5          | 2           | 4           | 4           | 1           | 3           | 0           | 1           |   0         |  0.0000000  | -0.41204172 | -0.57464791 | -0.39034236 |  0.91007667 | -0.7686307  | 0           |\n",
       "| 250329      | 1           | 3           | 11          | 2           | 5           | 4           | 3           | 4           | 0           | 2           |   0         |  0.0000000  |  0.55729892 | -0.21062320 | -0.39034236 | -0.38449560 |  0.5139798  | 0           |\n",
       "| 250196      | 2           | 4           | 11          | 5           | 7           | 7           | 3           | 1           | 1           | 1           |   0         |  0.5909421  | -0.85265110 | -0.67495193 |  1.25691315 | -0.78955496 | -0.7686307  | 0           |\n",
       "| 250358      | 1           | 3           | 12          | 3           | 3           | 5           | 1           | 3           | 0           | 2           |   0         |  0.0000000  | -0.46491485 | -0.58028297 | -0.46521761 |  0.50352734 | -0.7686307  | 0           |\n",
       "| 250375      | 2           | 5           | 11          | 5           | 1           | 7           | 1           | 1           | 0           | 1           | 336         |  0.0000000  |  0.02856766 | -0.70988929 |  1.40666366 |  1.06226661 | -0.7686307  | 1           |\n",
       "| 250415      | 3           | 3           | 14          | 1           | 4           | 4           | 3           | 1           | 0           | 1           |   0         |  0.0000000  | -0.23579797 | -0.76623986 | -0.31546711 |  1.02395306 | -0.7686307  | 0           |\n",
       "| 250334      | 1           | 3           | 15          | 4           | 3           | 4           | 1           | 3           | 0           | 1           | 349         |  0.0000000  |  2.14349269 | -0.04833354 | -0.31546711 |  1.09440742 |  0.5139798  | 1           |\n",
       "| 250321      | 1           | 4           | 15          | 2           | 2           | 4           | 1           | 2           | 0           | 1           |   0         |  0.0000000  | -0.05955422 | -0.67269791 | -0.01596610 |  0.89624122 | -0.7686307  | 0           |\n",
       "| 250033      | 3           | 3           |  3          | 4           | 2           | 4           | 3           | 1           | 0           | 2           |   0         |  0.0000000  | -0.32391985 | -0.01565021 | -1.43859586 | -1.47345183 |  0.5139798  | 0           |\n",
       "| 250018      | 1           | 5           | 11          | 5           | 7           | 7           | 1           | 2           | 1           | 3           |   0         |  1.1999118  | -1.00333951 | -0.88344906 |  1.78103991 | -0.99815096 | -0.7686307  | 0           |\n",
       "| 250310      | 1           | 1           | 12          | 4           | 6           | 1           | 1           | 3           | 1           | 1           |   0         | -0.2790145  | -0.39441735 | -0.26246573 | -0.39034236 |  1.08248765 | -0.7686307  | 0           |\n",
       "| 250470      | 1           | 3           | 12          | 2           | 6           | 1           | 1           | 3           | 1           | 1           |  15         | -1.3975301  | -0.85265110 | -0.64452262 |  0.20865965 |  1.07184499 | -0.7686307  | 0           |\n",
       "| 250370      | 1           | 3           | 15          | 1           | 2           | 4           | 1           | 2           | 0           | 1           |  15         |  0.0000000  |  0.02856766 | -0.63663354 | -1.13909486 |  0.92071932 | -0.7686307  | 0           |\n",
       "| 250420      | 1           | 3           | 11          | 5           | 6           | 7           | 1           | 2           | 0           | 1           |   0         |  0.0000000  | -0.32391985 | -0.60282320 |  1.40666366 |  0.41625759 | -0.7686307  | 0           |\n",
       "| 250523      | 2           | 4           | 11          | 5           | 7           | 7           | 1           | 1           | 0           | 1           |   0         |  0.0000000  |  0.02856766 | -0.48899504 |  1.18203790 |  1.01437467 | -0.7686307  | 0           |\n",
       "| 250512      | 1           | 1           | 12          | 2           | 1           | 1           | 3           | 2           | 1           | 1           | 594         | -0.8507003  | -0.67640735 | -0.39658009 |  0.50816065 | -0.07756150 | -0.7686307  | 1           |\n",
       "| 250566      | 1           | 4           | 10          | 5           | 7           | 7           | 1           | 2           | 1           | 1           |  15         |  1.5230385  | -0.14767609 | -0.26021170 |  0.95741215 |  1.05949952 |  0.5139798  | 0           |\n",
       "| 250479      | 4           | 4           | 11          | 5           | 5           | 7           | 1           | 1           | 1           | 1           | 319         | -0.4032940  |  1.08603017 | -0.08327090 |  0.20865965 | -0.34447923 |  0.5139798  | 1           |\n",
       "| 250546      | 3           | 1           | 11          | 4           | 2           | 1           | 3           | 1           | 0           | 1           |   0         |  0.0000000  |  0.82166455 |  0.04295439 | -1.21397011 | -0.71824919 |  0.5139798  | 0           |\n",
       "| 250559      | 1           | 3           |  2          | 1           | 4           | 5           | 1           | 2           | 0           | 1           |   0         |  0.0000000  | -0.32391985 | -0.67269791 |  0.50816065 |  0.02460797 | -0.7686307  | 0           |\n",
       "| 250578      | 4           | 3           | 13          | 1           | 3           | 5           | 3           | 1           | 1           | 1           |   0         | -1.1116873  | -0.14767609 | -0.70087319 | -1.13909486 |  0.80790721 | -0.7686307  | 0           |\n",
       "| 250545      | 1           | 4           | 10          | 4           | 4           | 5           | 1           | 2           | 1           | 2           | 273         | -1.1116873  |  0.55729892 | -0.15539964 | -1.21397011 | -0.52583003 |  0.5139798  | 1           |\n",
       "| 250452      | 1           | 4           |  3          | 1           | 3           | 4           | 1           | 3           | 1           | 1           |   0         |  0.2181036  |  0.02856766 | -0.07087377 |  0.20865965 |  1.12165261 |  0.5139798  | 0           |\n",
       "| 250079      | 1           | 4           | 15          | 2           | 2           | 4           | 1           | 2           | 0           | 1           |   0         |  0.0000000  |  0.01094328 | -0.67269791 |  0.13378440 |  1.10909428 | -0.7686307  | 0           |\n",
       "| 250395      | 1           | 4           | 10          | 4           | 6           | 4           | 1           | 2           | 1           | 1           |   0         |  1.1129161  | -0.85265110 | -0.42926343 | -0.68984336 | -0.42557624 | -0.7686307  | 0           |\n",
       "| 250644      | 1           | 3           | 15          | 4           | 6           | 4           | 1           | 2           | 1           | 1           | 168         | -0.6145692  | -0.32391985 |  1.66810495 |  0.05890915 | -0.02434823 |  1.7965902  | 1           |\n",
       "| ... | ... | ... | ... | ... | ... | ... | ... | ... | ... | ... | ... | ... | ... | ... | ... | ... | ... | ... |\n",
       "| 305655       | 3            | 5            | 10           | 3            | 2            | 5            | 3            | 3            | 1            | 1            | 107          | -0.9749798   |  0.5572989   | -0.207242164 | -0.31546711  |  0.09740371  |  0.5139798   | 1            |\n",
       "| 304997       | 1            | 3            | 11           | 4            | 3            | 5            | 1            | 3            | 1            | 1            |   0          | -1.0619754   |  1.4385177   |  0.008017030 | -1.13909486  |  0.63294200  |  0.5139798   | 0            |\n",
       "| 305752       | 1            | 3            | 15           | 1            | 6            | 1            | 1            | 3            | 1            | 1            |   0          |  0.8022173   |  3.2009552   | -0.467581817 |  0.35841015  |  0.66884321  |  1.7965902   | 0            |\n",
       "| 305832       | 3            | 3            | 10           | 4            | 1            | 4            | 3            | 1            | 0            | 1            | 137          |  0.0000000   | -0.6764074   |  0.394581970 | -0.83959386  | -2.04077617  |  1.7965902   | 1            |\n",
       "| 305830       | 3            | 2            | 11           | 2            | 3            | 4            | 3            | 1            | 0            | 1            |  45          |  0.0000000   | -0.8526511   | -0.464200783 |  0.13378440  |  0.26832471  | -0.7686307   | 1            |\n",
       "| 305495       | 1            | 4            | 11           | 2            | 1            | 5            | 1            | 3            | 1            | 2            |   0          | -1.3726742   |  0.5572989   |  0.001254961 |  0.28353490  | -0.80083618  |  0.5139798   | 0            |\n",
       "| 305758       | 2            | 1            |  5           | 4            | 1            | 4            | 1            | 1            | 1            | 1            | 198          | -1.0744034   |  1.0860302   |  0.289769902 |  1.33178840  |  0.12890596  |  1.7965902   | 1            |\n",
       "| 305824       | 2            | 4            | 10           | 4            | 4            | 4            | 1            | 1            | 1            | 1            |   0          |  1.0010645   | -0.8526511   | -0.066365728 |  1.03228740  | -1.36617389  |  0.5139798   | 0            |\n",
       "| 305893       | 1            | 4            | 11           | 4            | 5            | 4            | 3            | 4            | 1            | 3            |   0          |  0.2926713   | -1.0202589   |  2.177514141 | -0.46521761  | -1.84566087  |  1.7965902   | 0            |\n",
       "| 305851       | 3            | 5            | 10           | 4            | 3            | 5            | 3            | 3            | 0            | 1            |   0          |  0.0000000   | -0.8526511   | -0.113700210 | -0.31546711  | -2.08221156  |  0.5139798   | 0            |\n",
       "| 305827       | 3            | 5            |  3           | 1            | 3            | 5            | 3            | 1            | 0            | 1            | 137          |  0.0000000   | -0.5882855   | -0.505900208 | -1.36372061  |  0.72808731  | -0.7686307   | 1            |\n",
       "| 305789       | 1            | 4            |  1           | 4            | 1            | 5            | 1            | 2            | 1            | 1            |   0          | -0.5772853   |  0.2048114   | -0.487868024 |  1.25691315  |  0.68977376  | -0.7686307   | 0            |\n",
       "| 304994       | 3            | 3            | 11           | 2            | 2            | 5            | 3            | 1            | 0            | 2            | 168          |  0.0000000   | -0.3239198   | -0.026920326 | -0.31546711  | -1.88468393  |  0.5139798   | 1            |\n",
       "| 305739       | 3            | 3            |  1           | 4            | 4            | 4            | 3            | 1            | 1            | 1            |   0          |  0.7649334   | -0.3239198   |  0.751844611 |  0.05890915  | -1.70304932  |  1.7965902   | 0            |\n",
       "| 305650       | 3            | 5            | 10           | 3            | 2            | 4            | 3            | 1            | 0            | 1            |  45          |  0.0000000   | -0.3239198   |  0.055351512 | -1.51347111  | -0.73783167  |  0.5139798   | 1            |\n",
       "| 305844       | 1            | 5            | 10           | 4            | 1            | 5            | 1            | 2            | 1            | 1            |   0          |  0.7400775   |  0.7335427   |  0.088034846 |  0.05890915  |  0.38518104  |  0.5139798   | 0            |\n",
       "| 305886       | 1            | 4            | 11           | 5            | 7            | 7            | 1            | 2            | 1            | 1            | 112          |  0.6655098   | -0.8526511   | -0.093414004 |  1.40666366  | -0.26870354  |  0.5139798   | 1            |\n",
       "| 305823       | 3            | 5            |  2           | 1            | 5            | 5            | 3            | 1            | 0            | 1            |   0          |  0.0000000   | -0.7645292   | -0.540837564 | -1.21397011  | -0.16483125  | -0.7686307   | 0            |\n",
       "| 305885       | 3            | 4            | 11           | 1            | 2            | 4            | 3            | 1            | 0            | 1            |   0          |  0.0000000   | -0.6764074   | -0.505900208 |  0.43328540  | -1.32275186  | -0.7686307   | 0            |\n",
       "| 305846       | 1            | 4            | 11           | 5            | 7            | 7            | 1            | 2            | 1            | 1            |   0          |  0.1559638   | -0.3239198   | -0.550980667 |  1.70616466  |  0.91326947  | -0.7686307   | 0            |\n",
       "| 304880       | 1            | 2            |  2           | 4            | 2            | 5            | 1            | 3            | 1            | 2            |  15          | -0.5151456   |  1.7910052   |  0.614349210 | -0.09084135  |  0.07285466  |  1.7965902   | 0            |\n",
       "| 305882       | 1            | 5            | 10           | 4            | 1            | 5            | 3            | 3            | 0            | 3            |   0          |  0.0000000   | -0.9143364   | -0.354880668 | -0.31546711  | -1.58775392  | -0.7686307   | 0            |\n",
       "| 305926       | 1            | 4            | 15           | 4            | 4            | 4            | 3            | 3            | 1            | 1            |   0          |  0.5163744   | -0.7645292   | -0.486741012 |  0.50816065  |  0.99841069  | -0.7686307   | 0            |\n",
       "| 305871       | 1            | 5            |  7           | 3            | 1            | 4            | 1            | 3            | 0            | 2            |   0          |  0.0000000   |  0.5572989   | -0.378547910 | -0.01596610  |  1.12931532  | -0.7686307   | 0            |\n",
       "| 305925       | 1            | 5            |  1           | 3            | 2            | 4            | 1            | 4            | 1            | 1            |   0          | -0.4654338   | -0.3239198   | -0.090032969 | -0.31546711  | -1.42662415  |  0.5139798   | 0            |\n",
       "| 305892       | 4            | 4            | 10           | 4            | 3            | 4            | 3            | 2            | 1            | 1            |   0          |  0.7649334   | -0.5001636   | -0.180193888 | -0.68984336  | -0.95919885  |  0.5139798   | 0            |\n",
       "| 302908       | 3            | 3            |  2           | 4            | 1            | 4            | 3            | 1            | 0            | 1            |  76          |  0.0000000   |  0.5572989   | -0.086651935 | -1.06421961  | -0.71654637  |  0.5139798   | 1            |\n",
       "| 305940       | 1            | 5            | 11           | 5            | 7            | 7            | 1            | 2            | 1            | 1            |   0          | -0.3908661   |  0.1695627   | -0.531821472 |  1.63128941  |  1.09313030  | -0.7686307   | 0            |\n",
       "| 305957       | 2            | 1            |  2           | 1            | 4            | 4            | 1            | 1            | 1            | 2            |   0          | -1.0246916   | -0.5882855   |  0.615476221 |  1.55641416  |  1.11725364  |  1.7965902   | 0            |\n",
       "| 305891       | 3            | 4            | 11           | 2            | 4            | 5            | 1            | 1            | 0            | 1            |   0          |  0.0000000   | -0.3239198   | -0.605077218 |  1.33178840  | -0.17760243  | -0.7686307   | 0            |\n",
       "\n"
      ],
      "text/plain": [
       "      ID     V1  V2  V3  V4  V5  V6  V7  V8  Has_FICO Business_channel\n",
       "1     250263 1   1   11  5   6   7   1   2   0        1               \n",
       "2     250290 1   2    6  4   5   1   1   2   1        1               \n",
       "3     250249 2   3   11  5   7   7   1   2   1        1               \n",
       "4     249516 3   3   10  4   2   4   1   2   0        1               \n",
       "5     249827 1   3    5  2   4   4   1   3   0        1               \n",
       "6     250329 1   3   11  2   5   4   3   4   0        2               \n",
       "7     250196 2   4   11  5   7   7   3   1   1        1               \n",
       "8     250358 1   3   12  3   3   5   1   3   0        2               \n",
       "9     250375 2   5   11  5   1   7   1   1   0        1               \n",
       "10    250415 3   3   14  1   4   4   3   1   0        1               \n",
       "11    250334 1   3   15  4   3   4   1   3   0        1               \n",
       "12    250321 1   4   15  2   2   4   1   2   0        1               \n",
       "13    250033 3   3    3  4   2   4   3   1   0        2               \n",
       "14    250018 1   5   11  5   7   7   1   2   1        3               \n",
       "15    250310 1   1   12  4   6   1   1   3   1        1               \n",
       "16    250470 1   3   12  2   6   1   1   3   1        1               \n",
       "17    250370 1   3   15  1   2   4   1   2   0        1               \n",
       "18    250420 1   3   11  5   6   7   1   2   0        1               \n",
       "19    250523 2   4   11  5   7   7   1   1   0        1               \n",
       "20    250512 1   1   12  2   1   1   3   2   1        1               \n",
       "21    250566 1   4   10  5   7   7   1   2   1        1               \n",
       "22    250479 4   4   11  5   5   7   1   1   1        1               \n",
       "23    250546 3   1   11  4   2   1   3   1   0        1               \n",
       "24    250559 1   3    2  1   4   5   1   2   0        1               \n",
       "25    250578 4   3   13  1   3   5   3   1   1        1               \n",
       "26    250545 1   4   10  4   4   5   1   2   1        2               \n",
       "27    250452 1   4    3  1   3   4   1   3   1        1               \n",
       "28    250079 1   4   15  2   2   4   1   2   0        1               \n",
       "29    250395 1   4   10  4   6   4   1   2   1        1               \n",
       "30    250644 1   3   15  4   6   4   1   2   1        1               \n",
       "...   ...    ... ... ... ... ... ... ... ... ...      ...             \n",
       "9971  305655 3   5   10  3   2   5   3   3   1        1               \n",
       "9972  304997 1   3   11  4   3   5   1   3   1        1               \n",
       "9973  305752 1   3   15  1   6   1   1   3   1        1               \n",
       "9974  305832 3   3   10  4   1   4   3   1   0        1               \n",
       "9975  305830 3   2   11  2   3   4   3   1   0        1               \n",
       "9976  305495 1   4   11  2   1   5   1   3   1        2               \n",
       "9977  305758 2   1    5  4   1   4   1   1   1        1               \n",
       "9978  305824 2   4   10  4   4   4   1   1   1        1               \n",
       "9979  305893 1   4   11  4   5   4   3   4   1        3               \n",
       "9980  305851 3   5   10  4   3   5   3   3   0        1               \n",
       "9981  305827 3   5    3  1   3   5   3   1   0        1               \n",
       "9982  305789 1   4    1  4   1   5   1   2   1        1               \n",
       "9983  304994 3   3   11  2   2   5   3   1   0        2               \n",
       "9984  305739 3   3    1  4   4   4   3   1   1        1               \n",
       "9985  305650 3   5   10  3   2   4   3   1   0        1               \n",
       "9986  305844 1   5   10  4   1   5   1   2   1        1               \n",
       "9987  305886 1   4   11  5   7   7   1   2   1        1               \n",
       "9988  305823 3   5    2  1   5   5   3   1   0        1               \n",
       "9989  305885 3   4   11  1   2   4   3   1   0        1               \n",
       "9990  305846 1   4   11  5   7   7   1   2   1        1               \n",
       "9991  304880 1   2    2  4   2   5   1   3   1        2               \n",
       "9992  305882 1   5   10  4   1   5   3   3   0        3               \n",
       "9993  305926 1   4   15  4   4   4   3   3   1        1               \n",
       "9994  305871 1   5    7  3   1   4   1   3   0        2               \n",
       "9995  305925 1   5    1  3   2   4   1   4   1        1               \n",
       "9996  305892 4   4   10  4   3   4   3   2   1        1               \n",
       "9997  302908 3   3    2  4   1   4   3   1   0        1               \n",
       "9998  305940 1   5   11  5   7   7   1   2   1        1               \n",
       "9999  305957 2   1    2  1   4   4   1   1   1        2               \n",
       "10000 305891 3   4   11  2   4   5   1   1   0        1               \n",
       "      Days_late FICO_Score Loan_amount Monthly_income Age        \n",
       "1       0        0.0000000  1.43851768 -0.25908469     1.78103991\n",
       "2       0        1.4981826  0.20481141  0.38331185     1.10716265\n",
       "3       0       -0.2417306 -0.85265110 -0.73242952     1.40666366\n",
       "4     168        0.0000000 -0.67640735 -0.05734964     0.95741215\n",
       "5       0        0.0000000 -0.41204172 -0.57464791    -0.39034236\n",
       "6       0        0.0000000  0.55729892 -0.21062320    -0.39034236\n",
       "7       0        0.5909421 -0.85265110 -0.67495193     1.25691315\n",
       "8       0        0.0000000 -0.46491485 -0.58028297    -0.46521761\n",
       "9     336        0.0000000  0.02856766 -0.70988929     1.40666366\n",
       "10      0        0.0000000 -0.23579797 -0.76623986    -0.31546711\n",
       "11    349        0.0000000  2.14349269 -0.04833354    -0.31546711\n",
       "12      0        0.0000000 -0.05955422 -0.67269791    -0.01596610\n",
       "13      0        0.0000000 -0.32391985 -0.01565021    -1.43859586\n",
       "14      0        1.1999118 -1.00333951 -0.88344906     1.78103991\n",
       "15      0       -0.2790145 -0.39441735 -0.26246573    -0.39034236\n",
       "16     15       -1.3975301 -0.85265110 -0.64452262     0.20865965\n",
       "17     15        0.0000000  0.02856766 -0.63663354    -1.13909486\n",
       "18      0        0.0000000 -0.32391985 -0.60282320     1.40666366\n",
       "19      0        0.0000000  0.02856766 -0.48899504     1.18203790\n",
       "20    594       -0.8507003 -0.67640735 -0.39658009     0.50816065\n",
       "21     15        1.5230385 -0.14767609 -0.26021170     0.95741215\n",
       "22    319       -0.4032940  1.08603017 -0.08327090     0.20865965\n",
       "23      0        0.0000000  0.82166455  0.04295439    -1.21397011\n",
       "24      0        0.0000000 -0.32391985 -0.67269791     0.50816065\n",
       "25      0       -1.1116873 -0.14767609 -0.70087319    -1.13909486\n",
       "26    273       -1.1116873  0.55729892 -0.15539964    -1.21397011\n",
       "27      0        0.2181036  0.02856766 -0.07087377     0.20865965\n",
       "28      0        0.0000000  0.01094328 -0.67269791     0.13378440\n",
       "29      0        1.1129161 -0.85265110 -0.42926343    -0.68984336\n",
       "30    168       -0.6145692 -0.32391985  1.66810495     0.05890915\n",
       "...   ...       ...        ...         ...            ...        \n",
       "9971  107       -0.9749798  0.5572989  -0.207242164   -0.31546711\n",
       "9972    0       -1.0619754  1.4385177   0.008017030   -1.13909486\n",
       "9973    0        0.8022173  3.2009552  -0.467581817    0.35841015\n",
       "9974  137        0.0000000 -0.6764074   0.394581970   -0.83959386\n",
       "9975   45        0.0000000 -0.8526511  -0.464200783    0.13378440\n",
       "9976    0       -1.3726742  0.5572989   0.001254961    0.28353490\n",
       "9977  198       -1.0744034  1.0860302   0.289769902    1.33178840\n",
       "9978    0        1.0010645 -0.8526511  -0.066365728    1.03228740\n",
       "9979    0        0.2926713 -1.0202589   2.177514141   -0.46521761\n",
       "9980    0        0.0000000 -0.8526511  -0.113700210   -0.31546711\n",
       "9981  137        0.0000000 -0.5882855  -0.505900208   -1.36372061\n",
       "9982    0       -0.5772853  0.2048114  -0.487868024    1.25691315\n",
       "9983  168        0.0000000 -0.3239198  -0.026920326   -0.31546711\n",
       "9984    0        0.7649334 -0.3239198   0.751844611    0.05890915\n",
       "9985   45        0.0000000 -0.3239198   0.055351512   -1.51347111\n",
       "9986    0        0.7400775  0.7335427   0.088034846    0.05890915\n",
       "9987  112        0.6655098 -0.8526511  -0.093414004    1.40666366\n",
       "9988    0        0.0000000 -0.7645292  -0.540837564   -1.21397011\n",
       "9989    0        0.0000000 -0.6764074  -0.505900208    0.43328540\n",
       "9990    0        0.1559638 -0.3239198  -0.550980667    1.70616466\n",
       "9991   15       -0.5151456  1.7910052   0.614349210   -0.09084135\n",
       "9992    0        0.0000000 -0.9143364  -0.354880668   -0.31546711\n",
       "9993    0        0.5163744 -0.7645292  -0.486741012    0.50816065\n",
       "9994    0        0.0000000  0.5572989  -0.378547910   -0.01596610\n",
       "9995    0       -0.4654338 -0.3239198  -0.090032969   -0.31546711\n",
       "9996    0        0.7649334 -0.5001636  -0.180193888   -0.68984336\n",
       "9997   76        0.0000000  0.5572989  -0.086651935   -1.06421961\n",
       "9998    0       -0.3908661  0.1695627  -0.531821472    1.63128941\n",
       "9999    0       -1.0246916 -0.5882855   0.615476221    1.55641416\n",
       "10000   0        0.0000000 -0.3239198  -0.605077218    1.33178840\n",
       "      Gearing_coefficient Max_gearing_ratio Default_45\n",
       "1      0.86026906          0.5139798        0         \n",
       "2     -0.71824919          1.7965902        0         \n",
       "3      1.12292973         -0.7686307        0         \n",
       "4     -1.70248171          0.5139798        1         \n",
       "5      0.91007667         -0.7686307        0         \n",
       "6     -0.38449560          0.5139798        0         \n",
       "7     -0.78955496         -0.7686307        0         \n",
       "8      0.50352734         -0.7686307        0         \n",
       "9      1.06226661         -0.7686307        1         \n",
       "10     1.02395306         -0.7686307        0         \n",
       "11     1.09440742          0.5139798        1         \n",
       "12     0.89624122         -0.7686307        0         \n",
       "13    -1.47345183          0.5139798        0         \n",
       "14    -0.99815096         -0.7686307        0         \n",
       "15     1.08248765         -0.7686307        0         \n",
       "16     1.07184499         -0.7686307        0         \n",
       "17     0.92071932         -0.7686307        0         \n",
       "18     0.41625759         -0.7686307        0         \n",
       "19     1.01437467         -0.7686307        0         \n",
       "20    -0.07756150         -0.7686307        1         \n",
       "21     1.05949952          0.5139798        0         \n",
       "22    -0.34447923          0.5139798        1         \n",
       "23    -0.71824919          0.5139798        0         \n",
       "24     0.02460797         -0.7686307        0         \n",
       "25     0.80790721         -0.7686307        0         \n",
       "26    -0.52583003          0.5139798        1         \n",
       "27     1.12165261          0.5139798        0         \n",
       "28     1.10909428         -0.7686307        0         \n",
       "29    -0.42557624         -0.7686307        0         \n",
       "30    -0.02434823          1.7965902        1         \n",
       "...   ...                 ...               ...       \n",
       "9971   0.09740371          0.5139798        1         \n",
       "9972   0.63294200          0.5139798        0         \n",
       "9973   0.66884321          1.7965902        0         \n",
       "9974  -2.04077617          1.7965902        1         \n",
       "9975   0.26832471         -0.7686307        1         \n",
       "9976  -0.80083618          0.5139798        0         \n",
       "9977   0.12890596          1.7965902        1         \n",
       "9978  -1.36617389          0.5139798        0         \n",
       "9979  -1.84566087          1.7965902        0         \n",
       "9980  -2.08221156          0.5139798        0         \n",
       "9981   0.72808731         -0.7686307        1         \n",
       "9982   0.68977376         -0.7686307        0         \n",
       "9983  -1.88468393          0.5139798        1         \n",
       "9984  -1.70304932          1.7965902        0         \n",
       "9985  -0.73783167          0.5139798        1         \n",
       "9986   0.38518104          0.5139798        0         \n",
       "9987  -0.26870354          0.5139798        1         \n",
       "9988  -0.16483125         -0.7686307        0         \n",
       "9989  -1.32275186         -0.7686307        0         \n",
       "9990   0.91326947         -0.7686307        0         \n",
       "9991   0.07285466          1.7965902        0         \n",
       "9992  -1.58775392         -0.7686307        0         \n",
       "9993   0.99841069         -0.7686307        0         \n",
       "9994   1.12931532         -0.7686307        0         \n",
       "9995  -1.42662415          0.5139798        0         \n",
       "9996  -0.95919885          0.5139798        0         \n",
       "9997  -0.71654637          0.5139798        1         \n",
       "9998   1.09313030         -0.7686307        0         \n",
       "9999   1.11725364          1.7965902        0         \n",
       "10000 -0.17760243         -0.7686307        0         "
      ]
     },
     "metadata": {},
     "output_type": "display_data"
    }
   ],
   "source": [
    "Accepts"
   ]
  },
  {
   "cell_type": "markdown",
   "metadata": {},
   "source": [
    "WOE AND IV"
   ]
  },
  {
   "cell_type": "code",
   "execution_count": 103,
   "metadata": {},
   "outputs": [
    {
     "name": "stderr",
     "output_type": "stream",
     "text": [
      "Installing package into 'C:/Users/kgupta/Documents/R/win-library/3.6'\n",
      "(as 'lib' is unspecified)\n"
     ]
    },
    {
     "name": "stdout",
     "output_type": "stream",
     "text": [
      "package 'woe' successfully unpacked and MD5 sums checked\n",
      "\n",
      "The downloaded binary packages are in\n",
      "\tC:\\Users\\kgupta\\AppData\\Local\\Temp\\RtmpkrSyed\\downloaded_packages\n"
     ]
    }
   ],
   "source": [
    "library(devtools)\n",
    "install.packages(\"woe\")\n",
    "library(woe)"
   ]
  },
  {
   "cell_type": "code",
   "execution_count": 114,
   "metadata": {},
   "outputs": [],
   "source": [
    "#IV BASED ON 5 BINS\n",
    "IV <- create_infotables(data=Accepts, y=\"Default_45\", bins=5, parallel=TRUE)\n"
   ]
  },
  {
   "cell_type": "code",
   "execution_count": 116,
   "metadata": {},
   "outputs": [],
   "source": [
    "#IV BASED ON 10 BINS\n",
    "IV1 <- create_infotables(data=Accepts, y=\"Default_45\", bins=10, parallel=TRUE)"
   ]
  },
  {
   "cell_type": "code",
   "execution_count": 117,
   "metadata": {},
   "outputs": [],
   "source": [
    "#IV BASED ON 15 BINS\n",
    "IV2 <- create_infotables(data=Accepts, y=\"Default_45\", bins=15, parallel=TRUE)"
   ]
  },
  {
   "cell_type": "code",
   "execution_count": 118,
   "metadata": {},
   "outputs": [
    {
     "data": {
      "text/html": [
       "<table>\n",
       "<thead><tr><th></th><th scope=col>Variable</th><th scope=col>IV</th></tr></thead>\n",
       "<tbody>\n",
       "\t<tr><th scope=row>12</th><td>Days_late          </td><td>2.306707189        </td></tr>\n",
       "\t<tr><th scope=row>13</th><td>FICO_Score         </td><td>0.596513803        </td></tr>\n",
       "\t<tr><th scope=row>6</th><td>V5                 </td><td>0.316391457        </td></tr>\n",
       "\t<tr><th scope=row>16</th><td>Age                </td><td>0.284950814        </td></tr>\n",
       "\t<tr><th scope=row>7</th><td>V6                 </td><td>0.226941193        </td></tr>\n",
       "\t<tr><th scope=row>2</th><td>V1                 </td><td>0.150964861        </td></tr>\n",
       "\t<tr><th scope=row>5</th><td>V4                 </td><td>0.145932144        </td></tr>\n",
       "\t<tr><th scope=row>9</th><td>V8                 </td><td>0.086648922        </td></tr>\n",
       "\t<tr><th scope=row>8</th><td>V7                 </td><td>0.085121684        </td></tr>\n",
       "\t<tr><th scope=row>3</th><td>V2                 </td><td>0.076749106        </td></tr>\n",
       "\t<tr><th scope=row>4</th><td>V3                 </td><td>0.075821017        </td></tr>\n",
       "\t<tr><th scope=row>11</th><td>Business_channel   </td><td>0.060804597        </td></tr>\n",
       "\t<tr><th scope=row>14</th><td>Loan_amount        </td><td>0.032957797        </td></tr>\n",
       "\t<tr><th scope=row>15</th><td>Monthly_income     </td><td>0.017481824        </td></tr>\n",
       "\t<tr><th scope=row>1</th><td>ID                 </td><td>0.013398007        </td></tr>\n",
       "\t<tr><th scope=row>10</th><td>Has_FICO           </td><td>0.011114297        </td></tr>\n",
       "\t<tr><th scope=row>17</th><td>Gearing_coefficient</td><td>0.008128788        </td></tr>\n",
       "\t<tr><th scope=row>18</th><td>Max_gearing_ratio  </td><td>0.001774675        </td></tr>\n",
       "</tbody>\n",
       "</table>\n"
      ],
      "text/latex": [
       "\\begin{tabular}{r|ll}\n",
       "  & Variable & IV\\\\\n",
       "\\hline\n",
       "\t12 & Days\\_late           & 2.306707189          \\\\\n",
       "\t13 & FICO\\_Score          & 0.596513803          \\\\\n",
       "\t6 & V5                  & 0.316391457        \\\\\n",
       "\t16 & Age                 & 0.284950814        \\\\\n",
       "\t7 & V6                  & 0.226941193        \\\\\n",
       "\t2 & V1                  & 0.150964861        \\\\\n",
       "\t5 & V4                  & 0.145932144        \\\\\n",
       "\t9 & V8                  & 0.086648922        \\\\\n",
       "\t8 & V7                  & 0.085121684        \\\\\n",
       "\t3 & V2                  & 0.076749106        \\\\\n",
       "\t4 & V3                  & 0.075821017        \\\\\n",
       "\t11 & Business\\_channel    & 0.060804597          \\\\\n",
       "\t14 & Loan\\_amount         & 0.032957797          \\\\\n",
       "\t15 & Monthly\\_income      & 0.017481824          \\\\\n",
       "\t1 & ID                  & 0.013398007        \\\\\n",
       "\t10 & Has\\_FICO            & 0.011114297          \\\\\n",
       "\t17 & Gearing\\_coefficient & 0.008128788          \\\\\n",
       "\t18 & Max\\_gearing\\_ratio   & 0.001774675            \\\\\n",
       "\\end{tabular}\n"
      ],
      "text/markdown": [
       "\n",
       "| <!--/--> | Variable | IV |\n",
       "|---|---|---|\n",
       "| 12 | Days_late           | 2.306707189         |\n",
       "| 13 | FICO_Score          | 0.596513803         |\n",
       "| 6 | V5                  | 0.316391457         |\n",
       "| 16 | Age                 | 0.284950814         |\n",
       "| 7 | V6                  | 0.226941193         |\n",
       "| 2 | V1                  | 0.150964861         |\n",
       "| 5 | V4                  | 0.145932144         |\n",
       "| 9 | V8                  | 0.086648922         |\n",
       "| 8 | V7                  | 0.085121684         |\n",
       "| 3 | V2                  | 0.076749106         |\n",
       "| 4 | V3                  | 0.075821017         |\n",
       "| 11 | Business_channel    | 0.060804597         |\n",
       "| 14 | Loan_amount         | 0.032957797         |\n",
       "| 15 | Monthly_income      | 0.017481824         |\n",
       "| 1 | ID                  | 0.013398007         |\n",
       "| 10 | Has_FICO            | 0.011114297         |\n",
       "| 17 | Gearing_coefficient | 0.008128788         |\n",
       "| 18 | Max_gearing_ratio   | 0.001774675         |\n",
       "\n"
      ],
      "text/plain": [
       "   Variable            IV         \n",
       "12 Days_late           2.306707189\n",
       "13 FICO_Score          0.596513803\n",
       "6  V5                  0.316391457\n",
       "16 Age                 0.284950814\n",
       "7  V6                  0.226941193\n",
       "2  V1                  0.150964861\n",
       "5  V4                  0.145932144\n",
       "9  V8                  0.086648922\n",
       "8  V7                  0.085121684\n",
       "3  V2                  0.076749106\n",
       "4  V3                  0.075821017\n",
       "11 Business_channel    0.060804597\n",
       "14 Loan_amount         0.032957797\n",
       "15 Monthly_income      0.017481824\n",
       "1  ID                  0.013398007\n",
       "10 Has_FICO            0.011114297\n",
       "17 Gearing_coefficient 0.008128788\n",
       "18 Max_gearing_ratio   0.001774675"
      ]
     },
     "metadata": {},
     "output_type": "display_data"
    },
    {
     "data": {
      "text/html": [
       "<table>\n",
       "<thead><tr><th></th><th scope=col>Variable</th><th scope=col>IV</th></tr></thead>\n",
       "<tbody>\n",
       "\t<tr><th scope=row>13</th><td>FICO_Score         </td><td>0.648385807        </td></tr>\n",
       "\t<tr><th scope=row>6</th><td>V5                 </td><td>0.321492504        </td></tr>\n",
       "\t<tr><th scope=row>16</th><td>Age                </td><td>0.297262730        </td></tr>\n",
       "\t<tr><th scope=row>7</th><td>V6                 </td><td>0.226941193        </td></tr>\n",
       "\t<tr><th scope=row>2</th><td>V1                 </td><td>0.150964861        </td></tr>\n",
       "\t<tr><th scope=row>5</th><td>V4                 </td><td>0.145932144        </td></tr>\n",
       "\t<tr><th scope=row>4</th><td>V3                 </td><td>0.094296988        </td></tr>\n",
       "\t<tr><th scope=row>9</th><td>V8                 </td><td>0.086648922        </td></tr>\n",
       "\t<tr><th scope=row>8</th><td>V7                 </td><td>0.085121684        </td></tr>\n",
       "\t<tr><th scope=row>3</th><td>V2                 </td><td>0.076749106        </td></tr>\n",
       "\t<tr><th scope=row>14</th><td>Loan_amount        </td><td>0.065001293        </td></tr>\n",
       "\t<tr><th scope=row>11</th><td>Business_channel   </td><td>0.060804597        </td></tr>\n",
       "\t<tr><th scope=row>12</th><td>Days_late          </td><td>0.050269722        </td></tr>\n",
       "\t<tr><th scope=row>15</th><td>Monthly_income     </td><td>0.029361810        </td></tr>\n",
       "\t<tr><th scope=row>1</th><td>ID                 </td><td>0.023447886        </td></tr>\n",
       "\t<tr><th scope=row>17</th><td>Gearing_coefficient</td><td>0.015564403        </td></tr>\n",
       "\t<tr><th scope=row>10</th><td>Has_FICO           </td><td>0.011114297        </td></tr>\n",
       "\t<tr><th scope=row>18</th><td>Max_gearing_ratio  </td><td>0.004496549        </td></tr>\n",
       "</tbody>\n",
       "</table>\n"
      ],
      "text/latex": [
       "\\begin{tabular}{r|ll}\n",
       "  & Variable & IV\\\\\n",
       "\\hline\n",
       "\t13 & FICO\\_Score          & 0.648385807          \\\\\n",
       "\t6 & V5                  & 0.321492504        \\\\\n",
       "\t16 & Age                 & 0.297262730        \\\\\n",
       "\t7 & V6                  & 0.226941193        \\\\\n",
       "\t2 & V1                  & 0.150964861        \\\\\n",
       "\t5 & V4                  & 0.145932144        \\\\\n",
       "\t4 & V3                  & 0.094296988        \\\\\n",
       "\t9 & V8                  & 0.086648922        \\\\\n",
       "\t8 & V7                  & 0.085121684        \\\\\n",
       "\t3 & V2                  & 0.076749106        \\\\\n",
       "\t14 & Loan\\_amount         & 0.065001293          \\\\\n",
       "\t11 & Business\\_channel    & 0.060804597          \\\\\n",
       "\t12 & Days\\_late           & 0.050269722          \\\\\n",
       "\t15 & Monthly\\_income      & 0.029361810          \\\\\n",
       "\t1 & ID                  & 0.023447886        \\\\\n",
       "\t17 & Gearing\\_coefficient & 0.015564403          \\\\\n",
       "\t10 & Has\\_FICO            & 0.011114297          \\\\\n",
       "\t18 & Max\\_gearing\\_ratio   & 0.004496549            \\\\\n",
       "\\end{tabular}\n"
      ],
      "text/markdown": [
       "\n",
       "| <!--/--> | Variable | IV |\n",
       "|---|---|---|\n",
       "| 13 | FICO_Score          | 0.648385807         |\n",
       "| 6 | V5                  | 0.321492504         |\n",
       "| 16 | Age                 | 0.297262730         |\n",
       "| 7 | V6                  | 0.226941193         |\n",
       "| 2 | V1                  | 0.150964861         |\n",
       "| 5 | V4                  | 0.145932144         |\n",
       "| 4 | V3                  | 0.094296988         |\n",
       "| 9 | V8                  | 0.086648922         |\n",
       "| 8 | V7                  | 0.085121684         |\n",
       "| 3 | V2                  | 0.076749106         |\n",
       "| 14 | Loan_amount         | 0.065001293         |\n",
       "| 11 | Business_channel    | 0.060804597         |\n",
       "| 12 | Days_late           | 0.050269722         |\n",
       "| 15 | Monthly_income      | 0.029361810         |\n",
       "| 1 | ID                  | 0.023447886         |\n",
       "| 17 | Gearing_coefficient | 0.015564403         |\n",
       "| 10 | Has_FICO            | 0.011114297         |\n",
       "| 18 | Max_gearing_ratio   | 0.004496549         |\n",
       "\n"
      ],
      "text/plain": [
       "   Variable            IV         \n",
       "13 FICO_Score          0.648385807\n",
       "6  V5                  0.321492504\n",
       "16 Age                 0.297262730\n",
       "7  V6                  0.226941193\n",
       "2  V1                  0.150964861\n",
       "5  V4                  0.145932144\n",
       "4  V3                  0.094296988\n",
       "9  V8                  0.086648922\n",
       "8  V7                  0.085121684\n",
       "3  V2                  0.076749106\n",
       "14 Loan_amount         0.065001293\n",
       "11 Business_channel    0.060804597\n",
       "12 Days_late           0.050269722\n",
       "15 Monthly_income      0.029361810\n",
       "1  ID                  0.023447886\n",
       "17 Gearing_coefficient 0.015564403\n",
       "10 Has_FICO            0.011114297\n",
       "18 Max_gearing_ratio   0.004496549"
      ]
     },
     "metadata": {},
     "output_type": "display_data"
    },
    {
     "data": {
      "text/html": [
       "<table>\n",
       "<thead><tr><th></th><th scope=col>Variable</th><th scope=col>IV</th></tr></thead>\n",
       "<tbody>\n",
       "\t<tr><th scope=row>13</th><td>FICO_Score         </td><td>0.648752155        </td></tr>\n",
       "\t<tr><th scope=row>6</th><td>V5                 </td><td>0.327035775        </td></tr>\n",
       "\t<tr><th scope=row>16</th><td>Age                </td><td>0.298202616        </td></tr>\n",
       "\t<tr><th scope=row>11</th><td>Business_channel   </td><td>0.259697833        </td></tr>\n",
       "\t<tr><th scope=row>7</th><td>V6                 </td><td>0.228355981        </td></tr>\n",
       "\t<tr><th scope=row>2</th><td>V1                 </td><td>0.168001503        </td></tr>\n",
       "\t<tr><th scope=row>5</th><td>V4                 </td><td>0.145932144        </td></tr>\n",
       "\t<tr><th scope=row>4</th><td>V3                 </td><td>0.115569719        </td></tr>\n",
       "\t<tr><th scope=row>9</th><td>V8                 </td><td>0.086648922        </td></tr>\n",
       "\t<tr><th scope=row>8</th><td>V7                 </td><td>0.085121684        </td></tr>\n",
       "\t<tr><th scope=row>3</th><td>V2                 </td><td>0.076921508        </td></tr>\n",
       "\t<tr><th scope=row>14</th><td>Loan_amount        </td><td>0.069868259        </td></tr>\n",
       "\t<tr><th scope=row>12</th><td>Days_late          </td><td>0.050269722        </td></tr>\n",
       "\t<tr><th scope=row>15</th><td>Monthly_income     </td><td>0.044463539        </td></tr>\n",
       "\t<tr><th scope=row>1</th><td>ID                 </td><td>0.018271971        </td></tr>\n",
       "\t<tr><th scope=row>17</th><td>Gearing_coefficient</td><td>0.015574242        </td></tr>\n",
       "\t<tr><th scope=row>10</th><td>Has_FICO           </td><td>0.011114297        </td></tr>\n",
       "\t<tr><th scope=row>18</th><td>Max_gearing_ratio  </td><td>0.004496549        </td></tr>\n",
       "</tbody>\n",
       "</table>\n"
      ],
      "text/latex": [
       "\\begin{tabular}{r|ll}\n",
       "  & Variable & IV\\\\\n",
       "\\hline\n",
       "\t13 & FICO\\_Score          & 0.648752155          \\\\\n",
       "\t6 & V5                  & 0.327035775        \\\\\n",
       "\t16 & Age                 & 0.298202616        \\\\\n",
       "\t11 & Business\\_channel    & 0.259697833          \\\\\n",
       "\t7 & V6                  & 0.228355981        \\\\\n",
       "\t2 & V1                  & 0.168001503        \\\\\n",
       "\t5 & V4                  & 0.145932144        \\\\\n",
       "\t4 & V3                  & 0.115569719        \\\\\n",
       "\t9 & V8                  & 0.086648922        \\\\\n",
       "\t8 & V7                  & 0.085121684        \\\\\n",
       "\t3 & V2                  & 0.076921508        \\\\\n",
       "\t14 & Loan\\_amount         & 0.069868259          \\\\\n",
       "\t12 & Days\\_late           & 0.050269722          \\\\\n",
       "\t15 & Monthly\\_income      & 0.044463539          \\\\\n",
       "\t1 & ID                  & 0.018271971        \\\\\n",
       "\t17 & Gearing\\_coefficient & 0.015574242          \\\\\n",
       "\t10 & Has\\_FICO            & 0.011114297          \\\\\n",
       "\t18 & Max\\_gearing\\_ratio   & 0.004496549            \\\\\n",
       "\\end{tabular}\n"
      ],
      "text/markdown": [
       "\n",
       "| <!--/--> | Variable | IV |\n",
       "|---|---|---|\n",
       "| 13 | FICO_Score          | 0.648752155         |\n",
       "| 6 | V5                  | 0.327035775         |\n",
       "| 16 | Age                 | 0.298202616         |\n",
       "| 11 | Business_channel    | 0.259697833         |\n",
       "| 7 | V6                  | 0.228355981         |\n",
       "| 2 | V1                  | 0.168001503         |\n",
       "| 5 | V4                  | 0.145932144         |\n",
       "| 4 | V3                  | 0.115569719         |\n",
       "| 9 | V8                  | 0.086648922         |\n",
       "| 8 | V7                  | 0.085121684         |\n",
       "| 3 | V2                  | 0.076921508         |\n",
       "| 14 | Loan_amount         | 0.069868259         |\n",
       "| 12 | Days_late           | 0.050269722         |\n",
       "| 15 | Monthly_income      | 0.044463539         |\n",
       "| 1 | ID                  | 0.018271971         |\n",
       "| 17 | Gearing_coefficient | 0.015574242         |\n",
       "| 10 | Has_FICO            | 0.011114297         |\n",
       "| 18 | Max_gearing_ratio   | 0.004496549         |\n",
       "\n"
      ],
      "text/plain": [
       "   Variable            IV         \n",
       "13 FICO_Score          0.648752155\n",
       "6  V5                  0.327035775\n",
       "16 Age                 0.298202616\n",
       "11 Business_channel    0.259697833\n",
       "7  V6                  0.228355981\n",
       "2  V1                  0.168001503\n",
       "5  V4                  0.145932144\n",
       "4  V3                  0.115569719\n",
       "9  V8                  0.086648922\n",
       "8  V7                  0.085121684\n",
       "3  V2                  0.076921508\n",
       "14 Loan_amount         0.069868259\n",
       "12 Days_late           0.050269722\n",
       "15 Monthly_income      0.044463539\n",
       "1  ID                  0.018271971\n",
       "17 Gearing_coefficient 0.015574242\n",
       "10 Has_FICO            0.011114297\n",
       "18 Max_gearing_ratio   0.004496549"
      ]
     },
     "metadata": {},
     "output_type": "display_data"
    }
   ],
   "source": [
    "# SEE THE BEST VARIABLES FOR PREDICTION BASED ON DIFFERENT NUMBER OF BINS\n",
    "data.frame(IV$Summary)\n",
    "data.frame(IV1$Summary)\n",
    "data.frame(IV2$Summary)"
   ]
  },
  {
   "cell_type": "markdown",
   "metadata": {},
   "source": [
    "After the process of Weight of Evidence important variables were discovered which can be used to predict the target variable and prepare the scorecard."
   ]
  },
  {
   "cell_type": "code",
   "execution_count": 121,
   "metadata": {},
   "outputs": [
    {
     "data": {
      "image/png": "[encoded data removed]",
      "text/plain": [
       "plot without title"
      ]
     },
     "metadata": {},
     "output_type": "display_data"
    },
    {
     "data": {
      "image/png": "[encoded data removed]",
      "text/plain": [
       "plot without title"
      ]
     },
     "metadata": {},
     "output_type": "display_data"
    }
   ],
   "source": [
    "plot_infotables(IV, IV$Summary$Variable, same_scale=FALSE)\n"
   ]
  },
  {
   "cell_type": "code",
   "execution_count": 122,
   "metadata": {},
   "outputs": [
    {
     "data": {
      "image/png": "[encoded data removed]",
      "text/plain": [
       "plot without title"
      ]
     },
     "metadata": {},
     "output_type": "display_data"
    },
    {
     "data": {
      "image/png": "[encoded data removed]",
      "text/plain": [
       "plot without title"
      ]
     },
     "metadata": {},
     "output_type": "display_data"
    }
   ],
   "source": [
    "plot_infotables(IV1, IV1$Summary$Variable, same_scale=FALSE)"
   ]
  },
  {
   "cell_type": "code",
   "execution_count": 123,
   "metadata": {},
   "outputs": [
    {
     "data": {
      "image/png": "[encoded data removed]",
      "text/plain": [
       "plot without title"
      ]
     },
     "metadata": {},
     "output_type": "display_data"
    },
    {
     "data": {
      "image/png": "[encoded data removed]",
      "text/plain": [
       "plot without title"
      ]
     },
     "metadata": {},
     "output_type": "display_data"
    }
   ],
   "source": [
    "plot_infotables(IV2, IV2$Summary$Variable, same_scale=FALSE)"
   ]
  },
  {
   "cell_type": "markdown",
   "metadata": {},
   "source": [
    "BASED ON THE TOP FEATURES GATHERED ABOVE A NEW DATAFRAME OUT OF ACCEPTS WILL BE CREATED ON WHICH TESTING WILL BE DONE\n",
    "All these features were Days_late, FICO_Score, Age, V6, V5, Business_channel, Default_45 and ID"
   ]
  },
  {
   "cell_type": "code",
   "execution_count": 202,
   "metadata": {},
   "outputs": [
    {
     "data": {
      "text/html": [
       "<table>\n",
       "<thead><tr><th scope=col>Days_late</th><th scope=col>FICO_Score</th><th scope=col>Age</th><th scope=col>V6</th><th scope=col>V5</th><th scope=col>Business_channel</th><th scope=col>Default_45</th><th scope=col>ID</th></tr></thead>\n",
       "<tbody>\n",
       "\t<tr><td>  0        </td><td> 0.0000000 </td><td> 1.78103991</td><td>7          </td><td>6          </td><td>1          </td><td>0          </td><td>250263     </td></tr>\n",
       "\t<tr><td>  0        </td><td> 1.4981826 </td><td> 1.10716265</td><td>1          </td><td>5          </td><td>1          </td><td>0          </td><td>250290     </td></tr>\n",
       "\t<tr><td>  0        </td><td>-0.2417306 </td><td> 1.40666366</td><td>7          </td><td>7          </td><td>1          </td><td>0          </td><td>250249     </td></tr>\n",
       "\t<tr><td>168        </td><td> 0.0000000 </td><td> 0.95741215</td><td>4          </td><td>2          </td><td>1          </td><td>1          </td><td>249516     </td></tr>\n",
       "\t<tr><td>  0        </td><td> 0.0000000 </td><td>-0.39034236</td><td>4          </td><td>4          </td><td>1          </td><td>0          </td><td>249827     </td></tr>\n",
       "\t<tr><td>  0        </td><td> 0.0000000 </td><td>-0.39034236</td><td>4          </td><td>5          </td><td>2          </td><td>0          </td><td>250329     </td></tr>\n",
       "\t<tr><td>  0        </td><td> 0.5909421 </td><td> 1.25691315</td><td>7          </td><td>7          </td><td>1          </td><td>0          </td><td>250196     </td></tr>\n",
       "\t<tr><td>  0        </td><td> 0.0000000 </td><td>-0.46521761</td><td>5          </td><td>3          </td><td>2          </td><td>0          </td><td>250358     </td></tr>\n",
       "\t<tr><td>336        </td><td> 0.0000000 </td><td> 1.40666366</td><td>7          </td><td>1          </td><td>1          </td><td>1          </td><td>250375     </td></tr>\n",
       "\t<tr><td>  0        </td><td> 0.0000000 </td><td>-0.31546711</td><td>4          </td><td>4          </td><td>1          </td><td>0          </td><td>250415     </td></tr>\n",
       "\t<tr><td>349        </td><td> 0.0000000 </td><td>-0.31546711</td><td>4          </td><td>3          </td><td>1          </td><td>1          </td><td>250334     </td></tr>\n",
       "\t<tr><td>  0        </td><td> 0.0000000 </td><td>-0.01596610</td><td>4          </td><td>2          </td><td>1          </td><td>0          </td><td>250321     </td></tr>\n",
       "\t<tr><td>  0        </td><td> 0.0000000 </td><td>-1.43859586</td><td>4          </td><td>2          </td><td>2          </td><td>0          </td><td>250033     </td></tr>\n",
       "\t<tr><td>  0        </td><td> 1.1999118 </td><td> 1.78103991</td><td>7          </td><td>7          </td><td>3          </td><td>0          </td><td>250018     </td></tr>\n",
       "\t<tr><td>  0        </td><td>-0.2790145 </td><td>-0.39034236</td><td>1          </td><td>6          </td><td>1          </td><td>0          </td><td>250310     </td></tr>\n",
       "\t<tr><td> 15        </td><td>-1.3975301 </td><td> 0.20865965</td><td>1          </td><td>6          </td><td>1          </td><td>0          </td><td>250470     </td></tr>\n",
       "\t<tr><td> 15        </td><td> 0.0000000 </td><td>-1.13909486</td><td>4          </td><td>2          </td><td>1          </td><td>0          </td><td>250370     </td></tr>\n",
       "\t<tr><td>  0        </td><td> 0.0000000 </td><td> 1.40666366</td><td>7          </td><td>6          </td><td>1          </td><td>0          </td><td>250420     </td></tr>\n",
       "\t<tr><td>  0        </td><td> 0.0000000 </td><td> 1.18203790</td><td>7          </td><td>7          </td><td>1          </td><td>0          </td><td>250523     </td></tr>\n",
       "\t<tr><td>594        </td><td>-0.8507003 </td><td> 0.50816065</td><td>1          </td><td>1          </td><td>1          </td><td>1          </td><td>250512     </td></tr>\n",
       "\t<tr><td> 15        </td><td> 1.5230385 </td><td> 0.95741215</td><td>7          </td><td>7          </td><td>1          </td><td>0          </td><td>250566     </td></tr>\n",
       "\t<tr><td>319        </td><td>-0.4032940 </td><td> 0.20865965</td><td>7          </td><td>5          </td><td>1          </td><td>1          </td><td>250479     </td></tr>\n",
       "\t<tr><td>  0        </td><td> 0.0000000 </td><td>-1.21397011</td><td>1          </td><td>2          </td><td>1          </td><td>0          </td><td>250546     </td></tr>\n",
       "\t<tr><td>  0        </td><td> 0.0000000 </td><td> 0.50816065</td><td>5          </td><td>4          </td><td>1          </td><td>0          </td><td>250559     </td></tr>\n",
       "\t<tr><td>  0        </td><td>-1.1116873 </td><td>-1.13909486</td><td>5          </td><td>3          </td><td>1          </td><td>0          </td><td>250578     </td></tr>\n",
       "\t<tr><td>273        </td><td>-1.1116873 </td><td>-1.21397011</td><td>5          </td><td>4          </td><td>2          </td><td>1          </td><td>250545     </td></tr>\n",
       "\t<tr><td>  0        </td><td> 0.2181036 </td><td> 0.20865965</td><td>4          </td><td>3          </td><td>1          </td><td>0          </td><td>250452     </td></tr>\n",
       "\t<tr><td>  0        </td><td> 0.0000000 </td><td> 0.13378440</td><td>4          </td><td>2          </td><td>1          </td><td>0          </td><td>250079     </td></tr>\n",
       "\t<tr><td>  0        </td><td> 1.1129161 </td><td>-0.68984336</td><td>4          </td><td>6          </td><td>1          </td><td>0          </td><td>250395     </td></tr>\n",
       "\t<tr><td>168        </td><td>-0.6145692 </td><td> 0.05890915</td><td>4          </td><td>6          </td><td>1          </td><td>1          </td><td>250644     </td></tr>\n",
       "\t<tr><td>...</td><td>...</td><td>...</td><td>...</td><td>...</td><td>...</td><td>...</td><td>...</td></tr>\n",
       "\t<tr><td>107        </td><td>-0.9749798 </td><td>-0.31546711</td><td>5          </td><td>2          </td><td>1          </td><td>1          </td><td>305655     </td></tr>\n",
       "\t<tr><td>  0        </td><td>-1.0619754 </td><td>-1.13909486</td><td>5          </td><td>3          </td><td>1          </td><td>0          </td><td>304997     </td></tr>\n",
       "\t<tr><td>  0        </td><td> 0.8022173 </td><td> 0.35841015</td><td>1          </td><td>6          </td><td>1          </td><td>0          </td><td>305752     </td></tr>\n",
       "\t<tr><td>137        </td><td> 0.0000000 </td><td>-0.83959386</td><td>4          </td><td>1          </td><td>1          </td><td>1          </td><td>305832     </td></tr>\n",
       "\t<tr><td> 45        </td><td> 0.0000000 </td><td> 0.13378440</td><td>4          </td><td>3          </td><td>1          </td><td>1          </td><td>305830     </td></tr>\n",
       "\t<tr><td>  0        </td><td>-1.3726742 </td><td> 0.28353490</td><td>5          </td><td>1          </td><td>2          </td><td>0          </td><td>305495     </td></tr>\n",
       "\t<tr><td>198        </td><td>-1.0744034 </td><td> 1.33178840</td><td>4          </td><td>1          </td><td>1          </td><td>1          </td><td>305758     </td></tr>\n",
       "\t<tr><td>  0        </td><td> 1.0010645 </td><td> 1.03228740</td><td>4          </td><td>4          </td><td>1          </td><td>0          </td><td>305824     </td></tr>\n",
       "\t<tr><td>  0        </td><td> 0.2926713 </td><td>-0.46521761</td><td>4          </td><td>5          </td><td>3          </td><td>0          </td><td>305893     </td></tr>\n",
       "\t<tr><td>  0        </td><td> 0.0000000 </td><td>-0.31546711</td><td>5          </td><td>3          </td><td>1          </td><td>0          </td><td>305851     </td></tr>\n",
       "\t<tr><td>137        </td><td> 0.0000000 </td><td>-1.36372061</td><td>5          </td><td>3          </td><td>1          </td><td>1          </td><td>305827     </td></tr>\n",
       "\t<tr><td>  0        </td><td>-0.5772853 </td><td> 1.25691315</td><td>5          </td><td>1          </td><td>1          </td><td>0          </td><td>305789     </td></tr>\n",
       "\t<tr><td>168        </td><td> 0.0000000 </td><td>-0.31546711</td><td>5          </td><td>2          </td><td>2          </td><td>1          </td><td>304994     </td></tr>\n",
       "\t<tr><td>  0        </td><td> 0.7649334 </td><td> 0.05890915</td><td>4          </td><td>4          </td><td>1          </td><td>0          </td><td>305739     </td></tr>\n",
       "\t<tr><td> 45        </td><td> 0.0000000 </td><td>-1.51347111</td><td>4          </td><td>2          </td><td>1          </td><td>1          </td><td>305650     </td></tr>\n",
       "\t<tr><td>  0        </td><td> 0.7400775 </td><td> 0.05890915</td><td>5          </td><td>1          </td><td>1          </td><td>0          </td><td>305844     </td></tr>\n",
       "\t<tr><td>112        </td><td> 0.6655098 </td><td> 1.40666366</td><td>7          </td><td>7          </td><td>1          </td><td>1          </td><td>305886     </td></tr>\n",
       "\t<tr><td>  0        </td><td> 0.0000000 </td><td>-1.21397011</td><td>5          </td><td>5          </td><td>1          </td><td>0          </td><td>305823     </td></tr>\n",
       "\t<tr><td>  0        </td><td> 0.0000000 </td><td> 0.43328540</td><td>4          </td><td>2          </td><td>1          </td><td>0          </td><td>305885     </td></tr>\n",
       "\t<tr><td>  0        </td><td> 0.1559638 </td><td> 1.70616466</td><td>7          </td><td>7          </td><td>1          </td><td>0          </td><td>305846     </td></tr>\n",
       "\t<tr><td> 15        </td><td>-0.5151456 </td><td>-0.09084135</td><td>5          </td><td>2          </td><td>2          </td><td>0          </td><td>304880     </td></tr>\n",
       "\t<tr><td>  0        </td><td> 0.0000000 </td><td>-0.31546711</td><td>5          </td><td>1          </td><td>3          </td><td>0          </td><td>305882     </td></tr>\n",
       "\t<tr><td>  0        </td><td> 0.5163744 </td><td> 0.50816065</td><td>4          </td><td>4          </td><td>1          </td><td>0          </td><td>305926     </td></tr>\n",
       "\t<tr><td>  0        </td><td> 0.0000000 </td><td>-0.01596610</td><td>4          </td><td>1          </td><td>2          </td><td>0          </td><td>305871     </td></tr>\n",
       "\t<tr><td>  0        </td><td>-0.4654338 </td><td>-0.31546711</td><td>4          </td><td>2          </td><td>1          </td><td>0          </td><td>305925     </td></tr>\n",
       "\t<tr><td>  0        </td><td> 0.7649334 </td><td>-0.68984336</td><td>4          </td><td>3          </td><td>1          </td><td>0          </td><td>305892     </td></tr>\n",
       "\t<tr><td> 76        </td><td> 0.0000000 </td><td>-1.06421961</td><td>4          </td><td>1          </td><td>1          </td><td>1          </td><td>302908     </td></tr>\n",
       "\t<tr><td>  0        </td><td>-0.3908661 </td><td> 1.63128941</td><td>7          </td><td>7          </td><td>1          </td><td>0          </td><td>305940     </td></tr>\n",
       "\t<tr><td>  0        </td><td>-1.0246916 </td><td> 1.55641416</td><td>4          </td><td>4          </td><td>2          </td><td>0          </td><td>305957     </td></tr>\n",
       "\t<tr><td>  0        </td><td> 0.0000000 </td><td> 1.33178840</td><td>5          </td><td>4          </td><td>1          </td><td>0          </td><td>305891     </td></tr>\n",
       "</tbody>\n",
       "</table>\n"
      ],
      "text/latex": [
       "\\begin{tabular}{r|llllllll}\n",
       " Days\\_late & FICO\\_Score & Age & V6 & V5 & Business\\_channel & Default\\_45 & ID\\\\\n",
       "\\hline\n",
       "\t   0         &  0.0000000  &  1.78103991 & 7           & 6           & 1           & 0           & 250263     \\\\\n",
       "\t   0         &  1.4981826  &  1.10716265 & 1           & 5           & 1           & 0           & 250290     \\\\\n",
       "\t   0         & -0.2417306  &  1.40666366 & 7           & 7           & 1           & 0           & 250249     \\\\\n",
       "\t 168         &  0.0000000  &  0.95741215 & 4           & 2           & 1           & 1           & 249516     \\\\\n",
       "\t   0         &  0.0000000  & -0.39034236 & 4           & 4           & 1           & 0           & 249827     \\\\\n",
       "\t   0         &  0.0000000  & -0.39034236 & 4           & 5           & 2           & 0           & 250329     \\\\\n",
       "\t   0         &  0.5909421  &  1.25691315 & 7           & 7           & 1           & 0           & 250196     \\\\\n",
       "\t   0         &  0.0000000  & -0.46521761 & 5           & 3           & 2           & 0           & 250358     \\\\\n",
       "\t 336         &  0.0000000  &  1.40666366 & 7           & 1           & 1           & 1           & 250375     \\\\\n",
       "\t   0         &  0.0000000  & -0.31546711 & 4           & 4           & 1           & 0           & 250415     \\\\\n",
       "\t 349         &  0.0000000  & -0.31546711 & 4           & 3           & 1           & 1           & 250334     \\\\\n",
       "\t   0         &  0.0000000  & -0.01596610 & 4           & 2           & 1           & 0           & 250321     \\\\\n",
       "\t   0         &  0.0000000  & -1.43859586 & 4           & 2           & 2           & 0           & 250033     \\\\\n",
       "\t   0         &  1.1999118  &  1.78103991 & 7           & 7           & 3           & 0           & 250018     \\\\\n",
       "\t   0         & -0.2790145  & -0.39034236 & 1           & 6           & 1           & 0           & 250310     \\\\\n",
       "\t  15         & -1.3975301  &  0.20865965 & 1           & 6           & 1           & 0           & 250470     \\\\\n",
       "\t  15         &  0.0000000  & -1.13909486 & 4           & 2           & 1           & 0           & 250370     \\\\\n",
       "\t   0         &  0.0000000  &  1.40666366 & 7           & 6           & 1           & 0           & 250420     \\\\\n",
       "\t   0         &  0.0000000  &  1.18203790 & 7           & 7           & 1           & 0           & 250523     \\\\\n",
       "\t 594         & -0.8507003  &  0.50816065 & 1           & 1           & 1           & 1           & 250512     \\\\\n",
       "\t  15         &  1.5230385  &  0.95741215 & 7           & 7           & 1           & 0           & 250566     \\\\\n",
       "\t 319         & -0.4032940  &  0.20865965 & 7           & 5           & 1           & 1           & 250479     \\\\\n",
       "\t   0         &  0.0000000  & -1.21397011 & 1           & 2           & 1           & 0           & 250546     \\\\\n",
       "\t   0         &  0.0000000  &  0.50816065 & 5           & 4           & 1           & 0           & 250559     \\\\\n",
       "\t   0         & -1.1116873  & -1.13909486 & 5           & 3           & 1           & 0           & 250578     \\\\\n",
       "\t 273         & -1.1116873  & -1.21397011 & 5           & 4           & 2           & 1           & 250545     \\\\\n",
       "\t   0         &  0.2181036  &  0.20865965 & 4           & 3           & 1           & 0           & 250452     \\\\\n",
       "\t   0         &  0.0000000  &  0.13378440 & 4           & 2           & 1           & 0           & 250079     \\\\\n",
       "\t   0         &  1.1129161  & -0.68984336 & 4           & 6           & 1           & 0           & 250395     \\\\\n",
       "\t 168         & -0.6145692  &  0.05890915 & 4           & 6           & 1           & 1           & 250644     \\\\\n",
       "\t ... & ... & ... & ... & ... & ... & ... & ...\\\\\n",
       "\t 107         & -0.9749798  & -0.31546711 & 5           & 2           & 1           & 1           & 305655     \\\\\n",
       "\t   0         & -1.0619754  & -1.13909486 & 5           & 3           & 1           & 0           & 304997     \\\\\n",
       "\t   0         &  0.8022173  &  0.35841015 & 1           & 6           & 1           & 0           & 305752     \\\\\n",
       "\t 137         &  0.0000000  & -0.83959386 & 4           & 1           & 1           & 1           & 305832     \\\\\n",
       "\t  45         &  0.0000000  &  0.13378440 & 4           & 3           & 1           & 1           & 305830     \\\\\n",
       "\t   0         & -1.3726742  &  0.28353490 & 5           & 1           & 2           & 0           & 305495     \\\\\n",
       "\t 198         & -1.0744034  &  1.33178840 & 4           & 1           & 1           & 1           & 305758     \\\\\n",
       "\t   0         &  1.0010645  &  1.03228740 & 4           & 4           & 1           & 0           & 305824     \\\\\n",
       "\t   0         &  0.2926713  & -0.46521761 & 4           & 5           & 3           & 0           & 305893     \\\\\n",
       "\t   0         &  0.0000000  & -0.31546711 & 5           & 3           & 1           & 0           & 305851     \\\\\n",
       "\t 137         &  0.0000000  & -1.36372061 & 5           & 3           & 1           & 1           & 305827     \\\\\n",
       "\t   0         & -0.5772853  &  1.25691315 & 5           & 1           & 1           & 0           & 305789     \\\\\n",
       "\t 168         &  0.0000000  & -0.31546711 & 5           & 2           & 2           & 1           & 304994     \\\\\n",
       "\t   0         &  0.7649334  &  0.05890915 & 4           & 4           & 1           & 0           & 305739     \\\\\n",
       "\t  45         &  0.0000000  & -1.51347111 & 4           & 2           & 1           & 1           & 305650     \\\\\n",
       "\t   0         &  0.7400775  &  0.05890915 & 5           & 1           & 1           & 0           & 305844     \\\\\n",
       "\t 112         &  0.6655098  &  1.40666366 & 7           & 7           & 1           & 1           & 305886     \\\\\n",
       "\t   0         &  0.0000000  & -1.21397011 & 5           & 5           & 1           & 0           & 305823     \\\\\n",
       "\t   0         &  0.0000000  &  0.43328540 & 4           & 2           & 1           & 0           & 305885     \\\\\n",
       "\t   0         &  0.1559638  &  1.70616466 & 7           & 7           & 1           & 0           & 305846     \\\\\n",
       "\t  15         & -0.5151456  & -0.09084135 & 5           & 2           & 2           & 0           & 304880     \\\\\n",
       "\t   0         &  0.0000000  & -0.31546711 & 5           & 1           & 3           & 0           & 305882     \\\\\n",
       "\t   0         &  0.5163744  &  0.50816065 & 4           & 4           & 1           & 0           & 305926     \\\\\n",
       "\t   0         &  0.0000000  & -0.01596610 & 4           & 1           & 2           & 0           & 305871     \\\\\n",
       "\t   0         & -0.4654338  & -0.31546711 & 4           & 2           & 1           & 0           & 305925     \\\\\n",
       "\t   0         &  0.7649334  & -0.68984336 & 4           & 3           & 1           & 0           & 305892     \\\\\n",
       "\t  76         &  0.0000000  & -1.06421961 & 4           & 1           & 1           & 1           & 302908     \\\\\n",
       "\t   0         & -0.3908661  &  1.63128941 & 7           & 7           & 1           & 0           & 305940     \\\\\n",
       "\t   0         & -1.0246916  &  1.55641416 & 4           & 4           & 2           & 0           & 305957     \\\\\n",
       "\t   0         &  0.0000000  &  1.33178840 & 5           & 4           & 1           & 0           & 305891     \\\\\n",
       "\\end{tabular}\n"
      ],
      "text/markdown": [
       "\n",
       "| Days_late | FICO_Score | Age | V6 | V5 | Business_channel | Default_45 | ID |\n",
       "|---|---|---|---|---|---|---|---|\n",
       "|   0         |  0.0000000  |  1.78103991 | 7           | 6           | 1           | 0           | 250263      |\n",
       "|   0         |  1.4981826  |  1.10716265 | 1           | 5           | 1           | 0           | 250290      |\n",
       "|   0         | -0.2417306  |  1.40666366 | 7           | 7           | 1           | 0           | 250249      |\n",
       "| 168         |  0.0000000  |  0.95741215 | 4           | 2           | 1           | 1           | 249516      |\n",
       "|   0         |  0.0000000  | -0.39034236 | 4           | 4           | 1           | 0           | 249827      |\n",
       "|   0         |  0.0000000  | -0.39034236 | 4           | 5           | 2           | 0           | 250329      |\n",
       "|   0         |  0.5909421  |  1.25691315 | 7           | 7           | 1           | 0           | 250196      |\n",
       "|   0         |  0.0000000  | -0.46521761 | 5           | 3           | 2           | 0           | 250358      |\n",
       "| 336         |  0.0000000  |  1.40666366 | 7           | 1           | 1           | 1           | 250375      |\n",
       "|   0         |  0.0000000  | -0.31546711 | 4           | 4           | 1           | 0           | 250415      |\n",
       "| 349         |  0.0000000  | -0.31546711 | 4           | 3           | 1           | 1           | 250334      |\n",
       "|   0         |  0.0000000  | -0.01596610 | 4           | 2           | 1           | 0           | 250321      |\n",
       "|   0         |  0.0000000  | -1.43859586 | 4           | 2           | 2           | 0           | 250033      |\n",
       "|   0         |  1.1999118  |  1.78103991 | 7           | 7           | 3           | 0           | 250018      |\n",
       "|   0         | -0.2790145  | -0.39034236 | 1           | 6           | 1           | 0           | 250310      |\n",
       "|  15         | -1.3975301  |  0.20865965 | 1           | 6           | 1           | 0           | 250470      |\n",
       "|  15         |  0.0000000  | -1.13909486 | 4           | 2           | 1           | 0           | 250370      |\n",
       "|   0         |  0.0000000  |  1.40666366 | 7           | 6           | 1           | 0           | 250420      |\n",
       "|   0         |  0.0000000  |  1.18203790 | 7           | 7           | 1           | 0           | 250523      |\n",
       "| 594         | -0.8507003  |  0.50816065 | 1           | 1           | 1           | 1           | 250512      |\n",
       "|  15         |  1.5230385  |  0.95741215 | 7           | 7           | 1           | 0           | 250566      |\n",
       "| 319         | -0.4032940  |  0.20865965 | 7           | 5           | 1           | 1           | 250479      |\n",
       "|   0         |  0.0000000  | -1.21397011 | 1           | 2           | 1           | 0           | 250546      |\n",
       "|   0         |  0.0000000  |  0.50816065 | 5           | 4           | 1           | 0           | 250559      |\n",
       "|   0         | -1.1116873  | -1.13909486 | 5           | 3           | 1           | 0           | 250578      |\n",
       "| 273         | -1.1116873  | -1.21397011 | 5           | 4           | 2           | 1           | 250545      |\n",
       "|   0         |  0.2181036  |  0.20865965 | 4           | 3           | 1           | 0           | 250452      |\n",
       "|   0         |  0.0000000  |  0.13378440 | 4           | 2           | 1           | 0           | 250079      |\n",
       "|   0         |  1.1129161  | -0.68984336 | 4           | 6           | 1           | 0           | 250395      |\n",
       "| 168         | -0.6145692  |  0.05890915 | 4           | 6           | 1           | 1           | 250644      |\n",
       "| ... | ... | ... | ... | ... | ... | ... | ... |\n",
       "| 107         | -0.9749798  | -0.31546711 | 5           | 2           | 1           | 1           | 305655      |\n",
       "|   0         | -1.0619754  | -1.13909486 | 5           | 3           | 1           | 0           | 304997      |\n",
       "|   0         |  0.8022173  |  0.35841015 | 1           | 6           | 1           | 0           | 305752      |\n",
       "| 137         |  0.0000000  | -0.83959386 | 4           | 1           | 1           | 1           | 305832      |\n",
       "|  45         |  0.0000000  |  0.13378440 | 4           | 3           | 1           | 1           | 305830      |\n",
       "|   0         | -1.3726742  |  0.28353490 | 5           | 1           | 2           | 0           | 305495      |\n",
       "| 198         | -1.0744034  |  1.33178840 | 4           | 1           | 1           | 1           | 305758      |\n",
       "|   0         |  1.0010645  |  1.03228740 | 4           | 4           | 1           | 0           | 305824      |\n",
       "|   0         |  0.2926713  | -0.46521761 | 4           | 5           | 3           | 0           | 305893      |\n",
       "|   0         |  0.0000000  | -0.31546711 | 5           | 3           | 1           | 0           | 305851      |\n",
       "| 137         |  0.0000000  | -1.36372061 | 5           | 3           | 1           | 1           | 305827      |\n",
       "|   0         | -0.5772853  |  1.25691315 | 5           | 1           | 1           | 0           | 305789      |\n",
       "| 168         |  0.0000000  | -0.31546711 | 5           | 2           | 2           | 1           | 304994      |\n",
       "|   0         |  0.7649334  |  0.05890915 | 4           | 4           | 1           | 0           | 305739      |\n",
       "|  45         |  0.0000000  | -1.51347111 | 4           | 2           | 1           | 1           | 305650      |\n",
       "|   0         |  0.7400775  |  0.05890915 | 5           | 1           | 1           | 0           | 305844      |\n",
       "| 112         |  0.6655098  |  1.40666366 | 7           | 7           | 1           | 1           | 305886      |\n",
       "|   0         |  0.0000000  | -1.21397011 | 5           | 5           | 1           | 0           | 305823      |\n",
       "|   0         |  0.0000000  |  0.43328540 | 4           | 2           | 1           | 0           | 305885      |\n",
       "|   0         |  0.1559638  |  1.70616466 | 7           | 7           | 1           | 0           | 305846      |\n",
       "|  15         | -0.5151456  | -0.09084135 | 5           | 2           | 2           | 0           | 304880      |\n",
       "|   0         |  0.0000000  | -0.31546711 | 5           | 1           | 3           | 0           | 305882      |\n",
       "|   0         |  0.5163744  |  0.50816065 | 4           | 4           | 1           | 0           | 305926      |\n",
       "|   0         |  0.0000000  | -0.01596610 | 4           | 1           | 2           | 0           | 305871      |\n",
       "|   0         | -0.4654338  | -0.31546711 | 4           | 2           | 1           | 0           | 305925      |\n",
       "|   0         |  0.7649334  | -0.68984336 | 4           | 3           | 1           | 0           | 305892      |\n",
       "|  76         |  0.0000000  | -1.06421961 | 4           | 1           | 1           | 1           | 302908      |\n",
       "|   0         | -0.3908661  |  1.63128941 | 7           | 7           | 1           | 0           | 305940      |\n",
       "|   0         | -1.0246916  |  1.55641416 | 4           | 4           | 2           | 0           | 305957      |\n",
       "|   0         |  0.0000000  |  1.33178840 | 5           | 4           | 1           | 0           | 305891      |\n",
       "\n"
      ],
      "text/plain": [
       "      Days_late FICO_Score Age         V6  V5  Business_channel Default_45\n",
       "1       0        0.0000000  1.78103991 7   6   1                0         \n",
       "2       0        1.4981826  1.10716265 1   5   1                0         \n",
       "3       0       -0.2417306  1.40666366 7   7   1                0         \n",
       "4     168        0.0000000  0.95741215 4   2   1                1         \n",
       "5       0        0.0000000 -0.39034236 4   4   1                0         \n",
       "6       0        0.0000000 -0.39034236 4   5   2                0         \n",
       "7       0        0.5909421  1.25691315 7   7   1                0         \n",
       "8       0        0.0000000 -0.46521761 5   3   2                0         \n",
       "9     336        0.0000000  1.40666366 7   1   1                1         \n",
       "10      0        0.0000000 -0.31546711 4   4   1                0         \n",
       "11    349        0.0000000 -0.31546711 4   3   1                1         \n",
       "12      0        0.0000000 -0.01596610 4   2   1                0         \n",
       "13      0        0.0000000 -1.43859586 4   2   2                0         \n",
       "14      0        1.1999118  1.78103991 7   7   3                0         \n",
       "15      0       -0.2790145 -0.39034236 1   6   1                0         \n",
       "16     15       -1.3975301  0.20865965 1   6   1                0         \n",
       "17     15        0.0000000 -1.13909486 4   2   1                0         \n",
       "18      0        0.0000000  1.40666366 7   6   1                0         \n",
       "19      0        0.0000000  1.18203790 7   7   1                0         \n",
       "20    594       -0.8507003  0.50816065 1   1   1                1         \n",
       "21     15        1.5230385  0.95741215 7   7   1                0         \n",
       "22    319       -0.4032940  0.20865965 7   5   1                1         \n",
       "23      0        0.0000000 -1.21397011 1   2   1                0         \n",
       "24      0        0.0000000  0.50816065 5   4   1                0         \n",
       "25      0       -1.1116873 -1.13909486 5   3   1                0         \n",
       "26    273       -1.1116873 -1.21397011 5   4   2                1         \n",
       "27      0        0.2181036  0.20865965 4   3   1                0         \n",
       "28      0        0.0000000  0.13378440 4   2   1                0         \n",
       "29      0        1.1129161 -0.68984336 4   6   1                0         \n",
       "30    168       -0.6145692  0.05890915 4   6   1                1         \n",
       "...   ...       ...        ...         ... ... ...              ...       \n",
       "9971  107       -0.9749798 -0.31546711 5   2   1                1         \n",
       "9972    0       -1.0619754 -1.13909486 5   3   1                0         \n",
       "9973    0        0.8022173  0.35841015 1   6   1                0         \n",
       "9974  137        0.0000000 -0.83959386 4   1   1                1         \n",
       "9975   45        0.0000000  0.13378440 4   3   1                1         \n",
       "9976    0       -1.3726742  0.28353490 5   1   2                0         \n",
       "9977  198       -1.0744034  1.33178840 4   1   1                1         \n",
       "9978    0        1.0010645  1.03228740 4   4   1                0         \n",
       "9979    0        0.2926713 -0.46521761 4   5   3                0         \n",
       "9980    0        0.0000000 -0.31546711 5   3   1                0         \n",
       "9981  137        0.0000000 -1.36372061 5   3   1                1         \n",
       "9982    0       -0.5772853  1.25691315 5   1   1                0         \n",
       "9983  168        0.0000000 -0.31546711 5   2   2                1         \n",
       "9984    0        0.7649334  0.05890915 4   4   1                0         \n",
       "9985   45        0.0000000 -1.51347111 4   2   1                1         \n",
       "9986    0        0.7400775  0.05890915 5   1   1                0         \n",
       "9987  112        0.6655098  1.40666366 7   7   1                1         \n",
       "9988    0        0.0000000 -1.21397011 5   5   1                0         \n",
       "9989    0        0.0000000  0.43328540 4   2   1                0         \n",
       "9990    0        0.1559638  1.70616466 7   7   1                0         \n",
       "9991   15       -0.5151456 -0.09084135 5   2   2                0         \n",
       "9992    0        0.0000000 -0.31546711 5   1   3                0         \n",
       "9993    0        0.5163744  0.50816065 4   4   1                0         \n",
       "9994    0        0.0000000 -0.01596610 4   1   2                0         \n",
       "9995    0       -0.4654338 -0.31546711 4   2   1                0         \n",
       "9996    0        0.7649334 -0.68984336 4   3   1                0         \n",
       "9997   76        0.0000000 -1.06421961 4   1   1                1         \n",
       "9998    0       -0.3908661  1.63128941 7   7   1                0         \n",
       "9999    0       -1.0246916  1.55641416 4   4   2                0         \n",
       "10000   0        0.0000000  1.33178840 5   4   1                0         \n",
       "      ID    \n",
       "1     250263\n",
       "2     250290\n",
       "3     250249\n",
       "4     249516\n",
       "5     249827\n",
       "6     250329\n",
       "7     250196\n",
       "8     250358\n",
       "9     250375\n",
       "10    250415\n",
       "11    250334\n",
       "12    250321\n",
       "13    250033\n",
       "14    250018\n",
       "15    250310\n",
       "16    250470\n",
       "17    250370\n",
       "18    250420\n",
       "19    250523\n",
       "20    250512\n",
       "21    250566\n",
       "22    250479\n",
       "23    250546\n",
       "24    250559\n",
       "25    250578\n",
       "26    250545\n",
       "27    250452\n",
       "28    250079\n",
       "29    250395\n",
       "30    250644\n",
       "...   ...   \n",
       "9971  305655\n",
       "9972  304997\n",
       "9973  305752\n",
       "9974  305832\n",
       "9975  305830\n",
       "9976  305495\n",
       "9977  305758\n",
       "9978  305824\n",
       "9979  305893\n",
       "9980  305851\n",
       "9981  305827\n",
       "9982  305789\n",
       "9983  304994\n",
       "9984  305739\n",
       "9985  305650\n",
       "9986  305844\n",
       "9987  305886\n",
       "9988  305823\n",
       "9989  305885\n",
       "9990  305846\n",
       "9991  304880\n",
       "9992  305882\n",
       "9993  305926\n",
       "9994  305871\n",
       "9995  305925\n",
       "9996  305892\n",
       "9997  302908\n",
       "9998  305940\n",
       "9999  305957\n",
       "10000 305891"
      ]
     },
     "metadata": {},
     "output_type": "display_data"
    },
    {
     "data": {
      "text/html": [
       "10000"
      ],
      "text/latex": [
       "10000"
      ],
      "text/markdown": [
       "10000"
      ],
      "text/plain": [
       "[1] 10000"
      ]
     },
     "metadata": {},
     "output_type": "display_data"
    }
   ],
   "source": [
    "Accepts_final <- Accepts[,c(\"Days_late\", \"FICO_Score\",\"Age\",\"V6\",\"V5\",\"Business_channel\",\"Default_45\",\"ID\")]\n",
    "Accepts_final\n",
    "nrow(Accepts_final)"
   ]
  },
  {
   "cell_type": "markdown",
   "metadata": {},
   "source": [
    "Modelling part\n",
    "Since it is a classification problem , we will model it thorugh Linear, Logistic and decision tree"
   ]
  },
  {
   "cell_type": "code",
   "execution_count": 142,
   "metadata": {},
   "outputs": [],
   "source": [
    "#Splitting the data into train, validation and test set\n",
    "f_Training   <- 0.60\n",
    "f_Validation <- 0.30\n",
    "f_Test       <- 0.10\n",
    "\n",
    "# Compute sample sizes.\n",
    "sa_Training   <- floor(f_Training   * nrow(Accepts_final))\n",
    "sa_Validation <- floor(f_Validation * nrow(Accepts_final))\n",
    "sa_Test       <- floor(f_Test       * nrow(Accepts_final))\n",
    "\n",
    "# Create the randomly-sampled indices for the dataframe. Use setdiff() to\n",
    "# avoid overlapping subsets of indices.\n",
    "i_Training    <- sort(sample(seq_len(nrow(Accepts_final)), size=sa_Training))\n",
    "in_Training <- setdiff(seq_len(nrow(Accepts_final)), i_Training)\n",
    "i_Validation  <- sort(sample(in_Training, size=sa_Validation))\n",
    "i_Test        <- setdiff(in_Training, i_Validation)\n",
    "\n",
    "# Finally, output the three dataframes for training, validation and test.\n",
    "Training   <- Accepts_final[i_Training, ]\n",
    "Validation <- Accepts_final[i_Validation, ]\n",
    "Test       <- Accepts_final[i_Test, ]"
   ]
  },
  {
   "cell_type": "markdown",
   "metadata": {},
   "source": [
    "Linear Regression"
   ]
  },
  {
   "cell_type": "code",
   "execution_count": 137,
   "metadata": {},
   "outputs": [
    {
     "name": "stderr",
     "output_type": "stream",
     "text": [
      "Warning message:\n",
      "\"package 'ROCR' was built under R version 3.6.2\"Loading required package: gplots\n",
      "Warning message:\n",
      "\"package 'gplots' was built under R version 3.6.2\"Registered S3 method overwritten by 'gdata':\n",
      "  method         from     \n",
      "  reorder.factor DescTools\n",
      "\n",
      "Attaching package: 'gplots'\n",
      "\n",
      "The following object is masked from 'package:stats':\n",
      "\n",
      "    lowess\n",
      "\n"
     ]
    }
   ],
   "source": [
    "library(pROC)\n",
    "library(ROCR)\n"
   ]
  },
  {
   "cell_type": "code",
   "execution_count": 143,
   "metadata": {},
   "outputs": [
    {
     "data": {
      "text/plain": [
       "\n",
       "Call:\n",
       "lm(formula = Default_45 ~ ., data = Training)\n",
       "\n",
       "Residuals:\n",
       "     Min       1Q   Median       3Q      Max \n",
       "-0.94237 -0.10012 -0.06430 -0.01784  0.87843 \n",
       "\n",
       "Coefficients:\n",
       "                   Estimate Std. Error t value Pr(>|t|)    \n",
       "(Intercept)       4.970e-02  1.565e-02   3.176 0.001503 ** \n",
       "Days_late         2.897e-03  2.783e-05 104.118  < 2e-16 ***\n",
       "FICO_Score       -3.181e-02  4.493e-03  -7.081 1.60e-12 ***\n",
       "Age              -1.667e-02  4.395e-03  -3.793 0.000150 ***\n",
       "V6                1.198e-02  2.737e-03   4.377 1.22e-05 ***\n",
       "V5               -6.888e-03  2.090e-03  -3.296 0.000985 ***\n",
       "Business_channel -5.465e-03  4.764e-03  -1.147 0.251334    \n",
       "---\n",
       "Signif. codes:  0 '***' 0.001 '**' 0.01 '*' 0.05 '.' 0.1 ' ' 1\n",
       "\n",
       "Residual standard error: 0.2387 on 5993 degrees of freedom\n",
       "Multiple R-squared:  0.6855,\tAdjusted R-squared:  0.6852 \n",
       "F-statistic:  2177 on 6 and 5993 DF,  p-value: < 2.2e-16\n"
      ]
     },
     "metadata": {},
     "output_type": "display_data"
    }
   ],
   "source": [
    "model <- lm(Default_45 ~ ., data=Training)\n",
    "summary(model)"
   ]
  },
  {
   "cell_type": "markdown",
   "metadata": {},
   "source": [
    "As per the linear regression analysis, Days_late and V6 were the most important features."
   ]
  },
  {
   "cell_type": "code",
   "execution_count": 144,
   "metadata": {},
   "outputs": [
    {
     "data": {
      "text/html": [
       "0.999571929392952"
      ],
      "text/latex": [
       "0.999571929392952"
      ],
      "text/markdown": [
       "0.999571929392952"
      ],
      "text/plain": [
       "[1] 0.9995719"
      ]
     },
     "metadata": {},
     "output_type": "display_data"
    },
    {
     "data": {
      "image/png": "[encoded data removed]",
      "text/plain": [
       "plot without title"
      ]
     },
     "metadata": {},
     "output_type": "display_data"
    }
   ],
   "source": [
    "p <- predict(model, newdata= Validation, type=\"response\")\n",
    "pr <- prediction(p, Validation$Default_45)\n",
    "prf <- performance(pr, measure = \"tpr\", x.measure = \"fpr\")\n",
    "plot(prf)\n",
    "\n",
    "auc <- performance(pr, measure = \"auc\")\n",
    "auc <- auc@y.values[[1]]\n",
    "auc"
   ]
  },
  {
   "cell_type": "markdown",
   "metadata": {},
   "source": [
    "Logistic Regression"
   ]
  },
  {
   "cell_type": "code",
   "execution_count": 145,
   "metadata": {},
   "outputs": [
    {
     "name": "stderr",
     "output_type": "stream",
     "text": [
      "Warning message:\n",
      "\"glm.fit: algorithm did not converge\"Warning message:\n",
      "\"glm.fit: fitted probabilities numerically 0 or 1 occurred\""
     ]
    },
    {
     "data": {
      "text/plain": [
       "\n",
       "Call:\n",
       "glm(formula = Default_45 ~ ., family = binomial(link = \"logit\"), \n",
       "    data = Training)\n",
       "\n",
       "Deviance Residuals: \n",
       "       Min          1Q      Median          3Q         Max  \n",
       "-1.241e-03  -2.000e-08  -2.000e-08  -2.000e-08   3.287e-04  \n",
       "\n",
       "Coefficients:\n",
       "                  Estimate Std. Error z value Pr(>|z|)\n",
       "(Intercept)      -104.6782  5896.3036  -0.018    0.986\n",
       "Days_late           2.4883    78.9962   0.031    0.975\n",
       "FICO_Score         -0.5395  1527.1326   0.000    1.000\n",
       "Age                -0.4171  1063.3172   0.000    1.000\n",
       "V6                  0.7643   764.0868   0.001    0.999\n",
       "V5                  0.1327   514.8653   0.000    1.000\n",
       "Business_channel    7.3259  4626.2213   0.002    0.999\n",
       "\n",
       "(Dispersion parameter for binomial family taken to be 1)\n",
       "\n",
       "    Null deviance: 6.5735e+03  on 5999  degrees of freedom\n",
       "Residual deviance: 2.9754e-06  on 5993  degrees of freedom\n",
       "AIC: 14\n",
       "\n",
       "Number of Fisher Scoring iterations: 25\n"
      ]
     },
     "metadata": {},
     "output_type": "display_data"
    }
   ],
   "source": [
    "model1 <- glm(Default_45 ~.,family=binomial(link='logit'),data=Training)\n",
    "summary(model1)"
   ]
  },
  {
   "cell_type": "code",
   "execution_count": 146,
   "metadata": {},
   "outputs": [
    {
     "name": "stderr",
     "output_type": "stream",
     "text": [
      "Warning message:\n",
      "\"glm.fit: algorithm did not converge\"Warning message:\n",
      "\"glm.fit: fitted probabilities numerically 0 or 1 occurred\"Warning message:\n",
      "\"glm.fit: algorithm did not converge\"Warning message:\n",
      "\"glm.fit: fitted probabilities numerically 0 or 1 occurred\"Warning message:\n",
      "\"glm.fit: algorithm did not converge\"Warning message:\n",
      "\"glm.fit: fitted probabilities numerically 0 or 1 occurred\"Warning message:\n",
      "\"glm.fit: algorithm did not converge\"Warning message:\n",
      "\"glm.fit: fitted probabilities numerically 0 or 1 occurred\"Warning message:\n",
      "\"glm.fit: algorithm did not converge\"Warning message:\n",
      "\"glm.fit: fitted probabilities numerically 0 or 1 occurred\""
     ]
    },
    {
     "data": {
      "text/html": [
       "<table>\n",
       "<thead><tr><th></th><th scope=col>Df</th><th scope=col>Deviance</th><th scope=col>Resid. Df</th><th scope=col>Resid. Dev</th><th scope=col>Pr(&gt;Chi)</th></tr></thead>\n",
       "<tbody>\n",
       "\t<tr><th scope=row>NULL</th><td>NA          </td><td>          NA</td><td>5999        </td><td>6.573503e+03</td><td>       NA   </td></tr>\n",
       "\t<tr><th scope=row>Days_late</th><td> 1          </td><td>6.573503e+03</td><td>5998        </td><td>3.132550e-06</td><td>0.0000000   </td></tr>\n",
       "\t<tr><th scope=row>FICO_Score</th><td> 1          </td><td>0.000000e+00</td><td>5997        </td><td>3.136639e-06</td><td>1.0000000   </td></tr>\n",
       "\t<tr><th scope=row>Age</th><td> 1          </td><td>1.841840e-08</td><td>5996        </td><td>3.118220e-06</td><td>0.9998917   </td></tr>\n",
       "\t<tr><th scope=row>V6</th><td> 1          </td><td>0.000000e+00</td><td>5995        </td><td>3.143260e-06</td><td>1.0000000   </td></tr>\n",
       "\t<tr><th scope=row>V5</th><td> 1          </td><td>9.842771e-09</td><td>5994        </td><td>3.133417e-06</td><td>0.9999208   </td></tr>\n",
       "\t<tr><th scope=row>Business_channel</th><td> 1          </td><td>1.580447e-07</td><td>5993        </td><td>2.975372e-06</td><td>0.9996828   </td></tr>\n",
       "</tbody>\n",
       "</table>\n"
      ],
      "text/latex": [
       "\\begin{tabular}{r|lllll}\n",
       "  & Df & Deviance & Resid. Df & Resid. Dev & Pr(>Chi)\\\\\n",
       "\\hline\n",
       "\tNULL & NA           &           NA & 5999         & 6.573503e+03 &        NA   \\\\\n",
       "\tDays\\_late &  1           & 6.573503e+03 & 5998         & 3.132550e-06 & 0.0000000   \\\\\n",
       "\tFICO\\_Score &  1           & 0.000000e+00 & 5997         & 3.136639e-06 & 1.0000000   \\\\\n",
       "\tAge &  1           & 1.841840e-08 & 5996         & 3.118220e-06 & 0.9998917   \\\\\n",
       "\tV6 &  1           & 0.000000e+00 & 5995         & 3.143260e-06 & 1.0000000   \\\\\n",
       "\tV5 &  1           & 9.842771e-09 & 5994         & 3.133417e-06 & 0.9999208   \\\\\n",
       "\tBusiness\\_channel &  1           & 1.580447e-07 & 5993         & 2.975372e-06 & 0.9996828   \\\\\n",
       "\\end{tabular}\n"
      ],
      "text/markdown": [
       "\n",
       "| <!--/--> | Df | Deviance | Resid. Df | Resid. Dev | Pr(>Chi) |\n",
       "|---|---|---|---|---|---|\n",
       "| NULL | NA           |           NA | 5999         | 6.573503e+03 |        NA    |\n",
       "| Days_late |  1           | 6.573503e+03 | 5998         | 3.132550e-06 | 0.0000000    |\n",
       "| FICO_Score |  1           | 0.000000e+00 | 5997         | 3.136639e-06 | 1.0000000    |\n",
       "| Age |  1           | 1.841840e-08 | 5996         | 3.118220e-06 | 0.9998917    |\n",
       "| V6 |  1           | 0.000000e+00 | 5995         | 3.143260e-06 | 1.0000000    |\n",
       "| V5 |  1           | 9.842771e-09 | 5994         | 3.133417e-06 | 0.9999208    |\n",
       "| Business_channel |  1           | 1.580447e-07 | 5993         | 2.975372e-06 | 0.9996828    |\n",
       "\n"
      ],
      "text/plain": [
       "                 Df Deviance     Resid. Df Resid. Dev   Pr(>Chi) \n",
       "NULL             NA           NA 5999      6.573503e+03        NA\n",
       "Days_late         1 6.573503e+03 5998      3.132550e-06 0.0000000\n",
       "FICO_Score        1 0.000000e+00 5997      3.136639e-06 1.0000000\n",
       "Age               1 1.841840e-08 5996      3.118220e-06 0.9998917\n",
       "V6                1 0.000000e+00 5995      3.143260e-06 1.0000000\n",
       "V5                1 9.842771e-09 5994      3.133417e-06 0.9999208\n",
       "Business_channel  1 1.580447e-07 5993      2.975372e-06 0.9996828"
      ]
     },
     "metadata": {},
     "output_type": "display_data"
    }
   ],
   "source": [
    "anova(model1, test=\"Chisq\")"
   ]
  },
  {
   "cell_type": "code",
   "execution_count": 147,
   "metadata": {},
   "outputs": [
    {
     "data": {
      "text/html": [
       "1"
      ],
      "text/latex": [
       "1"
      ],
      "text/markdown": [
       "1"
      ],
      "text/plain": [
       "[1] 1"
      ]
     },
     "metadata": {},
     "output_type": "display_data"
    },
    {
     "data": {
      "image/png": "[encoded data removed]",
      "text/plain": [
       "plot without title"
      ]
     },
     "metadata": {},
     "output_type": "display_data"
    }
   ],
   "source": [
    "p <- predict(model1, newdata= Validation, type=\"response\")\n",
    "pr <- prediction(p, Validation$Default_45)\n",
    "prf <- performance(pr, measure = \"tpr\", x.measure = \"fpr\")\n",
    "plot(prf)\n",
    "\n",
    "auc <- performance(pr, measure = \"auc\")\n",
    "auc <- auc@y.values[[1]]\n",
    "auc"
   ]
  },
  {
   "cell_type": "markdown",
   "metadata": {},
   "source": [
    "DECISION TREE"
   ]
  },
  {
   "cell_type": "code",
   "execution_count": 157,
   "metadata": {},
   "outputs": [
    {
     "name": "stderr",
     "output_type": "stream",
     "text": [
      "Installing package into 'C:/Users/kgupta/Documents/R/win-library/3.6'\n",
      "(as 'lib' is unspecified)\n",
      "also installing the dependency 'inum'\n",
      "\n"
     ]
    },
    {
     "name": "stdout",
     "output_type": "stream",
     "text": [
      "package 'inum' successfully unpacked and MD5 sums checked\n",
      "package 'partykit' successfully unpacked and MD5 sums checked\n",
      "\n",
      "The downloaded binary packages are in\n",
      "\tC:\\Users\\kgupta\\AppData\\Local\\Temp\\RtmpkrSyed\\downloaded_packages\n"
     ]
    },
    {
     "name": "stderr",
     "output_type": "stream",
     "text": [
      "Warning message:\n",
      "\"package 'partykit' was built under R version 3.6.3\"Loading required package: grid\n",
      "Loading required package: libcoin\n",
      "Warning message:\n",
      "\"package 'libcoin' was built under R version 3.6.3\"Loading required package: mvtnorm\n",
      "Warning message:\n",
      "\"package 'mvtnorm' was built under R version 3.6.2\""
     ]
    }
   ],
   "source": [
    "install.packages(\"partykit\")\n",
    "library(partykit)\n",
    "library(caret)"
   ]
  },
  {
   "cell_type": "code",
   "execution_count": 163,
   "metadata": {},
   "outputs": [
    {
     "name": "stderr",
     "output_type": "stream",
     "text": [
      "Installing package into 'C:/Users/kgupta/Documents/R/win-library/3.6'\n",
      "(as 'lib' is unspecified)\n"
     ]
    },
    {
     "name": "stdout",
     "output_type": "stream",
     "text": [
      "package 'rpart.plot' successfully unpacked and MD5 sums checked\n",
      "\n",
      "The downloaded binary packages are in\n",
      "\tC:\\Users\\kgupta\\AppData\\Local\\Temp\\RtmpkrSyed\\downloaded_packages\n"
     ]
    },
    {
     "name": "stderr",
     "output_type": "stream",
     "text": [
      "Warning message:\n",
      "\"package 'rpart.plot' was built under R version 3.6.3\"Loading required package: rpart\n"
     ]
    }
   ],
   "source": [
    "install.packages(\"rpart.plot\")\n",
    "library(rpart.plot)"
   ]
  },
  {
   "cell_type": "code",
   "execution_count": 165,
   "metadata": {},
   "outputs": [
    {
     "data": {
      "image/png": "[encoded data removed]",
      "text/plain": [
       "plot without title"
      ]
     },
     "metadata": {},
     "output_type": "display_data"
    }
   ],
   "source": [
    "library(rpart)\n",
    "fit <- rpart( ~., data = Training, method = 'class')\n",
    "rpart.plotDefault_45(fit)"
   ]
  },
  {
   "cell_type": "code",
   "execution_count": 172,
   "metadata": {},
   "outputs": [
    {
     "name": "stdout",
     "output_type": "stream",
     "text": [
      "[1] \"Accuracy for Validation 1\"\n"
     ]
    }
   ],
   "source": [
    "predict_unseen <-predict(fit, Validation, type = 'class')\n",
    "accuracy_Validation <- sum(diag(table_mat)) / sum(table_mat)\n",
    "print(paste('Accuracy for Validation', accuracy_Validation))"
   ]
  },
  {
   "cell_type": "code",
   "execution_count": 173,
   "metadata": {},
   "outputs": [
    {
     "data": {
      "image/png": "[encoded data removed]",
      "text/plain": [
       "plot without title"
      ]
     },
     "metadata": {},
     "output_type": "display_data"
    }
   ],
   "source": [
    "plot(accuracy_Validation)\n"
   ]
  },
  {
   "cell_type": "markdown",
   "metadata": {},
   "source": [
    "REJECTS DATA (creating scorecard)"
   ]
  },
  {
   "cell_type": "markdown",
   "metadata": {},
   "source": [
    "Visualizations"
   ]
  },
  {
   "cell_type": "code",
   "execution_count": 174,
   "metadata": {},
   "outputs": [
    {
     "data": {
      "image/png": "[encoded data removed]",
      "text/plain": [
       "Plot with title \"Histogram of Rejects$Has_FICO\""
      ]
     },
     "metadata": {},
     "output_type": "display_data"
    },
    {
     "data": {
      "image/png": "[encoded data removed]",
      "text/plain": [
       "Plot with title \"Histogram of Rejects$Has_FICO\""
      ]
     },
     "metadata": {},
     "output_type": "display_data"
    },
    {
     "data": {
      "image/png": "[encoded data removed]",
      "text/plain": [
       "Plot with title \"Histogram of Rejects$Business_channel\""
      ]
     },
     "metadata": {},
     "output_type": "display_data"
    },
    {
     "data": {
      "image/png": "[encoded data removed]",
      "text/plain": [
       "Plot with title \"Histogram of Rejects$Business_channel\""
      ]
     },
     "metadata": {},
     "output_type": "display_data"
    }
   ],
   "source": [
    "# Histogram for selected variables from the accepts dataset\n",
    "Rh1 <- hist(Rejects$Has_FICO)\n",
    "plot(Rh1)\n",
    "Rh2 <- hist(Rejects$Business_channel)\n",
    "plot(Rh2)\n"
   ]
  },
  {
   "cell_type": "code",
   "execution_count": 175,
   "metadata": {},
   "outputs": [
    {
     "data": {
      "text/plain": [
       "Rejects$Age \n",
       "       n  missing distinct     Info     Mean      Gmd      .05      .10 \n",
       "    5000        0       50    0.999 -0.05859    1.116  -1.4386  -1.2888 \n",
       "     .25      .50      .75      .90      .95 \n",
       " -0.9145  -0.1657   0.5830   1.4815   1.7062 \n",
       "\n",
       "lowest : -1.588346 -1.513471 -1.438596 -1.363721 -1.288845\n",
       "highest:  1.781040  1.855915  1.930790  2.005666  2.080541"
      ]
     },
     "metadata": {},
     "output_type": "display_data"
    },
    {
     "data": {
      "text/plain": [
       "Rejects$Loan_amount \n",
       "       n  missing distinct     Info     Mean      Gmd      .05      .10 \n",
       "    5000        0      460    0.991 -0.04345   0.8812  -0.9057  -0.8527 \n",
       "     .25      .50      .75      .90      .95 \n",
       " -0.6764  -0.3239   0.2929   0.7335   1.6148 \n",
       "\n",
       "lowest : -1.117017 -1.108381 -1.106971 -1.099569 -1.095867\n",
       "highest:  5.139636  5.315880  5.492124  5.668368  5.844611"
      ]
     },
     "metadata": {},
     "output_type": "display_data"
    },
    {
     "data": {
      "text/plain": [
       "Rejects$Monthly_income \n",
       "       n  missing distinct     Info     Mean      Gmd      .05      .10 \n",
       "    5000        0     1803        1  0.09731   0.7468  -0.5510  -0.5059 \n",
       "     .25      .50      .75      .90      .95 \n",
       " -0.4022  -0.1610   0.2909   0.9312   1.6072 \n",
       "\n",
       "lowest : -0.7031272 -0.7008732 -0.6986192 -0.6974922 -0.6963651\n",
       "highest: 10.8476135 12.2518698 13.0080945 14.4946227 29.3182047"
      ]
     },
     "metadata": {},
     "output_type": "display_data"
    }
   ],
   "source": [
    "#CALCULATE STATISTICS FOR AGE, LOAN AMOUNT AND MONTHLY INCOME\n",
    "describe(Rejects$Age)\n",
    "describe(Rejects$Loan_amount)\n",
    "describe(Rejects$Monthly_income)"
   ]
  },
  {
   "cell_type": "code",
   "execution_count": 176,
   "metadata": {},
   "outputs": [
    {
     "name": "stderr",
     "output_type": "stream",
     "text": [
      "Warning message:\n",
      "\"Unknown or uninitialised column: 'arguments'.\"Warning message:\n",
      "\"Unknown or uninitialised column: 'arguments'.\"Warning message:\n",
      "\"Unknown or uninitialised column: 'imputations'.\""
     ]
    },
    {
     "data": {
      "image/png": "[encoded data removed]",
      "text/plain": [
       "Plot with title \"Missingness Map\""
      ]
     },
     "metadata": {},
     "output_type": "display_data"
    }
   ],
   "source": [
    "# Missing plot to represent missing values in a visualized form for selected variables\n",
    "missmap(Rejects , col=c(\"black\", \"grey\"), legend=FALSE)\n"
   ]
  },
  {
   "cell_type": "markdown",
   "metadata": {},
   "source": [
    "Data preprocessing"
   ]
  },
  {
   "cell_type": "code",
   "execution_count": 178,
   "metadata": {},
   "outputs": [
    {
     "data": {
      "text/html": [
       "0"
      ],
      "text/latex": [
       "0"
      ],
      "text/markdown": [
       "0"
      ],
      "text/plain": [
       "[1] 0"
      ]
     },
     "metadata": {},
     "output_type": "display_data"
    }
   ],
   "source": [
    "#Check the count of NA values in the dataframe\n",
    "sum(is.na(Rejects$FICO_Score))"
   ]
  },
  {
   "cell_type": "code",
   "execution_count": 179,
   "metadata": {},
   "outputs": [
    {
     "name": "stderr",
     "output_type": "stream",
     "text": [
      "Warning message:\n",
      "\"na.replace will replaced by na_replace.\n",
      "    Functionality stays the same.\n",
      "    The new function name better fits modern R code style guidelines.\n",
      "    Please adjust your code accordingly.\""
     ]
    }
   ],
   "source": [
    "#Replaced all NA values with 0\n",
    "Rejects$FICO_Score <- na.replace(Rejects$FICO_Score, 0)"
   ]
  },
  {
   "cell_type": "code",
   "execution_count": 180,
   "metadata": {},
   "outputs": [
    {
     "data": {
      "image/png": "[encoded data removed]",
      "text/plain": [
       "plot without title"
      ]
     },
     "metadata": {},
     "output_type": "display_data"
    },
    {
     "data": {
      "image/png": "[encoded data removed]",
      "text/plain": [
       "plot without title"
      ]
     },
     "metadata": {},
     "output_type": "display_data"
    },
    {
     "data": {
      "image/png": "[encoded data removed]",
      "text/plain": [
       "plot without title"
      ]
     },
     "metadata": {},
     "output_type": "display_data"
    },
    {
     "data": {
      "image/png": "[encoded data removed]",
      "text/plain": [
       "plot without title"
      ]
     },
     "metadata": {},
     "output_type": "display_data"
    },
    {
     "data": {
      "image/png": "[encoded data removed]",
      "text/plain": [
       "plot without title"
      ]
     },
     "metadata": {},
     "output_type": "display_data"
    },
    {
     "data": {
      "image/png": "[encoded data removed]",
      "text/plain": [
       "plot without title"
      ]
     },
     "metadata": {},
     "output_type": "display_data"
    },
    {
     "data": {
      "image/png": "[encoded data removed]",
      "text/plain": [
       "plot without title"
      ]
     },
     "metadata": {},
     "output_type": "display_data"
    }
   ],
   "source": [
    "#outlier detection in the dataset\n",
    "rb1 <- boxplot(Rejects$Max_gearing_ratio)\n",
    "rb2 <- boxplot(Rejects$Age)\n",
    "rb3 <- boxplot(Rejects$Monthly_income)  # with outlier\n",
    "rb4 <- boxplot(Rejects$Loan_amount)  # with otulier\n",
    "rb5 <- boxplot(Rejects$FICO_Score) # with outlier\n",
    "rb6 <- boxplot(Rejects$Business_channel) # With outlier\n",
    "rb7 <- boxplot(Rejects$Has_FICO)"
   ]
  },
  {
   "cell_type": "code",
   "execution_count": 181,
   "metadata": {},
   "outputs": [
    {
     "data": {
      "text/html": [
       "<table>\n",
       "<thead><tr><th scope=col>ID</th><th scope=col>V1</th><th scope=col>V2</th><th scope=col>V3</th><th scope=col>V4</th><th scope=col>V5</th><th scope=col>V6</th><th scope=col>V7</th><th scope=col>V8</th><th scope=col>Has_FICO</th><th scope=col>Business_channel</th><th scope=col>Days_late</th><th scope=col>FICO_Score</th><th scope=col>Loan_amount</th><th scope=col>Monthly_income</th><th scope=col>Age</th><th scope=col>Gearing_coefficient</th><th scope=col>Max_gearing_ratio</th><th scope=col>Default_45</th></tr></thead>\n",
       "<tbody>\n",
       "</tbody>\n",
       "</table>\n"
      ],
      "text/latex": [
       "\\begin{tabular}{r|lllllllllllllllllll}\n",
       " ID & V1 & V2 & V3 & V4 & V5 & V6 & V7 & V8 & Has\\_FICO & Business\\_channel & Days\\_late & FICO\\_Score & Loan\\_amount & Monthly\\_income & Age & Gearing\\_coefficient & Max\\_gearing\\_ratio & Default\\_45\\\\\n",
       "\\hline\n",
       "\\end{tabular}\n"
      ],
      "text/markdown": [
       "\n",
       "| ID | V1 | V2 | V3 | V4 | V5 | V6 | V7 | V8 | Has_FICO | Business_channel | Days_late | FICO_Score | Loan_amount | Monthly_income | Age | Gearing_coefficient | Max_gearing_ratio | Default_45 |\n",
       "|---|---|---|---|---|---|---|---|---|---|---|---|---|---|---|---|---|---|---|\n",
       "\n"
      ],
      "text/plain": [
       "     ID V1 V2 V3 V4 V5 V6 V7 V8 Has_FICO Business_channel Days_late FICO_Score\n",
       "     Loan_amount Monthly_income Age Gearing_coefficient Max_gearing_ratio\n",
       "     Default_45"
      ]
     },
     "metadata": {},
     "output_type": "display_data"
    },
    {
     "data": {
      "text/html": [
       "<table>\n",
       "<thead><tr><th scope=col>ID</th><th scope=col>V1</th><th scope=col>V2</th><th scope=col>V3</th><th scope=col>V4</th><th scope=col>V5</th><th scope=col>V6</th><th scope=col>V7</th><th scope=col>V8</th><th scope=col>Has_FICO</th><th scope=col>Business_channel</th><th scope=col>Days_late</th><th scope=col>FICO_Score</th><th scope=col>Loan_amount</th><th scope=col>Monthly_income</th><th scope=col>Age</th><th scope=col>Gearing_coefficient</th><th scope=col>Max_gearing_ratio</th><th scope=col>Default_45</th></tr></thead>\n",
       "<tbody>\n",
       "</tbody>\n",
       "</table>\n"
      ],
      "text/latex": [
       "\\begin{tabular}{r|lllllllllllllllllll}\n",
       " ID & V1 & V2 & V3 & V4 & V5 & V6 & V7 & V8 & Has\\_FICO & Business\\_channel & Days\\_late & FICO\\_Score & Loan\\_amount & Monthly\\_income & Age & Gearing\\_coefficient & Max\\_gearing\\_ratio & Default\\_45\\\\\n",
       "\\hline\n",
       "\\end{tabular}\n"
      ],
      "text/markdown": [
       "\n",
       "| ID | V1 | V2 | V3 | V4 | V5 | V6 | V7 | V8 | Has_FICO | Business_channel | Days_late | FICO_Score | Loan_amount | Monthly_income | Age | Gearing_coefficient | Max_gearing_ratio | Default_45 |\n",
       "|---|---|---|---|---|---|---|---|---|---|---|---|---|---|---|---|---|---|---|\n",
       "\n"
      ],
      "text/plain": [
       "     ID V1 V2 V3 V4 V5 V6 V7 V8 Has_FICO Business_channel Days_late FICO_Score\n",
       "     Loan_amount Monthly_income Age Gearing_coefficient Max_gearing_ratio\n",
       "     Default_45"
      ]
     },
     "metadata": {},
     "output_type": "display_data"
    },
    {
     "data": {
      "text/html": [
       "<table>\n",
       "<thead><tr><th scope=col>ID</th><th scope=col>V1</th><th scope=col>V2</th><th scope=col>V3</th><th scope=col>V4</th><th scope=col>V5</th><th scope=col>V6</th><th scope=col>V7</th><th scope=col>V8</th><th scope=col>Has_FICO</th><th scope=col>Business_channel</th><th scope=col>Days_late</th><th scope=col>FICO_Score</th><th scope=col>Loan_amount</th><th scope=col>Monthly_income</th><th scope=col>Age</th><th scope=col>Gearing_coefficient</th><th scope=col>Max_gearing_ratio</th><th scope=col>Default_45</th></tr></thead>\n",
       "<tbody>\n",
       "</tbody>\n",
       "</table>\n"
      ],
      "text/latex": [
       "\\begin{tabular}{r|lllllllllllllllllll}\n",
       " ID & V1 & V2 & V3 & V4 & V5 & V6 & V7 & V8 & Has\\_FICO & Business\\_channel & Days\\_late & FICO\\_Score & Loan\\_amount & Monthly\\_income & Age & Gearing\\_coefficient & Max\\_gearing\\_ratio & Default\\_45\\\\\n",
       "\\hline\n",
       "\\end{tabular}\n"
      ],
      "text/markdown": [
       "\n",
       "| ID | V1 | V2 | V3 | V4 | V5 | V6 | V7 | V8 | Has_FICO | Business_channel | Days_late | FICO_Score | Loan_amount | Monthly_income | Age | Gearing_coefficient | Max_gearing_ratio | Default_45 |\n",
       "|---|---|---|---|---|---|---|---|---|---|---|---|---|---|---|---|---|---|---|\n",
       "\n"
      ],
      "text/plain": [
       "     ID V1 V2 V3 V4 V5 V6 V7 V8 Has_FICO Business_channel Days_late FICO_Score\n",
       "     Loan_amount Monthly_income Age Gearing_coefficient Max_gearing_ratio\n",
       "     Default_45"
      ]
     },
     "metadata": {},
     "output_type": "display_data"
    },
    {
     "data": {
      "text/html": [
       "<table>\n",
       "<thead><tr><th scope=col>ID</th><th scope=col>V1</th><th scope=col>V2</th><th scope=col>V3</th><th scope=col>V4</th><th scope=col>V5</th><th scope=col>V6</th><th scope=col>V7</th><th scope=col>V8</th><th scope=col>Has_FICO</th><th scope=col>Business_channel</th><th scope=col>Days_late</th><th scope=col>FICO_Score</th><th scope=col>Loan_amount</th><th scope=col>Monthly_income</th><th scope=col>Age</th><th scope=col>Gearing_coefficient</th><th scope=col>Max_gearing_ratio</th><th scope=col>Default_45</th></tr></thead>\n",
       "<tbody>\n",
       "\t<tr><td>250249     </td><td>2          </td><td>3          </td><td>11         </td><td>5          </td><td>7          </td><td>7          </td><td>1          </td><td>2          </td><td>1          </td><td>1          </td><td>  0        </td><td>-0.2417306 </td><td>-0.85265110</td><td>-0.73242952</td><td> 1.40666366</td><td> 1.12292973</td><td>-0.7686307 </td><td>0          </td></tr>\n",
       "\t<tr><td>249827     </td><td>1          </td><td>3          </td><td> 5         </td><td>2          </td><td>4          </td><td>4          </td><td>1          </td><td>3          </td><td>0          </td><td>1          </td><td>  0        </td><td> 0.0000000 </td><td>-0.41204172</td><td>-0.57464791</td><td>-0.39034236</td><td> 0.91007667</td><td>-0.7686307 </td><td>0          </td></tr>\n",
       "\t<tr><td>250415     </td><td>3          </td><td>3          </td><td>14         </td><td>1          </td><td>4          </td><td>4          </td><td>3          </td><td>1          </td><td>0          </td><td>1          </td><td>  0        </td><td> 0.0000000 </td><td>-0.23579797</td><td>-0.76623986</td><td>-0.31546711</td><td> 1.02395306</td><td>-0.7686307 </td><td>0          </td></tr>\n",
       "\t<tr><td>250321     </td><td>1          </td><td>4          </td><td>15         </td><td>2          </td><td>2          </td><td>4          </td><td>1          </td><td>2          </td><td>0          </td><td>1          </td><td>  0        </td><td> 0.0000000 </td><td>-0.05955422</td><td>-0.67269791</td><td>-0.01596610</td><td> 0.89624122</td><td>-0.7686307 </td><td>0          </td></tr>\n",
       "\t<tr><td>250523     </td><td>2          </td><td>4          </td><td>11         </td><td>5          </td><td>7          </td><td>7          </td><td>1          </td><td>1          </td><td>0          </td><td>1          </td><td>  0        </td><td> 0.0000000 </td><td> 0.02856766</td><td>-0.48899504</td><td> 1.18203790</td><td> 1.01437467</td><td>-0.7686307 </td><td>0          </td></tr>\n",
       "\t<tr><td>250566     </td><td>1          </td><td>4          </td><td>10         </td><td>5          </td><td>7          </td><td>7          </td><td>1          </td><td>2          </td><td>1          </td><td>1          </td><td> 15        </td><td> 1.5230385 </td><td>-0.14767609</td><td>-0.26021170</td><td> 0.95741215</td><td> 1.05949952</td><td> 0.5139798 </td><td>0          </td></tr>\n",
       "\t<tr><td>250559     </td><td>1          </td><td>3          </td><td> 2         </td><td>1          </td><td>4          </td><td>5          </td><td>1          </td><td>2          </td><td>0          </td><td>1          </td><td>  0        </td><td> 0.0000000 </td><td>-0.32391985</td><td>-0.67269791</td><td> 0.50816065</td><td> 0.02460797</td><td>-0.7686307 </td><td>0          </td></tr>\n",
       "\t<tr><td>250578     </td><td>4          </td><td>3          </td><td>13         </td><td>1          </td><td>3          </td><td>5          </td><td>3          </td><td>1          </td><td>1          </td><td>1          </td><td>  0        </td><td>-1.1116873 </td><td>-0.14767609</td><td>-0.70087319</td><td>-1.13909486</td><td> 0.80790721</td><td>-0.7686307 </td><td>0          </td></tr>\n",
       "\t<tr><td>250520     </td><td>1          </td><td>3          </td><td>11         </td><td>5          </td><td>7          </td><td>7          </td><td>1          </td><td>2          </td><td>0          </td><td>1          </td><td>  0        </td><td> 0.0000000 </td><td>-0.23579797</td><td>-0.78201802</td><td> 1.78103991</td><td> 0.95903287</td><td>-0.7686307 </td><td>0          </td></tr>\n",
       "\t<tr><td>250713     </td><td>1          </td><td>4          </td><td> 3         </td><td>4          </td><td>3          </td><td>4          </td><td>1          </td><td>2          </td><td>1          </td><td>1          </td><td>  0        </td><td> 0.6530819 </td><td>-0.58828547</td><td>-0.12609734</td><td> 0.65791115</td><td>-0.93280507</td><td> 0.5139798 </td><td>0          </td></tr>\n",
       "\t<tr><td>250699     </td><td>1          </td><td>1          </td><td>13         </td><td>4          </td><td>5          </td><td>1          </td><td>1          </td><td>2          </td><td>0          </td><td>1          </td><td>  0        </td><td> 0.0000000 </td><td>-0.79977798</td><td> 1.05162967</td><td> 0.05890915</td><td>-1.34048962</td><td> 1.7965902 </td><td>0          </td></tr>\n",
       "\t<tr><td>250596     </td><td>3          </td><td>5          </td><td>11         </td><td>4          </td><td>2          </td><td>5          </td><td>3          </td><td>1          </td><td>1          </td><td>1          </td><td>  0        </td><td>-0.5772853 </td><td>-0.32391985</td><td>-0.60620423</td><td>-1.43859586</td><td> 0.26832471</td><td>-0.7686307 </td><td>0          </td></tr>\n",
       "\t<tr><td>250743     </td><td>1          </td><td>3          </td><td>11         </td><td>1          </td><td>3          </td><td>4          </td><td>3          </td><td>2          </td><td>0          </td><td>1          </td><td>  0        </td><td> 0.0000000 </td><td>-0.05955422</td><td>-0.67269791</td><td>-1.28884536</td><td> 0.89624122</td><td>-0.7686307 </td><td>0          </td></tr>\n",
       "\t<tr><td>250896     </td><td>1          </td><td>3          </td><td>14         </td><td>1          </td><td>2          </td><td>5          </td><td>1          </td><td>2          </td><td>0          </td><td>1          </td><td>  0        </td><td> 0.0000000 </td><td>-0.23579797</td><td>-0.66931687</td><td>-0.91446911</td><td> 0.77278645</td><td>-0.7686307 </td><td>0          </td></tr>\n",
       "\t<tr><td>250810     </td><td>1          </td><td>4          </td><td>11         </td><td>5          </td><td>7          </td><td>7          </td><td>1          </td><td>2          </td><td>1          </td><td>2          </td><td>  0        </td><td> 1.1253440 </td><td> 1.35039580</td><td>-0.50477320</td><td> 1.70616466</td><td> 0.91859079</td><td> 1.7965902 </td><td>0          </td></tr>\n",
       "\t<tr><td>251047     </td><td>3          </td><td>3          </td><td>10         </td><td>3          </td><td>5          </td><td>5          </td><td>1          </td><td>1          </td><td>1          </td><td>3          </td><td> 15        </td><td>-0.3908661 </td><td>-0.87908767</td><td> 0.44304346</td><td>-1.36372061</td><td> 0.86324900</td><td> 1.7965902 </td><td>0          </td></tr>\n",
       "\t<tr><td>250969     </td><td>3          </td><td>3          </td><td>14         </td><td>1          </td><td>4          </td><td>5          </td><td>3          </td><td>1          </td><td>0          </td><td>3          </td><td>  0        </td><td> 0.0000000 </td><td>-0.76153308</td><td>-0.66368182</td><td>-1.21397011</td><td> 0.26087486</td><td>-0.7686307 </td><td>0          </td></tr>\n",
       "\t<tr><td>251157     </td><td>4          </td><td>3          </td><td>10         </td><td>4          </td><td>2          </td><td>4          </td><td>1          </td><td>1          </td><td>0          </td><td>2          </td><td>  0        </td><td> 0.0000000 </td><td>-0.32391985</td><td>-0.16666975</td><td>-0.54009286</td><td>-1.75612068</td><td> 0.5139798 </td><td>0          </td></tr>\n",
       "\t<tr><td>250768     </td><td>1          </td><td>5          </td><td>10         </td><td>2          </td><td>5          </td><td>5          </td><td>1          </td><td>3          </td><td>0          </td><td>1          </td><td> 76        </td><td> 0.0000000 </td><td>-0.14767609</td><td> 0.08127278</td><td>-0.01596610</td><td>-1.36447106</td><td> 0.5139798 </td><td>1          </td></tr>\n",
       "\t<tr><td>251048     </td><td>4          </td><td>3          </td><td>10         </td><td>4          </td><td>2          </td><td>5          </td><td>1          </td><td>1          </td><td>1          </td><td>1          </td><td>107        </td><td> 0.1311079 </td><td> 1.43851768</td><td> 0.36527967</td><td>-1.13909486</td><td>-0.91904057</td><td> 1.7965902 </td><td>1          </td></tr>\n",
       "\t<tr><td>251196     </td><td>1          </td><td>4          </td><td>15         </td><td>1          </td><td>3          </td><td>4          </td><td>2          </td><td>4          </td><td>1          </td><td>1          </td><td>153        </td><td>-1.3975301 </td><td>-0.32391985</td><td>-0.67269791</td><td>-0.46521761</td><td> 0.91326947</td><td>-0.7686307 </td><td>1          </td></tr>\n",
       "\t<tr><td>251026     </td><td>3          </td><td>3          </td><td>11         </td><td>2          </td><td>4          </td><td>5          </td><td>3          </td><td>1          </td><td>0          </td><td>1          </td><td> 15        </td><td> 0.0000000 </td><td>-0.50016360</td><td>-0.61409331</td><td>-1.21397011</td><td>-0.80339041</td><td>-0.7686307 </td><td>0          </td></tr>\n",
       "\t<tr><td>251461     </td><td>1          </td><td>4          </td><td> 3         </td><td>5          </td><td>4          </td><td>4          </td><td>1          </td><td>2          </td><td>0          </td><td>3          </td><td>  0        </td><td> 0.0000000 </td><td>-0.81916479</td><td>-0.25006860</td><td> 0.28353490</td><td>-1.41321441</td><td>-0.7686307 </td><td>0          </td></tr>\n",
       "\t<tr><td>250659     </td><td>1          </td><td>4          </td><td>11         </td><td>4          </td><td>6          </td><td>4          </td><td>3          </td><td>3          </td><td>1          </td><td>2          </td><td>  0        </td><td>-0.2914424 </td><td> 1.61476143</td><td> 3.90184171</td><td>-0.24059186</td><td>-1.33197550</td><td> 1.7965902 </td><td>0          </td></tr>\n",
       "\t<tr><td>250978     </td><td>1          </td><td>3          </td><td> 4         </td><td>4          </td><td>3          </td><td>2          </td><td>1          </td><td>2          </td><td>1          </td><td>1          </td><td>  0        </td><td>-0.9128400 </td><td> 1.61476143</td><td> 0.43515438</td><td>-0.31546711</td><td> 0.59008758</td><td> 1.7965902 </td><td>0          </td></tr>\n",
       "\t<tr><td>251109     </td><td>1          </td><td>3          </td><td>10         </td><td>4          </td><td>3          </td><td>4          </td><td>1          </td><td>2          </td><td>1          </td><td>2          </td><td> 76        </td><td>-0.5151456 </td><td> 0.38105516</td><td> 0.26497565</td><td>-1.28884536</td><td> 0.79300749</td><td> 1.7965902 </td><td>1          </td></tr>\n",
       "\t<tr><td>251273     </td><td>1          </td><td>1          </td><td> 8         </td><td>1          </td><td>3          </td><td>4          </td><td>3          </td><td>3          </td><td>1          </td><td>1          </td><td>  0        </td><td> 1.6597460 </td><td>-0.72928048</td><td>-0.98262607</td><td>-0.68984336</td><td> 1.05268822</td><td>-0.7686307 </td><td>0          </td></tr>\n",
       "\t<tr><td>251834     </td><td>2          </td><td>4          </td><td>11         </td><td>5          </td><td>7          </td><td>7          </td><td>1          </td><td>1          </td><td>1          </td><td>1          </td><td>  0        </td><td> 1.2744795 </td><td>-0.81740235</td><td>-0.56788584</td><td> 1.70616466</td><td>-0.75124141</td><td>-0.7686307 </td><td>0          </td></tr>\n",
       "\t<tr><td>251542     </td><td>1          </td><td>3          </td><td>10         </td><td>4          </td><td>4          </td><td>5          </td><td>1          </td><td>3          </td><td>0          </td><td>1          </td><td>  0        </td><td> 0.0000000 </td><td> 0.55729892</td><td>-0.31092722</td><td>-0.54009286</td><td> 0.52161985</td><td>-0.7686307 </td><td>0          </td></tr>\n",
       "\t<tr><td>251516     </td><td>1          </td><td>3          </td><td>10         </td><td>4          </td><td>6          </td><td>4          </td><td>1          </td><td>3          </td><td>1          </td><td>2          </td><td>  0        </td><td>-0.2044468 </td><td> 0.11668954</td><td>-0.09228699</td><td> 0.13378440</td><td> 0.81684703</td><td> 0.5139798 </td><td>0          </td></tr>\n",
       "\t<tr><td>...</td><td>...</td><td>...</td><td>...</td><td>...</td><td>...</td><td>...</td><td>...</td><td>...</td><td>...</td><td>...</td><td>...</td><td>...</td><td>...</td><td>...</td><td>...</td><td>...</td><td>...</td><td>...</td></tr>\n",
       "\t<tr><td>305655      </td><td>3           </td><td>5           </td><td>10          </td><td>3           </td><td>2           </td><td>5           </td><td>3           </td><td>3           </td><td>1           </td><td>1           </td><td>107         </td><td>-0.9749798  </td><td> 0.5572989  </td><td>-0.207242164</td><td>-0.31546711 </td><td> 0.09740371 </td><td> 0.5139798  </td><td>1           </td></tr>\n",
       "\t<tr><td>304997      </td><td>1           </td><td>3           </td><td>11          </td><td>4           </td><td>3           </td><td>5           </td><td>1           </td><td>3           </td><td>1           </td><td>1           </td><td>  0         </td><td>-1.0619754  </td><td> 1.4385177  </td><td> 0.008017030</td><td>-1.13909486 </td><td> 0.63294200 </td><td> 0.5139798  </td><td>0           </td></tr>\n",
       "\t<tr><td>305752      </td><td>1           </td><td>3           </td><td>15          </td><td>1           </td><td>6           </td><td>1           </td><td>1           </td><td>3           </td><td>1           </td><td>1           </td><td>  0         </td><td> 0.8022173  </td><td> 3.2009552  </td><td>-0.467581817</td><td> 0.35841015 </td><td> 0.66884321 </td><td> 1.7965902  </td><td>0           </td></tr>\n",
       "\t<tr><td>305832      </td><td>3           </td><td>3           </td><td>10          </td><td>4           </td><td>1           </td><td>4           </td><td>3           </td><td>1           </td><td>0           </td><td>1           </td><td>137         </td><td> 0.0000000  </td><td>-0.6764074  </td><td> 0.394581970</td><td>-0.83959386 </td><td>-2.04077617 </td><td> 1.7965902  </td><td>1           </td></tr>\n",
       "\t<tr><td>305830      </td><td>3           </td><td>2           </td><td>11          </td><td>2           </td><td>3           </td><td>4           </td><td>3           </td><td>1           </td><td>0           </td><td>1           </td><td> 45         </td><td> 0.0000000  </td><td>-0.8526511  </td><td>-0.464200783</td><td> 0.13378440 </td><td> 0.26832471 </td><td>-0.7686307  </td><td>1           </td></tr>\n",
       "\t<tr><td>305495      </td><td>1           </td><td>4           </td><td>11          </td><td>2           </td><td>1           </td><td>5           </td><td>1           </td><td>3           </td><td>1           </td><td>2           </td><td>  0         </td><td>-1.3726742  </td><td> 0.5572989  </td><td> 0.001254961</td><td> 0.28353490 </td><td>-0.80083618 </td><td> 0.5139798  </td><td>0           </td></tr>\n",
       "\t<tr><td>305758      </td><td>2           </td><td>1           </td><td> 5          </td><td>4           </td><td>1           </td><td>4           </td><td>1           </td><td>1           </td><td>1           </td><td>1           </td><td>198         </td><td>-1.0744034  </td><td> 1.0860302  </td><td> 0.289769902</td><td> 1.33178840 </td><td> 0.12890596 </td><td> 1.7965902  </td><td>1           </td></tr>\n",
       "\t<tr><td>305824      </td><td>2           </td><td>4           </td><td>10          </td><td>4           </td><td>4           </td><td>4           </td><td>1           </td><td>1           </td><td>1           </td><td>1           </td><td>  0         </td><td> 1.0010645  </td><td>-0.8526511  </td><td>-0.066365728</td><td> 1.03228740 </td><td>-1.36617389 </td><td> 0.5139798  </td><td>0           </td></tr>\n",
       "\t<tr><td>305893      </td><td>1           </td><td>4           </td><td>11          </td><td>4           </td><td>5           </td><td>4           </td><td>3           </td><td>4           </td><td>1           </td><td>3           </td><td>  0         </td><td> 0.2926713  </td><td>-1.0202589  </td><td> 2.177514141</td><td>-0.46521761 </td><td>-1.84566087 </td><td> 1.7965902  </td><td>0           </td></tr>\n",
       "\t<tr><td>305851      </td><td>3           </td><td>5           </td><td>10          </td><td>4           </td><td>3           </td><td>5           </td><td>3           </td><td>3           </td><td>0           </td><td>1           </td><td>  0         </td><td> 0.0000000  </td><td>-0.8526511  </td><td>-0.113700210</td><td>-0.31546711 </td><td>-2.08221156 </td><td> 0.5139798  </td><td>0           </td></tr>\n",
       "\t<tr><td>305827      </td><td>3           </td><td>5           </td><td> 3          </td><td>1           </td><td>3           </td><td>5           </td><td>3           </td><td>1           </td><td>0           </td><td>1           </td><td>137         </td><td> 0.0000000  </td><td>-0.5882855  </td><td>-0.505900208</td><td>-1.36372061 </td><td> 0.72808731 </td><td>-0.7686307  </td><td>1           </td></tr>\n",
       "\t<tr><td>305789      </td><td>1           </td><td>4           </td><td> 1          </td><td>4           </td><td>1           </td><td>5           </td><td>1           </td><td>2           </td><td>1           </td><td>1           </td><td>  0         </td><td>-0.5772853  </td><td> 0.2048114  </td><td>-0.487868024</td><td> 1.25691315 </td><td> 0.68977376 </td><td>-0.7686307  </td><td>0           </td></tr>\n",
       "\t<tr><td>304994      </td><td>3           </td><td>3           </td><td>11          </td><td>2           </td><td>2           </td><td>5           </td><td>3           </td><td>1           </td><td>0           </td><td>2           </td><td>168         </td><td> 0.0000000  </td><td>-0.3239198  </td><td>-0.026920326</td><td>-0.31546711 </td><td>-1.88468393 </td><td> 0.5139798  </td><td>1           </td></tr>\n",
       "\t<tr><td>305739      </td><td>3           </td><td>3           </td><td> 1          </td><td>4           </td><td>4           </td><td>4           </td><td>3           </td><td>1           </td><td>1           </td><td>1           </td><td>  0         </td><td> 0.7649334  </td><td>-0.3239198  </td><td> 0.751844611</td><td> 0.05890915 </td><td>-1.70304932 </td><td> 1.7965902  </td><td>0           </td></tr>\n",
       "\t<tr><td>305650      </td><td>3           </td><td>5           </td><td>10          </td><td>3           </td><td>2           </td><td>4           </td><td>3           </td><td>1           </td><td>0           </td><td>1           </td><td> 45         </td><td> 0.0000000  </td><td>-0.3239198  </td><td> 0.055351512</td><td>-1.51347111 </td><td>-0.73783167 </td><td> 0.5139798  </td><td>1           </td></tr>\n",
       "\t<tr><td>305844      </td><td>1           </td><td>5           </td><td>10          </td><td>4           </td><td>1           </td><td>5           </td><td>1           </td><td>2           </td><td>1           </td><td>1           </td><td>  0         </td><td> 0.7400775  </td><td> 0.7335427  </td><td> 0.088034846</td><td> 0.05890915 </td><td> 0.38518104 </td><td> 0.5139798  </td><td>0           </td></tr>\n",
       "\t<tr><td>305886      </td><td>1           </td><td>4           </td><td>11          </td><td>5           </td><td>7           </td><td>7           </td><td>1           </td><td>2           </td><td>1           </td><td>1           </td><td>112         </td><td> 0.6655098  </td><td>-0.8526511  </td><td>-0.093414004</td><td> 1.40666366 </td><td>-0.26870354 </td><td> 0.5139798  </td><td>1           </td></tr>\n",
       "\t<tr><td>305823      </td><td>3           </td><td>5           </td><td> 2          </td><td>1           </td><td>5           </td><td>5           </td><td>3           </td><td>1           </td><td>0           </td><td>1           </td><td>  0         </td><td> 0.0000000  </td><td>-0.7645292  </td><td>-0.540837564</td><td>-1.21397011 </td><td>-0.16483125 </td><td>-0.7686307  </td><td>0           </td></tr>\n",
       "\t<tr><td>305885      </td><td>3           </td><td>4           </td><td>11          </td><td>1           </td><td>2           </td><td>4           </td><td>3           </td><td>1           </td><td>0           </td><td>1           </td><td>  0         </td><td> 0.0000000  </td><td>-0.6764074  </td><td>-0.505900208</td><td> 0.43328540 </td><td>-1.32275186 </td><td>-0.7686307  </td><td>0           </td></tr>\n",
       "\t<tr><td>305846      </td><td>1           </td><td>4           </td><td>11          </td><td>5           </td><td>7           </td><td>7           </td><td>1           </td><td>2           </td><td>1           </td><td>1           </td><td>  0         </td><td> 0.1559638  </td><td>-0.3239198  </td><td>-0.550980667</td><td> 1.70616466 </td><td> 0.91326947 </td><td>-0.7686307  </td><td>0           </td></tr>\n",
       "\t<tr><td>304880      </td><td>1           </td><td>2           </td><td> 2          </td><td>4           </td><td>2           </td><td>5           </td><td>1           </td><td>3           </td><td>1           </td><td>2           </td><td> 15         </td><td>-0.5151456  </td><td> 1.7910052  </td><td> 0.614349210</td><td>-0.09084135 </td><td> 0.07285466 </td><td> 1.7965902  </td><td>0           </td></tr>\n",
       "\t<tr><td>305882      </td><td>1           </td><td>5           </td><td>10          </td><td>4           </td><td>1           </td><td>5           </td><td>3           </td><td>3           </td><td>0           </td><td>3           </td><td>  0         </td><td> 0.0000000  </td><td>-0.9143364  </td><td>-0.354880668</td><td>-0.31546711 </td><td>-1.58775392 </td><td>-0.7686307  </td><td>0           </td></tr>\n",
       "\t<tr><td>305926      </td><td>1           </td><td>4           </td><td>15          </td><td>4           </td><td>4           </td><td>4           </td><td>3           </td><td>3           </td><td>1           </td><td>1           </td><td>  0         </td><td> 0.5163744  </td><td>-0.7645292  </td><td>-0.486741012</td><td> 0.50816065 </td><td> 0.99841069 </td><td>-0.7686307  </td><td>0           </td></tr>\n",
       "\t<tr><td>305871      </td><td>1           </td><td>5           </td><td> 7          </td><td>3           </td><td>1           </td><td>4           </td><td>1           </td><td>3           </td><td>0           </td><td>2           </td><td>  0         </td><td> 0.0000000  </td><td> 0.5572989  </td><td>-0.378547910</td><td>-0.01596610 </td><td> 1.12931532 </td><td>-0.7686307  </td><td>0           </td></tr>\n",
       "\t<tr><td>305925      </td><td>1           </td><td>5           </td><td> 1          </td><td>3           </td><td>2           </td><td>4           </td><td>1           </td><td>4           </td><td>1           </td><td>1           </td><td>  0         </td><td>-0.4654338  </td><td>-0.3239198  </td><td>-0.090032969</td><td>-0.31546711 </td><td>-1.42662415 </td><td> 0.5139798  </td><td>0           </td></tr>\n",
       "\t<tr><td>305892      </td><td>4           </td><td>4           </td><td>10          </td><td>4           </td><td>3           </td><td>4           </td><td>3           </td><td>2           </td><td>1           </td><td>1           </td><td>  0         </td><td> 0.7649334  </td><td>-0.5001636  </td><td>-0.180193888</td><td>-0.68984336 </td><td>-0.95919885 </td><td> 0.5139798  </td><td>0           </td></tr>\n",
       "\t<tr><td>302908      </td><td>3           </td><td>3           </td><td> 2          </td><td>4           </td><td>1           </td><td>4           </td><td>3           </td><td>1           </td><td>0           </td><td>1           </td><td> 76         </td><td> 0.0000000  </td><td> 0.5572989  </td><td>-0.086651935</td><td>-1.06421961 </td><td>-0.71654637 </td><td> 0.5139798  </td><td>1           </td></tr>\n",
       "\t<tr><td>305940      </td><td>1           </td><td>5           </td><td>11          </td><td>5           </td><td>7           </td><td>7           </td><td>1           </td><td>2           </td><td>1           </td><td>1           </td><td>  0         </td><td>-0.3908661  </td><td> 0.1695627  </td><td>-0.531821472</td><td> 1.63128941 </td><td> 1.09313030 </td><td>-0.7686307  </td><td>0           </td></tr>\n",
       "\t<tr><td>305957      </td><td>2           </td><td>1           </td><td> 2          </td><td>1           </td><td>4           </td><td>4           </td><td>1           </td><td>1           </td><td>1           </td><td>2           </td><td>  0         </td><td>-1.0246916  </td><td>-0.5882855  </td><td> 0.615476221</td><td> 1.55641416 </td><td> 1.11725364 </td><td> 1.7965902  </td><td>0           </td></tr>\n",
       "\t<tr><td>305891      </td><td>3           </td><td>4           </td><td>11          </td><td>2           </td><td>4           </td><td>5           </td><td>1           </td><td>1           </td><td>0           </td><td>1           </td><td>  0         </td><td> 0.0000000  </td><td>-0.3239198  </td><td>-0.605077218</td><td> 1.33178840 </td><td>-0.17760243 </td><td>-0.7686307  </td><td>0           </td></tr>\n",
       "</tbody>\n",
       "</table>\n"
      ],
      "text/latex": [
       "\\begin{tabular}{r|lllllllllllllllllll}\n",
       " ID & V1 & V2 & V3 & V4 & V5 & V6 & V7 & V8 & Has\\_FICO & Business\\_channel & Days\\_late & FICO\\_Score & Loan\\_amount & Monthly\\_income & Age & Gearing\\_coefficient & Max\\_gearing\\_ratio & Default\\_45\\\\\n",
       "\\hline\n",
       "\t 250249      & 2           & 3           & 11          & 5           & 7           & 7           & 1           & 2           & 1           & 1           &   0         & -0.2417306  & -0.85265110 & -0.73242952 &  1.40666366 &  1.12292973 & -0.7686307  & 0          \\\\\n",
       "\t 249827      & 1           & 3           &  5          & 2           & 4           & 4           & 1           & 3           & 0           & 1           &   0         &  0.0000000  & -0.41204172 & -0.57464791 & -0.39034236 &  0.91007667 & -0.7686307  & 0          \\\\\n",
       "\t 250415      & 3           & 3           & 14          & 1           & 4           & 4           & 3           & 1           & 0           & 1           &   0         &  0.0000000  & -0.23579797 & -0.76623986 & -0.31546711 &  1.02395306 & -0.7686307  & 0          \\\\\n",
       "\t 250321      & 1           & 4           & 15          & 2           & 2           & 4           & 1           & 2           & 0           & 1           &   0         &  0.0000000  & -0.05955422 & -0.67269791 & -0.01596610 &  0.89624122 & -0.7686307  & 0          \\\\\n",
       "\t 250523      & 2           & 4           & 11          & 5           & 7           & 7           & 1           & 1           & 0           & 1           &   0         &  0.0000000  &  0.02856766 & -0.48899504 &  1.18203790 &  1.01437467 & -0.7686307  & 0          \\\\\n",
       "\t 250566      & 1           & 4           & 10          & 5           & 7           & 7           & 1           & 2           & 1           & 1           &  15         &  1.5230385  & -0.14767609 & -0.26021170 &  0.95741215 &  1.05949952 &  0.5139798  & 0          \\\\\n",
       "\t 250559      & 1           & 3           &  2          & 1           & 4           & 5           & 1           & 2           & 0           & 1           &   0         &  0.0000000  & -0.32391985 & -0.67269791 &  0.50816065 &  0.02460797 & -0.7686307  & 0          \\\\\n",
       "\t 250578      & 4           & 3           & 13          & 1           & 3           & 5           & 3           & 1           & 1           & 1           &   0         & -1.1116873  & -0.14767609 & -0.70087319 & -1.13909486 &  0.80790721 & -0.7686307  & 0          \\\\\n",
       "\t 250520      & 1           & 3           & 11          & 5           & 7           & 7           & 1           & 2           & 0           & 1           &   0         &  0.0000000  & -0.23579797 & -0.78201802 &  1.78103991 &  0.95903287 & -0.7686307  & 0          \\\\\n",
       "\t 250713      & 1           & 4           &  3          & 4           & 3           & 4           & 1           & 2           & 1           & 1           &   0         &  0.6530819  & -0.58828547 & -0.12609734 &  0.65791115 & -0.93280507 &  0.5139798  & 0          \\\\\n",
       "\t 250699      & 1           & 1           & 13          & 4           & 5           & 1           & 1           & 2           & 0           & 1           &   0         &  0.0000000  & -0.79977798 &  1.05162967 &  0.05890915 & -1.34048962 &  1.7965902  & 0          \\\\\n",
       "\t 250596      & 3           & 5           & 11          & 4           & 2           & 5           & 3           & 1           & 1           & 1           &   0         & -0.5772853  & -0.32391985 & -0.60620423 & -1.43859586 &  0.26832471 & -0.7686307  & 0          \\\\\n",
       "\t 250743      & 1           & 3           & 11          & 1           & 3           & 4           & 3           & 2           & 0           & 1           &   0         &  0.0000000  & -0.05955422 & -0.67269791 & -1.28884536 &  0.89624122 & -0.7686307  & 0          \\\\\n",
       "\t 250896      & 1           & 3           & 14          & 1           & 2           & 5           & 1           & 2           & 0           & 1           &   0         &  0.0000000  & -0.23579797 & -0.66931687 & -0.91446911 &  0.77278645 & -0.7686307  & 0          \\\\\n",
       "\t 250810      & 1           & 4           & 11          & 5           & 7           & 7           & 1           & 2           & 1           & 2           &   0         &  1.1253440  &  1.35039580 & -0.50477320 &  1.70616466 &  0.91859079 &  1.7965902  & 0          \\\\\n",
       "\t 251047      & 3           & 3           & 10          & 3           & 5           & 5           & 1           & 1           & 1           & 3           &  15         & -0.3908661  & -0.87908767 &  0.44304346 & -1.36372061 &  0.86324900 &  1.7965902  & 0          \\\\\n",
       "\t 250969      & 3           & 3           & 14          & 1           & 4           & 5           & 3           & 1           & 0           & 3           &   0         &  0.0000000  & -0.76153308 & -0.66368182 & -1.21397011 &  0.26087486 & -0.7686307  & 0          \\\\\n",
       "\t 251157      & 4           & 3           & 10          & 4           & 2           & 4           & 1           & 1           & 0           & 2           &   0         &  0.0000000  & -0.32391985 & -0.16666975 & -0.54009286 & -1.75612068 &  0.5139798  & 0          \\\\\n",
       "\t 250768      & 1           & 5           & 10          & 2           & 5           & 5           & 1           & 3           & 0           & 1           &  76         &  0.0000000  & -0.14767609 &  0.08127278 & -0.01596610 & -1.36447106 &  0.5139798  & 1          \\\\\n",
       "\t 251048      & 4           & 3           & 10          & 4           & 2           & 5           & 1           & 1           & 1           & 1           & 107         &  0.1311079  &  1.43851768 &  0.36527967 & -1.13909486 & -0.91904057 &  1.7965902  & 1          \\\\\n",
       "\t 251196      & 1           & 4           & 15          & 1           & 3           & 4           & 2           & 4           & 1           & 1           & 153         & -1.3975301  & -0.32391985 & -0.67269791 & -0.46521761 &  0.91326947 & -0.7686307  & 1          \\\\\n",
       "\t 251026      & 3           & 3           & 11          & 2           & 4           & 5           & 3           & 1           & 0           & 1           &  15         &  0.0000000  & -0.50016360 & -0.61409331 & -1.21397011 & -0.80339041 & -0.7686307  & 0          \\\\\n",
       "\t 251461      & 1           & 4           &  3          & 5           & 4           & 4           & 1           & 2           & 0           & 3           &   0         &  0.0000000  & -0.81916479 & -0.25006860 &  0.28353490 & -1.41321441 & -0.7686307  & 0          \\\\\n",
       "\t 250659      & 1           & 4           & 11          & 4           & 6           & 4           & 3           & 3           & 1           & 2           &   0         & -0.2914424  &  1.61476143 &  3.90184171 & -0.24059186 & -1.33197550 &  1.7965902  & 0          \\\\\n",
       "\t 250978      & 1           & 3           &  4          & 4           & 3           & 2           & 1           & 2           & 1           & 1           &   0         & -0.9128400  &  1.61476143 &  0.43515438 & -0.31546711 &  0.59008758 &  1.7965902  & 0          \\\\\n",
       "\t 251109      & 1           & 3           & 10          & 4           & 3           & 4           & 1           & 2           & 1           & 2           &  76         & -0.5151456  &  0.38105516 &  0.26497565 & -1.28884536 &  0.79300749 &  1.7965902  & 1          \\\\\n",
       "\t 251273      & 1           & 1           &  8          & 1           & 3           & 4           & 3           & 3           & 1           & 1           &   0         &  1.6597460  & -0.72928048 & -0.98262607 & -0.68984336 &  1.05268822 & -0.7686307  & 0          \\\\\n",
       "\t 251834      & 2           & 4           & 11          & 5           & 7           & 7           & 1           & 1           & 1           & 1           &   0         &  1.2744795  & -0.81740235 & -0.56788584 &  1.70616466 & -0.75124141 & -0.7686307  & 0          \\\\\n",
       "\t 251542      & 1           & 3           & 10          & 4           & 4           & 5           & 1           & 3           & 0           & 1           &   0         &  0.0000000  &  0.55729892 & -0.31092722 & -0.54009286 &  0.52161985 & -0.7686307  & 0          \\\\\n",
       "\t 251516      & 1           & 3           & 10          & 4           & 6           & 4           & 1           & 3           & 1           & 2           &   0         & -0.2044468  &  0.11668954 & -0.09228699 &  0.13378440 &  0.81684703 &  0.5139798  & 0          \\\\\n",
       "\t ... & ... & ... & ... & ... & ... & ... & ... & ... & ... & ... & ... & ... & ... & ... & ... & ... & ... & ...\\\\\n",
       "\t 305655       & 3            & 5            & 10           & 3            & 2            & 5            & 3            & 3            & 1            & 1            & 107          & -0.9749798   &  0.5572989   & -0.207242164 & -0.31546711  &  0.09740371  &  0.5139798   & 1           \\\\\n",
       "\t 304997       & 1            & 3            & 11           & 4            & 3            & 5            & 1            & 3            & 1            & 1            &   0          & -1.0619754   &  1.4385177   &  0.008017030 & -1.13909486  &  0.63294200  &  0.5139798   & 0           \\\\\n",
       "\t 305752       & 1            & 3            & 15           & 1            & 6            & 1            & 1            & 3            & 1            & 1            &   0          &  0.8022173   &  3.2009552   & -0.467581817 &  0.35841015  &  0.66884321  &  1.7965902   & 0           \\\\\n",
       "\t 305832       & 3            & 3            & 10           & 4            & 1            & 4            & 3            & 1            & 0            & 1            & 137          &  0.0000000   & -0.6764074   &  0.394581970 & -0.83959386  & -2.04077617  &  1.7965902   & 1           \\\\\n",
       "\t 305830       & 3            & 2            & 11           & 2            & 3            & 4            & 3            & 1            & 0            & 1            &  45          &  0.0000000   & -0.8526511   & -0.464200783 &  0.13378440  &  0.26832471  & -0.7686307   & 1           \\\\\n",
       "\t 305495       & 1            & 4            & 11           & 2            & 1            & 5            & 1            & 3            & 1            & 2            &   0          & -1.3726742   &  0.5572989   &  0.001254961 &  0.28353490  & -0.80083618  &  0.5139798   & 0           \\\\\n",
       "\t 305758       & 2            & 1            &  5           & 4            & 1            & 4            & 1            & 1            & 1            & 1            & 198          & -1.0744034   &  1.0860302   &  0.289769902 &  1.33178840  &  0.12890596  &  1.7965902   & 1           \\\\\n",
       "\t 305824       & 2            & 4            & 10           & 4            & 4            & 4            & 1            & 1            & 1            & 1            &   0          &  1.0010645   & -0.8526511   & -0.066365728 &  1.03228740  & -1.36617389  &  0.5139798   & 0           \\\\\n",
       "\t 305893       & 1            & 4            & 11           & 4            & 5            & 4            & 3            & 4            & 1            & 3            &   0          &  0.2926713   & -1.0202589   &  2.177514141 & -0.46521761  & -1.84566087  &  1.7965902   & 0           \\\\\n",
       "\t 305851       & 3            & 5            & 10           & 4            & 3            & 5            & 3            & 3            & 0            & 1            &   0          &  0.0000000   & -0.8526511   & -0.113700210 & -0.31546711  & -2.08221156  &  0.5139798   & 0           \\\\\n",
       "\t 305827       & 3            & 5            &  3           & 1            & 3            & 5            & 3            & 1            & 0            & 1            & 137          &  0.0000000   & -0.5882855   & -0.505900208 & -1.36372061  &  0.72808731  & -0.7686307   & 1           \\\\\n",
       "\t 305789       & 1            & 4            &  1           & 4            & 1            & 5            & 1            & 2            & 1            & 1            &   0          & -0.5772853   &  0.2048114   & -0.487868024 &  1.25691315  &  0.68977376  & -0.7686307   & 0           \\\\\n",
       "\t 304994       & 3            & 3            & 11           & 2            & 2            & 5            & 3            & 1            & 0            & 2            & 168          &  0.0000000   & -0.3239198   & -0.026920326 & -0.31546711  & -1.88468393  &  0.5139798   & 1           \\\\\n",
       "\t 305739       & 3            & 3            &  1           & 4            & 4            & 4            & 3            & 1            & 1            & 1            &   0          &  0.7649334   & -0.3239198   &  0.751844611 &  0.05890915  & -1.70304932  &  1.7965902   & 0           \\\\\n",
       "\t 305650       & 3            & 5            & 10           & 3            & 2            & 4            & 3            & 1            & 0            & 1            &  45          &  0.0000000   & -0.3239198   &  0.055351512 & -1.51347111  & -0.73783167  &  0.5139798   & 1           \\\\\n",
       "\t 305844       & 1            & 5            & 10           & 4            & 1            & 5            & 1            & 2            & 1            & 1            &   0          &  0.7400775   &  0.7335427   &  0.088034846 &  0.05890915  &  0.38518104  &  0.5139798   & 0           \\\\\n",
       "\t 305886       & 1            & 4            & 11           & 5            & 7            & 7            & 1            & 2            & 1            & 1            & 112          &  0.6655098   & -0.8526511   & -0.093414004 &  1.40666366  & -0.26870354  &  0.5139798   & 1           \\\\\n",
       "\t 305823       & 3            & 5            &  2           & 1            & 5            & 5            & 3            & 1            & 0            & 1            &   0          &  0.0000000   & -0.7645292   & -0.540837564 & -1.21397011  & -0.16483125  & -0.7686307   & 0           \\\\\n",
       "\t 305885       & 3            & 4            & 11           & 1            & 2            & 4            & 3            & 1            & 0            & 1            &   0          &  0.0000000   & -0.6764074   & -0.505900208 &  0.43328540  & -1.32275186  & -0.7686307   & 0           \\\\\n",
       "\t 305846       & 1            & 4            & 11           & 5            & 7            & 7            & 1            & 2            & 1            & 1            &   0          &  0.1559638   & -0.3239198   & -0.550980667 &  1.70616466  &  0.91326947  & -0.7686307   & 0           \\\\\n",
       "\t 304880       & 1            & 2            &  2           & 4            & 2            & 5            & 1            & 3            & 1            & 2            &  15          & -0.5151456   &  1.7910052   &  0.614349210 & -0.09084135  &  0.07285466  &  1.7965902   & 0           \\\\\n",
       "\t 305882       & 1            & 5            & 10           & 4            & 1            & 5            & 3            & 3            & 0            & 3            &   0          &  0.0000000   & -0.9143364   & -0.354880668 & -0.31546711  & -1.58775392  & -0.7686307   & 0           \\\\\n",
       "\t 305926       & 1            & 4            & 15           & 4            & 4            & 4            & 3            & 3            & 1            & 1            &   0          &  0.5163744   & -0.7645292   & -0.486741012 &  0.50816065  &  0.99841069  & -0.7686307   & 0           \\\\\n",
       "\t 305871       & 1            & 5            &  7           & 3            & 1            & 4            & 1            & 3            & 0            & 2            &   0          &  0.0000000   &  0.5572989   & -0.378547910 & -0.01596610  &  1.12931532  & -0.7686307   & 0           \\\\\n",
       "\t 305925       & 1            & 5            &  1           & 3            & 2            & 4            & 1            & 4            & 1            & 1            &   0          & -0.4654338   & -0.3239198   & -0.090032969 & -0.31546711  & -1.42662415  &  0.5139798   & 0           \\\\\n",
       "\t 305892       & 4            & 4            & 10           & 4            & 3            & 4            & 3            & 2            & 1            & 1            &   0          &  0.7649334   & -0.5001636   & -0.180193888 & -0.68984336  & -0.95919885  &  0.5139798   & 0           \\\\\n",
       "\t 302908       & 3            & 3            &  2           & 4            & 1            & 4            & 3            & 1            & 0            & 1            &  76          &  0.0000000   &  0.5572989   & -0.086651935 & -1.06421961  & -0.71654637  &  0.5139798   & 1           \\\\\n",
       "\t 305940       & 1            & 5            & 11           & 5            & 7            & 7            & 1            & 2            & 1            & 1            &   0          & -0.3908661   &  0.1695627   & -0.531821472 &  1.63128941  &  1.09313030  & -0.7686307   & 0           \\\\\n",
       "\t 305957       & 2            & 1            &  2           & 1            & 4            & 4            & 1            & 1            & 1            & 2            &   0          & -1.0246916   & -0.5882855   &  0.615476221 &  1.55641416  &  1.11725364  &  1.7965902   & 0           \\\\\n",
       "\t 305891       & 3            & 4            & 11           & 2            & 4            & 5            & 1            & 1            & 0            & 1            &   0          &  0.0000000   & -0.3239198   & -0.605077218 &  1.33178840  & -0.17760243  & -0.7686307   & 0           \\\\\n",
       "\\end{tabular}\n"
      ],
      "text/markdown": [
       "\n",
       "| ID | V1 | V2 | V3 | V4 | V5 | V6 | V7 | V8 | Has_FICO | Business_channel | Days_late | FICO_Score | Loan_amount | Monthly_income | Age | Gearing_coefficient | Max_gearing_ratio | Default_45 |\n",
       "|---|---|---|---|---|---|---|---|---|---|---|---|---|---|---|---|---|---|---|\n",
       "| 250249      | 2           | 3           | 11          | 5           | 7           | 7           | 1           | 2           | 1           | 1           |   0         | -0.2417306  | -0.85265110 | -0.73242952 |  1.40666366 |  1.12292973 | -0.7686307  | 0           |\n",
       "| 249827      | 1           | 3           |  5          | 2           | 4           | 4           | 1           | 3           | 0           | 1           |   0         |  0.0000000  | -0.41204172 | -0.57464791 | -0.39034236 |  0.91007667 | -0.7686307  | 0           |\n",
       "| 250415      | 3           | 3           | 14          | 1           | 4           | 4           | 3           | 1           | 0           | 1           |   0         |  0.0000000  | -0.23579797 | -0.76623986 | -0.31546711 |  1.02395306 | -0.7686307  | 0           |\n",
       "| 250321      | 1           | 4           | 15          | 2           | 2           | 4           | 1           | 2           | 0           | 1           |   0         |  0.0000000  | -0.05955422 | -0.67269791 | -0.01596610 |  0.89624122 | -0.7686307  | 0           |\n",
       "| 250523      | 2           | 4           | 11          | 5           | 7           | 7           | 1           | 1           | 0           | 1           |   0         |  0.0000000  |  0.02856766 | -0.48899504 |  1.18203790 |  1.01437467 | -0.7686307  | 0           |\n",
       "| 250566      | 1           | 4           | 10          | 5           | 7           | 7           | 1           | 2           | 1           | 1           |  15         |  1.5230385  | -0.14767609 | -0.26021170 |  0.95741215 |  1.05949952 |  0.5139798  | 0           |\n",
       "| 250559      | 1           | 3           |  2          | 1           | 4           | 5           | 1           | 2           | 0           | 1           |   0         |  0.0000000  | -0.32391985 | -0.67269791 |  0.50816065 |  0.02460797 | -0.7686307  | 0           |\n",
       "| 250578      | 4           | 3           | 13          | 1           | 3           | 5           | 3           | 1           | 1           | 1           |   0         | -1.1116873  | -0.14767609 | -0.70087319 | -1.13909486 |  0.80790721 | -0.7686307  | 0           |\n",
       "| 250520      | 1           | 3           | 11          | 5           | 7           | 7           | 1           | 2           | 0           | 1           |   0         |  0.0000000  | -0.23579797 | -0.78201802 |  1.78103991 |  0.95903287 | -0.7686307  | 0           |\n",
       "| 250713      | 1           | 4           |  3          | 4           | 3           | 4           | 1           | 2           | 1           | 1           |   0         |  0.6530819  | -0.58828547 | -0.12609734 |  0.65791115 | -0.93280507 |  0.5139798  | 0           |\n",
       "| 250699      | 1           | 1           | 13          | 4           | 5           | 1           | 1           | 2           | 0           | 1           |   0         |  0.0000000  | -0.79977798 |  1.05162967 |  0.05890915 | -1.34048962 |  1.7965902  | 0           |\n",
       "| 250596      | 3           | 5           | 11          | 4           | 2           | 5           | 3           | 1           | 1           | 1           |   0         | -0.5772853  | -0.32391985 | -0.60620423 | -1.43859586 |  0.26832471 | -0.7686307  | 0           |\n",
       "| 250743      | 1           | 3           | 11          | 1           | 3           | 4           | 3           | 2           | 0           | 1           |   0         |  0.0000000  | -0.05955422 | -0.67269791 | -1.28884536 |  0.89624122 | -0.7686307  | 0           |\n",
       "| 250896      | 1           | 3           | 14          | 1           | 2           | 5           | 1           | 2           | 0           | 1           |   0         |  0.0000000  | -0.23579797 | -0.66931687 | -0.91446911 |  0.77278645 | -0.7686307  | 0           |\n",
       "| 250810      | 1           | 4           | 11          | 5           | 7           | 7           | 1           | 2           | 1           | 2           |   0         |  1.1253440  |  1.35039580 | -0.50477320 |  1.70616466 |  0.91859079 |  1.7965902  | 0           |\n",
       "| 251047      | 3           | 3           | 10          | 3           | 5           | 5           | 1           | 1           | 1           | 3           |  15         | -0.3908661  | -0.87908767 |  0.44304346 | -1.36372061 |  0.86324900 |  1.7965902  | 0           |\n",
       "| 250969      | 3           | 3           | 14          | 1           | 4           | 5           | 3           | 1           | 0           | 3           |   0         |  0.0000000  | -0.76153308 | -0.66368182 | -1.21397011 |  0.26087486 | -0.7686307  | 0           |\n",
       "| 251157      | 4           | 3           | 10          | 4           | 2           | 4           | 1           | 1           | 0           | 2           |   0         |  0.0000000  | -0.32391985 | -0.16666975 | -0.54009286 | -1.75612068 |  0.5139798  | 0           |\n",
       "| 250768      | 1           | 5           | 10          | 2           | 5           | 5           | 1           | 3           | 0           | 1           |  76         |  0.0000000  | -0.14767609 |  0.08127278 | -0.01596610 | -1.36447106 |  0.5139798  | 1           |\n",
       "| 251048      | 4           | 3           | 10          | 4           | 2           | 5           | 1           | 1           | 1           | 1           | 107         |  0.1311079  |  1.43851768 |  0.36527967 | -1.13909486 | -0.91904057 |  1.7965902  | 1           |\n",
       "| 251196      | 1           | 4           | 15          | 1           | 3           | 4           | 2           | 4           | 1           | 1           | 153         | -1.3975301  | -0.32391985 | -0.67269791 | -0.46521761 |  0.91326947 | -0.7686307  | 1           |\n",
       "| 251026      | 3           | 3           | 11          | 2           | 4           | 5           | 3           | 1           | 0           | 1           |  15         |  0.0000000  | -0.50016360 | -0.61409331 | -1.21397011 | -0.80339041 | -0.7686307  | 0           |\n",
       "| 251461      | 1           | 4           |  3          | 5           | 4           | 4           | 1           | 2           | 0           | 3           |   0         |  0.0000000  | -0.81916479 | -0.25006860 |  0.28353490 | -1.41321441 | -0.7686307  | 0           |\n",
       "| 250659      | 1           | 4           | 11          | 4           | 6           | 4           | 3           | 3           | 1           | 2           |   0         | -0.2914424  |  1.61476143 |  3.90184171 | -0.24059186 | -1.33197550 |  1.7965902  | 0           |\n",
       "| 250978      | 1           | 3           |  4          | 4           | 3           | 2           | 1           | 2           | 1           | 1           |   0         | -0.9128400  |  1.61476143 |  0.43515438 | -0.31546711 |  0.59008758 |  1.7965902  | 0           |\n",
       "| 251109      | 1           | 3           | 10          | 4           | 3           | 4           | 1           | 2           | 1           | 2           |  76         | -0.5151456  |  0.38105516 |  0.26497565 | -1.28884536 |  0.79300749 |  1.7965902  | 1           |\n",
       "| 251273      | 1           | 1           |  8          | 1           | 3           | 4           | 3           | 3           | 1           | 1           |   0         |  1.6597460  | -0.72928048 | -0.98262607 | -0.68984336 |  1.05268822 | -0.7686307  | 0           |\n",
       "| 251834      | 2           | 4           | 11          | 5           | 7           | 7           | 1           | 1           | 1           | 1           |   0         |  1.2744795  | -0.81740235 | -0.56788584 |  1.70616466 | -0.75124141 | -0.7686307  | 0           |\n",
       "| 251542      | 1           | 3           | 10          | 4           | 4           | 5           | 1           | 3           | 0           | 1           |   0         |  0.0000000  |  0.55729892 | -0.31092722 | -0.54009286 |  0.52161985 | -0.7686307  | 0           |\n",
       "| 251516      | 1           | 3           | 10          | 4           | 6           | 4           | 1           | 3           | 1           | 2           |   0         | -0.2044468  |  0.11668954 | -0.09228699 |  0.13378440 |  0.81684703 |  0.5139798  | 0           |\n",
       "| ... | ... | ... | ... | ... | ... | ... | ... | ... | ... | ... | ... | ... | ... | ... | ... | ... | ... | ... |\n",
       "| 305655       | 3            | 5            | 10           | 3            | 2            | 5            | 3            | 3            | 1            | 1            | 107          | -0.9749798   |  0.5572989   | -0.207242164 | -0.31546711  |  0.09740371  |  0.5139798   | 1            |\n",
       "| 304997       | 1            | 3            | 11           | 4            | 3            | 5            | 1            | 3            | 1            | 1            |   0          | -1.0619754   |  1.4385177   |  0.008017030 | -1.13909486  |  0.63294200  |  0.5139798   | 0            |\n",
       "| 305752       | 1            | 3            | 15           | 1            | 6            | 1            | 1            | 3            | 1            | 1            |   0          |  0.8022173   |  3.2009552   | -0.467581817 |  0.35841015  |  0.66884321  |  1.7965902   | 0            |\n",
       "| 305832       | 3            | 3            | 10           | 4            | 1            | 4            | 3            | 1            | 0            | 1            | 137          |  0.0000000   | -0.6764074   |  0.394581970 | -0.83959386  | -2.04077617  |  1.7965902   | 1            |\n",
       "| 305830       | 3            | 2            | 11           | 2            | 3            | 4            | 3            | 1            | 0            | 1            |  45          |  0.0000000   | -0.8526511   | -0.464200783 |  0.13378440  |  0.26832471  | -0.7686307   | 1            |\n",
       "| 305495       | 1            | 4            | 11           | 2            | 1            | 5            | 1            | 3            | 1            | 2            |   0          | -1.3726742   |  0.5572989   |  0.001254961 |  0.28353490  | -0.80083618  |  0.5139798   | 0            |\n",
       "| 305758       | 2            | 1            |  5           | 4            | 1            | 4            | 1            | 1            | 1            | 1            | 198          | -1.0744034   |  1.0860302   |  0.289769902 |  1.33178840  |  0.12890596  |  1.7965902   | 1            |\n",
       "| 305824       | 2            | 4            | 10           | 4            | 4            | 4            | 1            | 1            | 1            | 1            |   0          |  1.0010645   | -0.8526511   | -0.066365728 |  1.03228740  | -1.36617389  |  0.5139798   | 0            |\n",
       "| 305893       | 1            | 4            | 11           | 4            | 5            | 4            | 3            | 4            | 1            | 3            |   0          |  0.2926713   | -1.0202589   |  2.177514141 | -0.46521761  | -1.84566087  |  1.7965902   | 0            |\n",
       "| 305851       | 3            | 5            | 10           | 4            | 3            | 5            | 3            | 3            | 0            | 1            |   0          |  0.0000000   | -0.8526511   | -0.113700210 | -0.31546711  | -2.08221156  |  0.5139798   | 0            |\n",
       "| 305827       | 3            | 5            |  3           | 1            | 3            | 5            | 3            | 1            | 0            | 1            | 137          |  0.0000000   | -0.5882855   | -0.505900208 | -1.36372061  |  0.72808731  | -0.7686307   | 1            |\n",
       "| 305789       | 1            | 4            |  1           | 4            | 1            | 5            | 1            | 2            | 1            | 1            |   0          | -0.5772853   |  0.2048114   | -0.487868024 |  1.25691315  |  0.68977376  | -0.7686307   | 0            |\n",
       "| 304994       | 3            | 3            | 11           | 2            | 2            | 5            | 3            | 1            | 0            | 2            | 168          |  0.0000000   | -0.3239198   | -0.026920326 | -0.31546711  | -1.88468393  |  0.5139798   | 1            |\n",
       "| 305739       | 3            | 3            |  1           | 4            | 4            | 4            | 3            | 1            | 1            | 1            |   0          |  0.7649334   | -0.3239198   |  0.751844611 |  0.05890915  | -1.70304932  |  1.7965902   | 0            |\n",
       "| 305650       | 3            | 5            | 10           | 3            | 2            | 4            | 3            | 1            | 0            | 1            |  45          |  0.0000000   | -0.3239198   |  0.055351512 | -1.51347111  | -0.73783167  |  0.5139798   | 1            |\n",
       "| 305844       | 1            | 5            | 10           | 4            | 1            | 5            | 1            | 2            | 1            | 1            |   0          |  0.7400775   |  0.7335427   |  0.088034846 |  0.05890915  |  0.38518104  |  0.5139798   | 0            |\n",
       "| 305886       | 1            | 4            | 11           | 5            | 7            | 7            | 1            | 2            | 1            | 1            | 112          |  0.6655098   | -0.8526511   | -0.093414004 |  1.40666366  | -0.26870354  |  0.5139798   | 1            |\n",
       "| 305823       | 3            | 5            |  2           | 1            | 5            | 5            | 3            | 1            | 0            | 1            |   0          |  0.0000000   | -0.7645292   | -0.540837564 | -1.21397011  | -0.16483125  | -0.7686307   | 0            |\n",
       "| 305885       | 3            | 4            | 11           | 1            | 2            | 4            | 3            | 1            | 0            | 1            |   0          |  0.0000000   | -0.6764074   | -0.505900208 |  0.43328540  | -1.32275186  | -0.7686307   | 0            |\n",
       "| 305846       | 1            | 4            | 11           | 5            | 7            | 7            | 1            | 2            | 1            | 1            |   0          |  0.1559638   | -0.3239198   | -0.550980667 |  1.70616466  |  0.91326947  | -0.7686307   | 0            |\n",
       "| 304880       | 1            | 2            |  2           | 4            | 2            | 5            | 1            | 3            | 1            | 2            |  15          | -0.5151456   |  1.7910052   |  0.614349210 | -0.09084135  |  0.07285466  |  1.7965902   | 0            |\n",
       "| 305882       | 1            | 5            | 10           | 4            | 1            | 5            | 3            | 3            | 0            | 3            |   0          |  0.0000000   | -0.9143364   | -0.354880668 | -0.31546711  | -1.58775392  | -0.7686307   | 0            |\n",
       "| 305926       | 1            | 4            | 15           | 4            | 4            | 4            | 3            | 3            | 1            | 1            |   0          |  0.5163744   | -0.7645292   | -0.486741012 |  0.50816065  |  0.99841069  | -0.7686307   | 0            |\n",
       "| 305871       | 1            | 5            |  7           | 3            | 1            | 4            | 1            | 3            | 0            | 2            |   0          |  0.0000000   |  0.5572989   | -0.378547910 | -0.01596610  |  1.12931532  | -0.7686307   | 0            |\n",
       "| 305925       | 1            | 5            |  1           | 3            | 2            | 4            | 1            | 4            | 1            | 1            |   0          | -0.4654338   | -0.3239198   | -0.090032969 | -0.31546711  | -1.42662415  |  0.5139798   | 0            |\n",
       "| 305892       | 4            | 4            | 10           | 4            | 3            | 4            | 3            | 2            | 1            | 1            |   0          |  0.7649334   | -0.5001636   | -0.180193888 | -0.68984336  | -0.95919885  |  0.5139798   | 0            |\n",
       "| 302908       | 3            | 3            |  2           | 4            | 1            | 4            | 3            | 1            | 0            | 1            |  76          |  0.0000000   |  0.5572989   | -0.086651935 | -1.06421961  | -0.71654637  |  0.5139798   | 1            |\n",
       "| 305940       | 1            | 5            | 11           | 5            | 7            | 7            | 1            | 2            | 1            | 1            |   0          | -0.3908661   |  0.1695627   | -0.531821472 |  1.63128941  |  1.09313030  | -0.7686307   | 0            |\n",
       "| 305957       | 2            | 1            |  2           | 1            | 4            | 4            | 1            | 1            | 1            | 2            |   0          | -1.0246916   | -0.5882855   |  0.615476221 |  1.55641416  |  1.11725364  |  1.7965902   | 0            |\n",
       "| 305891       | 3            | 4            | 11           | 2            | 4            | 5            | 1            | 1            | 0            | 1            |   0          |  0.0000000   | -0.3239198   | -0.605077218 |  1.33178840  | -0.17760243  | -0.7686307   | 0            |\n",
       "\n"
      ],
      "text/plain": [
       "     ID     V1  V2  V3  V4  V5  V6  V7  V8  Has_FICO Business_channel Days_late\n",
       "1    250249 2   3   11  5   7   7   1   2   1        1                  0      \n",
       "2    249827 1   3    5  2   4   4   1   3   0        1                  0      \n",
       "3    250415 3   3   14  1   4   4   3   1   0        1                  0      \n",
       "4    250321 1   4   15  2   2   4   1   2   0        1                  0      \n",
       "5    250523 2   4   11  5   7   7   1   1   0        1                  0      \n",
       "6    250566 1   4   10  5   7   7   1   2   1        1                 15      \n",
       "7    250559 1   3    2  1   4   5   1   2   0        1                  0      \n",
       "8    250578 4   3   13  1   3   5   3   1   1        1                  0      \n",
       "9    250520 1   3   11  5   7   7   1   2   0        1                  0      \n",
       "10   250713 1   4    3  4   3   4   1   2   1        1                  0      \n",
       "11   250699 1   1   13  4   5   1   1   2   0        1                  0      \n",
       "12   250596 3   5   11  4   2   5   3   1   1        1                  0      \n",
       "13   250743 1   3   11  1   3   4   3   2   0        1                  0      \n",
       "14   250896 1   3   14  1   2   5   1   2   0        1                  0      \n",
       "15   250810 1   4   11  5   7   7   1   2   1        2                  0      \n",
       "16   251047 3   3   10  3   5   5   1   1   1        3                 15      \n",
       "17   250969 3   3   14  1   4   5   3   1   0        3                  0      \n",
       "18   251157 4   3   10  4   2   4   1   1   0        2                  0      \n",
       "19   250768 1   5   10  2   5   5   1   3   0        1                 76      \n",
       "20   251048 4   3   10  4   2   5   1   1   1        1                107      \n",
       "21   251196 1   4   15  1   3   4   2   4   1        1                153      \n",
       "22   251026 3   3   11  2   4   5   3   1   0        1                 15      \n",
       "23   251461 1   4    3  5   4   4   1   2   0        3                  0      \n",
       "24   250659 1   4   11  4   6   4   3   3   1        2                  0      \n",
       "25   250978 1   3    4  4   3   2   1   2   1        1                  0      \n",
       "26   251109 1   3   10  4   3   4   1   2   1        2                 76      \n",
       "27   251273 1   1    8  1   3   4   3   3   1        1                  0      \n",
       "28   251834 2   4   11  5   7   7   1   1   1        1                  0      \n",
       "29   251542 1   3   10  4   4   5   1   3   0        1                  0      \n",
       "30   251516 1   3   10  4   6   4   1   3   1        2                  0      \n",
       "...  ...    ... ... ... ... ... ... ... ... ...      ...              ...      \n",
       "5871 305655 3   5   10  3   2   5   3   3   1        1                107      \n",
       "5872 304997 1   3   11  4   3   5   1   3   1        1                  0      \n",
       "5873 305752 1   3   15  1   6   1   1   3   1        1                  0      \n",
       "5874 305832 3   3   10  4   1   4   3   1   0        1                137      \n",
       "5875 305830 3   2   11  2   3   4   3   1   0        1                 45      \n",
       "5876 305495 1   4   11  2   1   5   1   3   1        2                  0      \n",
       "5877 305758 2   1    5  4   1   4   1   1   1        1                198      \n",
       "5878 305824 2   4   10  4   4   4   1   1   1        1                  0      \n",
       "5879 305893 1   4   11  4   5   4   3   4   1        3                  0      \n",
       "5880 305851 3   5   10  4   3   5   3   3   0        1                  0      \n",
       "5881 305827 3   5    3  1   3   5   3   1   0        1                137      \n",
       "5882 305789 1   4    1  4   1   5   1   2   1        1                  0      \n",
       "5883 304994 3   3   11  2   2   5   3   1   0        2                168      \n",
       "5884 305739 3   3    1  4   4   4   3   1   1        1                  0      \n",
       "5885 305650 3   5   10  3   2   4   3   1   0        1                 45      \n",
       "5886 305844 1   5   10  4   1   5   1   2   1        1                  0      \n",
       "5887 305886 1   4   11  5   7   7   1   2   1        1                112      \n",
       "5888 305823 3   5    2  1   5   5   3   1   0        1                  0      \n",
       "5889 305885 3   4   11  1   2   4   3   1   0        1                  0      \n",
       "5890 305846 1   4   11  5   7   7   1   2   1        1                  0      \n",
       "5891 304880 1   2    2  4   2   5   1   3   1        2                 15      \n",
       "5892 305882 1   5   10  4   1   5   3   3   0        3                  0      \n",
       "5893 305926 1   4   15  4   4   4   3   3   1        1                  0      \n",
       "5894 305871 1   5    7  3   1   4   1   3   0        2                  0      \n",
       "5895 305925 1   5    1  3   2   4   1   4   1        1                  0      \n",
       "5896 305892 4   4   10  4   3   4   3   2   1        1                  0      \n",
       "5897 302908 3   3    2  4   1   4   3   1   0        1                 76      \n",
       "5898 305940 1   5   11  5   7   7   1   2   1        1                  0      \n",
       "5899 305957 2   1    2  1   4   4   1   1   1        2                  0      \n",
       "5900 305891 3   4   11  2   4   5   1   1   0        1                  0      \n",
       "     FICO_Score Loan_amount Monthly_income Age         Gearing_coefficient\n",
       "1    -0.2417306 -0.85265110 -0.73242952     1.40666366  1.12292973        \n",
       "2     0.0000000 -0.41204172 -0.57464791    -0.39034236  0.91007667        \n",
       "3     0.0000000 -0.23579797 -0.76623986    -0.31546711  1.02395306        \n",
       "4     0.0000000 -0.05955422 -0.67269791    -0.01596610  0.89624122        \n",
       "5     0.0000000  0.02856766 -0.48899504     1.18203790  1.01437467        \n",
       "6     1.5230385 -0.14767609 -0.26021170     0.95741215  1.05949952        \n",
       "7     0.0000000 -0.32391985 -0.67269791     0.50816065  0.02460797        \n",
       "8    -1.1116873 -0.14767609 -0.70087319    -1.13909486  0.80790721        \n",
       "9     0.0000000 -0.23579797 -0.78201802     1.78103991  0.95903287        \n",
       "10    0.6530819 -0.58828547 -0.12609734     0.65791115 -0.93280507        \n",
       "11    0.0000000 -0.79977798  1.05162967     0.05890915 -1.34048962        \n",
       "12   -0.5772853 -0.32391985 -0.60620423    -1.43859586  0.26832471        \n",
       "13    0.0000000 -0.05955422 -0.67269791    -1.28884536  0.89624122        \n",
       "14    0.0000000 -0.23579797 -0.66931687    -0.91446911  0.77278645        \n",
       "15    1.1253440  1.35039580 -0.50477320     1.70616466  0.91859079        \n",
       "16   -0.3908661 -0.87908767  0.44304346    -1.36372061  0.86324900        \n",
       "17    0.0000000 -0.76153308 -0.66368182    -1.21397011  0.26087486        \n",
       "18    0.0000000 -0.32391985 -0.16666975    -0.54009286 -1.75612068        \n",
       "19    0.0000000 -0.14767609  0.08127278    -0.01596610 -1.36447106        \n",
       "20    0.1311079  1.43851768  0.36527967    -1.13909486 -0.91904057        \n",
       "21   -1.3975301 -0.32391985 -0.67269791    -0.46521761  0.91326947        \n",
       "22    0.0000000 -0.50016360 -0.61409331    -1.21397011 -0.80339041        \n",
       "23    0.0000000 -0.81916479 -0.25006860     0.28353490 -1.41321441        \n",
       "24   -0.2914424  1.61476143  3.90184171    -0.24059186 -1.33197550        \n",
       "25   -0.9128400  1.61476143  0.43515438    -0.31546711  0.59008758        \n",
       "26   -0.5151456  0.38105516  0.26497565    -1.28884536  0.79300749        \n",
       "27    1.6597460 -0.72928048 -0.98262607    -0.68984336  1.05268822        \n",
       "28    1.2744795 -0.81740235 -0.56788584     1.70616466 -0.75124141        \n",
       "29    0.0000000  0.55729892 -0.31092722    -0.54009286  0.52161985        \n",
       "30   -0.2044468  0.11668954 -0.09228699     0.13378440  0.81684703        \n",
       "...  ...        ...         ...            ...         ...                \n",
       "5871 -0.9749798  0.5572989  -0.207242164   -0.31546711  0.09740371        \n",
       "5872 -1.0619754  1.4385177   0.008017030   -1.13909486  0.63294200        \n",
       "5873  0.8022173  3.2009552  -0.467581817    0.35841015  0.66884321        \n",
       "5874  0.0000000 -0.6764074   0.394581970   -0.83959386 -2.04077617        \n",
       "5875  0.0000000 -0.8526511  -0.464200783    0.13378440  0.26832471        \n",
       "5876 -1.3726742  0.5572989   0.001254961    0.28353490 -0.80083618        \n",
       "5877 -1.0744034  1.0860302   0.289769902    1.33178840  0.12890596        \n",
       "5878  1.0010645 -0.8526511  -0.066365728    1.03228740 -1.36617389        \n",
       "5879  0.2926713 -1.0202589   2.177514141   -0.46521761 -1.84566087        \n",
       "5880  0.0000000 -0.8526511  -0.113700210   -0.31546711 -2.08221156        \n",
       "5881  0.0000000 -0.5882855  -0.505900208   -1.36372061  0.72808731        \n",
       "5882 -0.5772853  0.2048114  -0.487868024    1.25691315  0.68977376        \n",
       "5883  0.0000000 -0.3239198  -0.026920326   -0.31546711 -1.88468393        \n",
       "5884  0.7649334 -0.3239198   0.751844611    0.05890915 -1.70304932        \n",
       "5885  0.0000000 -0.3239198   0.055351512   -1.51347111 -0.73783167        \n",
       "5886  0.7400775  0.7335427   0.088034846    0.05890915  0.38518104        \n",
       "5887  0.6655098 -0.8526511  -0.093414004    1.40666366 -0.26870354        \n",
       "5888  0.0000000 -0.7645292  -0.540837564   -1.21397011 -0.16483125        \n",
       "5889  0.0000000 -0.6764074  -0.505900208    0.43328540 -1.32275186        \n",
       "5890  0.1559638 -0.3239198  -0.550980667    1.70616466  0.91326947        \n",
       "5891 -0.5151456  1.7910052   0.614349210   -0.09084135  0.07285466        \n",
       "5892  0.0000000 -0.9143364  -0.354880668   -0.31546711 -1.58775392        \n",
       "5893  0.5163744 -0.7645292  -0.486741012    0.50816065  0.99841069        \n",
       "5894  0.0000000  0.5572989  -0.378547910   -0.01596610  1.12931532        \n",
       "5895 -0.4654338 -0.3239198  -0.090032969   -0.31546711 -1.42662415        \n",
       "5896  0.7649334 -0.5001636  -0.180193888   -0.68984336 -0.95919885        \n",
       "5897  0.0000000  0.5572989  -0.086651935   -1.06421961 -0.71654637        \n",
       "5898 -0.3908661  0.1695627  -0.531821472    1.63128941  1.09313030        \n",
       "5899 -1.0246916 -0.5882855   0.615476221    1.55641416  1.11725364        \n",
       "5900  0.0000000 -0.3239198  -0.605077218    1.33178840 -0.17760243        \n",
       "     Max_gearing_ratio Default_45\n",
       "1    -0.7686307        0         \n",
       "2    -0.7686307        0         \n",
       "3    -0.7686307        0         \n",
       "4    -0.7686307        0         \n",
       "5    -0.7686307        0         \n",
       "6     0.5139798        0         \n",
       "7    -0.7686307        0         \n",
       "8    -0.7686307        0         \n",
       "9    -0.7686307        0         \n",
       "10    0.5139798        0         \n",
       "11    1.7965902        0         \n",
       "12   -0.7686307        0         \n",
       "13   -0.7686307        0         \n",
       "14   -0.7686307        0         \n",
       "15    1.7965902        0         \n",
       "16    1.7965902        0         \n",
       "17   -0.7686307        0         \n",
       "18    0.5139798        0         \n",
       "19    0.5139798        1         \n",
       "20    1.7965902        1         \n",
       "21   -0.7686307        1         \n",
       "22   -0.7686307        0         \n",
       "23   -0.7686307        0         \n",
       "24    1.7965902        0         \n",
       "25    1.7965902        0         \n",
       "26    1.7965902        1         \n",
       "27   -0.7686307        0         \n",
       "28   -0.7686307        0         \n",
       "29   -0.7686307        0         \n",
       "30    0.5139798        0         \n",
       "...  ...               ...       \n",
       "5871  0.5139798        1         \n",
       "5872  0.5139798        0         \n",
       "5873  1.7965902        0         \n",
       "5874  1.7965902        1         \n",
       "5875 -0.7686307        1         \n",
       "5876  0.5139798        0         \n",
       "5877  1.7965902        1         \n",
       "5878  0.5139798        0         \n",
       "5879  1.7965902        0         \n",
       "5880  0.5139798        0         \n",
       "5881 -0.7686307        1         \n",
       "5882 -0.7686307        0         \n",
       "5883  0.5139798        1         \n",
       "5884  1.7965902        0         \n",
       "5885  0.5139798        1         \n",
       "5886  0.5139798        0         \n",
       "5887  0.5139798        1         \n",
       "5888 -0.7686307        0         \n",
       "5889 -0.7686307        0         \n",
       "5890 -0.7686307        0         \n",
       "5891  1.7965902        0         \n",
       "5892 -0.7686307        0         \n",
       "5893 -0.7686307        0         \n",
       "5894 -0.7686307        0         \n",
       "5895  0.5139798        0         \n",
       "5896  0.5139798        0         \n",
       "5897  0.5139798        1         \n",
       "5898 -0.7686307        0         \n",
       "5899  1.7965902        0         \n",
       "5900 -0.7686307        0         "
      ]
     },
     "metadata": {},
     "output_type": "display_data"
    }
   ],
   "source": [
    "#Removing outliers\n",
    "Accepts[-which(Rejects$Monthly_income %in% rb3),]\n",
    "Accepts[-which(Rejects$Loan_amount %in% rb4),]\n",
    "Accepts[-which(Rejects$FICO_Score %in% rb5),]\n",
    "Accepts[-which(Rejects$Business_channel %in% rb6),]"
   ]
  },
  {
   "cell_type": "markdown",
   "metadata": {},
   "source": [
    "WOE AND IV"
   ]
  },
  {
   "cell_type": "code",
   "execution_count": 183,
   "metadata": {},
   "outputs": [],
   "source": [
    "#IV BASED ON 5 BINS\n",
    "rIV <- create_infotables(data=Rejects, y=\"Has_FICO\", bins=5, parallel=TRUE)\n",
    "\n"
   ]
  },
  {
   "cell_type": "code",
   "execution_count": 184,
   "metadata": {},
   "outputs": [],
   "source": [
    "#IV BASED ON 10 BINS\n",
    "rIV1 <- create_infotables(data=Rejects, y=\"Has_FICO\", bins=10, parallel=TRUE)"
   ]
  },
  {
   "cell_type": "code",
   "execution_count": 185,
   "metadata": {},
   "outputs": [],
   "source": [
    "#IV BASED ON 15 BINS\n",
    "rIV2 <- create_infotables(data=Rejects, y=\"Has_FICO\", bins=15, parallel=TRUE)\n"
   ]
  },
  {
   "cell_type": "code",
   "execution_count": 187,
   "metadata": {},
   "outputs": [
    {
     "data": {
      "text/html": [
       "<table>\n",
       "<thead><tr><th></th><th scope=col>Variable</th><th scope=col>IV</th></tr></thead>\n",
       "<tbody>\n",
       "\t<tr><th scope=row>11</th><td>FICO_Score         </td><td>1.65784009         </td></tr>\n",
       "\t<tr><th scope=row>13</th><td>Monthly_income     </td><td>0.42544056         </td></tr>\n",
       "\t<tr><th scope=row>6</th><td>V5                 </td><td>0.40964445         </td></tr>\n",
       "\t<tr><th scope=row>16</th><td>Max_gearing_ratio  </td><td>0.37412187         </td></tr>\n",
       "\t<tr><th scope=row>14</th><td>Age                </td><td>0.17614566         </td></tr>\n",
       "\t<tr><th scope=row>15</th><td>Gearing_coefficient</td><td>0.15378962         </td></tr>\n",
       "\t<tr><th scope=row>7</th><td>V6                 </td><td>0.11412268         </td></tr>\n",
       "\t<tr><th scope=row>2</th><td>V1                 </td><td>0.11172885         </td></tr>\n",
       "\t<tr><th scope=row>8</th><td>V7                 </td><td>0.10831673         </td></tr>\n",
       "\t<tr><th scope=row>5</th><td>V4                 </td><td>0.10595295         </td></tr>\n",
       "\t<tr><th scope=row>3</th><td>V2                 </td><td>0.09770059         </td></tr>\n",
       "\t<tr><th scope=row>12</th><td>Loan_amount        </td><td>0.09102752         </td></tr>\n",
       "\t<tr><th scope=row>9</th><td>V8                 </td><td>0.08479496         </td></tr>\n",
       "\t<tr><th scope=row>4</th><td>V3                 </td><td>0.03481113         </td></tr>\n",
       "\t<tr><th scope=row>1</th><td>ID                 </td><td>0.02292878         </td></tr>\n",
       "\t<tr><th scope=row>10</th><td>Business_channel   </td><td>0.00584278         </td></tr>\n",
       "</tbody>\n",
       "</table>\n"
      ],
      "text/latex": [
       "\\begin{tabular}{r|ll}\n",
       "  & Variable & IV\\\\\n",
       "\\hline\n",
       "\t11 & FICO\\_Score          & 1.65784009           \\\\\n",
       "\t13 & Monthly\\_income      & 0.42544056           \\\\\n",
       "\t6 & V5                  & 0.40964445         \\\\\n",
       "\t16 & Max\\_gearing\\_ratio   & 0.37412187             \\\\\n",
       "\t14 & Age                 & 0.17614566         \\\\\n",
       "\t15 & Gearing\\_coefficient & 0.15378962           \\\\\n",
       "\t7 & V6                  & 0.11412268         \\\\\n",
       "\t2 & V1                  & 0.11172885         \\\\\n",
       "\t8 & V7                  & 0.10831673         \\\\\n",
       "\t5 & V4                  & 0.10595295         \\\\\n",
       "\t3 & V2                  & 0.09770059         \\\\\n",
       "\t12 & Loan\\_amount         & 0.09102752           \\\\\n",
       "\t9 & V8                  & 0.08479496         \\\\\n",
       "\t4 & V3                  & 0.03481113         \\\\\n",
       "\t1 & ID                  & 0.02292878         \\\\\n",
       "\t10 & Business\\_channel    & 0.00584278           \\\\\n",
       "\\end{tabular}\n"
      ],
      "text/markdown": [
       "\n",
       "| <!--/--> | Variable | IV |\n",
       "|---|---|---|\n",
       "| 11 | FICO_Score          | 1.65784009          |\n",
       "| 13 | Monthly_income      | 0.42544056          |\n",
       "| 6 | V5                  | 0.40964445          |\n",
       "| 16 | Max_gearing_ratio   | 0.37412187          |\n",
       "| 14 | Age                 | 0.17614566          |\n",
       "| 15 | Gearing_coefficient | 0.15378962          |\n",
       "| 7 | V6                  | 0.11412268          |\n",
       "| 2 | V1                  | 0.11172885          |\n",
       "| 8 | V7                  | 0.10831673          |\n",
       "| 5 | V4                  | 0.10595295          |\n",
       "| 3 | V2                  | 0.09770059          |\n",
       "| 12 | Loan_amount         | 0.09102752          |\n",
       "| 9 | V8                  | 0.08479496          |\n",
       "| 4 | V3                  | 0.03481113          |\n",
       "| 1 | ID                  | 0.02292878          |\n",
       "| 10 | Business_channel    | 0.00584278          |\n",
       "\n"
      ],
      "text/plain": [
       "   Variable            IV        \n",
       "11 FICO_Score          1.65784009\n",
       "13 Monthly_income      0.42544056\n",
       "6  V5                  0.40964445\n",
       "16 Max_gearing_ratio   0.37412187\n",
       "14 Age                 0.17614566\n",
       "15 Gearing_coefficient 0.15378962\n",
       "7  V6                  0.11412268\n",
       "2  V1                  0.11172885\n",
       "8  V7                  0.10831673\n",
       "5  V4                  0.10595295\n",
       "3  V2                  0.09770059\n",
       "12 Loan_amount         0.09102752\n",
       "9  V8                  0.08479496\n",
       "4  V3                  0.03481113\n",
       "1  ID                  0.02292878\n",
       "10 Business_channel    0.00584278"
      ]
     },
     "metadata": {},
     "output_type": "display_data"
    },
    {
     "data": {
      "text/html": [
       "<table>\n",
       "<thead><tr><th></th><th scope=col>Variable</th><th scope=col>IV</th></tr></thead>\n",
       "<tbody>\n",
       "\t<tr><th scope=row>11</th><td>FICO_Score         </td><td>1.657840091        </td></tr>\n",
       "\t<tr><th scope=row>6</th><td>V5                 </td><td>0.478241246        </td></tr>\n",
       "\t<tr><th scope=row>13</th><td>Monthly_income     </td><td>0.463121415        </td></tr>\n",
       "\t<tr><th scope=row>16</th><td>Max_gearing_ratio  </td><td>0.374121868        </td></tr>\n",
       "\t<tr><th scope=row>14</th><td>Age                </td><td>0.235883756        </td></tr>\n",
       "\t<tr><th scope=row>7</th><td>V6                 </td><td>0.210882134        </td></tr>\n",
       "\t<tr><th scope=row>15</th><td>Gearing_coefficient</td><td>0.189700480        </td></tr>\n",
       "\t<tr><th scope=row>12</th><td>Loan_amount        </td><td>0.134180092        </td></tr>\n",
       "\t<tr><th scope=row>5</th><td>V4                 </td><td>0.117934759        </td></tr>\n",
       "\t<tr><th scope=row>2</th><td>V1                 </td><td>0.111728853        </td></tr>\n",
       "\t<tr><th scope=row>8</th><td>V7                 </td><td>0.108316727        </td></tr>\n",
       "\t<tr><th scope=row>3</th><td>V2                 </td><td>0.097700592        </td></tr>\n",
       "\t<tr><th scope=row>9</th><td>V8                 </td><td>0.084794963        </td></tr>\n",
       "\t<tr><th scope=row>4</th><td>V3                 </td><td>0.047473999        </td></tr>\n",
       "\t<tr><th scope=row>1</th><td>ID                 </td><td>0.026175522        </td></tr>\n",
       "\t<tr><th scope=row>10</th><td>Business_channel   </td><td>0.003360379        </td></tr>\n",
       "</tbody>\n",
       "</table>\n"
      ],
      "text/latex": [
       "\\begin{tabular}{r|ll}\n",
       "  & Variable & IV\\\\\n",
       "\\hline\n",
       "\t11 & FICO\\_Score          & 1.657840091          \\\\\n",
       "\t6 & V5                  & 0.478241246        \\\\\n",
       "\t13 & Monthly\\_income      & 0.463121415          \\\\\n",
       "\t16 & Max\\_gearing\\_ratio   & 0.374121868            \\\\\n",
       "\t14 & Age                 & 0.235883756        \\\\\n",
       "\t7 & V6                  & 0.210882134        \\\\\n",
       "\t15 & Gearing\\_coefficient & 0.189700480          \\\\\n",
       "\t12 & Loan\\_amount         & 0.134180092          \\\\\n",
       "\t5 & V4                  & 0.117934759        \\\\\n",
       "\t2 & V1                  & 0.111728853        \\\\\n",
       "\t8 & V7                  & 0.108316727        \\\\\n",
       "\t3 & V2                  & 0.097700592        \\\\\n",
       "\t9 & V8                  & 0.084794963        \\\\\n",
       "\t4 & V3                  & 0.047473999        \\\\\n",
       "\t1 & ID                  & 0.026175522        \\\\\n",
       "\t10 & Business\\_channel    & 0.003360379          \\\\\n",
       "\\end{tabular}\n"
      ],
      "text/markdown": [
       "\n",
       "| <!--/--> | Variable | IV |\n",
       "|---|---|---|\n",
       "| 11 | FICO_Score          | 1.657840091         |\n",
       "| 6 | V5                  | 0.478241246         |\n",
       "| 13 | Monthly_income      | 0.463121415         |\n",
       "| 16 | Max_gearing_ratio   | 0.374121868         |\n",
       "| 14 | Age                 | 0.235883756         |\n",
       "| 7 | V6                  | 0.210882134         |\n",
       "| 15 | Gearing_coefficient | 0.189700480         |\n",
       "| 12 | Loan_amount         | 0.134180092         |\n",
       "| 5 | V4                  | 0.117934759         |\n",
       "| 2 | V1                  | 0.111728853         |\n",
       "| 8 | V7                  | 0.108316727         |\n",
       "| 3 | V2                  | 0.097700592         |\n",
       "| 9 | V8                  | 0.084794963         |\n",
       "| 4 | V3                  | 0.047473999         |\n",
       "| 1 | ID                  | 0.026175522         |\n",
       "| 10 | Business_channel    | 0.003360379         |\n",
       "\n"
      ],
      "text/plain": [
       "   Variable            IV         \n",
       "11 FICO_Score          1.657840091\n",
       "6  V5                  0.478241246\n",
       "13 Monthly_income      0.463121415\n",
       "16 Max_gearing_ratio   0.374121868\n",
       "14 Age                 0.235883756\n",
       "7  V6                  0.210882134\n",
       "15 Gearing_coefficient 0.189700480\n",
       "12 Loan_amount         0.134180092\n",
       "5  V4                  0.117934759\n",
       "2  V1                  0.111728853\n",
       "8  V7                  0.108316727\n",
       "3  V2                  0.097700592\n",
       "9  V8                  0.084794963\n",
       "4  V3                  0.047473999\n",
       "1  ID                  0.026175522\n",
       "10 Business_channel    0.003360379"
      ]
     },
     "metadata": {},
     "output_type": "display_data"
    },
    {
     "data": {
      "text/html": [
       "<table>\n",
       "<thead><tr><th></th><th scope=col>Variable</th><th scope=col>IV</th></tr></thead>\n",
       "<tbody>\n",
       "\t<tr><th scope=row>11</th><td>FICO_Score         </td><td>3.382094670        </td></tr>\n",
       "\t<tr><th scope=row>13</th><td>Monthly_income     </td><td>0.483343323        </td></tr>\n",
       "\t<tr><th scope=row>6</th><td>V5                 </td><td>0.478241246        </td></tr>\n",
       "\t<tr><th scope=row>16</th><td>Max_gearing_ratio  </td><td>0.374121868        </td></tr>\n",
       "\t<tr><th scope=row>14</th><td>Age                </td><td>0.253605275        </td></tr>\n",
       "\t<tr><th scope=row>7</th><td>V6                 </td><td>0.223135783        </td></tr>\n",
       "\t<tr><th scope=row>15</th><td>Gearing_coefficient</td><td>0.184352304        </td></tr>\n",
       "\t<tr><th scope=row>2</th><td>V1                 </td><td>0.139114097        </td></tr>\n",
       "\t<tr><th scope=row>12</th><td>Loan_amount        </td><td>0.128811586        </td></tr>\n",
       "\t<tr><th scope=row>5</th><td>V4                 </td><td>0.117934759        </td></tr>\n",
       "\t<tr><th scope=row>4</th><td>V3                 </td><td>0.110563557        </td></tr>\n",
       "\t<tr><th scope=row>8</th><td>V7                 </td><td>0.108316727        </td></tr>\n",
       "\t<tr><th scope=row>3</th><td>V2                 </td><td>0.099389174        </td></tr>\n",
       "\t<tr><th scope=row>9</th><td>V8                 </td><td>0.084794963        </td></tr>\n",
       "\t<tr><th scope=row>1</th><td>ID                 </td><td>0.028463413        </td></tr>\n",
       "\t<tr><th scope=row>10</th><td>Business_channel   </td><td>0.005860411        </td></tr>\n",
       "</tbody>\n",
       "</table>\n"
      ],
      "text/latex": [
       "\\begin{tabular}{r|ll}\n",
       "  & Variable & IV\\\\\n",
       "\\hline\n",
       "\t11 & FICO\\_Score          & 3.382094670          \\\\\n",
       "\t13 & Monthly\\_income      & 0.483343323          \\\\\n",
       "\t6 & V5                  & 0.478241246        \\\\\n",
       "\t16 & Max\\_gearing\\_ratio   & 0.374121868            \\\\\n",
       "\t14 & Age                 & 0.253605275        \\\\\n",
       "\t7 & V6                  & 0.223135783        \\\\\n",
       "\t15 & Gearing\\_coefficient & 0.184352304          \\\\\n",
       "\t2 & V1                  & 0.139114097        \\\\\n",
       "\t12 & Loan\\_amount         & 0.128811586          \\\\\n",
       "\t5 & V4                  & 0.117934759        \\\\\n",
       "\t4 & V3                  & 0.110563557        \\\\\n",
       "\t8 & V7                  & 0.108316727        \\\\\n",
       "\t3 & V2                  & 0.099389174        \\\\\n",
       "\t9 & V8                  & 0.084794963        \\\\\n",
       "\t1 & ID                  & 0.028463413        \\\\\n",
       "\t10 & Business\\_channel    & 0.005860411          \\\\\n",
       "\\end{tabular}\n"
      ],
      "text/markdown": [
       "\n",
       "| <!--/--> | Variable | IV |\n",
       "|---|---|---|\n",
       "| 11 | FICO_Score          | 3.382094670         |\n",
       "| 13 | Monthly_income      | 0.483343323         |\n",
       "| 6 | V5                  | 0.478241246         |\n",
       "| 16 | Max_gearing_ratio   | 0.374121868         |\n",
       "| 14 | Age                 | 0.253605275         |\n",
       "| 7 | V6                  | 0.223135783         |\n",
       "| 15 | Gearing_coefficient | 0.184352304         |\n",
       "| 2 | V1                  | 0.139114097         |\n",
       "| 12 | Loan_amount         | 0.128811586         |\n",
       "| 5 | V4                  | 0.117934759         |\n",
       "| 4 | V3                  | 0.110563557         |\n",
       "| 8 | V7                  | 0.108316727         |\n",
       "| 3 | V2                  | 0.099389174         |\n",
       "| 9 | V8                  | 0.084794963         |\n",
       "| 1 | ID                  | 0.028463413         |\n",
       "| 10 | Business_channel    | 0.005860411         |\n",
       "\n"
      ],
      "text/plain": [
       "   Variable            IV         \n",
       "11 FICO_Score          3.382094670\n",
       "13 Monthly_income      0.483343323\n",
       "6  V5                  0.478241246\n",
       "16 Max_gearing_ratio   0.374121868\n",
       "14 Age                 0.253605275\n",
       "7  V6                  0.223135783\n",
       "15 Gearing_coefficient 0.184352304\n",
       "2  V1                  0.139114097\n",
       "12 Loan_amount         0.128811586\n",
       "5  V4                  0.117934759\n",
       "4  V3                  0.110563557\n",
       "8  V7                  0.108316727\n",
       "3  V2                  0.099389174\n",
       "9  V8                  0.084794963\n",
       "1  ID                  0.028463413\n",
       "10 Business_channel    0.005860411"
      ]
     },
     "metadata": {},
     "output_type": "display_data"
    }
   ],
   "source": [
    "# SEE THE BEST VARIABLES FOR PREDICTION BASED ON DIFFERENT NUMBER OF BINS\n",
    "data.frame(rIV$Summary)\n",
    "data.frame(rIV1$Summary)\n",
    "data.frame(rIV2$Summary)"
   ]
  },
  {
   "cell_type": "code",
   "execution_count": 189,
   "metadata": {},
   "outputs": [
    {
     "data": {
      "image/png": "[encoded data removed]",
      "text/plain": [
       "plot without title"
      ]
     },
     "metadata": {},
     "output_type": "display_data"
    },
    {
     "data": {
      "image/png": "[encoded data removed]",
      "text/plain": [
       "plot without title"
      ]
     },
     "metadata": {},
     "output_type": "display_data"
    }
   ],
   "source": [
    "plot_infotables(rIV, rIV$Summary$Variable, same_scale=FALSE)\n"
   ]
  },
  {
   "cell_type": "code",
   "execution_count": 190,
   "metadata": {},
   "outputs": [
    {
     "data": {
      "image/png": "[encoded data removed]",
      "text/plain": [
       "plot without title"
      ]
     },
     "metadata": {},
     "output_type": "display_data"
    },
    {
     "data": {
      "image/png": "[encoded data removed]",
      "text/plain": [
       "plot without title"
      ]
     },
     "metadata": {},
     "output_type": "display_data"
    }
   ],
   "source": [
    "plot_infotables(rIV1, rIV1$Summary$Variable, same_scale=FALSE)\n"
   ]
  },
  {
   "cell_type": "code",
   "execution_count": 191,
   "metadata": {},
   "outputs": [
    {
     "data": {
      "image/png": "[encoded data removed]",
      "text/plain": [
       "plot without title"
      ]
     },
     "metadata": {},
     "output_type": "display_data"
    },
    {
     "data": {
      "image/png": "[encoded data removed]",
      "text/plain": [
       "plot without title"
      ]
     },
     "metadata": {},
     "output_type": "display_data"
    }
   ],
   "source": [
    "plot_infotables(rIV2, rIV2$Summary$Variable, same_scale=FALSE)\n"
   ]
  },
  {
   "cell_type": "markdown",
   "metadata": {},
   "source": [
    "BASED ON THE TOP FEATURES GATHERED ABOVE A NEW DATAFRAME OUT OF ACCEPTS WILL BE CREATED ON WHICH TESTING WILL BE DONE"
   ]
  },
  {
   "cell_type": "code",
   "execution_count": 203,
   "metadata": {},
   "outputs": [
    {
     "data": {
      "text/html": [
       "<table>\n",
       "<thead><tr><th scope=col>Monthly_income</th><th scope=col>FICO_Score</th><th scope=col>Age</th><th scope=col>V6</th><th scope=col>V5</th><th scope=col>Max_gearing_ratio</th><th scope=col>Has_FICO</th><th scope=col>ID</th></tr></thead>\n",
       "<tbody>\n",
       "\t<tr><td>-0.60544913</td><td>-0.03045546</td><td>-1.06421961</td><td>5          </td><td>1          </td><td>-0.7686307 </td><td>1          </td><td>305932     </td></tr>\n",
       "\t<tr><td> 1.29957219</td><td> 0.71522164</td><td> 0.80766165</td><td>4          </td><td>6          </td><td> 1.7965902 </td><td>1          </td><td>305764     </td></tr>\n",
       "\t<tr><td> 0.43402737</td><td> 0.76493345</td><td>-0.39034236</td><td>4          </td><td>5          </td><td> 1.7965902 </td><td>1          </td><td>305971     </td></tr>\n",
       "\t<tr><td>-0.49012205</td><td>-1.34781834</td><td>-0.98934436</td><td>5          </td><td>2          </td><td>-0.7686307 </td><td>1          </td><td>305664     </td></tr>\n",
       "\t<tr><td> 0.56137967</td><td> 1.63489006</td><td> 0.58303590</td><td>4          </td><td>5          </td><td> 1.7965902 </td><td>1          </td><td>305639     </td></tr>\n",
       "\t<tr><td>-0.50590021</td><td> 0.97620862</td><td> 0.05890915</td><td>5          </td><td>4          </td><td>-0.7686307 </td><td>1          </td><td>305854     </td></tr>\n",
       "\t<tr><td> 0.32019921</td><td>-0.45300582</td><td>-1.21397011</td><td>4          </td><td>2          </td><td> 1.7965902 </td><td>1          </td><td>306018     </td></tr>\n",
       "\t<tr><td> 0.15903657</td><td>-0.17959088</td><td>-1.13909486</td><td>4          </td><td>3          </td><td> 0.5139798 </td><td>1          </td><td>305910     </td></tr>\n",
       "\t<tr><td>-0.62085538</td><td> 0.00000000</td><td> 0.73278640</td><td>4          </td><td>6          </td><td>-0.7686307 </td><td>0          </td><td>305802     </td></tr>\n",
       "\t<tr><td>-0.08439791</td><td> 1.23719561</td><td> 0.35841015</td><td>4          </td><td>5          </td><td> 0.5139798 </td><td>1          </td><td>306025     </td></tr>\n",
       "\t<tr><td>-0.50139216</td><td> 0.00000000</td><td> 0.88253690</td><td>5          </td><td>6          </td><td>-0.7686307 </td><td>0          </td><td>305618     </td></tr>\n",
       "\t<tr><td>-0.09679504</td><td>-1.57152147</td><td>-1.21397011</td><td>4          </td><td>2          </td><td> 0.5139798 </td><td>1          </td><td>305196     </td></tr>\n",
       "\t<tr><td>-0.66255480</td><td> 0.81464525</td><td> 1.55641416</td><td>7          </td><td>7          </td><td>-0.7686307 </td><td>1          </td><td>306039     </td></tr>\n",
       "\t<tr><td> 0.23341933</td><td>-1.03711955</td><td> 0.58303590</td><td>4          </td><td>5          </td><td> 0.5139798 </td><td>1          </td><td>306024     </td></tr>\n",
       "\t<tr><td>-0.34811860</td><td>-0.06773932</td><td>-0.68984336</td><td>5          </td><td>3          </td><td>-0.7686307 </td><td>1          </td><td>306030     </td></tr>\n",
       "\t<tr><td>-0.41686630</td><td> 0.00000000</td><td> 1.03228740</td><td>5          </td><td>2          </td><td>-0.7686307 </td><td>0          </td><td>306036     </td></tr>\n",
       "\t<tr><td>-0.60620423</td><td>-0.90041208</td><td> 0.73278640</td><td>4          </td><td>5          </td><td>-0.7686307 </td><td>1          </td><td>303147     </td></tr>\n",
       "\t<tr><td>-0.38080193</td><td>-2.16806315</td><td>-1.13909486</td><td>5          </td><td>1          </td><td>-0.7686307 </td><td>1          </td><td>305110     </td></tr>\n",
       "\t<tr><td> 0.96034174</td><td>-0.10502317</td><td>-1.06421961</td><td>3          </td><td>3          </td><td> 1.7965902 </td><td>1          </td><td>305812     </td></tr>\n",
       "\t<tr><td> 0.33935841</td><td>-0.39086606</td><td>-1.13909486</td><td>4          </td><td>2          </td><td> 1.7965902 </td><td>1          </td><td>305847     </td></tr>\n",
       "\t<tr><td>-0.13285941</td><td> 0.00000000</td><td>-0.68984336</td><td>5          </td><td>2          </td><td> 0.5139798 </td><td>0          </td><td>305475     </td></tr>\n",
       "\t<tr><td>-0.50590021</td><td> 0.00000000</td><td>-1.13909486</td><td>4          </td><td>1          </td><td>-0.7686307 </td><td>0          </td><td>306003     </td></tr>\n",
       "\t<tr><td> 0.29315094</td><td>-1.57152147</td><td>-1.06421961</td><td>4          </td><td>1          </td><td> 1.7965902 </td><td>1          </td><td>306053     </td></tr>\n",
       "\t<tr><td>-0.21175021</td><td> 0.00000000</td><td>-0.39034236</td><td>4          </td><td>4          </td><td> 0.5139798 </td><td>0          </td><td>305972     </td></tr>\n",
       "\t<tr><td>-0.37178584</td><td> 0.00000000</td><td>-1.43859586</td><td>5          </td><td>2          </td><td>-0.7686307 </td><td>0          </td><td>306069     </td></tr>\n",
       "\t<tr><td>-0.66255480</td><td> 0.00000000</td><td> 0.13378440</td><td>5          </td><td>2          </td><td>-0.7686307 </td><td>0          </td><td>306113     </td></tr>\n",
       "\t<tr><td> 0.89272105</td><td>-0.46543377</td><td> 0.20865965</td><td>4          </td><td>2          </td><td> 1.7965902 </td><td>1          </td><td>306122     </td></tr>\n",
       "\t<tr><td> 0.55236358</td><td>-1.28567858</td><td>-0.68984336</td><td>5          </td><td>1          </td><td> 1.7965902 </td><td>1          </td><td>306015     </td></tr>\n",
       "\t<tr><td>-0.50590021</td><td> 0.00000000</td><td> 0.65791115</td><td>5          </td><td>3          </td><td>-0.7686307 </td><td>0          </td><td>306068     </td></tr>\n",
       "\t<tr><td>-0.43264446</td><td> 1.85859319</td><td> 1.93079041</td><td>7          </td><td>7          </td><td>-0.7686307 </td><td>1          </td><td>305949     </td></tr>\n",
       "\t<tr><td>...</td><td>...</td><td>...</td><td>...</td><td>...</td><td>...</td><td>...</td><td>...</td></tr>\n",
       "\t<tr><td> 1.11474231</td><td> 0.03168430</td><td> 0.13378440</td><td>4          </td><td>4          </td><td> 1.7965902 </td><td>1          </td><td>325436     </td></tr>\n",
       "\t<tr><td>-0.17681285</td><td> 1.59760621</td><td> 0.35841015</td><td>4          </td><td>3          </td><td>-0.7686307 </td><td>1          </td><td>325312     </td></tr>\n",
       "\t<tr><td> 0.46671070</td><td>-0.68913690</td><td>-0.09084135</td><td>4          </td><td>4          </td><td> 0.5139798 </td><td>1          </td><td>325484     </td></tr>\n",
       "\t<tr><td>-0.03706343</td><td> 0.00000000</td><td> 0.05890915</td><td>5          </td><td>2          </td><td>-0.7686307 </td><td>0          </td><td>325144     </td></tr>\n",
       "\t<tr><td>-0.52055136</td><td>-1.02469159</td><td> 0.13378440</td><td>5          </td><td>3          </td><td>-0.7686307 </td><td>1          </td><td>324723     </td></tr>\n",
       "\t<tr><td> 0.05535151</td><td>-0.21687474</td><td>-0.83959386</td><td>5          </td><td>1          </td><td>-0.7686307 </td><td>1          </td><td>324896     </td></tr>\n",
       "\t<tr><td>-0.34811860</td><td>-0.05531136</td><td>-0.39034236</td><td>5          </td><td>3          </td><td>-0.7686307 </td><td>1          </td><td>325373     </td></tr>\n",
       "\t<tr><td>-0.67269791</td><td>-0.97497979</td><td>-0.76471861</td><td>4          </td><td>6          </td><td>-0.7686307 </td><td>1          </td><td>325496     </td></tr>\n",
       "\t<tr><td>-0.40559619</td><td> 0.00000000</td><td>-1.06421961</td><td>4          </td><td>1          </td><td>-0.7686307 </td><td>0          </td><td>325303     </td></tr>\n",
       "\t<tr><td> 0.04182737</td><td> 0.83950116</td><td> 1.18203790</td><td>4          </td><td>6          </td><td>-0.7686307 </td><td>1          </td><td>325356     </td></tr>\n",
       "\t<tr><td> 0.65379461</td><td> 0.00000000</td><td>-0.76471861</td><td>4          </td><td>6          </td><td> 0.5139798 </td><td>0          </td><td>325522     </td></tr>\n",
       "\t<tr><td>-0.29514906</td><td>-0.54000148</td><td>-0.61496811</td><td>5          </td><td>4          </td><td>-0.7686307 </td><td>1          </td><td>322847     </td></tr>\n",
       "\t<tr><td>-0.26734569</td><td> 0.00000000</td><td> 0.73278640</td><td>5          </td><td>2          </td><td>-0.7686307 </td><td>0          </td><td>325517     </td></tr>\n",
       "\t<tr><td> 0.02266818</td><td> 0.00000000</td><td>-0.91446911</td><td>4          </td><td>2          </td><td>-0.7686307 </td><td>0          </td><td>325504     </td></tr>\n",
       "\t<tr><td>-0.62536343</td><td> 0.00000000</td><td>-0.76471861</td><td>5          </td><td>2          </td><td>-0.7686307 </td><td>0          </td><td>325262     </td></tr>\n",
       "\t<tr><td> 0.67295381</td><td>-1.19868292</td><td>-0.16571661</td><td>5          </td><td>1          </td><td> 0.5139798 </td><td>1          </td><td>325481     </td></tr>\n",
       "\t<tr><td>-0.25344963</td><td> 0.00000000</td><td>-0.24059186</td><td>5          </td><td>2          </td><td>-0.7686307 </td><td>0          </td><td>325459     </td></tr>\n",
       "\t<tr><td>-0.31205423</td><td> 0.00000000</td><td>-1.21397011</td><td>4          </td><td>5          </td><td>-0.7686307 </td><td>0          </td><td>325513     </td></tr>\n",
       "\t<tr><td> 0.19735496</td><td> 0.00000000</td><td> 0.05890915</td><td>4          </td><td>3          </td><td>-0.7686307 </td><td>0          </td><td>325415     </td></tr>\n",
       "\t<tr><td>-0.49124906</td><td> 0.00000000</td><td>-0.91446911</td><td>5          </td><td>4          </td><td>-0.7686307 </td><td>0          </td><td>325454     </td></tr>\n",
       "\t<tr><td> 0.00801703</td><td> 0.23053152</td><td>-0.39034236</td><td>4          </td><td>4          </td><td>-0.7686307 </td><td>1          </td><td>325485     </td></tr>\n",
       "\t<tr><td>-0.29402205</td><td> 0.00000000</td><td> 0.58303590</td><td>5          </td><td>3          </td><td>-0.7686307 </td><td>0          </td><td>325483     </td></tr>\n",
       "\t<tr><td>-0.25457665</td><td>-1.21111087</td><td> 0.05890915</td><td>4          </td><td>2          </td><td>-0.7686307 </td><td>1          </td><td>324820     </td></tr>\n",
       "\t<tr><td>-0.15990768</td><td> 0.00000000</td><td>-1.51347111</td><td>5          </td><td>2          </td><td>-0.7686307 </td><td>0          </td><td>325011     </td></tr>\n",
       "\t<tr><td>-0.40071623</td><td>-0.80098846</td><td>-0.91446911</td><td>5          </td><td>3          </td><td>-0.7686307 </td><td>1          </td><td>325479     </td></tr>\n",
       "\t<tr><td> 2.06368598</td><td>-1.44724195</td><td>-0.83959386</td><td>4          </td><td>1          </td><td> 1.7965902 </td><td>1          </td><td>325349     </td></tr>\n",
       "\t<tr><td>-0.15990768</td><td> 0.00000000</td><td> 0.28353490</td><td>5          </td><td>1          </td><td>-0.7686307 </td><td>0          </td><td>325393     </td></tr>\n",
       "\t<tr><td> 0.79278894</td><td> 0.93892477</td><td>-0.61496811</td><td>4          </td><td>4          </td><td> 0.5139798 </td><td>1          </td><td>325510     </td></tr>\n",
       "\t<tr><td>-0.10468412</td><td> 0.00000000</td><td> 0.13378440</td><td>5          </td><td>2          </td><td>-0.7686307 </td><td>0          </td><td>325534     </td></tr>\n",
       "\t<tr><td>-0.34811860</td><td> 0.01925635</td><td>-0.39034236</td><td>4          </td><td>2          </td><td>-0.7686307 </td><td>1          </td><td>325624     </td></tr>\n",
       "</tbody>\n",
       "</table>\n"
      ],
      "text/latex": [
       "\\begin{tabular}{r|llllllll}\n",
       " Monthly\\_income & FICO\\_Score & Age & V6 & V5 & Max\\_gearing\\_ratio & Has\\_FICO & ID\\\\\n",
       "\\hline\n",
       "\t -0.60544913 & -0.03045546 & -1.06421961 & 5           & 1           & -0.7686307  & 1           & 305932     \\\\\n",
       "\t  1.29957219 &  0.71522164 &  0.80766165 & 4           & 6           &  1.7965902  & 1           & 305764     \\\\\n",
       "\t  0.43402737 &  0.76493345 & -0.39034236 & 4           & 5           &  1.7965902  & 1           & 305971     \\\\\n",
       "\t -0.49012205 & -1.34781834 & -0.98934436 & 5           & 2           & -0.7686307  & 1           & 305664     \\\\\n",
       "\t  0.56137967 &  1.63489006 &  0.58303590 & 4           & 5           &  1.7965902  & 1           & 305639     \\\\\n",
       "\t -0.50590021 &  0.97620862 &  0.05890915 & 5           & 4           & -0.7686307  & 1           & 305854     \\\\\n",
       "\t  0.32019921 & -0.45300582 & -1.21397011 & 4           & 2           &  1.7965902  & 1           & 306018     \\\\\n",
       "\t  0.15903657 & -0.17959088 & -1.13909486 & 4           & 3           &  0.5139798  & 1           & 305910     \\\\\n",
       "\t -0.62085538 &  0.00000000 &  0.73278640 & 4           & 6           & -0.7686307  & 0           & 305802     \\\\\n",
       "\t -0.08439791 &  1.23719561 &  0.35841015 & 4           & 5           &  0.5139798  & 1           & 306025     \\\\\n",
       "\t -0.50139216 &  0.00000000 &  0.88253690 & 5           & 6           & -0.7686307  & 0           & 305618     \\\\\n",
       "\t -0.09679504 & -1.57152147 & -1.21397011 & 4           & 2           &  0.5139798  & 1           & 305196     \\\\\n",
       "\t -0.66255480 &  0.81464525 &  1.55641416 & 7           & 7           & -0.7686307  & 1           & 306039     \\\\\n",
       "\t  0.23341933 & -1.03711955 &  0.58303590 & 4           & 5           &  0.5139798  & 1           & 306024     \\\\\n",
       "\t -0.34811860 & -0.06773932 & -0.68984336 & 5           & 3           & -0.7686307  & 1           & 306030     \\\\\n",
       "\t -0.41686630 &  0.00000000 &  1.03228740 & 5           & 2           & -0.7686307  & 0           & 306036     \\\\\n",
       "\t -0.60620423 & -0.90041208 &  0.73278640 & 4           & 5           & -0.7686307  & 1           & 303147     \\\\\n",
       "\t -0.38080193 & -2.16806315 & -1.13909486 & 5           & 1           & -0.7686307  & 1           & 305110     \\\\\n",
       "\t  0.96034174 & -0.10502317 & -1.06421961 & 3           & 3           &  1.7965902  & 1           & 305812     \\\\\n",
       "\t  0.33935841 & -0.39086606 & -1.13909486 & 4           & 2           &  1.7965902  & 1           & 305847     \\\\\n",
       "\t -0.13285941 &  0.00000000 & -0.68984336 & 5           & 2           &  0.5139798  & 0           & 305475     \\\\\n",
       "\t -0.50590021 &  0.00000000 & -1.13909486 & 4           & 1           & -0.7686307  & 0           & 306003     \\\\\n",
       "\t  0.29315094 & -1.57152147 & -1.06421961 & 4           & 1           &  1.7965902  & 1           & 306053     \\\\\n",
       "\t -0.21175021 &  0.00000000 & -0.39034236 & 4           & 4           &  0.5139798  & 0           & 305972     \\\\\n",
       "\t -0.37178584 &  0.00000000 & -1.43859586 & 5           & 2           & -0.7686307  & 0           & 306069     \\\\\n",
       "\t -0.66255480 &  0.00000000 &  0.13378440 & 5           & 2           & -0.7686307  & 0           & 306113     \\\\\n",
       "\t  0.89272105 & -0.46543377 &  0.20865965 & 4           & 2           &  1.7965902  & 1           & 306122     \\\\\n",
       "\t  0.55236358 & -1.28567858 & -0.68984336 & 5           & 1           &  1.7965902  & 1           & 306015     \\\\\n",
       "\t -0.50590021 &  0.00000000 &  0.65791115 & 5           & 3           & -0.7686307  & 0           & 306068     \\\\\n",
       "\t -0.43264446 &  1.85859319 &  1.93079041 & 7           & 7           & -0.7686307  & 1           & 305949     \\\\\n",
       "\t ... & ... & ... & ... & ... & ... & ... & ...\\\\\n",
       "\t  1.11474231 &  0.03168430 &  0.13378440 & 4           & 4           &  1.7965902  & 1           & 325436     \\\\\n",
       "\t -0.17681285 &  1.59760621 &  0.35841015 & 4           & 3           & -0.7686307  & 1           & 325312     \\\\\n",
       "\t  0.46671070 & -0.68913690 & -0.09084135 & 4           & 4           &  0.5139798  & 1           & 325484     \\\\\n",
       "\t -0.03706343 &  0.00000000 &  0.05890915 & 5           & 2           & -0.7686307  & 0           & 325144     \\\\\n",
       "\t -0.52055136 & -1.02469159 &  0.13378440 & 5           & 3           & -0.7686307  & 1           & 324723     \\\\\n",
       "\t  0.05535151 & -0.21687474 & -0.83959386 & 5           & 1           & -0.7686307  & 1           & 324896     \\\\\n",
       "\t -0.34811860 & -0.05531136 & -0.39034236 & 5           & 3           & -0.7686307  & 1           & 325373     \\\\\n",
       "\t -0.67269791 & -0.97497979 & -0.76471861 & 4           & 6           & -0.7686307  & 1           & 325496     \\\\\n",
       "\t -0.40559619 &  0.00000000 & -1.06421961 & 4           & 1           & -0.7686307  & 0           & 325303     \\\\\n",
       "\t  0.04182737 &  0.83950116 &  1.18203790 & 4           & 6           & -0.7686307  & 1           & 325356     \\\\\n",
       "\t  0.65379461 &  0.00000000 & -0.76471861 & 4           & 6           &  0.5139798  & 0           & 325522     \\\\\n",
       "\t -0.29514906 & -0.54000148 & -0.61496811 & 5           & 4           & -0.7686307  & 1           & 322847     \\\\\n",
       "\t -0.26734569 &  0.00000000 &  0.73278640 & 5           & 2           & -0.7686307  & 0           & 325517     \\\\\n",
       "\t  0.02266818 &  0.00000000 & -0.91446911 & 4           & 2           & -0.7686307  & 0           & 325504     \\\\\n",
       "\t -0.62536343 &  0.00000000 & -0.76471861 & 5           & 2           & -0.7686307  & 0           & 325262     \\\\\n",
       "\t  0.67295381 & -1.19868292 & -0.16571661 & 5           & 1           &  0.5139798  & 1           & 325481     \\\\\n",
       "\t -0.25344963 &  0.00000000 & -0.24059186 & 5           & 2           & -0.7686307  & 0           & 325459     \\\\\n",
       "\t -0.31205423 &  0.00000000 & -1.21397011 & 4           & 5           & -0.7686307  & 0           & 325513     \\\\\n",
       "\t  0.19735496 &  0.00000000 &  0.05890915 & 4           & 3           & -0.7686307  & 0           & 325415     \\\\\n",
       "\t -0.49124906 &  0.00000000 & -0.91446911 & 5           & 4           & -0.7686307  & 0           & 325454     \\\\\n",
       "\t  0.00801703 &  0.23053152 & -0.39034236 & 4           & 4           & -0.7686307  & 1           & 325485     \\\\\n",
       "\t -0.29402205 &  0.00000000 &  0.58303590 & 5           & 3           & -0.7686307  & 0           & 325483     \\\\\n",
       "\t -0.25457665 & -1.21111087 &  0.05890915 & 4           & 2           & -0.7686307  & 1           & 324820     \\\\\n",
       "\t -0.15990768 &  0.00000000 & -1.51347111 & 5           & 2           & -0.7686307  & 0           & 325011     \\\\\n",
       "\t -0.40071623 & -0.80098846 & -0.91446911 & 5           & 3           & -0.7686307  & 1           & 325479     \\\\\n",
       "\t  2.06368598 & -1.44724195 & -0.83959386 & 4           & 1           &  1.7965902  & 1           & 325349     \\\\\n",
       "\t -0.15990768 &  0.00000000 &  0.28353490 & 5           & 1           & -0.7686307  & 0           & 325393     \\\\\n",
       "\t  0.79278894 &  0.93892477 & -0.61496811 & 4           & 4           &  0.5139798  & 1           & 325510     \\\\\n",
       "\t -0.10468412 &  0.00000000 &  0.13378440 & 5           & 2           & -0.7686307  & 0           & 325534     \\\\\n",
       "\t -0.34811860 &  0.01925635 & -0.39034236 & 4           & 2           & -0.7686307  & 1           & 325624     \\\\\n",
       "\\end{tabular}\n"
      ],
      "text/markdown": [
       "\n",
       "| Monthly_income | FICO_Score | Age | V6 | V5 | Max_gearing_ratio | Has_FICO | ID |\n",
       "|---|---|---|---|---|---|---|---|\n",
       "| -0.60544913 | -0.03045546 | -1.06421961 | 5           | 1           | -0.7686307  | 1           | 305932      |\n",
       "|  1.29957219 |  0.71522164 |  0.80766165 | 4           | 6           |  1.7965902  | 1           | 305764      |\n",
       "|  0.43402737 |  0.76493345 | -0.39034236 | 4           | 5           |  1.7965902  | 1           | 305971      |\n",
       "| -0.49012205 | -1.34781834 | -0.98934436 | 5           | 2           | -0.7686307  | 1           | 305664      |\n",
       "|  0.56137967 |  1.63489006 |  0.58303590 | 4           | 5           |  1.7965902  | 1           | 305639      |\n",
       "| -0.50590021 |  0.97620862 |  0.05890915 | 5           | 4           | -0.7686307  | 1           | 305854      |\n",
       "|  0.32019921 | -0.45300582 | -1.21397011 | 4           | 2           |  1.7965902  | 1           | 306018      |\n",
       "|  0.15903657 | -0.17959088 | -1.13909486 | 4           | 3           |  0.5139798  | 1           | 305910      |\n",
       "| -0.62085538 |  0.00000000 |  0.73278640 | 4           | 6           | -0.7686307  | 0           | 305802      |\n",
       "| -0.08439791 |  1.23719561 |  0.35841015 | 4           | 5           |  0.5139798  | 1           | 306025      |\n",
       "| -0.50139216 |  0.00000000 |  0.88253690 | 5           | 6           | -0.7686307  | 0           | 305618      |\n",
       "| -0.09679504 | -1.57152147 | -1.21397011 | 4           | 2           |  0.5139798  | 1           | 305196      |\n",
       "| -0.66255480 |  0.81464525 |  1.55641416 | 7           | 7           | -0.7686307  | 1           | 306039      |\n",
       "|  0.23341933 | -1.03711955 |  0.58303590 | 4           | 5           |  0.5139798  | 1           | 306024      |\n",
       "| -0.34811860 | -0.06773932 | -0.68984336 | 5           | 3           | -0.7686307  | 1           | 306030      |\n",
       "| -0.41686630 |  0.00000000 |  1.03228740 | 5           | 2           | -0.7686307  | 0           | 306036      |\n",
       "| -0.60620423 | -0.90041208 |  0.73278640 | 4           | 5           | -0.7686307  | 1           | 303147      |\n",
       "| -0.38080193 | -2.16806315 | -1.13909486 | 5           | 1           | -0.7686307  | 1           | 305110      |\n",
       "|  0.96034174 | -0.10502317 | -1.06421961 | 3           | 3           |  1.7965902  | 1           | 305812      |\n",
       "|  0.33935841 | -0.39086606 | -1.13909486 | 4           | 2           |  1.7965902  | 1           | 305847      |\n",
       "| -0.13285941 |  0.00000000 | -0.68984336 | 5           | 2           |  0.5139798  | 0           | 305475      |\n",
       "| -0.50590021 |  0.00000000 | -1.13909486 | 4           | 1           | -0.7686307  | 0           | 306003      |\n",
       "|  0.29315094 | -1.57152147 | -1.06421961 | 4           | 1           |  1.7965902  | 1           | 306053      |\n",
       "| -0.21175021 |  0.00000000 | -0.39034236 | 4           | 4           |  0.5139798  | 0           | 305972      |\n",
       "| -0.37178584 |  0.00000000 | -1.43859586 | 5           | 2           | -0.7686307  | 0           | 306069      |\n",
       "| -0.66255480 |  0.00000000 |  0.13378440 | 5           | 2           | -0.7686307  | 0           | 306113      |\n",
       "|  0.89272105 | -0.46543377 |  0.20865965 | 4           | 2           |  1.7965902  | 1           | 306122      |\n",
       "|  0.55236358 | -1.28567858 | -0.68984336 | 5           | 1           |  1.7965902  | 1           | 306015      |\n",
       "| -0.50590021 |  0.00000000 |  0.65791115 | 5           | 3           | -0.7686307  | 0           | 306068      |\n",
       "| -0.43264446 |  1.85859319 |  1.93079041 | 7           | 7           | -0.7686307  | 1           | 305949      |\n",
       "| ... | ... | ... | ... | ... | ... | ... | ... |\n",
       "|  1.11474231 |  0.03168430 |  0.13378440 | 4           | 4           |  1.7965902  | 1           | 325436      |\n",
       "| -0.17681285 |  1.59760621 |  0.35841015 | 4           | 3           | -0.7686307  | 1           | 325312      |\n",
       "|  0.46671070 | -0.68913690 | -0.09084135 | 4           | 4           |  0.5139798  | 1           | 325484      |\n",
       "| -0.03706343 |  0.00000000 |  0.05890915 | 5           | 2           | -0.7686307  | 0           | 325144      |\n",
       "| -0.52055136 | -1.02469159 |  0.13378440 | 5           | 3           | -0.7686307  | 1           | 324723      |\n",
       "|  0.05535151 | -0.21687474 | -0.83959386 | 5           | 1           | -0.7686307  | 1           | 324896      |\n",
       "| -0.34811860 | -0.05531136 | -0.39034236 | 5           | 3           | -0.7686307  | 1           | 325373      |\n",
       "| -0.67269791 | -0.97497979 | -0.76471861 | 4           | 6           | -0.7686307  | 1           | 325496      |\n",
       "| -0.40559619 |  0.00000000 | -1.06421961 | 4           | 1           | -0.7686307  | 0           | 325303      |\n",
       "|  0.04182737 |  0.83950116 |  1.18203790 | 4           | 6           | -0.7686307  | 1           | 325356      |\n",
       "|  0.65379461 |  0.00000000 | -0.76471861 | 4           | 6           |  0.5139798  | 0           | 325522      |\n",
       "| -0.29514906 | -0.54000148 | -0.61496811 | 5           | 4           | -0.7686307  | 1           | 322847      |\n",
       "| -0.26734569 |  0.00000000 |  0.73278640 | 5           | 2           | -0.7686307  | 0           | 325517      |\n",
       "|  0.02266818 |  0.00000000 | -0.91446911 | 4           | 2           | -0.7686307  | 0           | 325504      |\n",
       "| -0.62536343 |  0.00000000 | -0.76471861 | 5           | 2           | -0.7686307  | 0           | 325262      |\n",
       "|  0.67295381 | -1.19868292 | -0.16571661 | 5           | 1           |  0.5139798  | 1           | 325481      |\n",
       "| -0.25344963 |  0.00000000 | -0.24059186 | 5           | 2           | -0.7686307  | 0           | 325459      |\n",
       "| -0.31205423 |  0.00000000 | -1.21397011 | 4           | 5           | -0.7686307  | 0           | 325513      |\n",
       "|  0.19735496 |  0.00000000 |  0.05890915 | 4           | 3           | -0.7686307  | 0           | 325415      |\n",
       "| -0.49124906 |  0.00000000 | -0.91446911 | 5           | 4           | -0.7686307  | 0           | 325454      |\n",
       "|  0.00801703 |  0.23053152 | -0.39034236 | 4           | 4           | -0.7686307  | 1           | 325485      |\n",
       "| -0.29402205 |  0.00000000 |  0.58303590 | 5           | 3           | -0.7686307  | 0           | 325483      |\n",
       "| -0.25457665 | -1.21111087 |  0.05890915 | 4           | 2           | -0.7686307  | 1           | 324820      |\n",
       "| -0.15990768 |  0.00000000 | -1.51347111 | 5           | 2           | -0.7686307  | 0           | 325011      |\n",
       "| -0.40071623 | -0.80098846 | -0.91446911 | 5           | 3           | -0.7686307  | 1           | 325479      |\n",
       "|  2.06368598 | -1.44724195 | -0.83959386 | 4           | 1           |  1.7965902  | 1           | 325349      |\n",
       "| -0.15990768 |  0.00000000 |  0.28353490 | 5           | 1           | -0.7686307  | 0           | 325393      |\n",
       "|  0.79278894 |  0.93892477 | -0.61496811 | 4           | 4           |  0.5139798  | 1           | 325510      |\n",
       "| -0.10468412 |  0.00000000 |  0.13378440 | 5           | 2           | -0.7686307  | 0           | 325534      |\n",
       "| -0.34811860 |  0.01925635 | -0.39034236 | 4           | 2           | -0.7686307  | 1           | 325624      |\n",
       "\n"
      ],
      "text/plain": [
       "     Monthly_income FICO_Score  Age         V6  V5  Max_gearing_ratio Has_FICO\n",
       "1    -0.60544913    -0.03045546 -1.06421961 5   1   -0.7686307        1       \n",
       "2     1.29957219     0.71522164  0.80766165 4   6    1.7965902        1       \n",
       "3     0.43402737     0.76493345 -0.39034236 4   5    1.7965902        1       \n",
       "4    -0.49012205    -1.34781834 -0.98934436 5   2   -0.7686307        1       \n",
       "5     0.56137967     1.63489006  0.58303590 4   5    1.7965902        1       \n",
       "6    -0.50590021     0.97620862  0.05890915 5   4   -0.7686307        1       \n",
       "7     0.32019921    -0.45300582 -1.21397011 4   2    1.7965902        1       \n",
       "8     0.15903657    -0.17959088 -1.13909486 4   3    0.5139798        1       \n",
       "9    -0.62085538     0.00000000  0.73278640 4   6   -0.7686307        0       \n",
       "10   -0.08439791     1.23719561  0.35841015 4   5    0.5139798        1       \n",
       "11   -0.50139216     0.00000000  0.88253690 5   6   -0.7686307        0       \n",
       "12   -0.09679504    -1.57152147 -1.21397011 4   2    0.5139798        1       \n",
       "13   -0.66255480     0.81464525  1.55641416 7   7   -0.7686307        1       \n",
       "14    0.23341933    -1.03711955  0.58303590 4   5    0.5139798        1       \n",
       "15   -0.34811860    -0.06773932 -0.68984336 5   3   -0.7686307        1       \n",
       "16   -0.41686630     0.00000000  1.03228740 5   2   -0.7686307        0       \n",
       "17   -0.60620423    -0.90041208  0.73278640 4   5   -0.7686307        1       \n",
       "18   -0.38080193    -2.16806315 -1.13909486 5   1   -0.7686307        1       \n",
       "19    0.96034174    -0.10502317 -1.06421961 3   3    1.7965902        1       \n",
       "20    0.33935841    -0.39086606 -1.13909486 4   2    1.7965902        1       \n",
       "21   -0.13285941     0.00000000 -0.68984336 5   2    0.5139798        0       \n",
       "22   -0.50590021     0.00000000 -1.13909486 4   1   -0.7686307        0       \n",
       "23    0.29315094    -1.57152147 -1.06421961 4   1    1.7965902        1       \n",
       "24   -0.21175021     0.00000000 -0.39034236 4   4    0.5139798        0       \n",
       "25   -0.37178584     0.00000000 -1.43859586 5   2   -0.7686307        0       \n",
       "26   -0.66255480     0.00000000  0.13378440 5   2   -0.7686307        0       \n",
       "27    0.89272105    -0.46543377  0.20865965 4   2    1.7965902        1       \n",
       "28    0.55236358    -1.28567858 -0.68984336 5   1    1.7965902        1       \n",
       "29   -0.50590021     0.00000000  0.65791115 5   3   -0.7686307        0       \n",
       "30   -0.43264446     1.85859319  1.93079041 7   7   -0.7686307        1       \n",
       "...  ...            ...         ...         ... ... ...               ...     \n",
       "4971  1.11474231     0.03168430  0.13378440 4   4    1.7965902        1       \n",
       "4972 -0.17681285     1.59760621  0.35841015 4   3   -0.7686307        1       \n",
       "4973  0.46671070    -0.68913690 -0.09084135 4   4    0.5139798        1       \n",
       "4974 -0.03706343     0.00000000  0.05890915 5   2   -0.7686307        0       \n",
       "4975 -0.52055136    -1.02469159  0.13378440 5   3   -0.7686307        1       \n",
       "4976  0.05535151    -0.21687474 -0.83959386 5   1   -0.7686307        1       \n",
       "4977 -0.34811860    -0.05531136 -0.39034236 5   3   -0.7686307        1       \n",
       "4978 -0.67269791    -0.97497979 -0.76471861 4   6   -0.7686307        1       \n",
       "4979 -0.40559619     0.00000000 -1.06421961 4   1   -0.7686307        0       \n",
       "4980  0.04182737     0.83950116  1.18203790 4   6   -0.7686307        1       \n",
       "4981  0.65379461     0.00000000 -0.76471861 4   6    0.5139798        0       \n",
       "4982 -0.29514906    -0.54000148 -0.61496811 5   4   -0.7686307        1       \n",
       "4983 -0.26734569     0.00000000  0.73278640 5   2   -0.7686307        0       \n",
       "4984  0.02266818     0.00000000 -0.91446911 4   2   -0.7686307        0       \n",
       "4985 -0.62536343     0.00000000 -0.76471861 5   2   -0.7686307        0       \n",
       "4986  0.67295381    -1.19868292 -0.16571661 5   1    0.5139798        1       \n",
       "4987 -0.25344963     0.00000000 -0.24059186 5   2   -0.7686307        0       \n",
       "4988 -0.31205423     0.00000000 -1.21397011 4   5   -0.7686307        0       \n",
       "4989  0.19735496     0.00000000  0.05890915 4   3   -0.7686307        0       \n",
       "4990 -0.49124906     0.00000000 -0.91446911 5   4   -0.7686307        0       \n",
       "4991  0.00801703     0.23053152 -0.39034236 4   4   -0.7686307        1       \n",
       "4992 -0.29402205     0.00000000  0.58303590 5   3   -0.7686307        0       \n",
       "4993 -0.25457665    -1.21111087  0.05890915 4   2   -0.7686307        1       \n",
       "4994 -0.15990768     0.00000000 -1.51347111 5   2   -0.7686307        0       \n",
       "4995 -0.40071623    -0.80098846 -0.91446911 5   3   -0.7686307        1       \n",
       "4996  2.06368598    -1.44724195 -0.83959386 4   1    1.7965902        1       \n",
       "4997 -0.15990768     0.00000000  0.28353490 5   1   -0.7686307        0       \n",
       "4998  0.79278894     0.93892477 -0.61496811 4   4    0.5139798        1       \n",
       "4999 -0.10468412     0.00000000  0.13378440 5   2   -0.7686307        0       \n",
       "5000 -0.34811860     0.01925635 -0.39034236 4   2   -0.7686307        1       \n",
       "     ID    \n",
       "1    305932\n",
       "2    305764\n",
       "3    305971\n",
       "4    305664\n",
       "5    305639\n",
       "6    305854\n",
       "7    306018\n",
       "8    305910\n",
       "9    305802\n",
       "10   306025\n",
       "11   305618\n",
       "12   305196\n",
       "13   306039\n",
       "14   306024\n",
       "15   306030\n",
       "16   306036\n",
       "17   303147\n",
       "18   305110\n",
       "19   305812\n",
       "20   305847\n",
       "21   305475\n",
       "22   306003\n",
       "23   306053\n",
       "24   305972\n",
       "25   306069\n",
       "26   306113\n",
       "27   306122\n",
       "28   306015\n",
       "29   306068\n",
       "30   305949\n",
       "...  ...   \n",
       "4971 325436\n",
       "4972 325312\n",
       "4973 325484\n",
       "4974 325144\n",
       "4975 324723\n",
       "4976 324896\n",
       "4977 325373\n",
       "4978 325496\n",
       "4979 325303\n",
       "4980 325356\n",
       "4981 325522\n",
       "4982 322847\n",
       "4983 325517\n",
       "4984 325504\n",
       "4985 325262\n",
       "4986 325481\n",
       "4987 325459\n",
       "4988 325513\n",
       "4989 325415\n",
       "4990 325454\n",
       "4991 325485\n",
       "4992 325483\n",
       "4993 324820\n",
       "4994 325011\n",
       "4995 325479\n",
       "4996 325349\n",
       "4997 325393\n",
       "4998 325510\n",
       "4999 325534\n",
       "5000 325624"
      ]
     },
     "metadata": {},
     "output_type": "display_data"
    }
   ],
   "source": [
    "Rejects_final <- Rejects[,c(\"Monthly_income\", \"FICO_Score\",\"Age\",\"V6\",\"V5\",\"Max_gearing_ratio\",\"Has_FICO\",\"ID\")]\n",
    "Rejects_final"
   ]
  },
  {
   "cell_type": "markdown",
   "metadata": {},
   "source": [
    "COMBINE ACCEPTS AND REJECTS DATA"
   ]
  },
  {
   "cell_type": "code",
   "execution_count": 207,
   "metadata": {},
   "outputs": [
    {
     "data": {
      "text/html": [
       "<table>\n",
       "<thead><tr><th scope=col>ID</th><th scope=col>Days_late</th><th scope=col>FICO_Score.x</th><th scope=col>Age.x</th><th scope=col>V6.x</th><th scope=col>V5.x</th><th scope=col>Business_channel</th><th scope=col>Default_45</th><th scope=col>Monthly_income</th><th scope=col>FICO_Score.y</th><th scope=col>Age.y</th><th scope=col>V6.y</th><th scope=col>V5.y</th><th scope=col>Max_gearing_ratio</th><th scope=col>Has_FICO</th></tr></thead>\n",
       "<tbody>\n",
       "\t<tr><td>249516     </td><td>168        </td><td> 0.00000000</td><td> 0.9574122 </td><td>4          </td><td>2          </td><td>1          </td><td>1          </td><td>NA         </td><td>NA         </td><td>NA         </td><td>NA         </td><td>NA         </td><td>NA         </td><td>NA         </td></tr>\n",
       "\t<tr><td>249827     </td><td>  0        </td><td> 0.00000000</td><td>-0.3903424 </td><td>4          </td><td>4          </td><td>1          </td><td>0          </td><td>NA         </td><td>NA         </td><td>NA         </td><td>NA         </td><td>NA         </td><td>NA         </td><td>NA         </td></tr>\n",
       "\t<tr><td>250018     </td><td>  0        </td><td> 1.19991175</td><td> 1.7810399 </td><td>7          </td><td>7          </td><td>3          </td><td>0          </td><td>NA         </td><td>NA         </td><td>NA         </td><td>NA         </td><td>NA         </td><td>NA         </td><td>NA         </td></tr>\n",
       "\t<tr><td>250033     </td><td>  0        </td><td> 0.00000000</td><td>-1.4385959 </td><td>4          </td><td>2          </td><td>2          </td><td>0          </td><td>NA         </td><td>NA         </td><td>NA         </td><td>NA         </td><td>NA         </td><td>NA         </td><td>NA         </td></tr>\n",
       "\t<tr><td>250079     </td><td>  0        </td><td> 0.00000000</td><td> 0.1337844 </td><td>4          </td><td>2          </td><td>1          </td><td>0          </td><td>NA         </td><td>NA         </td><td>NA         </td><td>NA         </td><td>NA         </td><td>NA         </td><td>NA         </td></tr>\n",
       "\t<tr><td>250196     </td><td>  0        </td><td> 0.59094212</td><td> 1.2569132 </td><td>7          </td><td>7          </td><td>1          </td><td>0          </td><td>NA         </td><td>NA         </td><td>NA         </td><td>NA         </td><td>NA         </td><td>NA         </td><td>NA         </td></tr>\n",
       "\t<tr><td>250249     </td><td>  0        </td><td>-0.24173064</td><td> 1.4066637 </td><td>7          </td><td>7          </td><td>1          </td><td>0          </td><td>NA         </td><td>NA         </td><td>NA         </td><td>NA         </td><td>NA         </td><td>NA         </td><td>NA         </td></tr>\n",
       "\t<tr><td>250263     </td><td>  0        </td><td> 0.00000000</td><td> 1.7810399 </td><td>7          </td><td>6          </td><td>1          </td><td>0          </td><td>NA         </td><td>NA         </td><td>NA         </td><td>NA         </td><td>NA         </td><td>NA         </td><td>NA         </td></tr>\n",
       "\t<tr><td>250265     </td><td>  0        </td><td>-0.17959088</td><td>-0.3903424 </td><td>5          </td><td>4          </td><td>1          </td><td>0          </td><td>NA         </td><td>NA         </td><td>NA         </td><td>NA         </td><td>NA         </td><td>NA         </td><td>NA         </td></tr>\n",
       "\t<tr><td>250266     </td><td>  0        </td><td> 0.41695080</td><td> 0.2835349 </td><td>5          </td><td>2          </td><td>1          </td><td>0          </td><td>NA         </td><td>NA         </td><td>NA         </td><td>NA         </td><td>NA         </td><td>NA         </td><td>NA         </td></tr>\n",
       "\t<tr><td>250290     </td><td>  0        </td><td> 1.49818259</td><td> 1.1071627 </td><td>1          </td><td>5          </td><td>1          </td><td>0          </td><td>NA         </td><td>NA         </td><td>NA         </td><td>NA         </td><td>NA         </td><td>NA         </td><td>NA         </td></tr>\n",
       "\t<tr><td>250308     </td><td> 15        </td><td> 0.00000000</td><td>-0.2405919 </td><td>4          </td><td>3          </td><td>1          </td><td>0          </td><td>NA         </td><td>NA         </td><td>NA         </td><td>NA         </td><td>NA         </td><td>NA         </td><td>NA         </td></tr>\n",
       "\t<tr><td>250310     </td><td>  0        </td><td>-0.27901449</td><td>-0.3903424 </td><td>1          </td><td>6          </td><td>1          </td><td>0          </td><td>NA         </td><td>NA         </td><td>NA         </td><td>NA         </td><td>NA         </td><td>NA         </td><td>NA         </td></tr>\n",
       "\t<tr><td>250321     </td><td>  0        </td><td> 0.00000000</td><td>-0.0159661 </td><td>4          </td><td>2          </td><td>1          </td><td>0          </td><td>NA         </td><td>NA         </td><td>NA         </td><td>NA         </td><td>NA         </td><td>NA         </td><td>NA         </td></tr>\n",
       "\t<tr><td>250329     </td><td>  0        </td><td> 0.00000000</td><td>-0.3903424 </td><td>4          </td><td>5          </td><td>2          </td><td>0          </td><td>NA         </td><td>NA         </td><td>NA         </td><td>NA         </td><td>NA         </td><td>NA         </td><td>NA         </td></tr>\n",
       "\t<tr><td>250334     </td><td>349        </td><td> 0.00000000</td><td>-0.3154671 </td><td>4          </td><td>3          </td><td>1          </td><td>1          </td><td>NA         </td><td>NA         </td><td>NA         </td><td>NA         </td><td>NA         </td><td>NA         </td><td>NA         </td></tr>\n",
       "\t<tr><td>250358     </td><td>  0        </td><td> 0.00000000</td><td>-0.4652176 </td><td>5          </td><td>3          </td><td>2          </td><td>0          </td><td>NA         </td><td>NA         </td><td>NA         </td><td>NA         </td><td>NA         </td><td>NA         </td><td>NA         </td></tr>\n",
       "\t<tr><td>250370     </td><td> 15        </td><td> 0.00000000</td><td>-1.1390949 </td><td>4          </td><td>2          </td><td>1          </td><td>0          </td><td>NA         </td><td>NA         </td><td>NA         </td><td>NA         </td><td>NA         </td><td>NA         </td><td>NA         </td></tr>\n",
       "\t<tr><td>250375     </td><td>336        </td><td> 0.00000000</td><td> 1.4066637 </td><td>7          </td><td>1          </td><td>1          </td><td>1          </td><td>NA         </td><td>NA         </td><td>NA         </td><td>NA         </td><td>NA         </td><td>NA         </td><td>NA         </td></tr>\n",
       "\t<tr><td>250378     </td><td>  0        </td><td> 0.65308188</td><td> 0.7327864 </td><td>4          </td><td>6          </td><td>1          </td><td>0          </td><td>NA         </td><td>NA         </td><td>NA         </td><td>NA         </td><td>NA         </td><td>NA         </td><td>NA         </td></tr>\n",
       "\t<tr><td>250389     </td><td>  0        </td><td> 0.00000000</td><td>-0.8395939 </td><td>3          </td><td>1          </td><td>1          </td><td>0          </td><td>NA         </td><td>NA         </td><td>NA         </td><td>NA         </td><td>NA         </td><td>NA         </td><td>NA         </td></tr>\n",
       "\t<tr><td>250395     </td><td>  0        </td><td> 1.11291609</td><td>-0.6898434 </td><td>4          </td><td>6          </td><td>1          </td><td>0          </td><td>NA         </td><td>NA         </td><td>NA         </td><td>NA         </td><td>NA         </td><td>NA         </td><td>NA         </td></tr>\n",
       "\t<tr><td>250405     </td><td>107        </td><td> 0.09382406</td><td> 0.8825369 </td><td>7          </td><td>7          </td><td>2          </td><td>1          </td><td>NA         </td><td>NA         </td><td>NA         </td><td>NA         </td><td>NA         </td><td>NA         </td><td>NA         </td></tr>\n",
       "\t<tr><td>250410     </td><td>459        </td><td>-0.61456919</td><td> 0.5081606 </td><td>7          </td><td>7          </td><td>2          </td><td>1          </td><td>NA         </td><td>NA         </td><td>NA         </td><td>NA         </td><td>NA         </td><td>NA         </td><td>NA         </td></tr>\n",
       "\t<tr><td>250412     </td><td> 15        </td><td> 0.26781538</td><td>-0.0159661 </td><td>5          </td><td>3          </td><td>2          </td><td>0          </td><td>NA         </td><td>NA         </td><td>NA         </td><td>NA         </td><td>NA         </td><td>NA         </td><td>NA         </td></tr>\n",
       "\t<tr><td>250413     </td><td>  0        </td><td> 0.61579803</td><td> 0.4332854 </td><td>5          </td><td>3          </td><td>2          </td><td>0          </td><td>NA         </td><td>NA         </td><td>NA         </td><td>NA         </td><td>NA         </td><td>NA         </td><td>NA         </td></tr>\n",
       "\t<tr><td>250415     </td><td>  0        </td><td> 0.00000000</td><td>-0.3154671 </td><td>4          </td><td>4          </td><td>1          </td><td>0          </td><td>NA         </td><td>NA         </td><td>NA         </td><td>NA         </td><td>NA         </td><td>NA         </td><td>NA         </td></tr>\n",
       "\t<tr><td>250420     </td><td>  0        </td><td> 0.00000000</td><td> 1.4066637 </td><td>7          </td><td>6          </td><td>1          </td><td>0          </td><td>NA         </td><td>NA         </td><td>NA         </td><td>NA         </td><td>NA         </td><td>NA         </td><td>NA         </td></tr>\n",
       "\t<tr><td>250422     </td><td> 15        </td><td>-0.52757353</td><td> 0.3584101 </td><td>5          </td><td>4          </td><td>1          </td><td>0          </td><td>NA         </td><td>NA         </td><td>NA         </td><td>NA         </td><td>NA         </td><td>NA         </td><td>NA         </td></tr>\n",
       "\t<tr><td>250447     </td><td> 15        </td><td> 0.00000000</td><td> 1.5564142 </td><td>7          </td><td>7          </td><td>2          </td><td>0          </td><td>NA         </td><td>NA         </td><td>NA         </td><td>NA         </td><td>NA         </td><td>NA         </td><td>NA         </td></tr>\n",
       "\t<tr><td>...</td><td>...</td><td>...</td><td>...</td><td>...</td><td>...</td><td>...</td><td>...</td><td>...</td><td>...</td><td>...</td><td>...</td><td>...</td><td>...</td><td>...</td></tr>\n",
       "\t<tr><td>325378      </td><td>NA          </td><td>NA          </td><td>NA          </td><td>NA          </td><td>NA          </td><td>NA          </td><td>NA          </td><td>-0.348118600</td><td> 0.05654020 </td><td> 0.73278640 </td><td>5           </td><td>1           </td><td>-0.7686307  </td><td>1           </td></tr>\n",
       "\t<tr><td>325382      </td><td>NA          </td><td>NA          </td><td>NA          </td><td>NA          </td><td>NA          </td><td>NA          </td><td>NA          </td><td>-0.325578370</td><td> 0.00000000 </td><td> 0.80766165 </td><td>4           </td><td>4           </td><td>-0.7686307  </td><td>0           </td></tr>\n",
       "\t<tr><td>325392      </td><td>NA          </td><td>NA          </td><td>NA          </td><td>NA          </td><td>NA          </td><td>NA          </td><td>NA          </td><td>-0.079889866</td><td>-2.34205447 </td><td>-1.51347111 </td><td>5           </td><td>2           </td><td>-0.7686307  </td><td>1           </td></tr>\n",
       "\t<tr><td>325393      </td><td>NA          </td><td>NA          </td><td>NA          </td><td>NA          </td><td>NA          </td><td>NA          </td><td>NA          </td><td>-0.159907681</td><td> 0.00000000 </td><td> 0.28353490 </td><td>5           </td><td>1           </td><td>-0.7686307  </td><td>0           </td></tr>\n",
       "\t<tr><td>325400      </td><td>NA          </td><td>NA          </td><td>NA          </td><td>NA          </td><td>NA          </td><td>NA          </td><td>NA          </td><td>-0.348118600</td><td>-0.29144245 </td><td> 0.35841015 </td><td>5           </td><td>6           </td><td>-0.7686307  </td><td>1           </td></tr>\n",
       "\t<tr><td>325411      </td><td>NA          </td><td>NA          </td><td>NA          </td><td>NA          </td><td>NA          </td><td>NA          </td><td>NA          </td><td> 1.033597482</td><td> 2.16929198 </td><td> 1.78103991 </td><td>7           </td><td>7           </td><td> 1.7965902  </td><td>1           </td></tr>\n",
       "\t<tr><td>325415      </td><td>NA          </td><td>NA          </td><td>NA          </td><td>NA          </td><td>NA          </td><td>NA          </td><td>NA          </td><td> 0.197354960</td><td> 0.00000000 </td><td> 0.05890915 </td><td>4           </td><td>3           </td><td>-0.7686307  </td><td>0           </td></tr>\n",
       "\t<tr><td>325420      </td><td>NA          </td><td>NA          </td><td>NA          </td><td>NA          </td><td>NA          </td><td>NA          </td><td>NA          </td><td> 0.002381973</td><td>-1.55909351 </td><td> 0.05890915 </td><td>5           </td><td>4           </td><td>-0.7686307  </td><td>1           </td></tr>\n",
       "\t<tr><td>325425      </td><td>NA          </td><td>NA          </td><td>NA          </td><td>NA          </td><td>NA          </td><td>NA          </td><td>NA          </td><td> 0.018160133</td><td> 0.00000000 </td><td>-1.36372061 </td><td>4           </td><td>1           </td><td>-0.7686307  </td><td>0           </td></tr>\n",
       "\t<tr><td>325436      </td><td>NA          </td><td>NA          </td><td>NA          </td><td>NA          </td><td>NA          </td><td>NA          </td><td>NA          </td><td> 1.114742309</td><td> 0.03168430 </td><td> 0.13378440 </td><td>4           </td><td>4           </td><td> 1.7965902  </td><td>1           </td></tr>\n",
       "\t<tr><td>325440      </td><td>NA          </td><td>NA          </td><td>NA          </td><td>NA          </td><td>NA          </td><td>NA          </td><td>NA          </td><td>-0.371785841</td><td>-0.30387040 </td><td>-0.39034236 </td><td>4           </td><td>2           </td><td>-0.7686307  </td><td>1           </td></tr>\n",
       "\t<tr><td>325445      </td><td>NA          </td><td>NA          </td><td>NA          </td><td>NA          </td><td>NA          </td><td>NA          </td><td>NA          </td><td> 6.275327904</td><td>-0.50271762 </td><td>-0.54009286 </td><td>3           </td><td>5           </td><td> 1.7965902  </td><td>1           </td></tr>\n",
       "\t<tr><td>325447      </td><td>NA          </td><td>NA          </td><td>NA          </td><td>NA          </td><td>NA          </td><td>NA          </td><td>NA          </td><td> 0.411487142</td><td> 1.46089874 </td><td> 1.33178840 </td><td>7           </td><td>7           </td><td> 0.5139798  </td><td>1           </td></tr>\n",
       "\t<tr><td>325453      </td><td>NA          </td><td>NA          </td><td>NA          </td><td>NA          </td><td>NA          </td><td>NA          </td><td>NA          </td><td>-0.344737565</td><td> 0.71522164 </td><td>-1.36372061 </td><td>4           </td><td>1           </td><td>-0.7686307  </td><td>1           </td></tr>\n",
       "\t<tr><td>325454      </td><td>NA          </td><td>NA          </td><td>NA          </td><td>NA          </td><td>NA          </td><td>NA          </td><td>NA          </td><td>-0.491249058</td><td> 0.00000000 </td><td>-0.91446911 </td><td>5           </td><td>4           </td><td>-0.7686307  </td><td>0           </td></tr>\n",
       "\t<tr><td>325455      </td><td>NA          </td><td>NA          </td><td>NA          </td><td>NA          </td><td>NA          </td><td>NA          </td><td>NA          </td><td>-0.174558831</td><td> 0.52880236 </td><td> 2.00566566 </td><td>7           </td><td>7           </td><td>-0.7686307  </td><td>1           </td></tr>\n",
       "\t<tr><td>325459      </td><td>NA          </td><td>NA          </td><td>NA          </td><td>NA          </td><td>NA          </td><td>NA          </td><td>NA          </td><td>-0.253449635</td><td> 0.00000000 </td><td>-0.24059186 </td><td>5           </td><td>2           </td><td>-0.7686307  </td><td>0           </td></tr>\n",
       "\t<tr><td>325479      </td><td>NA          </td><td>NA          </td><td>NA          </td><td>NA          </td><td>NA          </td><td>NA          </td><td>NA          </td><td>-0.400716226</td><td>-0.80098846 </td><td>-0.91446911 </td><td>5           </td><td>3           </td><td>-0.7686307  </td><td>1           </td></tr>\n",
       "\t<tr><td>325481      </td><td>NA          </td><td>NA          </td><td>NA          </td><td>NA          </td><td>NA          </td><td>NA          </td><td>NA          </td><td> 0.672953807</td><td>-1.19868292 </td><td>-0.16571661 </td><td>5           </td><td>1           </td><td> 0.5139798  </td><td>1           </td></tr>\n",
       "\t<tr><td>325483      </td><td>NA          </td><td>NA          </td><td>NA          </td><td>NA          </td><td>NA          </td><td>NA          </td><td>NA          </td><td>-0.294022048</td><td> 0.00000000 </td><td> 0.58303590 </td><td>5           </td><td>3           </td><td>-0.7686307  </td><td>0           </td></tr>\n",
       "\t<tr><td>325484      </td><td>NA          </td><td>NA          </td><td>NA          </td><td>NA          </td><td>NA          </td><td>NA          </td><td>NA          </td><td> 0.466710705</td><td>-0.68913690 </td><td>-0.09084135 </td><td>4           </td><td>4           </td><td> 0.5139798  </td><td>1           </td></tr>\n",
       "\t<tr><td>325485      </td><td>NA          </td><td>NA          </td><td>NA          </td><td>NA          </td><td>NA          </td><td>NA          </td><td>NA          </td><td> 0.008017030</td><td> 0.23053152 </td><td>-0.39034236 </td><td>4           </td><td>4           </td><td>-0.7686307  </td><td>1           </td></tr>\n",
       "\t<tr><td>325496      </td><td>NA          </td><td>NA          </td><td>NA          </td><td>NA          </td><td>NA          </td><td>NA          </td><td>NA          </td><td>-0.672697908</td><td>-0.97497979 </td><td>-0.76471861 </td><td>4           </td><td>6           </td><td>-0.7686307  </td><td>1           </td></tr>\n",
       "\t<tr><td>325504      </td><td>NA          </td><td>NA          </td><td>NA          </td><td>NA          </td><td>NA          </td><td>NA          </td><td>NA          </td><td> 0.022668179</td><td> 0.00000000 </td><td>-0.91446911 </td><td>4           </td><td>2           </td><td>-0.7686307  </td><td>0           </td></tr>\n",
       "\t<tr><td>325510      </td><td>NA          </td><td>NA          </td><td>NA          </td><td>NA          </td><td>NA          </td><td>NA          </td><td>NA          </td><td> 0.792788938</td><td> 0.93892477 </td><td>-0.61496811 </td><td>4           </td><td>4           </td><td> 0.5139798  </td><td>1           </td></tr>\n",
       "\t<tr><td>325513      </td><td>NA          </td><td>NA          </td><td>NA          </td><td>NA          </td><td>NA          </td><td>NA          </td><td>NA          </td><td>-0.312054232</td><td> 0.00000000 </td><td>-1.21397011 </td><td>4           </td><td>5           </td><td>-0.7686307  </td><td>0           </td></tr>\n",
       "\t<tr><td>325517      </td><td>NA          </td><td>NA          </td><td>NA          </td><td>NA          </td><td>NA          </td><td>NA          </td><td>NA          </td><td>-0.267345686</td><td> 0.00000000 </td><td> 0.73278640 </td><td>5           </td><td>2           </td><td>-0.7686307  </td><td>0           </td></tr>\n",
       "\t<tr><td>325522      </td><td>NA          </td><td>NA          </td><td>NA          </td><td>NA          </td><td>NA          </td><td>NA          </td><td>NA          </td><td> 0.653794612</td><td> 0.00000000 </td><td>-0.76471861 </td><td>4           </td><td>6           </td><td> 0.5139798  </td><td>0           </td></tr>\n",
       "\t<tr><td>325534      </td><td>NA          </td><td>NA          </td><td>NA          </td><td>NA          </td><td>NA          </td><td>NA          </td><td>NA          </td><td>-0.104684119</td><td> 0.00000000 </td><td> 0.13378440 </td><td>5           </td><td>2           </td><td>-0.7686307  </td><td>0           </td></tr>\n",
       "\t<tr><td>325624      </td><td>NA          </td><td>NA          </td><td>NA          </td><td>NA          </td><td>NA          </td><td>NA          </td><td>NA          </td><td>-0.348118600</td><td> 0.01925635 </td><td>-0.39034236 </td><td>4           </td><td>2           </td><td>-0.7686307  </td><td>1           </td></tr>\n",
       "</tbody>\n",
       "</table>\n"
      ],
      "text/latex": [
       "\\begin{tabular}{r|lllllllllllllll}\n",
       " ID & Days\\_late & FICO\\_Score.x & Age.x & V6.x & V5.x & Business\\_channel & Default\\_45 & Monthly\\_income & FICO\\_Score.y & Age.y & V6.y & V5.y & Max\\_gearing\\_ratio & Has\\_FICO\\\\\n",
       "\\hline\n",
       "\t 249516      & 168         &  0.00000000 &  0.9574122  & 4           & 2           & 1           & 1           & NA          & NA          & NA          & NA          & NA          & NA          & NA         \\\\\n",
       "\t 249827      &   0         &  0.00000000 & -0.3903424  & 4           & 4           & 1           & 0           & NA          & NA          & NA          & NA          & NA          & NA          & NA         \\\\\n",
       "\t 250018      &   0         &  1.19991175 &  1.7810399  & 7           & 7           & 3           & 0           & NA          & NA          & NA          & NA          & NA          & NA          & NA         \\\\\n",
       "\t 250033      &   0         &  0.00000000 & -1.4385959  & 4           & 2           & 2           & 0           & NA          & NA          & NA          & NA          & NA          & NA          & NA         \\\\\n",
       "\t 250079      &   0         &  0.00000000 &  0.1337844  & 4           & 2           & 1           & 0           & NA          & NA          & NA          & NA          & NA          & NA          & NA         \\\\\n",
       "\t 250196      &   0         &  0.59094212 &  1.2569132  & 7           & 7           & 1           & 0           & NA          & NA          & NA          & NA          & NA          & NA          & NA         \\\\\n",
       "\t 250249      &   0         & -0.24173064 &  1.4066637  & 7           & 7           & 1           & 0           & NA          & NA          & NA          & NA          & NA          & NA          & NA         \\\\\n",
       "\t 250263      &   0         &  0.00000000 &  1.7810399  & 7           & 6           & 1           & 0           & NA          & NA          & NA          & NA          & NA          & NA          & NA         \\\\\n",
       "\t 250265      &   0         & -0.17959088 & -0.3903424  & 5           & 4           & 1           & 0           & NA          & NA          & NA          & NA          & NA          & NA          & NA         \\\\\n",
       "\t 250266      &   0         &  0.41695080 &  0.2835349  & 5           & 2           & 1           & 0           & NA          & NA          & NA          & NA          & NA          & NA          & NA         \\\\\n",
       "\t 250290      &   0         &  1.49818259 &  1.1071627  & 1           & 5           & 1           & 0           & NA          & NA          & NA          & NA          & NA          & NA          & NA         \\\\\n",
       "\t 250308      &  15         &  0.00000000 & -0.2405919  & 4           & 3           & 1           & 0           & NA          & NA          & NA          & NA          & NA          & NA          & NA         \\\\\n",
       "\t 250310      &   0         & -0.27901449 & -0.3903424  & 1           & 6           & 1           & 0           & NA          & NA          & NA          & NA          & NA          & NA          & NA         \\\\\n",
       "\t 250321      &   0         &  0.00000000 & -0.0159661  & 4           & 2           & 1           & 0           & NA          & NA          & NA          & NA          & NA          & NA          & NA         \\\\\n",
       "\t 250329      &   0         &  0.00000000 & -0.3903424  & 4           & 5           & 2           & 0           & NA          & NA          & NA          & NA          & NA          & NA          & NA         \\\\\n",
       "\t 250334      & 349         &  0.00000000 & -0.3154671  & 4           & 3           & 1           & 1           & NA          & NA          & NA          & NA          & NA          & NA          & NA         \\\\\n",
       "\t 250358      &   0         &  0.00000000 & -0.4652176  & 5           & 3           & 2           & 0           & NA          & NA          & NA          & NA          & NA          & NA          & NA         \\\\\n",
       "\t 250370      &  15         &  0.00000000 & -1.1390949  & 4           & 2           & 1           & 0           & NA          & NA          & NA          & NA          & NA          & NA          & NA         \\\\\n",
       "\t 250375      & 336         &  0.00000000 &  1.4066637  & 7           & 1           & 1           & 1           & NA          & NA          & NA          & NA          & NA          & NA          & NA         \\\\\n",
       "\t 250378      &   0         &  0.65308188 &  0.7327864  & 4           & 6           & 1           & 0           & NA          & NA          & NA          & NA          & NA          & NA          & NA         \\\\\n",
       "\t 250389      &   0         &  0.00000000 & -0.8395939  & 3           & 1           & 1           & 0           & NA          & NA          & NA          & NA          & NA          & NA          & NA         \\\\\n",
       "\t 250395      &   0         &  1.11291609 & -0.6898434  & 4           & 6           & 1           & 0           & NA          & NA          & NA          & NA          & NA          & NA          & NA         \\\\\n",
       "\t 250405      & 107         &  0.09382406 &  0.8825369  & 7           & 7           & 2           & 1           & NA          & NA          & NA          & NA          & NA          & NA          & NA         \\\\\n",
       "\t 250410      & 459         & -0.61456919 &  0.5081606  & 7           & 7           & 2           & 1           & NA          & NA          & NA          & NA          & NA          & NA          & NA         \\\\\n",
       "\t 250412      &  15         &  0.26781538 & -0.0159661  & 5           & 3           & 2           & 0           & NA          & NA          & NA          & NA          & NA          & NA          & NA         \\\\\n",
       "\t 250413      &   0         &  0.61579803 &  0.4332854  & 5           & 3           & 2           & 0           & NA          & NA          & NA          & NA          & NA          & NA          & NA         \\\\\n",
       "\t 250415      &   0         &  0.00000000 & -0.3154671  & 4           & 4           & 1           & 0           & NA          & NA          & NA          & NA          & NA          & NA          & NA         \\\\\n",
       "\t 250420      &   0         &  0.00000000 &  1.4066637  & 7           & 6           & 1           & 0           & NA          & NA          & NA          & NA          & NA          & NA          & NA         \\\\\n",
       "\t 250422      &  15         & -0.52757353 &  0.3584101  & 5           & 4           & 1           & 0           & NA          & NA          & NA          & NA          & NA          & NA          & NA         \\\\\n",
       "\t 250447      &  15         &  0.00000000 &  1.5564142  & 7           & 7           & 2           & 0           & NA          & NA          & NA          & NA          & NA          & NA          & NA         \\\\\n",
       "\t ... & ... & ... & ... & ... & ... & ... & ... & ... & ... & ... & ... & ... & ... & ...\\\\\n",
       "\t 325378       & NA           & NA           & NA           & NA           & NA           & NA           & NA           & -0.348118600 &  0.05654020  &  0.73278640  & 5            & 1            & -0.7686307   & 1           \\\\\n",
       "\t 325382       & NA           & NA           & NA           & NA           & NA           & NA           & NA           & -0.325578370 &  0.00000000  &  0.80766165  & 4            & 4            & -0.7686307   & 0           \\\\\n",
       "\t 325392       & NA           & NA           & NA           & NA           & NA           & NA           & NA           & -0.079889866 & -2.34205447  & -1.51347111  & 5            & 2            & -0.7686307   & 1           \\\\\n",
       "\t 325393       & NA           & NA           & NA           & NA           & NA           & NA           & NA           & -0.159907681 &  0.00000000  &  0.28353490  & 5            & 1            & -0.7686307   & 0           \\\\\n",
       "\t 325400       & NA           & NA           & NA           & NA           & NA           & NA           & NA           & -0.348118600 & -0.29144245  &  0.35841015  & 5            & 6            & -0.7686307   & 1           \\\\\n",
       "\t 325411       & NA           & NA           & NA           & NA           & NA           & NA           & NA           &  1.033597482 &  2.16929198  &  1.78103991  & 7            & 7            &  1.7965902   & 1           \\\\\n",
       "\t 325415       & NA           & NA           & NA           & NA           & NA           & NA           & NA           &  0.197354960 &  0.00000000  &  0.05890915  & 4            & 3            & -0.7686307   & 0           \\\\\n",
       "\t 325420       & NA           & NA           & NA           & NA           & NA           & NA           & NA           &  0.002381973 & -1.55909351  &  0.05890915  & 5            & 4            & -0.7686307   & 1           \\\\\n",
       "\t 325425       & NA           & NA           & NA           & NA           & NA           & NA           & NA           &  0.018160133 &  0.00000000  & -1.36372061  & 4            & 1            & -0.7686307   & 0           \\\\\n",
       "\t 325436       & NA           & NA           & NA           & NA           & NA           & NA           & NA           &  1.114742309 &  0.03168430  &  0.13378440  & 4            & 4            &  1.7965902   & 1           \\\\\n",
       "\t 325440       & NA           & NA           & NA           & NA           & NA           & NA           & NA           & -0.371785841 & -0.30387040  & -0.39034236  & 4            & 2            & -0.7686307   & 1           \\\\\n",
       "\t 325445       & NA           & NA           & NA           & NA           & NA           & NA           & NA           &  6.275327904 & -0.50271762  & -0.54009286  & 3            & 5            &  1.7965902   & 1           \\\\\n",
       "\t 325447       & NA           & NA           & NA           & NA           & NA           & NA           & NA           &  0.411487142 &  1.46089874  &  1.33178840  & 7            & 7            &  0.5139798   & 1           \\\\\n",
       "\t 325453       & NA           & NA           & NA           & NA           & NA           & NA           & NA           & -0.344737565 &  0.71522164  & -1.36372061  & 4            & 1            & -0.7686307   & 1           \\\\\n",
       "\t 325454       & NA           & NA           & NA           & NA           & NA           & NA           & NA           & -0.491249058 &  0.00000000  & -0.91446911  & 5            & 4            & -0.7686307   & 0           \\\\\n",
       "\t 325455       & NA           & NA           & NA           & NA           & NA           & NA           & NA           & -0.174558831 &  0.52880236  &  2.00566566  & 7            & 7            & -0.7686307   & 1           \\\\\n",
       "\t 325459       & NA           & NA           & NA           & NA           & NA           & NA           & NA           & -0.253449635 &  0.00000000  & -0.24059186  & 5            & 2            & -0.7686307   & 0           \\\\\n",
       "\t 325479       & NA           & NA           & NA           & NA           & NA           & NA           & NA           & -0.400716226 & -0.80098846  & -0.91446911  & 5            & 3            & -0.7686307   & 1           \\\\\n",
       "\t 325481       & NA           & NA           & NA           & NA           & NA           & NA           & NA           &  0.672953807 & -1.19868292  & -0.16571661  & 5            & 1            &  0.5139798   & 1           \\\\\n",
       "\t 325483       & NA           & NA           & NA           & NA           & NA           & NA           & NA           & -0.294022048 &  0.00000000  &  0.58303590  & 5            & 3            & -0.7686307   & 0           \\\\\n",
       "\t 325484       & NA           & NA           & NA           & NA           & NA           & NA           & NA           &  0.466710705 & -0.68913690  & -0.09084135  & 4            & 4            &  0.5139798   & 1           \\\\\n",
       "\t 325485       & NA           & NA           & NA           & NA           & NA           & NA           & NA           &  0.008017030 &  0.23053152  & -0.39034236  & 4            & 4            & -0.7686307   & 1           \\\\\n",
       "\t 325496       & NA           & NA           & NA           & NA           & NA           & NA           & NA           & -0.672697908 & -0.97497979  & -0.76471861  & 4            & 6            & -0.7686307   & 1           \\\\\n",
       "\t 325504       & NA           & NA           & NA           & NA           & NA           & NA           & NA           &  0.022668179 &  0.00000000  & -0.91446911  & 4            & 2            & -0.7686307   & 0           \\\\\n",
       "\t 325510       & NA           & NA           & NA           & NA           & NA           & NA           & NA           &  0.792788938 &  0.93892477  & -0.61496811  & 4            & 4            &  0.5139798   & 1           \\\\\n",
       "\t 325513       & NA           & NA           & NA           & NA           & NA           & NA           & NA           & -0.312054232 &  0.00000000  & -1.21397011  & 4            & 5            & -0.7686307   & 0           \\\\\n",
       "\t 325517       & NA           & NA           & NA           & NA           & NA           & NA           & NA           & -0.267345686 &  0.00000000  &  0.73278640  & 5            & 2            & -0.7686307   & 0           \\\\\n",
       "\t 325522       & NA           & NA           & NA           & NA           & NA           & NA           & NA           &  0.653794612 &  0.00000000  & -0.76471861  & 4            & 6            &  0.5139798   & 0           \\\\\n",
       "\t 325534       & NA           & NA           & NA           & NA           & NA           & NA           & NA           & -0.104684119 &  0.00000000  &  0.13378440  & 5            & 2            & -0.7686307   & 0           \\\\\n",
       "\t 325624       & NA           & NA           & NA           & NA           & NA           & NA           & NA           & -0.348118600 &  0.01925635  & -0.39034236  & 4            & 2            & -0.7686307   & 1           \\\\\n",
       "\\end{tabular}\n"
      ],
      "text/markdown": [
       "\n",
       "| ID | Days_late | FICO_Score.x | Age.x | V6.x | V5.x | Business_channel | Default_45 | Monthly_income | FICO_Score.y | Age.y | V6.y | V5.y | Max_gearing_ratio | Has_FICO |\n",
       "|---|---|---|---|---|---|---|---|---|---|---|---|---|---|---|\n",
       "| 249516      | 168         |  0.00000000 |  0.9574122  | 4           | 2           | 1           | 1           | NA          | NA          | NA          | NA          | NA          | NA          | NA          |\n",
       "| 249827      |   0         |  0.00000000 | -0.3903424  | 4           | 4           | 1           | 0           | NA          | NA          | NA          | NA          | NA          | NA          | NA          |\n",
       "| 250018      |   0         |  1.19991175 |  1.7810399  | 7           | 7           | 3           | 0           | NA          | NA          | NA          | NA          | NA          | NA          | NA          |\n",
       "| 250033      |   0         |  0.00000000 | -1.4385959  | 4           | 2           | 2           | 0           | NA          | NA          | NA          | NA          | NA          | NA          | NA          |\n",
       "| 250079      |   0         |  0.00000000 |  0.1337844  | 4           | 2           | 1           | 0           | NA          | NA          | NA          | NA          | NA          | NA          | NA          |\n",
       "| 250196      |   0         |  0.59094212 |  1.2569132  | 7           | 7           | 1           | 0           | NA          | NA          | NA          | NA          | NA          | NA          | NA          |\n",
       "| 250249      |   0         | -0.24173064 |  1.4066637  | 7           | 7           | 1           | 0           | NA          | NA          | NA          | NA          | NA          | NA          | NA          |\n",
       "| 250263      |   0         |  0.00000000 |  1.7810399  | 7           | 6           | 1           | 0           | NA          | NA          | NA          | NA          | NA          | NA          | NA          |\n",
       "| 250265      |   0         | -0.17959088 | -0.3903424  | 5           | 4           | 1           | 0           | NA          | NA          | NA          | NA          | NA          | NA          | NA          |\n",
       "| 250266      |   0         |  0.41695080 |  0.2835349  | 5           | 2           | 1           | 0           | NA          | NA          | NA          | NA          | NA          | NA          | NA          |\n",
       "| 250290      |   0         |  1.49818259 |  1.1071627  | 1           | 5           | 1           | 0           | NA          | NA          | NA          | NA          | NA          | NA          | NA          |\n",
       "| 250308      |  15         |  0.00000000 | -0.2405919  | 4           | 3           | 1           | 0           | NA          | NA          | NA          | NA          | NA          | NA          | NA          |\n",
       "| 250310      |   0         | -0.27901449 | -0.3903424  | 1           | 6           | 1           | 0           | NA          | NA          | NA          | NA          | NA          | NA          | NA          |\n",
       "| 250321      |   0         |  0.00000000 | -0.0159661  | 4           | 2           | 1           | 0           | NA          | NA          | NA          | NA          | NA          | NA          | NA          |\n",
       "| 250329      |   0         |  0.00000000 | -0.3903424  | 4           | 5           | 2           | 0           | NA          | NA          | NA          | NA          | NA          | NA          | NA          |\n",
       "| 250334      | 349         |  0.00000000 | -0.3154671  | 4           | 3           | 1           | 1           | NA          | NA          | NA          | NA          | NA          | NA          | NA          |\n",
       "| 250358      |   0         |  0.00000000 | -0.4652176  | 5           | 3           | 2           | 0           | NA          | NA          | NA          | NA          | NA          | NA          | NA          |\n",
       "| 250370      |  15         |  0.00000000 | -1.1390949  | 4           | 2           | 1           | 0           | NA          | NA          | NA          | NA          | NA          | NA          | NA          |\n",
       "| 250375      | 336         |  0.00000000 |  1.4066637  | 7           | 1           | 1           | 1           | NA          | NA          | NA          | NA          | NA          | NA          | NA          |\n",
       "| 250378      |   0         |  0.65308188 |  0.7327864  | 4           | 6           | 1           | 0           | NA          | NA          | NA          | NA          | NA          | NA          | NA          |\n",
       "| 250389      |   0         |  0.00000000 | -0.8395939  | 3           | 1           | 1           | 0           | NA          | NA          | NA          | NA          | NA          | NA          | NA          |\n",
       "| 250395      |   0         |  1.11291609 | -0.6898434  | 4           | 6           | 1           | 0           | NA          | NA          | NA          | NA          | NA          | NA          | NA          |\n",
       "| 250405      | 107         |  0.09382406 |  0.8825369  | 7           | 7           | 2           | 1           | NA          | NA          | NA          | NA          | NA          | NA          | NA          |\n",
       "| 250410      | 459         | -0.61456919 |  0.5081606  | 7           | 7           | 2           | 1           | NA          | NA          | NA          | NA          | NA          | NA          | NA          |\n",
       "| 250412      |  15         |  0.26781538 | -0.0159661  | 5           | 3           | 2           | 0           | NA          | NA          | NA          | NA          | NA          | NA          | NA          |\n",
       "| 250413      |   0         |  0.61579803 |  0.4332854  | 5           | 3           | 2           | 0           | NA          | NA          | NA          | NA          | NA          | NA          | NA          |\n",
       "| 250415      |   0         |  0.00000000 | -0.3154671  | 4           | 4           | 1           | 0           | NA          | NA          | NA          | NA          | NA          | NA          | NA          |\n",
       "| 250420      |   0         |  0.00000000 |  1.4066637  | 7           | 6           | 1           | 0           | NA          | NA          | NA          | NA          | NA          | NA          | NA          |\n",
       "| 250422      |  15         | -0.52757353 |  0.3584101  | 5           | 4           | 1           | 0           | NA          | NA          | NA          | NA          | NA          | NA          | NA          |\n",
       "| 250447      |  15         |  0.00000000 |  1.5564142  | 7           | 7           | 2           | 0           | NA          | NA          | NA          | NA          | NA          | NA          | NA          |\n",
       "| ... | ... | ... | ... | ... | ... | ... | ... | ... | ... | ... | ... | ... | ... | ... |\n",
       "| 325378       | NA           | NA           | NA           | NA           | NA           | NA           | NA           | -0.348118600 |  0.05654020  |  0.73278640  | 5            | 1            | -0.7686307   | 1            |\n",
       "| 325382       | NA           | NA           | NA           | NA           | NA           | NA           | NA           | -0.325578370 |  0.00000000  |  0.80766165  | 4            | 4            | -0.7686307   | 0            |\n",
       "| 325392       | NA           | NA           | NA           | NA           | NA           | NA           | NA           | -0.079889866 | -2.34205447  | -1.51347111  | 5            | 2            | -0.7686307   | 1            |\n",
       "| 325393       | NA           | NA           | NA           | NA           | NA           | NA           | NA           | -0.159907681 |  0.00000000  |  0.28353490  | 5            | 1            | -0.7686307   | 0            |\n",
       "| 325400       | NA           | NA           | NA           | NA           | NA           | NA           | NA           | -0.348118600 | -0.29144245  |  0.35841015  | 5            | 6            | -0.7686307   | 1            |\n",
       "| 325411       | NA           | NA           | NA           | NA           | NA           | NA           | NA           |  1.033597482 |  2.16929198  |  1.78103991  | 7            | 7            |  1.7965902   | 1            |\n",
       "| 325415       | NA           | NA           | NA           | NA           | NA           | NA           | NA           |  0.197354960 |  0.00000000  |  0.05890915  | 4            | 3            | -0.7686307   | 0            |\n",
       "| 325420       | NA           | NA           | NA           | NA           | NA           | NA           | NA           |  0.002381973 | -1.55909351  |  0.05890915  | 5            | 4            | -0.7686307   | 1            |\n",
       "| 325425       | NA           | NA           | NA           | NA           | NA           | NA           | NA           |  0.018160133 |  0.00000000  | -1.36372061  | 4            | 1            | -0.7686307   | 0            |\n",
       "| 325436       | NA           | NA           | NA           | NA           | NA           | NA           | NA           |  1.114742309 |  0.03168430  |  0.13378440  | 4            | 4            |  1.7965902   | 1            |\n",
       "| 325440       | NA           | NA           | NA           | NA           | NA           | NA           | NA           | -0.371785841 | -0.30387040  | -0.39034236  | 4            | 2            | -0.7686307   | 1            |\n",
       "| 325445       | NA           | NA           | NA           | NA           | NA           | NA           | NA           |  6.275327904 | -0.50271762  | -0.54009286  | 3            | 5            |  1.7965902   | 1            |\n",
       "| 325447       | NA           | NA           | NA           | NA           | NA           | NA           | NA           |  0.411487142 |  1.46089874  |  1.33178840  | 7            | 7            |  0.5139798   | 1            |\n",
       "| 325453       | NA           | NA           | NA           | NA           | NA           | NA           | NA           | -0.344737565 |  0.71522164  | -1.36372061  | 4            | 1            | -0.7686307   | 1            |\n",
       "| 325454       | NA           | NA           | NA           | NA           | NA           | NA           | NA           | -0.491249058 |  0.00000000  | -0.91446911  | 5            | 4            | -0.7686307   | 0            |\n",
       "| 325455       | NA           | NA           | NA           | NA           | NA           | NA           | NA           | -0.174558831 |  0.52880236  |  2.00566566  | 7            | 7            | -0.7686307   | 1            |\n",
       "| 325459       | NA           | NA           | NA           | NA           | NA           | NA           | NA           | -0.253449635 |  0.00000000  | -0.24059186  | 5            | 2            | -0.7686307   | 0            |\n",
       "| 325479       | NA           | NA           | NA           | NA           | NA           | NA           | NA           | -0.400716226 | -0.80098846  | -0.91446911  | 5            | 3            | -0.7686307   | 1            |\n",
       "| 325481       | NA           | NA           | NA           | NA           | NA           | NA           | NA           |  0.672953807 | -1.19868292  | -0.16571661  | 5            | 1            |  0.5139798   | 1            |\n",
       "| 325483       | NA           | NA           | NA           | NA           | NA           | NA           | NA           | -0.294022048 |  0.00000000  |  0.58303590  | 5            | 3            | -0.7686307   | 0            |\n",
       "| 325484       | NA           | NA           | NA           | NA           | NA           | NA           | NA           |  0.466710705 | -0.68913690  | -0.09084135  | 4            | 4            |  0.5139798   | 1            |\n",
       "| 325485       | NA           | NA           | NA           | NA           | NA           | NA           | NA           |  0.008017030 |  0.23053152  | -0.39034236  | 4            | 4            | -0.7686307   | 1            |\n",
       "| 325496       | NA           | NA           | NA           | NA           | NA           | NA           | NA           | -0.672697908 | -0.97497979  | -0.76471861  | 4            | 6            | -0.7686307   | 1            |\n",
       "| 325504       | NA           | NA           | NA           | NA           | NA           | NA           | NA           |  0.022668179 |  0.00000000  | -0.91446911  | 4            | 2            | -0.7686307   | 0            |\n",
       "| 325510       | NA           | NA           | NA           | NA           | NA           | NA           | NA           |  0.792788938 |  0.93892477  | -0.61496811  | 4            | 4            |  0.5139798   | 1            |\n",
       "| 325513       | NA           | NA           | NA           | NA           | NA           | NA           | NA           | -0.312054232 |  0.00000000  | -1.21397011  | 4            | 5            | -0.7686307   | 0            |\n",
       "| 325517       | NA           | NA           | NA           | NA           | NA           | NA           | NA           | -0.267345686 |  0.00000000  |  0.73278640  | 5            | 2            | -0.7686307   | 0            |\n",
       "| 325522       | NA           | NA           | NA           | NA           | NA           | NA           | NA           |  0.653794612 |  0.00000000  | -0.76471861  | 4            | 6            |  0.5139798   | 0            |\n",
       "| 325534       | NA           | NA           | NA           | NA           | NA           | NA           | NA           | -0.104684119 |  0.00000000  |  0.13378440  | 5            | 2            | -0.7686307   | 0            |\n",
       "| 325624       | NA           | NA           | NA           | NA           | NA           | NA           | NA           | -0.348118600 |  0.01925635  | -0.39034236  | 4            | 2            | -0.7686307   | 1            |\n",
       "\n"
      ],
      "text/plain": [
       "      ID     Days_late FICO_Score.x Age.x      V6.x V5.x Business_channel\n",
       "1     249516 168        0.00000000   0.9574122 4    2    1               \n",
       "2     249827   0        0.00000000  -0.3903424 4    4    1               \n",
       "3     250018   0        1.19991175   1.7810399 7    7    3               \n",
       "4     250033   0        0.00000000  -1.4385959 4    2    2               \n",
       "5     250079   0        0.00000000   0.1337844 4    2    1               \n",
       "6     250196   0        0.59094212   1.2569132 7    7    1               \n",
       "7     250249   0       -0.24173064   1.4066637 7    7    1               \n",
       "8     250263   0        0.00000000   1.7810399 7    6    1               \n",
       "9     250265   0       -0.17959088  -0.3903424 5    4    1               \n",
       "10    250266   0        0.41695080   0.2835349 5    2    1               \n",
       "11    250290   0        1.49818259   1.1071627 1    5    1               \n",
       "12    250308  15        0.00000000  -0.2405919 4    3    1               \n",
       "13    250310   0       -0.27901449  -0.3903424 1    6    1               \n",
       "14    250321   0        0.00000000  -0.0159661 4    2    1               \n",
       "15    250329   0        0.00000000  -0.3903424 4    5    2               \n",
       "16    250334 349        0.00000000  -0.3154671 4    3    1               \n",
       "17    250358   0        0.00000000  -0.4652176 5    3    2               \n",
       "18    250370  15        0.00000000  -1.1390949 4    2    1               \n",
       "19    250375 336        0.00000000   1.4066637 7    1    1               \n",
       "20    250378   0        0.65308188   0.7327864 4    6    1               \n",
       "21    250389   0        0.00000000  -0.8395939 3    1    1               \n",
       "22    250395   0        1.11291609  -0.6898434 4    6    1               \n",
       "23    250405 107        0.09382406   0.8825369 7    7    2               \n",
       "24    250410 459       -0.61456919   0.5081606 7    7    2               \n",
       "25    250412  15        0.26781538  -0.0159661 5    3    2               \n",
       "26    250413   0        0.61579803   0.4332854 5    3    2               \n",
       "27    250415   0        0.00000000  -0.3154671 4    4    1               \n",
       "28    250420   0        0.00000000   1.4066637 7    6    1               \n",
       "29    250422  15       -0.52757353   0.3584101 5    4    1               \n",
       "30    250447  15        0.00000000   1.5564142 7    7    2               \n",
       "...   ...    ...       ...          ...        ...  ...  ...             \n",
       "14971 325378 NA        NA           NA         NA   NA   NA              \n",
       "14972 325382 NA        NA           NA         NA   NA   NA              \n",
       "14973 325392 NA        NA           NA         NA   NA   NA              \n",
       "14974 325393 NA        NA           NA         NA   NA   NA              \n",
       "14975 325400 NA        NA           NA         NA   NA   NA              \n",
       "14976 325411 NA        NA           NA         NA   NA   NA              \n",
       "14977 325415 NA        NA           NA         NA   NA   NA              \n",
       "14978 325420 NA        NA           NA         NA   NA   NA              \n",
       "14979 325425 NA        NA           NA         NA   NA   NA              \n",
       "14980 325436 NA        NA           NA         NA   NA   NA              \n",
       "14981 325440 NA        NA           NA         NA   NA   NA              \n",
       "14982 325445 NA        NA           NA         NA   NA   NA              \n",
       "14983 325447 NA        NA           NA         NA   NA   NA              \n",
       "14984 325453 NA        NA           NA         NA   NA   NA              \n",
       "14985 325454 NA        NA           NA         NA   NA   NA              \n",
       "14986 325455 NA        NA           NA         NA   NA   NA              \n",
       "14987 325459 NA        NA           NA         NA   NA   NA              \n",
       "14988 325479 NA        NA           NA         NA   NA   NA              \n",
       "14989 325481 NA        NA           NA         NA   NA   NA              \n",
       "14990 325483 NA        NA           NA         NA   NA   NA              \n",
       "14991 325484 NA        NA           NA         NA   NA   NA              \n",
       "14992 325485 NA        NA           NA         NA   NA   NA              \n",
       "14993 325496 NA        NA           NA         NA   NA   NA              \n",
       "14994 325504 NA        NA           NA         NA   NA   NA              \n",
       "14995 325510 NA        NA           NA         NA   NA   NA              \n",
       "14996 325513 NA        NA           NA         NA   NA   NA              \n",
       "14997 325517 NA        NA           NA         NA   NA   NA              \n",
       "14998 325522 NA        NA           NA         NA   NA   NA              \n",
       "14999 325534 NA        NA           NA         NA   NA   NA              \n",
       "15000 325624 NA        NA           NA         NA   NA   NA              \n",
       "      Default_45 Monthly_income FICO_Score.y Age.y       V6.y V5.y\n",
       "1     1          NA             NA           NA          NA   NA  \n",
       "2     0          NA             NA           NA          NA   NA  \n",
       "3     0          NA             NA           NA          NA   NA  \n",
       "4     0          NA             NA           NA          NA   NA  \n",
       "5     0          NA             NA           NA          NA   NA  \n",
       "6     0          NA             NA           NA          NA   NA  \n",
       "7     0          NA             NA           NA          NA   NA  \n",
       "8     0          NA             NA           NA          NA   NA  \n",
       "9     0          NA             NA           NA          NA   NA  \n",
       "10    0          NA             NA           NA          NA   NA  \n",
       "11    0          NA             NA           NA          NA   NA  \n",
       "12    0          NA             NA           NA          NA   NA  \n",
       "13    0          NA             NA           NA          NA   NA  \n",
       "14    0          NA             NA           NA          NA   NA  \n",
       "15    0          NA             NA           NA          NA   NA  \n",
       "16    1          NA             NA           NA          NA   NA  \n",
       "17    0          NA             NA           NA          NA   NA  \n",
       "18    0          NA             NA           NA          NA   NA  \n",
       "19    1          NA             NA           NA          NA   NA  \n",
       "20    0          NA             NA           NA          NA   NA  \n",
       "21    0          NA             NA           NA          NA   NA  \n",
       "22    0          NA             NA           NA          NA   NA  \n",
       "23    1          NA             NA           NA          NA   NA  \n",
       "24    1          NA             NA           NA          NA   NA  \n",
       "25    0          NA             NA           NA          NA   NA  \n",
       "26    0          NA             NA           NA          NA   NA  \n",
       "27    0          NA             NA           NA          NA   NA  \n",
       "28    0          NA             NA           NA          NA   NA  \n",
       "29    0          NA             NA           NA          NA   NA  \n",
       "30    0          NA             NA           NA          NA   NA  \n",
       "...   ...        ...            ...          ...         ...  ... \n",
       "14971 NA         -0.348118600    0.05654020   0.73278640 5    1   \n",
       "14972 NA         -0.325578370    0.00000000   0.80766165 4    4   \n",
       "14973 NA         -0.079889866   -2.34205447  -1.51347111 5    2   \n",
       "14974 NA         -0.159907681    0.00000000   0.28353490 5    1   \n",
       "14975 NA         -0.348118600   -0.29144245   0.35841015 5    6   \n",
       "14976 NA          1.033597482    2.16929198   1.78103991 7    7   \n",
       "14977 NA          0.197354960    0.00000000   0.05890915 4    3   \n",
       "14978 NA          0.002381973   -1.55909351   0.05890915 5    4   \n",
       "14979 NA          0.018160133    0.00000000  -1.36372061 4    1   \n",
       "14980 NA          1.114742309    0.03168430   0.13378440 4    4   \n",
       "14981 NA         -0.371785841   -0.30387040  -0.39034236 4    2   \n",
       "14982 NA          6.275327904   -0.50271762  -0.54009286 3    5   \n",
       "14983 NA          0.411487142    1.46089874   1.33178840 7    7   \n",
       "14984 NA         -0.344737565    0.71522164  -1.36372061 4    1   \n",
       "14985 NA         -0.491249058    0.00000000  -0.91446911 5    4   \n",
       "14986 NA         -0.174558831    0.52880236   2.00566566 7    7   \n",
       "14987 NA         -0.253449635    0.00000000  -0.24059186 5    2   \n",
       "14988 NA         -0.400716226   -0.80098846  -0.91446911 5    3   \n",
       "14989 NA          0.672953807   -1.19868292  -0.16571661 5    1   \n",
       "14990 NA         -0.294022048    0.00000000   0.58303590 5    3   \n",
       "14991 NA          0.466710705   -0.68913690  -0.09084135 4    4   \n",
       "14992 NA          0.008017030    0.23053152  -0.39034236 4    4   \n",
       "14993 NA         -0.672697908   -0.97497979  -0.76471861 4    6   \n",
       "14994 NA          0.022668179    0.00000000  -0.91446911 4    2   \n",
       "14995 NA          0.792788938    0.93892477  -0.61496811 4    4   \n",
       "14996 NA         -0.312054232    0.00000000  -1.21397011 4    5   \n",
       "14997 NA         -0.267345686    0.00000000   0.73278640 5    2   \n",
       "14998 NA          0.653794612    0.00000000  -0.76471861 4    6   \n",
       "14999 NA         -0.104684119    0.00000000   0.13378440 5    2   \n",
       "15000 NA         -0.348118600    0.01925635  -0.39034236 4    2   \n",
       "      Max_gearing_ratio Has_FICO\n",
       "1     NA                NA      \n",
       "2     NA                NA      \n",
       "3     NA                NA      \n",
       "4     NA                NA      \n",
       "5     NA                NA      \n",
       "6     NA                NA      \n",
       "7     NA                NA      \n",
       "8     NA                NA      \n",
       "9     NA                NA      \n",
       "10    NA                NA      \n",
       "11    NA                NA      \n",
       "12    NA                NA      \n",
       "13    NA                NA      \n",
       "14    NA                NA      \n",
       "15    NA                NA      \n",
       "16    NA                NA      \n",
       "17    NA                NA      \n",
       "18    NA                NA      \n",
       "19    NA                NA      \n",
       "20    NA                NA      \n",
       "21    NA                NA      \n",
       "22    NA                NA      \n",
       "23    NA                NA      \n",
       "24    NA                NA      \n",
       "25    NA                NA      \n",
       "26    NA                NA      \n",
       "27    NA                NA      \n",
       "28    NA                NA      \n",
       "29    NA                NA      \n",
       "30    NA                NA      \n",
       "...   ...               ...     \n",
       "14971 -0.7686307        1       \n",
       "14972 -0.7686307        0       \n",
       "14973 -0.7686307        1       \n",
       "14974 -0.7686307        0       \n",
       "14975 -0.7686307        1       \n",
       "14976  1.7965902        1       \n",
       "14977 -0.7686307        0       \n",
       "14978 -0.7686307        1       \n",
       "14979 -0.7686307        0       \n",
       "14980  1.7965902        1       \n",
       "14981 -0.7686307        1       \n",
       "14982  1.7965902        1       \n",
       "14983  0.5139798        1       \n",
       "14984 -0.7686307        1       \n",
       "14985 -0.7686307        0       \n",
       "14986 -0.7686307        1       \n",
       "14987 -0.7686307        0       \n",
       "14988 -0.7686307        1       \n",
       "14989  0.5139798        1       \n",
       "14990 -0.7686307        0       \n",
       "14991  0.5139798        1       \n",
       "14992 -0.7686307        1       \n",
       "14993 -0.7686307        1       \n",
       "14994 -0.7686307        0       \n",
       "14995  0.5139798        1       \n",
       "14996 -0.7686307        0       \n",
       "14997 -0.7686307        0       \n",
       "14998  0.5139798        0       \n",
       "14999 -0.7686307        0       \n",
       "15000 -0.7686307        1       "
      ]
     },
     "metadata": {},
     "output_type": "display_data"
    }
   ],
   "source": [
    "#Combining accepts and rejects final \n",
    "Final_table <- merge(x = Accepts_final, y = Rejects_final, by = \"ID\", all = TRUE)\n",
    "Final_table"
   ]
  },
  {
   "cell_type": "code",
   "execution_count": 208,
   "metadata": {},
   "outputs": [
    {
     "data": {
      "text/html": [
       "15000"
      ],
      "text/latex": [
       "15000"
      ],
      "text/markdown": [
       "15000"
      ],
      "text/plain": [
       "[1] 15000"
      ]
     },
     "metadata": {},
     "output_type": "display_data"
    }
   ],
   "source": [
    "nrow(Final_table)"
   ]
  },
  {
   "cell_type": "code",
   "execution_count": 211,
   "metadata": {},
   "outputs": [
    {
     "data": {
      "text/html": [
       "0"
      ],
      "text/latex": [
       "0"
      ],
      "text/markdown": [
       "0"
      ],
      "text/plain": [
       "[1] 0"
      ]
     },
     "metadata": {},
     "output_type": "display_data"
    }
   ],
   "source": [
    "sum(is.na(Final_table))"
   ]
  },
  {
   "cell_type": "code",
   "execution_count": 210,
   "metadata": {},
   "outputs": [
    {
     "name": "stderr",
     "output_type": "stream",
     "text": [
      "Warning message:\n",
      "\"na.replace will replaced by na_replace.\n",
      "    Functionality stays the same.\n",
      "    The new function name better fits modern R code style guidelines.\n",
      "    Please adjust your code accordingly.\""
     ]
    }
   ],
   "source": [
    "#Replaced all NA values with 0\n",
    "Final_table <- na.replace(Final_table, 0)"
   ]
  },
  {
   "cell_type": "code",
   "execution_count": 215,
   "metadata": {},
   "outputs": [],
   "source": [
    "#Splitting the data into train, validation and test set\n",
    "ff_Training   <- 0.70\n",
    "ff_Validation <- 0.20\n",
    "ff_Test       <- 0.10\n",
    "\n",
    "# Compute sample sizes.\n",
    "fsa_Training   <- floor(ff_Training   * nrow(Final_table))\n",
    "fsa_Validation <- floor(ff_Validation * nrow(Final_table))\n",
    "fsa_Test       <- floor(ff_Test       * nrow(Final_table))\n",
    "\n",
    "# Create the randomly-sampled indices for the dataframe. Use setdiff() to\n",
    "# avoid overlapping subsets of indices.\n",
    "fi_Training    <- sort(sample(seq_len(nrow(Final_table)), size=fsa_Training))\n",
    "fin_Training <- setdiff(seq_len(nrow(Final_table)), fi_Training)\n",
    "fi_Validation  <- sort(sample(fin_Training, size=fsa_Validation))\n",
    "fi_Test        <- setdiff(fin_Training, fi_Validation)\n",
    "\n",
    "# Finally, output the three dataframes for training, validation and test.\n",
    "fTraining   <- Final_table[fi_Training, ]\n",
    "fValidation <- Final_table[fi_Validation, ]\n",
    "fTest       <- Final_table[fi_Test, ]"
   ]
  },
  {
   "cell_type": "markdown",
   "metadata": {},
   "source": [
    "MODELLING PART"
   ]
  },
  {
   "cell_type": "markdown",
   "metadata": {},
   "source": [
    "Linear Regression"
   ]
  },
  {
   "cell_type": "code",
   "execution_count": 219,
   "metadata": {},
   "outputs": [
    {
     "data": {
      "text/plain": [
       "\n",
       "Call:\n",
       "lm(formula = Default_45 ~ ., data = fTraining)\n",
       "\n",
       "Residuals:\n",
       "     Min       1Q   Median       3Q      Max \n",
       "-0.88550 -0.08192 -0.02145  0.00426  0.88677 \n",
       "\n",
       "Coefficients:\n",
       "                    Estimate Std. Error t value Pr(>|t|)    \n",
       "(Intercept)       -3.669e-01  4.299e-02  -8.533  < 2e-16 ***\n",
       "ID                 1.358e-06  1.421e-07   9.555  < 2e-16 ***\n",
       "Days_late          2.928e-03  2.101e-05 139.333  < 2e-16 ***\n",
       "FICO_Score.x      -3.833e-02  3.362e-03 -11.401  < 2e-16 ***\n",
       "Age.x             -1.784e-02  3.171e-03  -5.628 1.87e-08 ***\n",
       "V6.x               1.283e-02  1.866e-03   6.874 6.60e-12 ***\n",
       "V5.x              -2.955e-03  1.573e-03  -1.878   0.0604 .  \n",
       "Business_channel   1.658e-03  3.471e-03   0.478   0.6330    \n",
       "Monthly_income    -5.691e-03  5.359e-03  -1.062   0.2882    \n",
       "FICO_Score.y       1.433e-04  4.852e-03   0.030   0.9764    \n",
       "Age.y              8.382e-03  4.111e-03   2.039   0.0415 *  \n",
       "V6.y              -1.045e-02  2.524e-03  -4.141 3.49e-05 ***\n",
       "V5.y              -1.482e-03  2.255e-03  -0.657   0.5110    \n",
       "Max_gearing_ratio  2.918e-03  4.282e-03   0.682   0.4956    \n",
       "Has_FICO          -7.782e-03  7.022e-03  -1.108   0.2678    \n",
       "---\n",
       "Signif. codes:  0 '***' 0.001 '**' 0.01 '*' 0.05 '.' 0.1 ' ' 1\n",
       "\n",
       "Residual standard error: 0.1922 on 10485 degrees of freedom\n",
       "Multiple R-squared:  0.7245,\tAdjusted R-squared:  0.7241 \n",
       "F-statistic:  1969 on 14 and 10485 DF,  p-value: < 2.2e-16\n"
      ]
     },
     "metadata": {},
     "output_type": "display_data"
    }
   ],
   "source": [
    "m <- lm(Default_45 ~ ., data=fTraining)\n",
    "summary(m)"
   ]
  },
  {
   "cell_type": "code",
   "execution_count": 220,
   "metadata": {},
   "outputs": [
    {
     "data": {
      "text/html": [
       "0.514982471246695"
      ],
      "text/latex": [
       "0.514982471246695"
      ],
      "text/markdown": [
       "0.514982471246695"
      ],
      "text/plain": [
       "[1] 0.5149825"
      ]
     },
     "metadata": {},
     "output_type": "display_data"
    },
    {
     "data": {
      "image/png": "[encoded data removed]",
      "text/plain": [
       "plot without title"
      ]
     },
     "metadata": {},
     "output_type": "display_data"
    }
   ],
   "source": [
    "#Prediction and accuracy on validation set\n",
    "p <- predict(m, newdata= fValidation, type=\"response\")\n",
    "pr <- prediction(p, Validation$Default_45)\n",
    "prf <- performance(pr, measure = \"tpr\", x.measure = \"fpr\")\n",
    "plot(prf)\n",
    "\n",
    "auc <- performance(pr, measure = \"auc\")\n",
    "auc <- auc@y.values[[1]]\n",
    "auc"
   ]
  },
  {
   "cell_type": "code",
   "execution_count": null,
   "metadata": {},
   "outputs": [],
   "source": [
    "#References \n",
    "#https://machinelearningmastery.com/data-visualization-in-r/  reference for visualizations\n",
    "#https://www.listendata.com/2015/03/weight-of-evidence-woe-and-information.html for WOE and IV\n",
    "#https://stackoverflow.com/questions/36068963/r-how-to-split-a-data-frame-into-training-validation-and-test-sets    for splitting of data \n",
    "#https://www.r-bloggers.com/how-to-perform-a-logistic-regression-in-r/  for logistic regression\n",
    "# https://rpubs.com/aryn999/DecisionTreeusingR   for decision tree"
   ]
  }
 ],
 "metadata": {
  "kernelspec": {
   "display_name": "R",
   "language": "R",
   "name": "ir"
  },
  "language_info": {
   "codemirror_mode": "r",
   "file_extension": ".r",
   "mimetype": "text/x-r-source",
   "name": "R",
   "pygments_lexer": "r",
   "version": "3.6.0"
  }
 },
 "nbformat": 4,
 "nbformat_minor": 2
}
